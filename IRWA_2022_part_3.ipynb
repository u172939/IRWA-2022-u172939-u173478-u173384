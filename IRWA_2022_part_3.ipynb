{
  "cells": [
    {
      "cell_type": "code",
      "execution_count": 1,
      "metadata": {
        "colab": {
          "base_uri": "https://localhost:8080/"
        },
        "id": "8LZjOBPN2bB6",
        "outputId": "28554df6-63d0-44b4-d646-7e3e06d24e4d"
      },
      "outputs": [
        {
          "output_type": "stream",
          "name": "stdout",
          "text": [
            "Mounted at /content/drive\n"
          ]
        }
      ],
      "source": [
        "# Mounting drive\n",
        "\n",
        "from google.colab import drive\n",
        "\n",
        "drive.mount('/content/drive')\n",
        "\n",
        "import os\n",
        "os.chdir(\"/content/drive/Shareddrives/InformationRetrieval_2022/project/inputs\")"
      ]
    },
    {
      "cell_type": "markdown",
      "metadata": {
        "id": "gjyBCDacpDtn"
      },
      "source": [
        "# Import libraries"
      ]
    },
    {
      "cell_type": "code",
      "execution_count": 2,
      "metadata": {
        "id": "cOH-XcBC37Jq"
      },
      "outputs": [],
      "source": [
        "import json\n",
        "import csv\n",
        "import pandas as pd\n",
        "import numpy as np\n",
        "import re\n",
        "import datetime\n",
        "from numpy import linalg as la\n",
        "from sklearn import preprocessing"
      ]
    },
    {
      "cell_type": "code",
      "execution_count": 3,
      "metadata": {
        "colab": {
          "base_uri": "https://localhost:8080/"
        },
        "id": "Uk0ExiLogesl",
        "outputId": "6126a69a-98a1-4b01-d815-f51c222af6ef"
      },
      "outputs": [
        {
          "output_type": "stream",
          "name": "stderr",
          "text": [
            "[nltk_data] Downloading package stopwords to /root/nltk_data...\n",
            "[nltk_data]   Unzipping corpora/stopwords.zip.\n"
          ]
        }
      ],
      "source": [
        "import nltk\n",
        "nltk.download('stopwords')\n",
        "\n",
        "from collections import defaultdict\n",
        "from array import array\n",
        "from nltk.stem import PorterStemmer\n",
        "from nltk.corpus import stopwords\n",
        "import itertools\n",
        "import math\n",
        "import numpy as np\n",
        "import collections\n",
        "import warnings\n",
        "warnings.filterwarnings('ignore')"
      ]
    },
    {
      "cell_type": "code",
      "execution_count": 4,
      "metadata": {
        "id": "RKZQQSdo09PH"
      },
      "outputs": [],
      "source": [
        "from gensim.models.word2vec import Word2Vec\n",
        "from sklearn.manifold import TSNE\n",
        "import matplotlib.pyplot as plt\n",
        "import matplotlib.cm as cm\n",
        "import random"
      ]
    },
    {
      "cell_type": "markdown",
      "metadata": {
        "id": "Oq143FmEpIm3"
      },
      "source": [
        "# Function definitions"
      ]
    },
    {
      "cell_type": "markdown",
      "metadata": {
        "id": "S6AxqFAJNeiw"
      },
      "source": [
        "### Part 1 implementations"
      ]
    },
    {
      "cell_type": "code",
      "execution_count": 5,
      "metadata": {
        "id": "A49ivFkmoZPK"
      },
      "outputs": [],
      "source": [
        "def clean(text):\n",
        "    # transform to lowercase\n",
        "    cleanText = text.lower()\n",
        "\n",
        "    # removing the urls from tweeet, starts with https\n",
        "    cleanText = re.sub('https?:\\/\\/.*[\\r\\n]*', '', cleanText, flags=re.MULTILINE)\n",
        "\n",
        "    # removing nonalphanumeric\n",
        "    cleanText = re.sub(r'[\\W]+', ' ', cleanText)\n",
        "    cleanText = re.sub(r'[\\_]+', '', cleanText)\n",
        "    \n",
        "    return cleanText\n",
        " "
      ]
    },
    {
      "cell_type": "code",
      "execution_count": 6,
      "metadata": {
        "id": "S8DDNIClgXtk"
      },
      "outputs": [],
      "source": [
        "def build_terms(text):\n",
        "\n",
        "    stemmer = PorterStemmer()\n",
        "    stop_words = set(stopwords.words(\"english\"))\n",
        "\n",
        "    text = clean(text)\n",
        "\n",
        "    # Tokenize the text to get a list of terms\n",
        "    text =  text.split()\n",
        "\n",
        "    # Eliminate the stopwords \n",
        "    text = [word for word in text if word not in stop_words]  \n",
        "\n",
        "    # Stemming (keeping the root of the words)\n",
        "    text = [stemmer.stem(word) for word in text] \n",
        "    \n",
        "    return text"
      ]
    },
    {
      "cell_type": "code",
      "execution_count": 7,
      "metadata": {
        "id": "YEevsqJChC8W"
      },
      "outputs": [],
      "source": [
        "def create_mapping(filename, key, value, verbose=True):\n",
        "  \n",
        "  # Read the csv file\n",
        "  mapping_df = pd.read_csv(filename, header=None, sep='\\s', index_col=False)\n",
        "\n",
        "  # Change column names \n",
        "  mapping_df.columns = [key, value]\n",
        "\n",
        "  # Transform the pandas DataFrame to a dictionary {doc_id: tweet_id}\n",
        "  mapping = dict()\n",
        "\n",
        "  for idx, row in mapping_df.iterrows():\n",
        "    mapping[row[key]] = row[value]\n",
        "\n",
        "  if verbose:\n",
        "    print('The length of the mapping is: ', len(mapping_df))\n",
        "    print('Example of structure: ({} : {})'.format(list(mapping.keys())[0], list(mapping.values())[0]))\n",
        "\n",
        "  return mapping"
      ]
    },
    {
      "cell_type": "markdown",
      "metadata": {
        "id": "SN8wwiqLNdI5"
      },
      "source": [
        "### Part 2 implementations"
      ]
    },
    {
      "cell_type": "code",
      "execution_count": 8,
      "metadata": {
        "id": "PoI15v-k5whm"
      },
      "outputs": [],
      "source": [
        "def create_index_tfidf(doc_to_tweet, tweets, num_documents):\n",
        "    \"\"\"\n",
        "    Implement the inverted index and compute tf, df and idf\n",
        "    \n",
        "    Arguments:\n",
        "    doc_to_tweet -- dictionary to pass from doc_id to tweet_it\n",
        "    tweets -- collection of tweets\n",
        "    num_documents -- total number of tweets\n",
        "    \n",
        "    Returns:\n",
        "    index - the inverted index as a Python dictionary: {term: list of documents and positions}\n",
        "    tf - normalized term frequency for each term in each document\n",
        "    df - number of documents each term appear in\n",
        "    idf - inverse document frequency of each term\n",
        "    \"\"\"\n",
        "\n",
        "    index = defaultdict(list)\n",
        "    tf = defaultdict(list)  # term frequencies of terms in documents (documents in the same order as in the main index)\n",
        "    df = defaultdict(int)  # document frequencies of terms in the collection\n",
        "    idf = defaultdict(float)\n",
        "\n",
        "    # Remember, tweets contain {tweet_id: {tweet info}}\n",
        "\n",
        "    for doc_id, tweet_id in doc_to_tweet.items():  \n",
        "\n",
        "        terms = tweets[tweet_id]['text']\n",
        "\n",
        "        current_doc_index = {}\n",
        "\n",
        "        for position, term in enumerate(terms): # iterate through tweet terms\n",
        "            try:\n",
        "                current_doc_index[term][1].append(position)  \n",
        "            except:\n",
        "                current_doc_index[term] = [doc_id, array('I',[position])]\n",
        "\n",
        "        # Compute normalized term frequencies and df weights\n",
        "        norm = 0\n",
        "\n",
        "        for term, posting in current_doc_index.items(): # posting ==> [current_doc, [list of positions]] for each term\n",
        "            norm += len(posting[1]) ** 2\n",
        "        norm = math.sqrt(norm)\n",
        "\n",
        "        for term, posting in current_doc_index.items():\n",
        "            tf[term].append(np.round(len(posting[1])/norm,4)) # append the tf for current term\n",
        "            df[term] += 1 #increment the document frequency of current term\n",
        "\n",
        "        # Merge the current page index with the main index\n",
        "        for term_doc, posting in current_doc_index.items():\n",
        "            index[term_doc].append(posting)\n",
        "\n",
        "        # Compute IDF \n",
        "        for term in df:\n",
        "            idf[term] = np.round(np.log(float(num_documents/df[term])), 4)\n",
        "\n",
        "    return index, tf, df, idf\n"
      ]
    },
    {
      "cell_type": "code",
      "execution_count": 9,
      "metadata": {
        "id": "NzJSe-E3T5qZ"
      },
      "outputs": [],
      "source": [
        "def rank_documents(query, tweets, index, idf, tf):\n",
        "    \"\"\"\n",
        "    Perform the ranking of the results of a search based on the tf-idf weights\n",
        "    \n",
        "    Argument:\n",
        "    query -- list of query terms\n",
        "    tweets -- list of tweets, to rank, matching the query\n",
        "    index -- inverted index data structure\n",
        "    idf -- inverted document frequencies\n",
        "    tf -- term frequencies\n",
        "    \n",
        "    Returns:\n",
        "    List of ranked documents, List of corresponding scores\n",
        "    \"\"\"\n",
        "\n",
        "    # doc_vectors[k] = (k,[0]*len(terms))\n",
        "    doc_vectors = defaultdict(lambda: [0] * len(query)) \n",
        "    query_vector = [0] * len(query)\n",
        "\n",
        "    # compute the norm for the query tf\n",
        "    query_terms_count = collections.Counter(query)  # term frequency for the query terms\n",
        "    query_norm = la.norm(list(query_terms_count.values()))\n",
        "\n",
        "    for termIndex, term in enumerate(query):  #termIndex is the index of the term in the query\n",
        "        if term not in index:\n",
        "            # do not have into account terms that do not appear in query\n",
        "            continue \n",
        "\n",
        "        # Compute tf*idf (normalize TF as done with documents)\n",
        "        query_vector[termIndex]= query_terms_count[term]/query_norm * idf[term] \n",
        "\n",
        "        # Generate doc_vectors for matching docs\n",
        "        for doc_index, (doc, postings) in enumerate(index[term]):\n",
        "         \n",
        "            if doc in tweets:\n",
        "                doc_vectors[doc][termIndex] = tf[term][doc_index] * idf[term] \n",
        "\n",
        "    \n",
        "    # Compute the score of each doc (cosine similarity with query vector)\n",
        "    doc_scores = [[np.dot(curDocVec, query_vector), doc] for doc, curDocVec in doc_vectors.items()]\n",
        "    doc_scores.sort(reverse=True) #sort by descending order\n",
        "    \n",
        "    result_docs = [x[1] for x in doc_scores] # take doc_id\n",
        "    result_scores = [x[0] for x in doc_scores] # take score\n",
        "\n",
        "    return result_docs, result_scores"
      ]
    },
    {
      "cell_type": "code",
      "execution_count": 10,
      "metadata": {
        "id": "ZmAVcUfQu20j"
      },
      "outputs": [],
      "source": [
        "def get_hashtags(tweet):\n",
        "    \"\"\" \n",
        "    Return the list of hastags (input) as a string (output)\n",
        "    \"\"\"\n",
        "    return ' '.join(tweet['hashtags']).strip()"
      ]
    },
    {
      "cell_type": "code",
      "execution_count": 11,
      "metadata": {
        "id": "g3D8UmIAsTe3"
      },
      "outputs": [],
      "source": [
        "def tweet_Searcher(tweets, id):\n",
        "    \"\"\" \n",
        "    Return the information of the tweet corresponding to the id as a string\n",
        "    \"\"\"\n",
        "    tweet = tweets[id]\n",
        "    return str(\"Text: \" + str(tweet['text']) + \"|\" + \"Username: \" + str(tweet[\"username\"]) + \"|\" + \"Date: \"+ str(tweet[\"date\"]) + \"|\" + get_hashtags(tweet) + \"|\" + \"Likes: \" +  str(tweet[\"likes\"]) + \"|\" + \"Retweets: \"+ str(tweet[\"retweets\"]) + \"|\" + \"Url: \" + tweet['url'])\n"
      ]
    },
    {
      "cell_type": "code",
      "execution_count": 12,
      "metadata": {
        "id": "f_H_QuW_UDPp"
      },
      "outputs": [],
      "source": [
        "def search_tf_idf(query, index, idf, tf, doc_to_tweet):\n",
        "    \"\"\"\n",
        "    Perform the ranking of the results of a search based on the tf-idf weights\n",
        "    \n",
        "    Argument:\n",
        "    query -- list of query terms\n",
        "    index -- inverted index data structure\n",
        "    idf -- inverted document frequencies\n",
        "    tf -- term frequencies\n",
        "    doc_to_tweet -- dictionary to pass from doc_id to tweet_it\n",
        "    \n",
        "    Returns:\n",
        "    List of ranked documents, List of corresponding scores, \n",
        "    Ranked list of documents that contain any of the query terms\n",
        "    \"\"\"\n",
        "\n",
        "    query = build_terms(query) #preprocessing\n",
        "\n",
        "    docs = set()\n",
        "    for term in query:\n",
        "        try:\n",
        "            # store in term_docs the ids of the docs that contain \"term\"                        \n",
        "            term_docs = [posting[0] for posting in index[term]]\n",
        "            \n",
        "            # docs = docs Union term_docs\n",
        "            docs |= set(term_docs)\n",
        "        except:\n",
        "            #term is not in index\n",
        "            pass\n",
        "\n",
        "    docs = list(docs)\n",
        "\n",
        "    ranked_docs, rank_scores = rank_documents(query, docs, index, idf, tf)\n",
        "\n",
        "    return_list=[]\n",
        "    for doc_id in ranked_docs:\n",
        "        return_list.append(tweet_Searcher(tweets, doc_to_tweet[doc_id]))\n",
        "\n",
        "    return ranked_docs, rank_scores, return_list"
      ]
    },
    {
      "cell_type": "code",
      "execution_count": 13,
      "metadata": {
        "id": "NRr4hUIch3k1"
      },
      "outputs": [],
      "source": [
        "def precision_at_k(doc_score, y_score, k=10): # binary relevance, predicted relevnace, k for a given query\n",
        "    \"\"\"\n",
        "    Argument:\n",
        "    doc_score -- ground truth (true relevance labels).\n",
        "    y_score -- Predicted scores.\n",
        "    k -- number of doc to consider.\n",
        "\n",
        "    Return:\n",
        "    precision @k -- float\n",
        "\n",
        "    \"\"\"\n",
        "    order = np.argsort(y_score)[::-1] # ranking of the documents according to the predicted score\n",
        "    doc_score = np.take(doc_score, order[:k]) # retrieve ground truth according to the ranking order)\n",
        "    relevant = sum(doc_score) # number of relevant documents\n",
        "\n",
        "    return float(relevant) / k # compute precision at k, which is the number of relevant\n",
        "\n"
      ]
    },
    {
      "cell_type": "code",
      "execution_count": 14,
      "metadata": {
        "id": "sxTdoz4RB6bK"
      },
      "outputs": [],
      "source": [
        "def avg_precision_at_k(doc_score, y_score, k=10):    \n",
        "    '''\n",
        "    Argument:\n",
        "    doc_score -- Ground truth\n",
        "    y_score -- Predicted scores\n",
        "    k -- number of tweet to consider\n",
        "    \n",
        "    Return:\n",
        "    average precision @k : float\n",
        "    '''\n",
        "    gtp = np.sum(doc_score[:k]) # total number of gt positives\n",
        "    order = y_score.argsort()[::-1]\n",
        "    doc_score = doc_score.take(order)  \n",
        " \n",
        "    ## if all tweets are non-relevant\n",
        "    if gtp==0:\n",
        "        return 0\n",
        "\n",
        "    prec_at_i = 0\n",
        "    \n",
        "    iters=k\n",
        "    if k > len(doc_score):\n",
        "        iters=len(doc_score)\n",
        "\n",
        "    for i in range(iters):\n",
        "        if doc_score[i] == 1: # only add the P@k when the doc is relevant\n",
        "            prec_at_i += precision_at_k(doc_score, y_score, i+1) # compute P@k\n",
        "    \n",
        "    return prec_at_i/gtp # compute average"
      ]
    },
    {
      "cell_type": "code",
      "execution_count": 15,
      "metadata": {
        "id": "7Fnw4fecuZKY"
      },
      "outputs": [],
      "source": [
        "def map_at_k(search_res, k=10):\n",
        "    '''\n",
        "    Argument:\n",
        "    search_res -- search results dataset containing:\n",
        "        query_id -- query id.\n",
        "        tweet_id -- tweet id.\n",
        "        score -- relevance predicted through td-idf.\n",
        "        ground_truth -- actual relevance of the tweet for the query (ground truth).\n",
        "    \n",
        "    Return:\n",
        "    mean average precision @k -- float\n",
        "    '''\n",
        "    \n",
        "    avp = []\n",
        "    for q in search_res[\"query_id\"].unique(): #loop over all query id\n",
        "\n",
        "         # select data for current query\n",
        "        curr_data = search_res[search_res[\"query_id\"] == q] \n",
        "\n",
        "        # append average precision for current query\n",
        "        avp.append(avg_precision_at_k(np.array(curr_data[\"ground_truth\"]), np.array(curr_data[\"score\"]), k)) \n",
        "    return np.sum(avp)/len(avp) # return mean average precision"
      ]
    },
    {
      "cell_type": "code",
      "execution_count": 16,
      "metadata": {
        "id": "PLUeiAM2yH2U"
      },
      "outputs": [],
      "source": [
        "def mrr_at_k(search_res, k=10):\n",
        "    '''\n",
        "    Argument:\n",
        "    doc_score -- Ground truth (true relevance labels).\n",
        "    y_score -- Predicted scores.\n",
        "    k : number of tweets to consider.\n",
        "    \n",
        "    Return:\n",
        "    Mean Reciprocal Rank\n",
        "    '''\n",
        "    RRs = []\n",
        "    \n",
        "    for q in search_res[\"query_id\"].unique():\n",
        "        \n",
        "        doc_score = np.array(search_res[search_res['query_id'] == q][\"ground_truth\"])\n",
        "        y_score = np.array(search_res[search_res['query_id'] == q][\"score\"])\n",
        "        \n",
        "        order = y_score.argsort()[::-1]   # ranking of the documents according to the predicted score\n",
        "        doc_score = doc_score.take(order)   # retrieve ground truth according to the ranking order)\n",
        "\n",
        "        if np.sum(doc_score[:k])== str(0): # if there are not relevant doument return 0\n",
        "            RRs.append(0)\n",
        "        else:\n",
        "            RRs.append(1/(doc_score.argmax()+1)) \n",
        "\n",
        "    return np.round(np.mean(RRs), 4)"
      ]
    },
    {
      "cell_type": "code",
      "execution_count": 17,
      "metadata": {
        "id": "cH2DSIkNzC8_"
      },
      "outputs": [],
      "source": [
        "def dcg_at_k(y_true, y_score,  k=10):\n",
        "    '''\n",
        "    Argument:\n",
        "    y_true -- Ground truth (true relevance labels).\n",
        "    y_score -- Predicted scores.\n",
        "    k : number of tweets to consider.\n",
        "    \n",
        "    Return:\n",
        "    DCG@k\n",
        "    '''\n",
        "\n",
        "    order = y_score.argsort()[::-1] \n",
        "    y_true = y_true.take(order)[:k]  \n",
        "\n",
        "    gain = [] # Compute gain \n",
        "    for i in range(len(y_true)):\n",
        "        gain.append((2**y_true[i])-1)\n",
        "    \n",
        "    discounts =[] # Compute denominator\n",
        "    for i in range(len(y_true)):\n",
        "        discounts.append(math.log2(i+2)) #we add +2 as the first position in array is 0 and first rank is 1\n",
        "    \n",
        "    division =[]\n",
        "    for i in range(len(gain)):\n",
        "        division.append(gain[i]/discounts[i])\n",
        "        \n",
        "    return np.sum(division) #return dcg@k"
      ]
    },
    {
      "cell_type": "code",
      "execution_count": 18,
      "metadata": {
        "id": "qnATPVaAzHQW"
      },
      "outputs": [],
      "source": [
        "def ndcg_at_k(y_true, y_score, k=10):\n",
        "    '''\n",
        "    Argument:\n",
        "    doc_score -- Ground truth (true relevance labels).\n",
        "    y_score -- Predicted scores.\n",
        "    k -- number of tweets to consider.\n",
        "    \n",
        "    Return:\n",
        "    Normalized DCG@K\n",
        "    '''\n",
        "\n",
        "    dcg_max = dcg_at_k(y_true, y_true, k) # Ideal dcg order by y_true as we want the sort by relevance\n",
        "    \n",
        "    if not dcg_max:\n",
        "        return 0\n",
        "    \n",
        "    return np.round((dcg_at_k(y_true, y_score, k))/dcg_max,4)  # return ndcg@k"
      ]
    },
    {
      "cell_type": "markdown",
      "metadata": {
        "id": "IIOKxEZK0dqm"
      },
      "source": [
        "### Part 3 implementations"
      ]
    },
    {
      "cell_type": "markdown",
      "source": [
        "#### Word2Vec + Cosine similarity"
      ],
      "metadata": {
        "id": "bYzbbQ-fuObQ"
      }
    },
    {
      "cell_type": "code",
      "source": [
        "def embedding_w2v(terms, wv):\n",
        "  ''' Generate the representation of a tweet as a unique vector of the same dimension of the words\n",
        "  Average of vectors representing the words included in the tweet\n",
        "\n",
        "  Arguments:\n",
        "  terms -- terms of the tweet\n",
        "  wv -- dictionary for {word: vector representation}\n",
        "\n",
        "  Return:\n",
        "  Embedding of the tweet (vector)\n",
        "  '''\n",
        "  embeddings = []\n",
        "\n",
        "  for term in terms:\n",
        "    if term in wv.vocab.keys():\n",
        "      embeddings.append(wv.word_vec(term))\n",
        "    \n",
        "  return np.mean(embeddings, axis = 0)"
      ],
      "metadata": {
        "id": "SFqR3QGwYG2Z"
      },
      "execution_count": 19,
      "outputs": []
    },
    {
      "cell_type": "code",
      "source": [
        "def rank_Word2Vec(query, docs, doc_to_tweet, tweets):\n",
        "  ''' Generate the ranking of the tweets according to a query using word2vec algorithm\n",
        "\n",
        "  Argument:\n",
        "  query -- query terms\n",
        "  docs -- documents to rank\n",
        "  doc_to_tweet -- dictionary to pass from doc_id to tweet_it\n",
        "  tweets -- collection of tweets\n",
        "\n",
        "  Return:\n",
        "  List of ranked documents, List of corresponding scores\n",
        "  '''\n",
        "\n",
        "  # store all tweets in an iterable\n",
        "  sentences = []\n",
        "  for doc_id in docs:\n",
        "    sentences.append(tweets[doc_to_tweet[doc_id]]['text'])\n",
        "\n",
        "  # train model so that it learns the embeddings and the vocabulary\n",
        "  model = Word2Vec(sentences)\n",
        "  word_vectors = model.wv\n",
        "\n",
        "  # create tweet2vec representation for all tweets\n",
        "  docs2vec = dict()\n",
        "\n",
        "  for doc_id in docs:\n",
        "    tweet_id = doc_to_tweet[doc_id]\n",
        "    docs2vec[doc_id] = embedding_w2v(tweets[tweet_id]['text'], wv=word_vectors)\n",
        "\n",
        "  # get the query representation\n",
        "  query_vec = embedding_w2v(query, wv=word_vectors)\n",
        "\n",
        "  # compute cosine similarity between all documents and the query\n",
        "  doc_scores = [[np.dot(curDocVec, query_vec), doc] for doc, curDocVec in docs2vec.items()]\n",
        "  doc_scores.sort(reverse=True) #sort by descending order\n",
        "\n",
        "  result_docs = [x[1] for x in doc_scores] # take doc_id\n",
        "  result_scores = [x[0] for x in doc_scores] # take score\n",
        "\n",
        "  return result_docs, result_scores"
      ],
      "metadata": {
        "id": "Qtom3RD6hc0p"
      },
      "execution_count": 20,
      "outputs": []
    },
    {
      "cell_type": "code",
      "source": [
        "def search_word2vec(query, index, doc_to_tweet, tweets):\n",
        "    \"\"\"\n",
        "    Perform the ranking of the results of a search based on: word2vec and applying cosine similarity\n",
        "\n",
        "    Argument:\n",
        "    query -- list of query terms\n",
        "    index -- inverted index data structure\n",
        "    \n",
        "    Return: ranked_docs, rank_scores\n",
        "    \"\"\"\n",
        "    query = build_terms(query) #preprocessing\n",
        "\n",
        "    docs = set()\n",
        "    for term in query:\n",
        "        try:\n",
        "            # store in term_docs the ids of the docs that contain \"term\"                        \n",
        "            term_docs = [posting[0] for posting in index[term]]\n",
        "            \n",
        "            # docs = docs Union term_docs\n",
        "            docs |= set(term_docs)\n",
        "        except:\n",
        "            #term is not in index\n",
        "            pass\n",
        "    \n",
        "    docs = list(docs)\n",
        "\n",
        "    ranked_docs, rank_scores = rank_Word2Vec(query, docs, doc_to_tweet, tweets)\n",
        "    \n",
        "    return ranked_docs, rank_scores"
      ],
      "metadata": {
        "id": "HNo5zQtONmdl"
      },
      "execution_count": 21,
      "outputs": []
    },
    {
      "cell_type": "markdown",
      "source": [
        "#### Our own score\n",
        "\n"
      ],
      "metadata": {
        "id": "MU6_cnl8105o"
      }
    },
    {
      "cell_type": "code",
      "source": [
        "\n",
        "def rankTweetsOurs(terms, index, idf, tf, tweets,doc_to_tweet):\n",
        "    \"\"\"\n",
        "    Perform the ranking of the results of a search based on the tf-idf weights\n",
        "    \n",
        "    Argument:\n",
        "    terms -- list of query terms\n",
        "    index -- inverted index data structure\n",
        "    idf -- inverted document frequencies\n",
        "    tf -- term frequencies\n",
        "    doc_to_tweet -- dictionary that maps every doc_id with his tweet_id \n",
        "\n",
        "    Returns:\n",
        "    sortedDocs --  List of ranked doc ids\n",
        "    sortedScores --  List of ranked scores \n",
        "    sorted_list -- List of ranked tweets info\n",
        "    \"\"\"\n",
        "    ranked_docs_full, ranked_scores_full, return_list_full = search_tf_idf(terms, index, idf, tf, doc_to_tweet)\n",
        "    likes = []\n",
        "    retweets = []\n",
        "    hashtags = []\n",
        "\n",
        "    ranked_docs = []\n",
        "    ranked_scores = []\n",
        "    return_list = []\n",
        "\n",
        "    for tweet in tweets.keys():\n",
        "      doc_id = [i for i in doc_to_tweet if doc_to_tweet[i]==tweet][0]\n",
        "      ranked_docs.append(doc_id)\n",
        "      try:\n",
        "        idx = ranked_docs_full.index(doc_id)\n",
        "        ranked_scores.append(ranked_scores_full[idx])\n",
        "        return_list.append(return_list_full[idx])\n",
        "      except:\n",
        "        ranked_scores.append(0)\n",
        "        return_list.append(\"\")\n",
        "\n",
        "    #we create 3 lists with the likes, retweets and hashtags for each tweet\n",
        "    for doc in ranked_docs:\n",
        "      likes.append(tweets[doc_to_tweet[doc]][\"likes\"])\n",
        "      retweets.append(tweets[doc_to_tweet[doc]][\"retweets\"])\n",
        "      hashtags.append(len(list(set(tweets[doc_to_tweet[doc]][\"hashtags\"]).intersection(set(terms.split(\" \")))))*5)#we give a value of 5 if the tweet has hashtags that are in the query too\n",
        "\n",
        "    # we compute our own score by assigning a weigth to each one of the previous 3 lists\n",
        "    list_of_scores = []\n",
        "    for i in range(0,len(likes)):\n",
        "      list_of_scores.append(likes[i]*0.3 + retweets[i]*0.4 + hashtags[i]*0.3)\n",
        "\n",
        "    list_of_scores_full = list_of_scores\n",
        "\n",
        "    #we map the list of scores to 0 and 5, assigning a 0 to the lower value of the list and a 5 to the higher\n",
        "    list_of_scores = np.array(list_of_scores).reshape(-1,1)\n",
        "    scaler = preprocessing.MinMaxScaler(feature_range=(0, 5))\n",
        "    list_of_scores=list(scaler.fit_transform(list_of_scores))\n",
        "\n",
        "    list_of_scores_norma = [float(i) for i in list_of_scores]\n",
        "\n",
        "    list_of_scores = list_of_scores + ranked_scores\n",
        "\n",
        "\n",
        "    #we sort all the \n",
        "    sorted_docs = [x for _, x in sorted(zip(list_of_scores, ranked_docs),reverse = True)]\n",
        "    sorted_list = [x for _, x in sorted(zip(list_of_scores, return_list),reverse = True)]\n",
        "    sorted_list_of_scores = [float(i) for i in sorted(list_of_scores,reverse=True)]\n",
        "\n",
        "    \n",
        "\n",
        "    #return rank punctuation and ids\n",
        "    return sorted_docs, sorted_list_of_scores, sorted_list\n",
        "    "
      ],
      "metadata": {
        "id": "IidoZiUK16cb"
      },
      "execution_count": null,
      "outputs": []
    },
    {
      "cell_type": "markdown",
      "source": [
        "#### BM25 score"
      ],
      "metadata": {
        "id": "im7U1by5A5b2"
      }
    },
    {
      "cell_type": "code",
      "execution_count": null,
      "metadata": {
        "id": "fzdOJ0h5x2ZW"
      },
      "outputs": [],
      "source": [
        "## BM25\n",
        "\n",
        "def rankTweetsBM25(query, tweets, idf, doc_to_tweet, N, k1=1.2, b=0.75):\n",
        "    \"\"\"\n",
        "    Perform the ranking of the results of a search based on BM25\n",
        "    \n",
        "    Argument:\n",
        "\n",
        "    query -- list of query terms\n",
        "    tweets -- diccionary of tweets\n",
        "    idf -- inverted document frequencies (diccionary)\n",
        "    k1 -- constant k1\n",
        "    b -- constant b\n",
        "    N -- total number of documents in the collection\n",
        "    \n",
        "    Returns:\n",
        "    resultScores --  List of ranked scores of tweets\n",
        "    resultTweets --  List of ranked tweet ids\n",
        "    \"\"\"\n",
        "\n",
        "    query = build_terms(query) #preprocessing\n",
        "\n",
        "    # Lave computation\n",
        "    Lave = np.mean([len(tweet['text']) for id, tweet in tweets.items()])\n",
        "\n",
        "    RSV =  dict()\n",
        "\n",
        "    for tweet_id in tweets.keys():  \n",
        "\n",
        "        doc_id = [i for i in doc_to_tweet if doc_to_tweet[i]==tweet_id][0]\n",
        "\n",
        "        terms = tweets[tweet_id]['text'] # terms of the tweets\n",
        "\n",
        "        Ld = len(terms) # document length\n",
        "        \n",
        "        # get tweet terms that are in the query\n",
        "        query_terms = [t for t in terms if t in query] \n",
        "\n",
        "        # get raw term frequency of each query term appearing in the tweet\n",
        "        raw_tf = collections.Counter(query_terms) \n",
        "\n",
        "        # Compute RSV score for the document by iterating through tweet terms IN the query\n",
        "        RSV[doc_id] = 0\n",
        "        for term in query_terms:\n",
        "         \n",
        "          numerador = (k1 + 1) * raw_tf[term]\n",
        "\n",
        "          denominador = k1*((1-b) + b*(Ld/Lave)) + raw_tf[term]\n",
        "  \n",
        "          RSV[doc_id] += np.round(idf[term] * (numerador / denominador), 4)\n",
        "\n",
        "    # Compute the score of each doc (cosine similarity with query vector)\n",
        "    doc_scores = [[score, doc] for doc, score in RSV.items()]\n",
        "    doc_scores.sort(reverse=True) #sort by descending order\n",
        "    \n",
        "    result_docs = [x[1] for x in doc_scores] # take doc_id\n",
        "    result_scores = [x[0] for x in doc_scores] # take score      \n",
        "\n",
        "    # sort results by BM25 score\n",
        "    #full_dict = dict(sorted(RSV.items(), key=lambda item: item[1],reverse= True))\n",
        "    #return dict(itertools.islice(full_dict.items(), k))\n",
        "\n",
        "    return result_docs, result_scores"
      ]
    },
    {
      "cell_type": "markdown",
      "metadata": {
        "id": "Of_JuuCOl9ID"
      },
      "source": [
        "# Solution implementation"
      ]
    },
    {
      "cell_type": "code",
      "execution_count": 22,
      "metadata": {
        "colab": {
          "base_uri": "https://localhost:8080/"
        },
        "id": "72Q1wT3fhaqU",
        "outputId": "f1ecc638-a2c0-4385-ce0d-b56282962931"
      },
      "outputs": [
        {
          "output_type": "stream",
          "name": "stdout",
          "text": [
            "The length of the mapping is:  4000\n",
            "Example of structure: (doc_1 : 1575918182698979328)\n"
          ]
        }
      ],
      "source": [
        "# Build a dictionary {doc_id: tweet_id}\n",
        "\n",
        "doc_to_tweet = create_mapping('tweet_document_ids_map.csv', key='doc_id', value='tweet_id')"
      ]
    },
    {
      "cell_type": "code",
      "execution_count": 23,
      "metadata": {
        "id": "yorXiZUP7B61"
      },
      "outputs": [],
      "source": [
        "# Read data from .json\n",
        "\n",
        "data = pd.read_json('tw_hurricane_data.json', lines = True)"
      ]
    },
    {
      "cell_type": "code",
      "execution_count": 24,
      "metadata": {
        "colab": {
          "base_uri": "https://localhost:8080/"
        },
        "id": "Smt6CRugM9qi",
        "outputId": "d18ca040-d9d0-4396-889b-d17020ddf89c"
      },
      "outputs": [
        {
          "output_type": "execute_result",
          "data": {
            "text/plain": [
              "en    4000\n",
              "Name: lang, dtype: int64"
            ]
          },
          "metadata": {},
          "execution_count": 24
        }
      ],
      "source": [
        "# Checking that all tweets are in english\n",
        "\n",
        "data['lang'].value_counts()"
      ]
    },
    {
      "cell_type": "code",
      "execution_count": 25,
      "metadata": {
        "colab": {
          "base_uri": "https://localhost:8080/",
          "height": 560
        },
        "id": "G1HomsUhKaLN",
        "outputId": "22fb940a-9274-401c-f7bd-c77b23a6df93"
      },
      "outputs": [
        {
          "output_type": "execute_result",
          "data": {
            "text/plain": [
              "                 created_at                   id               id_str  \\\n",
              "0 2022-09-30 18:39:08+00:00  1575918182698979328  1575918182698979328   \n",
              "1 2022-09-30 18:39:01+00:00  1575918151862304768  1575918151862304768   \n",
              "2 2022-09-30 18:38:58+00:00  1575918140839673873  1575918140839673856   \n",
              "3 2022-09-30 18:38:57+00:00  1575918135009738752  1575918135009738752   \n",
              "4 2022-09-30 18:38:53+00:00  1575918119251419136  1575918119251419136   \n",
              "\n",
              "                                           full_text  truncated  \\\n",
              "0  So this will keep spinning over us until 7 pm…...      False   \n",
              "1  Our hearts go out to all those affected by #Hu...      False   \n",
              "2  Kissimmee neighborhood off of Michigan Ave. \\n...      False   \n",
              "3  I have this one tree in my backyard that scare...      False   \n",
              "4  @AshleyRuizWx @Stephan89441722 @lilmizzheidi @...      False   \n",
              "\n",
              "  display_text_range                                           entities  \\\n",
              "0            [0, 76]  {'hashtags': [{'text': 'HurricaneIan', 'indice...   \n",
              "1           [0, 136]  {'hashtags': [{'text': 'HurricaneIan', 'indice...   \n",
              "2            [0, 58]  {'hashtags': [{'text': 'HurricaneIan', 'indice...   \n",
              "3           [0, 141]  {'hashtags': [{'text': 'scwx', 'indices': [122...   \n",
              "4         [127, 280]  {'hashtags': [{'text': 'HurricaneIan', 'indice...   \n",
              "\n",
              "                                   extended_entities  \\\n",
              "0  {'media': [{'id': 1575918178261254162, 'id_str...   \n",
              "1                                                NaN   \n",
              "2  {'media': [{'id': 1575918121080311808, 'id_str...   \n",
              "3                                                NaN   \n",
              "4                                                NaN   \n",
              "\n",
              "                                            metadata  \\\n",
              "0  {'iso_language_code': 'en', 'result_type': 're...   \n",
              "1  {'iso_language_code': 'en', 'result_type': 're...   \n",
              "2  {'iso_language_code': 'en', 'result_type': 're...   \n",
              "3  {'iso_language_code': 'en', 'result_type': 're...   \n",
              "4  {'iso_language_code': 'en', 'result_type': 're...   \n",
              "\n",
              "                                              source  ...  is_quote_status  \\\n",
              "0  <a href=\"http://twitter.com/download/iphone\" r...  ...            False   \n",
              "1  <a href=\"https://sproutsocial.com\" rel=\"nofoll...  ...            False   \n",
              "2  <a href=\"http://twitter.com/download/iphone\" r...  ...            False   \n",
              "3  <a href=\"http://twitter.com/download/iphone\" r...  ...            False   \n",
              "4  <a href=\"http://twitter.com/download/iphone\" r...  ...            False   \n",
              "\n",
              "   retweet_count  favorite_count  favorited retweeted possibly_sensitive lang  \\\n",
              "0              0               0      False     False                0.0   en   \n",
              "1              0               0      False     False                NaN   en   \n",
              "2              0               0      False     False                0.0   en   \n",
              "3              0               0      False     False                NaN   en   \n",
              "4              0               0      False     False                NaN   en   \n",
              "\n",
              "  quoted_status_id quoted_status_id_str  quoted_status  \n",
              "0              NaN                  NaN            NaN  \n",
              "1              NaN                  NaN            NaN  \n",
              "2              NaN                  NaN            NaN  \n",
              "3              NaN                  NaN            NaN  \n",
              "4              NaN                  NaN            NaN  \n",
              "\n",
              "[5 rows x 30 columns]"
            ],
            "text/html": [
              "\n",
              "  <div id=\"df-086b7d63-fb0e-4ee3-b3a9-ec6058a2140f\">\n",
              "    <div class=\"colab-df-container\">\n",
              "      <div>\n",
              "<style scoped>\n",
              "    .dataframe tbody tr th:only-of-type {\n",
              "        vertical-align: middle;\n",
              "    }\n",
              "\n",
              "    .dataframe tbody tr th {\n",
              "        vertical-align: top;\n",
              "    }\n",
              "\n",
              "    .dataframe thead th {\n",
              "        text-align: right;\n",
              "    }\n",
              "</style>\n",
              "<table border=\"1\" class=\"dataframe\">\n",
              "  <thead>\n",
              "    <tr style=\"text-align: right;\">\n",
              "      <th></th>\n",
              "      <th>created_at</th>\n",
              "      <th>id</th>\n",
              "      <th>id_str</th>\n",
              "      <th>full_text</th>\n",
              "      <th>truncated</th>\n",
              "      <th>display_text_range</th>\n",
              "      <th>entities</th>\n",
              "      <th>extended_entities</th>\n",
              "      <th>metadata</th>\n",
              "      <th>source</th>\n",
              "      <th>...</th>\n",
              "      <th>is_quote_status</th>\n",
              "      <th>retweet_count</th>\n",
              "      <th>favorite_count</th>\n",
              "      <th>favorited</th>\n",
              "      <th>retweeted</th>\n",
              "      <th>possibly_sensitive</th>\n",
              "      <th>lang</th>\n",
              "      <th>quoted_status_id</th>\n",
              "      <th>quoted_status_id_str</th>\n",
              "      <th>quoted_status</th>\n",
              "    </tr>\n",
              "  </thead>\n",
              "  <tbody>\n",
              "    <tr>\n",
              "      <th>0</th>\n",
              "      <td>2022-09-30 18:39:08+00:00</td>\n",
              "      <td>1575918182698979328</td>\n",
              "      <td>1575918182698979328</td>\n",
              "      <td>So this will keep spinning over us until 7 pm…...</td>\n",
              "      <td>False</td>\n",
              "      <td>[0, 76]</td>\n",
              "      <td>{'hashtags': [{'text': 'HurricaneIan', 'indice...</td>\n",
              "      <td>{'media': [{'id': 1575918178261254162, 'id_str...</td>\n",
              "      <td>{'iso_language_code': 'en', 'result_type': 're...</td>\n",
              "      <td>&lt;a href=\"http://twitter.com/download/iphone\" r...</td>\n",
              "      <td>...</td>\n",
              "      <td>False</td>\n",
              "      <td>0</td>\n",
              "      <td>0</td>\n",
              "      <td>False</td>\n",
              "      <td>False</td>\n",
              "      <td>0.0</td>\n",
              "      <td>en</td>\n",
              "      <td>NaN</td>\n",
              "      <td>NaN</td>\n",
              "      <td>NaN</td>\n",
              "    </tr>\n",
              "    <tr>\n",
              "      <th>1</th>\n",
              "      <td>2022-09-30 18:39:01+00:00</td>\n",
              "      <td>1575918151862304768</td>\n",
              "      <td>1575918151862304768</td>\n",
              "      <td>Our hearts go out to all those affected by #Hu...</td>\n",
              "      <td>False</td>\n",
              "      <td>[0, 136]</td>\n",
              "      <td>{'hashtags': [{'text': 'HurricaneIan', 'indice...</td>\n",
              "      <td>NaN</td>\n",
              "      <td>{'iso_language_code': 'en', 'result_type': 're...</td>\n",
              "      <td>&lt;a href=\"https://sproutsocial.com\" rel=\"nofoll...</td>\n",
              "      <td>...</td>\n",
              "      <td>False</td>\n",
              "      <td>0</td>\n",
              "      <td>0</td>\n",
              "      <td>False</td>\n",
              "      <td>False</td>\n",
              "      <td>NaN</td>\n",
              "      <td>en</td>\n",
              "      <td>NaN</td>\n",
              "      <td>NaN</td>\n",
              "      <td>NaN</td>\n",
              "    </tr>\n",
              "    <tr>\n",
              "      <th>2</th>\n",
              "      <td>2022-09-30 18:38:58+00:00</td>\n",
              "      <td>1575918140839673873</td>\n",
              "      <td>1575918140839673856</td>\n",
              "      <td>Kissimmee neighborhood off of Michigan Ave. \\n...</td>\n",
              "      <td>False</td>\n",
              "      <td>[0, 58]</td>\n",
              "      <td>{'hashtags': [{'text': 'HurricaneIan', 'indice...</td>\n",
              "      <td>{'media': [{'id': 1575918121080311808, 'id_str...</td>\n",
              "      <td>{'iso_language_code': 'en', 'result_type': 're...</td>\n",
              "      <td>&lt;a href=\"http://twitter.com/download/iphone\" r...</td>\n",
              "      <td>...</td>\n",
              "      <td>False</td>\n",
              "      <td>0</td>\n",
              "      <td>0</td>\n",
              "      <td>False</td>\n",
              "      <td>False</td>\n",
              "      <td>0.0</td>\n",
              "      <td>en</td>\n",
              "      <td>NaN</td>\n",
              "      <td>NaN</td>\n",
              "      <td>NaN</td>\n",
              "    </tr>\n",
              "    <tr>\n",
              "      <th>3</th>\n",
              "      <td>2022-09-30 18:38:57+00:00</td>\n",
              "      <td>1575918135009738752</td>\n",
              "      <td>1575918135009738752</td>\n",
              "      <td>I have this one tree in my backyard that scare...</td>\n",
              "      <td>False</td>\n",
              "      <td>[0, 141]</td>\n",
              "      <td>{'hashtags': [{'text': 'scwx', 'indices': [122...</td>\n",
              "      <td>NaN</td>\n",
              "      <td>{'iso_language_code': 'en', 'result_type': 're...</td>\n",
              "      <td>&lt;a href=\"http://twitter.com/download/iphone\" r...</td>\n",
              "      <td>...</td>\n",
              "      <td>False</td>\n",
              "      <td>0</td>\n",
              "      <td>0</td>\n",
              "      <td>False</td>\n",
              "      <td>False</td>\n",
              "      <td>NaN</td>\n",
              "      <td>en</td>\n",
              "      <td>NaN</td>\n",
              "      <td>NaN</td>\n",
              "      <td>NaN</td>\n",
              "    </tr>\n",
              "    <tr>\n",
              "      <th>4</th>\n",
              "      <td>2022-09-30 18:38:53+00:00</td>\n",
              "      <td>1575918119251419136</td>\n",
              "      <td>1575918119251419136</td>\n",
              "      <td>@AshleyRuizWx @Stephan89441722 @lilmizzheidi @...</td>\n",
              "      <td>False</td>\n",
              "      <td>[127, 280]</td>\n",
              "      <td>{'hashtags': [{'text': 'HurricaneIan', 'indice...</td>\n",
              "      <td>NaN</td>\n",
              "      <td>{'iso_language_code': 'en', 'result_type': 're...</td>\n",
              "      <td>&lt;a href=\"http://twitter.com/download/iphone\" r...</td>\n",
              "      <td>...</td>\n",
              "      <td>False</td>\n",
              "      <td>0</td>\n",
              "      <td>0</td>\n",
              "      <td>False</td>\n",
              "      <td>False</td>\n",
              "      <td>NaN</td>\n",
              "      <td>en</td>\n",
              "      <td>NaN</td>\n",
              "      <td>NaN</td>\n",
              "      <td>NaN</td>\n",
              "    </tr>\n",
              "  </tbody>\n",
              "</table>\n",
              "<p>5 rows × 30 columns</p>\n",
              "</div>\n",
              "      <button class=\"colab-df-convert\" onclick=\"convertToInteractive('df-086b7d63-fb0e-4ee3-b3a9-ec6058a2140f')\"\n",
              "              title=\"Convert this dataframe to an interactive table.\"\n",
              "              style=\"display:none;\">\n",
              "        \n",
              "  <svg xmlns=\"http://www.w3.org/2000/svg\" height=\"24px\"viewBox=\"0 0 24 24\"\n",
              "       width=\"24px\">\n",
              "    <path d=\"M0 0h24v24H0V0z\" fill=\"none\"/>\n",
              "    <path d=\"M18.56 5.44l.94 2.06.94-2.06 2.06-.94-2.06-.94-.94-2.06-.94 2.06-2.06.94zm-11 1L8.5 8.5l.94-2.06 2.06-.94-2.06-.94L8.5 2.5l-.94 2.06-2.06.94zm10 10l.94 2.06.94-2.06 2.06-.94-2.06-.94-.94-2.06-.94 2.06-2.06.94z\"/><path d=\"M17.41 7.96l-1.37-1.37c-.4-.4-.92-.59-1.43-.59-.52 0-1.04.2-1.43.59L10.3 9.45l-7.72 7.72c-.78.78-.78 2.05 0 2.83L4 21.41c.39.39.9.59 1.41.59.51 0 1.02-.2 1.41-.59l7.78-7.78 2.81-2.81c.8-.78.8-2.07 0-2.86zM5.41 20L4 18.59l7.72-7.72 1.47 1.35L5.41 20z\"/>\n",
              "  </svg>\n",
              "      </button>\n",
              "      \n",
              "  <style>\n",
              "    .colab-df-container {\n",
              "      display:flex;\n",
              "      flex-wrap:wrap;\n",
              "      gap: 12px;\n",
              "    }\n",
              "\n",
              "    .colab-df-convert {\n",
              "      background-color: #E8F0FE;\n",
              "      border: none;\n",
              "      border-radius: 50%;\n",
              "      cursor: pointer;\n",
              "      display: none;\n",
              "      fill: #1967D2;\n",
              "      height: 32px;\n",
              "      padding: 0 0 0 0;\n",
              "      width: 32px;\n",
              "    }\n",
              "\n",
              "    .colab-df-convert:hover {\n",
              "      background-color: #E2EBFA;\n",
              "      box-shadow: 0px 1px 2px rgba(60, 64, 67, 0.3), 0px 1px 3px 1px rgba(60, 64, 67, 0.15);\n",
              "      fill: #174EA6;\n",
              "    }\n",
              "\n",
              "    [theme=dark] .colab-df-convert {\n",
              "      background-color: #3B4455;\n",
              "      fill: #D2E3FC;\n",
              "    }\n",
              "\n",
              "    [theme=dark] .colab-df-convert:hover {\n",
              "      background-color: #434B5C;\n",
              "      box-shadow: 0px 1px 3px 1px rgba(0, 0, 0, 0.15);\n",
              "      filter: drop-shadow(0px 1px 2px rgba(0, 0, 0, 0.3));\n",
              "      fill: #FFFFFF;\n",
              "    }\n",
              "  </style>\n",
              "\n",
              "      <script>\n",
              "        const buttonEl =\n",
              "          document.querySelector('#df-086b7d63-fb0e-4ee3-b3a9-ec6058a2140f button.colab-df-convert');\n",
              "        buttonEl.style.display =\n",
              "          google.colab.kernel.accessAllowed ? 'block' : 'none';\n",
              "\n",
              "        async function convertToInteractive(key) {\n",
              "          const element = document.querySelector('#df-086b7d63-fb0e-4ee3-b3a9-ec6058a2140f');\n",
              "          const dataTable =\n",
              "            await google.colab.kernel.invokeFunction('convertToInteractive',\n",
              "                                                     [key], {});\n",
              "          if (!dataTable) return;\n",
              "\n",
              "          const docLinkHtml = 'Like what you see? Visit the ' +\n",
              "            '<a target=\"_blank\" href=https://colab.research.google.com/notebooks/data_table.ipynb>data table notebook</a>'\n",
              "            + ' to learn more about interactive tables.';\n",
              "          element.innerHTML = '';\n",
              "          dataTable['output_type'] = 'display_data';\n",
              "          await google.colab.output.renderOutput(dataTable, element);\n",
              "          const docLink = document.createElement('div');\n",
              "          docLink.innerHTML = docLinkHtml;\n",
              "          element.appendChild(docLink);\n",
              "        }\n",
              "      </script>\n",
              "    </div>\n",
              "  </div>\n",
              "  "
            ]
          },
          "metadata": {},
          "execution_count": 25
        }
      ],
      "source": [
        "# Analyze original data\n",
        "\n",
        "data.head()"
      ]
    },
    {
      "cell_type": "markdown",
      "metadata": {
        "id": "A_5FKIecqjHC"
      },
      "source": [
        "### Creating a dictionary of tweets ( part 1 )"
      ]
    },
    {
      "cell_type": "code",
      "execution_count": 26,
      "metadata": {
        "id": "vRQpx6hB79Xd"
      },
      "outputs": [],
      "source": [
        "# Init dictionary\n",
        "tweets = dict()\n",
        "\n",
        "\n",
        "for idx, row in data.iterrows():\n",
        "\n",
        "  # Init dictionary for each tweet\n",
        "  tweet = dict()\n",
        "    \n",
        "  tweet['text'] = build_terms(row['full_text'])   # Clean and format text\n",
        "\n",
        "  tweet['username'] = row['user']['screen_name']\n",
        "\n",
        "  tweet['date'] =  row['created_at'].strftime('%d/%m/%Y %H:%M:%S')  # Format date\n",
        "\n",
        "  tweet['hashtags'] = [h['text'] for h in row['entities']['hashtags']]  # Store a list of hashtags\n",
        "\n",
        "  tweet['likes'] = row['favorite_count']\n",
        "\n",
        "  tweet['retweets'] = row['retweet_count']\n",
        "\n",
        "  tweet['url'] = 'https://twitter.com/'+row['user']['screen_name']+'/status/'+str(row['id'])  # Construct the url\n",
        "\n",
        "  # Add tweet to the dictionary\n",
        "  tweets[row['id']] = tweet\n"
      ]
    },
    {
      "cell_type": "markdown",
      "metadata": {
        "id": "41Cmhs_wq6CY"
      },
      "source": [
        "### Checks ( part 1 )"
      ]
    },
    {
      "cell_type": "code",
      "execution_count": 27,
      "metadata": {
        "colab": {
          "base_uri": "https://localhost:8080/"
        },
        "id": "1_VusVSArdgP",
        "outputId": "9ae4918b-e554-4406-85b2-6bca0b623918"
      },
      "outputs": [
        {
          "output_type": "stream",
          "name": "stdout",
          "text": [
            "The document doc_id: doc_1 has tweet_id: 1575918182698979328\n",
            "\n",
            "In the intial DataFrame we have tweet_id 1575918182698979328 at position 0\n",
            "\n",
            "The original full_text is: [So this will keep spinning over us until 7 pm…go away already. #HurricaneIan https://t.co/VROTxNS9rz]\n"
          ]
        }
      ],
      "source": [
        "print('The document doc_id: {} has tweet_id: {}\\n'.format('doc_1', doc_to_tweet['doc_1']))\n",
        "print('In the intial DataFrame we have tweet_id {} at position 0\\n'.format(data.iloc[0]['id']))\n",
        "print('The original full_text is: [{}]'.format(data.iloc[0]['full_text']))"
      ]
    },
    {
      "cell_type": "code",
      "execution_count": 28,
      "metadata": {
        "colab": {
          "base_uri": "https://localhost:8080/"
        },
        "id": "MfZSz6q02Jaz",
        "outputId": "8e52713f-1b24-49c2-a586-773b1cd71e90"
      },
      "outputs": [
        {
          "output_type": "execute_result",
          "data": {
            "text/plain": [
              "{'text': ['kissimme', 'neighborhood', 'michigan', 'ave', 'hurricaneian'],\n",
              " 'username': 'CHeathWFTV',\n",
              " 'date': '30/09/2022 18:38:58',\n",
              " 'hashtags': ['HurricaneIan'],\n",
              " 'likes': 0,\n",
              " 'retweets': 0,\n",
              " 'url': 'https://twitter.com/CHeathWFTV/status/1575918140839673873'}"
            ]
          },
          "metadata": {},
          "execution_count": 28
        }
      ],
      "source": [
        "# Tweet after formatting\n",
        "\n",
        "tweets[1575918140839673873]"
      ]
    },
    {
      "cell_type": "markdown",
      "metadata": {
        "id": "w-NE8lt_5E3g"
      },
      "source": [
        "### Indexing ( part 2 )"
      ]
    },
    {
      "cell_type": "code",
      "execution_count": 29,
      "metadata": {
        "colab": {
          "base_uri": "https://localhost:8080/"
        },
        "id": "8XlGZ3hZOIgc",
        "outputId": "297b8b09-e66b-4558-c341-8feaa670e83c"
      },
      "outputs": [
        {
          "output_type": "stream",
          "name": "stdout",
          "text": [
            "Total time to create the index: 242.95 seconds\n"
          ]
        }
      ],
      "source": [
        "import time\n",
        "start_time = time.time()\n",
        "\n",
        "N = len(tweets)\n",
        "\n",
        "# Create full inverted index (inverted index, term frequencies, document frequencies, IDF)\n",
        "index,tf,df,idf = create_index_tfidf(doc_to_tweet, tweets, N)\n",
        "\n",
        "print(\"Total time to create the index: {} seconds\".format(np.round(time.time() - start_time, 2)))"
      ]
    },
    {
      "cell_type": "code",
      "execution_count": null,
      "metadata": {
        "colab": {
          "base_uri": "https://localhost:8080/"
        },
        "id": "gCMp0yZkLS2d",
        "outputId": "8bcec2f9-94d4-4527-d8ed-c3b027e8d1be"
      },
      "outputs": [
        {
          "output_type": "stream",
          "name": "stdout",
          "text": [
            "\n",
            "======================\n",
            "Top 10 results out of 1042 for the searched query: Hurricane Ian \n",
            "\n",
            "doc_id = doc_640 - tweet_id: 1575910304159977472 - score: 2.2314227007232357\n",
            "\t Text: ['hurrican', 'ian', 'hurricaneian']|Username: kadenfields8|Date: 30/09/2022 18:07:50|HurricaneIan|Likes: 2|Retweets: 0|Url: https://twitter.com/kadenfields8/status/1575910304159977472\n",
            "\n",
            "\n",
            "doc_id = doc_634 - tweet_id: 1575910361298968576 - score: 2.2314227007232357\n",
            "\t Text: ['hurrican', 'ian', 'ian', 'hurricaneian', 'hurricanian', 'huracan', 'huracanian', 'hurrican']|Username: cesarharamillo|Date: 30/09/2022 18:08:03|Ian HurricaneIan HurricanIan Huracan HuracanIan Hurricane|Likes: 1|Retweets: 0|Url: https://twitter.com/cesarharamillo/status/1575910361298968576\n",
            "\n",
            "\n",
            "doc_id = doc_1963 - tweet_id: 1575885709734543360 - score: 2.2314227007232357\n",
            "\t Text: ['latest', 'hurrican', 'ian']|Username: KPRC2|Date: 30/09/2022 16:30:06|hurricaneian ian severewx kprc2 click2houston sc florida|Likes: 0|Retweets: 0|Url: https://twitter.com/KPRC2/status/1575885709734543360\n",
            "\n",
            "\n",
            "doc_id = doc_495 - tweet_id: 1575912020368449536 - score: 2.043265076210369\n",
            "\t Text: ['hurrican', 'ian', 'like', 'hurrican', 'around', 'late', 'gonna', 'take', 'time', 'east', 'coast', 'hurricaneian', 'ian', 'hurrican']|Username: TheMoreYouKnw|Date: 30/09/2022 18:14:39|HurricaneIan Ian Hurricane|Likes: 0|Retweets: 0|Url: https://twitter.com/TheMoreYouKnw/status/1575912020368449536\n",
            "\n",
            "\n",
            "doc_id = doc_2140 - tweet_id: 1575881799267295234 - score: 1.9323023040554514\n",
            "\t Text: ['hurricaneian', 'perpetu', 'hurrican', 'ian']|Username: neveragainFL|Date: 30/09/2022 16:14:34|hurricaneian|Likes: 0|Retweets: 0|Url: https://twitter.com/neveragainFL/status/1575881799267295234\n",
            "\n",
            "\n",
            "doc_id = doc_1933 - tweet_id: 1575886315740336128 - score: 1.9323023040554514\n",
            "\t Text: ['hurrican', 'ian', 'impact', 'updat']|Username: JoshFitzWx|Date: 30/09/2022 16:32:30|NBC29 VAwx Ian HurricaneIan|Likes: 2|Retweets: 2|Url: https://twitter.com/JoshFitzWx/status/1575886315740336128\n",
            "\n",
            "\n",
            "doc_id = doc_1217 - tweet_id: 1575902689040666626 - score: 1.9323023040554514\n",
            "\t Text: ['hurrican', 'ian', 'tour', 'hurricaneian']|Username: besmarterpeople|Date: 30/09/2022 17:37:34|HurricaneIan|Likes: 0|Retweets: 0|Url: https://twitter.com/besmarterpeople/status/1575902689040666626\n",
            "\n",
            "\n",
            "doc_id = doc_807 - tweet_id: 1575908618200924167 - score: 1.7711989900392244\n",
            "\t Text: ['ian', 'predict', 'spare', 'atlanta', 'hurricaneian', 'hurrican', 'ian', 'atlantanew', 'atl']|Username: cl_atlanta|Date: 30/09/2022 18:01:08|HurricaneIan Hurricane Ian AtlantaNews ATL|Likes: 1|Retweets: 0|Url: https://twitter.com/cl_atlanta/status/1575908618200924167\n",
            "\n",
            "\n",
            "doc_id = doc_3572 - tweet_id: 1575862334924689408 - score: 1.728251180747196\n",
            "\t Text: ['hurrican', 'ian', 'unearth', 'bodi', 'cemeteri']|Username: Theanatoliapost|Date: 30/09/2022 14:57:13|hurricaneian florida oaklandcemetery|Likes: 0|Retweets: 0|Url: https://twitter.com/Theanatoliapost/status/1575862334924689408\n",
            "\n",
            "\n",
            "doc_id = doc_3526 - tweet_id: 1575862943191027713 - score: 1.7243358779970874\n",
            "\t Text: ['hurrican', 'ian', 'relief', 'gonna', 'long', 'day', 'xufn', 'hurricaneian', 'hurrican']|Username: jrx_the|Date: 30/09/2022 14:59:38|HurricaneIan Hurricane|Likes: 1|Retweets: 0|Url: https://twitter.com/jrx_the/status/1575862943191027713\n",
            "\n",
            "\n"
          ]
        }
      ],
      "source": [
        "## Query 1\n",
        "\n",
        "query1 = \"Hurricane Ian\"\n",
        "ranked_docs, ranked_scores, return_list = search_tf_idf(query1, index, idf, tf, doc_to_tweet)\n",
        "top = 10\n",
        "\n",
        "print(\"\\n======================\\nTop {} results out of {} for the searched query: {} \\n\".format(top, len(ranked_docs), query1))\n",
        "for idx, d_id in enumerate(ranked_docs[:top]):\n",
        "    print(\"doc_id = {} - tweet_id: {} - score: {}\".format(d_id, doc_to_tweet[d_id], ranked_scores[idx]))\n",
        "    print(\"\\t\", return_list[idx])\n",
        "    print(\"\\n\")"
      ]
    },
    {
      "cell_type": "code",
      "execution_count": null,
      "metadata": {
        "colab": {
          "base_uri": "https://localhost:8080/"
        },
        "id": "tGJ7TKrAV2N8",
        "outputId": "6bf87bee-37f8-427e-b6e5-e2f54d739ef5"
      },
      "outputs": [
        {
          "output_type": "stream",
          "name": "stdout",
          "text": [
            "\n",
            "======================\n",
            "Top 10 results out of 7 for the searched query: Covid Pandemic \n",
            "\n",
            "doc_id = doc_3088 - tweet_id: 1575868406603350017 - score: 12.160545944094801\n",
            "\t Text: ['heartbreak', 'fl', 'one', 'last', 'trip', 'us', '2019', 'pandem', 'heartbreak', 'see', 'pray', 'safe', 'florida', 'hurricaneian']|Username: ALYNH77|Date: 30/09/2022 15:21:21|Florida HurricaneIan|Likes: 0|Retweets: 0|Url: https://twitter.com/ALYNH77/status/1575868406603350017\n",
            "\n",
            "\n",
            "doc_id = doc_2796 - tweet_id: 1575871626540818432 - score: 8.293263506655457\n",
            "\t Text: ['mentalhealth', 'matter', 'ever', 'especi', 'given', 'covid', 'hurricaneian', 'take', 'care', 'rememb', 'simpli', 'enough', 'depaulsmn']|Username: AMDPU22|Date: 30/09/2022 15:34:08|MentalHealth COVID HurricaneIan DePaulSMN|Likes: 0|Retweets: 0|Url: https://twitter.com/AMDPU22/status/1575871626540818432\n",
            "\n",
            "\n",
            "doc_id = doc_1903 - tweet_id: 1575886977764728838 - score: 7.0465833039606744\n",
            "\t Text: ['talk', 'hurrican', 'way', 'conspiraci', 'believ', 'right', 'talk', 'covid', 'spot', 'amp', 'crack', 'hurricaneian', 'hurrican', 'justbecauseyoucantseeit']|Username: RamblingMyMind|Date: 30/09/2022 16:35:08|COVID hurricaneian Hurricane JustBecauseYouCantSeeIt|Likes: 0|Retweets: 1|Url: https://twitter.com/RamblingMyMind/status/1575886977764728838\n",
            "\n",
            "\n",
            "doc_id = doc_2798 - tweet_id: 1575871595716935680 - score: 6.373914129844785\n",
            "\t Text: ['joy', 'gendusa', 'florida', 'ceo', 'told', 'employe', 'week', 'bring', 'famili', 'pet', 'offic', 'could', 'continu', 'work', 'hurricaneian', 'previous', 'berat', 'staff', 'fear', 'covid', 'scoop', 'pblest']|Username: daithaigilbert|Date: 30/09/2022 15:34:01|HurricaneIan|Likes: 19|Retweets: 9|Url: https://twitter.com/daithaigilbert/status/1575871595716935680\n",
            "\n",
            "\n",
            "doc_id = doc_3331 - tweet_id: 1575865182944894978 - score: 5.369394829831723\n",
            "\t Text: ['junkscienc', 'studi', 'sez', 'man', 'caus', 'globalwarm', 'ad', '10', 'rain', 'hurricaneian', 'comput', 'simul', 'scam', 'saw', '2', '2μ', 'covid', 'dead', 'us', 'gov', 'lab', 'peer', 'review', 'pimp', 'fakenew', 'ap', 'buy', 'eco', 'dictatorship', 'save', 'earth']|Username: FraserFaithful|Date: 30/09/2022 15:08:32|JunkScience GlobalWarming HurricaneIan Covid FakeNews|Likes: 2|Retweets: 2|Url: https://twitter.com/FraserFaithful/status/1575865182944894978\n",
            "\n",
            "\n",
            "doc_id = doc_3671 - tweet_id: 1575860573795127296 - score: 5.127233927150003\n",
            "\t Text: ['start', 'cleanup', 'central', 'florida', 'today', 'easi', 'task', 'covid', 'fatigu', 'sit', 'everi', '30', 'minut', 'small', 'tree', 'lot', 'tree', 'trash', 'pick', 'easi', 'life', 'compar', 'brethren', 'sw', 'fl', 'hurricaneian', 'cleanup', 'mystori']|Username: holdsworth353|Date: 30/09/2022 14:50:13|Florida Covid HurricaneIan Cleanup MyStory|Likes: 1|Retweets: 1|Url: https://twitter.com/holdsworth353/status/1575860573795127296\n",
            "\n",
            "\n",
            "doc_id = doc_3841 - tweet_id: 1575858286293053440 - score: 4.849197335182102\n",
            "\t Text: ['desatan', 'sold', 'anti', 'fauci', 'shirt', 'thousand', 'unvaccin', 'floridian', 'die', 'covid', 'desatan', 'wage', 'war', 'woke', 'ceo', 'work', 'peopl', 'becam', 'homeless', 'amid', 'florida', 'hous', 'crisi', 'desatan', 'wast', 'taxpay', 'money', 'kidnap', 'venezuelan', 'texa', 'hurricaneian', 'form']|Username: TheDailyEdge|Date: 30/09/2022 14:41:08|HurricaneIan|Likes: 84|Retweets: 50|Url: https://twitter.com/TheDailyEdge/status/1575858286293053440\n",
            "\n",
            "\n"
          ]
        }
      ],
      "source": [
        "## Query 2\n",
        "\n",
        "\n",
        "query2 = \"Covid Pandemic\"\n",
        "ranked_docs, ranked_scores, return_list = search_tf_idf(query2, index, idf, tf, doc_to_tweet)\n",
        "top = 10\n",
        "\n",
        "print(\"\\n======================\\nTop {} results out of {} for the searched query: {} \\n\".format(top, len(ranked_docs), query2))\n",
        "for idx, d_id in enumerate(ranked_docs[:top]):\n",
        "    print(\"doc_id = {} - tweet_id: {} - score: {}\".format(d_id, doc_to_tweet[d_id], ranked_scores[idx]))\n",
        "    print(\"\\t\", return_list[idx])\n",
        "    print(\"\\n\")"
      ]
    },
    {
      "cell_type": "code",
      "execution_count": null,
      "metadata": {
        "colab": {
          "base_uri": "https://localhost:8080/"
        },
        "id": "sA0N7rKqYo99",
        "outputId": "fac7f87c-e20f-4b2a-e5e3-48c7d4837f34"
      },
      "outputs": [
        {
          "output_type": "stream",
          "name": "stdout",
          "text": [
            "\n",
            "======================\n",
            "Top 10 results out of 125 for the searched query: House destroyed \n",
            "\n",
            "doc_id = doc_836 - tweet_id: 1575908417062903810 - score: 7.278078975376553\n",
            "\t Text: ['mobil', 'home', 'commun', 'destroy', 'hurricaneian']|Username: leonardkl|Date: 30/09/2022 18:00:20|HurricaneIan|Likes: 0|Retweets: 0|Url: https://twitter.com/leonardkl/status/1575908417062903810\n",
            "\n",
            "\n",
            "doc_id = doc_1881 - tweet_id: 1575887548039036933 - score: 7.258603402176856\n",
            "\t Text: ['matlacha', 'home', 'destroy', 'hurricaneian', 'neighbor', 'tell', 'man', 'live', 'got', 'time', 'hous', 'crumbl', 'nbc2']|Username: ClaireNBC2|Date: 30/09/2022 16:37:24|Matlacha HurricaneIan|Likes: 6|Retweets: 0|Url: https://twitter.com/ClaireNBC2/status/1575887548039036933\n",
            "\n",
            "\n",
            "doc_id = doc_2217 - tweet_id: 1575880135609573376 - score: 6.151864607988231\n",
            "\t Text: ['car', 'destroy', 'hurricaneian', 'flood', 'via', 'ig', 'gisringhausen']|Username: wrldrn|Date: 30/09/2022 16:07:57|cars hurricaneian|Likes: 0|Retweets: 0|Url: https://twitter.com/wrldrn/status/1575880135609573376\n",
            "\n",
            "\n",
            "doc_id = doc_2439 - tweet_id: 1575876492076408832 - score: 5.964746157549989\n",
            "\t Text: ['parent', 'hous', 'daytona', 'one', 'inch', 'away', 'flood', 'hous', 'hurricaneian']|Username: CharlieMort0n|Date: 30/09/2022 15:53:28|HurricaneIan|Likes: 2|Retweets: 0|Url: https://twitter.com/CharlieMort0n/status/1575876492076408832\n",
            "\n",
            "\n",
            "doc_id = doc_2535 - tweet_id: 1575875350973730816 - score: 5.850842540471323\n",
            "\t Text: ['outsid', 'hous', 'fresh', 'water', 'lake', 'hurricaneian', 'safe', 'reloc', 'could', 'util', 'chunk', 'swfl', 'destroy', 'mani', 'home', 'insur', 'water', 'week']|Username: ThomasPound63|Date: 30/09/2022 15:48:56|HurricaneIan SWFL|Likes: 1|Retweets: 0|Url: https://twitter.com/ThomasPound63/status/1575875350973730816\n",
            "\n",
            "\n",
            "doc_id = doc_909 - tweet_id: 1575907687803817984 - score: 5.455727503078135\n",
            "\t Text: ['pictur', 'brother', 'sister', 'law', 'neighborhood', 'fort', 'myer', 'florida', 'know', 'stuck', 'miami', 'thought', '2', 'day', 'hous', 'destroy', 'go', 'fund', 'pin', 'profil', 'donat', 'help', 'hurricaneian']|Username: stephanieu45|Date: 30/09/2022 17:57:26|hurricaneian|Likes: 0|Retweets: 0|Url: https://twitter.com/stephanieu45/status/1575907687803817984\n",
            "\n",
            "\n",
            "doc_id = doc_2078 - tweet_id: 1575883032916959232 - score: 4.945892336276939\n",
            "\t Text: ['hurricaneian', '1', 'hous', '0']|Username: RealGrxnt|Date: 30/09/2022 16:19:28|HurricaneIan|Likes: 34|Retweets: 3|Url: https://twitter.com/RealGrxnt/status/1575883032916959232\n",
            "\n",
            "\n",
            "doc_id = doc_3811 - tweet_id: 1575858701499781120 - score: 4.906844389704899\n",
            "\t Text: ['know', 'desanti', 'florida', 'great', 'job', 'citi', 'basic', 'destroy', 'twitter', 'suppress', 'hurricaneian']|Username: BabyBooBoo62|Date: 30/09/2022 14:42:47|HurricaneIan|Likes: 0|Retweets: 0|Url: https://twitter.com/BabyBooBoo62/status/1575858701499781120\n",
            "\n",
            "\n",
            "doc_id = doc_2230 - tweet_id: 1575879802166267908 - score: 4.514622334010411\n",
            "\t Text: ['sure', 'go', 'tri', 'hour', 'power', 'cell', 'servic', 'mostli', 'lot', 'shit', 'destroy', 'aliv', 'hurricaneian']|Username: WauchulaGhost|Date: 30/09/2022 16:06:37|HurricaneIan|Likes: 12|Retweets: 2|Url: https://twitter.com/WauchulaGhost/status/1575879802166267908\n",
            "\n",
            "\n",
            "doc_id = doc_1271 - tweet_id: 1575901913467432960 - score: 4.423606105566094\n",
            "\t Text: ['weatherblock', 'hous', 'unsunghero', 'hurricaneian', 'wilmingtonnc']|Username: weatherchair|Date: 30/09/2022 17:34:29|unsungheroes hurricaneian wilmingtonnc|Likes: 1|Retweets: 0|Url: https://twitter.com/weatherchair/status/1575901913467432960\n",
            "\n",
            "\n"
          ]
        }
      ],
      "source": [
        "## Query 3\n",
        "\n",
        "query3 = \"House destroyed\"\n",
        "ranked_docs, ranked_scores, return_list = search_tf_idf(query3, index, idf, tf, doc_to_tweet)\n",
        "top = 10\n",
        "\n",
        "print(\"\\n======================\\nTop {} results out of {} for the searched query: {} \\n\".format(top, len(ranked_docs), query3))\n",
        "for idx, d_id in enumerate(ranked_docs[:top]):\n",
        "    print(\"doc_id = {} - tweet_id: {} - score: {}\".format(d_id, doc_to_tweet[d_id], ranked_scores[idx]))\n",
        "    print(\"\\t\", return_list[idx])\n",
        "    print(\"\\n\")"
      ]
    },
    {
      "cell_type": "code",
      "execution_count": null,
      "metadata": {
        "colab": {
          "base_uri": "https://localhost:8080/"
        },
        "id": "vRejlqC_Zoko",
        "outputId": "45513f29-6c41-441f-b0c1-6a4a25e8cf87"
      },
      "outputs": [
        {
          "output_type": "stream",
          "name": "stdout",
          "text": [
            "\n",
            "======================\n",
            "Top 10 results out of 20 for the searched query: I am very sad \n",
            "\n",
            "doc_id = doc_229 - tweet_id: 1575915199256739841 - score: 14.035991445\n",
            "\t Text: ['sad', 'pawleysisland', 'hurricaneian', 'southcarolina']|Username: southrnfoodjunk|Date: 30/09/2022 18:27:17|pawleysisland HurricaneIan southcarolina|Likes: 0|Retweets: 0|Url: https://twitter.com/southrnfoodjunk/status/1575915199256739841\n",
            "\n",
            "\n",
            "doc_id = doc_1764 - tweet_id: 1575890386249486336 - score: 14.035991445\n",
            "\t Text: ['sad', 'read', 'today', 'hurricaneian']|Username: kamontree|Date: 30/09/2022 16:48:41|hurricaneian|Likes: 0|Retweets: 0|Url: https://twitter.com/kamontree/status/1575890386249486336\n",
            "\n",
            "\n",
            "doc_id = doc_492 - tweet_id: 1575912058365042688 - score: 9.926253149904001\n",
            "\t Text: ['thefungi669', 'sad', 'good', 'track', 'record', 'trumpcrimefamili', 'letitiajam', 'hurricaneian']|Username: Gary_McRobb|Date: 30/09/2022 18:14:48|TrumpCrimeFamily letitiajames HurricaneIan|Likes: 2|Retweets: 2|Url: https://twitter.com/Gary_McRobb/status/1575912058365042688\n",
            "\n",
            "\n",
            "doc_id = doc_2543 - tweet_id: 1575875202445348864 - score: 9.926253149904001\n",
            "\t Text: ['insan', 'sad', 'live', 'lost', 'home', 'irrepar', 'damag', 'hurricaneian']|Username: makeupbytoshi|Date: 30/09/2022 15:48:21|HurricaneIan|Likes: 0|Retweets: 1|Url: https://twitter.com/makeupbytoshi/status/1575875202445348864\n",
            "\n",
            "\n",
            "doc_id = doc_2012 - tweet_id: 1575884604741128192 - score: 9.926253149904001\n",
            "\t Text: ['wxbrad', 'earli', 'shot', 'myrtl', 'beach', 'sad', 'prayer', 'hurricaneian']|Username: cameroncraig|Date: 30/09/2022 16:25:42|hurricaneian|Likes: 16|Retweets: 2|Url: https://twitter.com/cameroncraig/status/1575884604741128192\n",
            "\n",
            "\n",
            "doc_id = doc_2997 - tweet_id: 1575869451710316544 - score: 9.356391897237\n",
            "\t Text: ['hope', 'florida', 'emerg', 'kit', 'sustain', 'sad', 'pray', 'victim', 'hurricaneian']|Username: columbuscareers|Date: 30/09/2022 15:25:30|Florida HurricaneIan|Likes: 0|Retweets: 0|Url: https://twitter.com/columbuscareers/status/1575869451710316544\n",
            "\n",
            "\n",
            "doc_id = doc_922 - tweet_id: 1575907422488518656 - score: 8.463702841335\n",
            "\t Text: ['sad', 'see', 'go', 'florida', 'hope', 'everyon', 'safe', 'healthi', 'aw', 'event', 'hurricaneian']|Username: RivertownRx|Date: 30/09/2022 17:56:23|HurricaneIan|Likes: 0|Retweets: 0|Url: https://twitter.com/RivertownRx/status/1575907422488518656\n",
            "\n",
            "\n",
            "doc_id = doc_2225 - tweet_id: 1575880007196766208 - score: 8.104381460343001\n",
            "\t Text: ['sad', 'tale', 'presid', '98', 'said', 'help', 'ukrain', 'florida', 'bidenworstpresidentev', 'democratsaretheproblem', 'bidenbordercrisi', 'hurricaneian']|Username: OUKnowWho|Date: 30/09/2022 16:07:26|BidenWorstPresidentEver DemocratsAreTheProblem bidenbordercrisis HurricaneIan|Likes: 1|Retweets: 0|Url: https://twitter.com/OUKnowWho/status/1575880007196766208\n",
            "\n",
            "\n",
            "doc_id = doc_3528 - tweet_id: 1575862925499445251 - score: 7.503641026496999\n",
            "\t Text: ['sad', 'see', 'florida', 'news', 'happi', 'see', 'back', 'ritikaguptatv', 'hurricaneian', 'bloomberg', 'bloombergtv', 'busi']|Username: Crypto_Tuitions|Date: 30/09/2022 14:59:34|Florida news HurricaneIan|Likes: 0|Retweets: 1|Url: https://twitter.com/Crypto_Tuitions/status/1575862925499445251\n",
            "\n",
            "\n",
            "doc_id = doc_215 - tweet_id: 1575915407843770386 - score: 7.503641026496999\n",
            "\t Text: ['heart', 'struck', 'immens', 'sad', 'heavi', 'heart', 'sw', 'florida', 'famili', 'think', 'staysaf', 'hurricaneian']|Username: SaltmarshCPA|Date: 30/09/2022 18:28:06|staysafe hurricaneian|Likes: 0|Retweets: 0|Url: https://twitter.com/SaltmarshCPA/status/1575915407843770386\n",
            "\n",
            "\n"
          ]
        }
      ],
      "source": [
        "## Query 4\n",
        "\n",
        "query4 = \"I am very sad\"\n",
        "ranked_docs, ranked_scores, return_list = search_tf_idf(query4, index, idf, tf, doc_to_tweet)\n",
        "top = 10\n",
        "\n",
        "print(\"\\n======================\\nTop {} results out of {} for the searched query: {} \\n\".format(top, len(ranked_docs), query4))\n",
        "for idx, d_id in enumerate(ranked_docs[:top]):\n",
        "    print(\"doc_id = {} - tweet_id: {} - score: {}\".format(d_id, doc_to_tweet[d_id], ranked_scores[idx]))\n",
        "    print(\"\\t\", return_list[idx])\n",
        "    print(\"\\n\")"
      ]
    },
    {
      "cell_type": "code",
      "execution_count": null,
      "metadata": {
        "colab": {
          "base_uri": "https://localhost:8080/"
        },
        "id": "-1NuI7PFaDkA",
        "outputId": "1410ef8d-a38b-43d0-d88f-eaa22d3532c8"
      },
      "outputs": [
        {
          "output_type": "stream",
          "name": "stdout",
          "text": [
            "\n",
            "======================\n",
            "Top 10 results out of 32 for the searched query: My dog suffered \n",
            "\n",
            "doc_id = doc_1392 - tweet_id: 1575899951812341760 - score: 11.393918233510043\n",
            "\t Text: ['brave', 'man', 'save', 'dog', 'drown', 'hurricaneian', 'floodwat', 'rescu', 'ian', 'hurricanian', 'dog', 'braveri', 'hero']|Username: LynnSchore|Date: 30/09/2022 17:26:41|HurricaneIan rescue Ian HurricanIan dogs bravery hero|Likes: 1|Retweets: 0|Url: https://twitter.com/LynnSchore/status/1575899951812341760\n",
            "\n",
            "\n",
            "doc_id = doc_2537 - tweet_id: 1575875317918748679 - score: 10.543081127704832\n",
            "\t Text: ['pray', 'suffer', 'hurrican', 'hurricaneian']|Username: Gaming2klife1|Date: 30/09/2022 15:48:48|HurricaneIan|Likes: 0|Retweets: 0|Url: https://twitter.com/Gaming2klife1/status/1575875317918748679\n",
            "\n",
            "\n",
            "doc_id = doc_90 - tweet_id: 1575916894309138432 - score: 7.028017879728041\n",
            "\t Text: ['help', 'church', 'suffer', 'great', 'loss', 'florida', 'carolina', 'pleas', 'go']|Username: ReseedingAmeric|Date: 30/09/2022 18:34:01|HurricaneIan BIMI reseedingameric|Likes: 0|Retweets: 0|Url: https://twitter.com/ReseedingAmeric/status/1575916894309138432\n",
            "\n",
            "\n",
            "doc_id = doc_2523 - tweet_id: 1575875501352046593 - score: 6.840351035654895\n",
            "\t Text: ['like', 'express', 'sympathi', 'economi', 'suffer', 'much', 'pain', 'amp', 'miseri', 'due', 'recent', 'extrem', 'weather', 'cost', 'live', 'amp', 'energi', 'crise', 'hope', 'economi', 'suffer', 'cold', 'hunger', 'homeless', 'like', 'real', 'peopl', 'hurricaneian', 'ian', 'climateemerg']|Username: IPolemikos|Date: 30/09/2022 15:49:32|HurricaneIan Ian ClimateEmergency|Likes: 0|Retweets: 0|Url: https://twitter.com/IPolemikos/status/1575875501352046593\n",
            "\n",
            "\n",
            "doc_id = doc_679 - tweet_id: 1575909904845402112 - score: 6.652336071656231\n",
            "\t Text: ['dog', 'love', 'rain', 'would', 'wander', 'around', 'outsid', 'entir', 'hurrican', 'let', 'hurricaneian']|Username: quillsive|Date: 30/09/2022 18:06:14|HurricaneIan|Likes: 0|Retweets: 0|Url: https://twitter.com/quillsive/status/1575909904845402112\n",
            "\n",
            "\n",
            "doc_id = doc_1854 - tweet_id: 1575888174617956356 - score: 6.652336071656231\n",
            "\t Text: ['cute', 'new', 'wavynew', 'help', 'vbspca', 'took', 'ador', 'dog', 'save', 'hurricaneian', 'donat']|Username: juliemilletnews|Date: 30/09/2022 16:39:54|dogs HurricaneIan|Likes: 2|Retweets: 0|Url: https://twitter.com/juliemilletnews/status/1575888174617956356\n",
            "\n",
            "\n",
            "doc_id = doc_2044 - tweet_id: 1575883761773944833 - score: 6.369915170438322\n",
            "\t Text: ['walk', 'dog', 'hurricaneian', 'hurrican', 'hurricaneseason2022', 'walk', 'holistichealth', 'healthylifestyl', 'healthyhabit', 'zenlif']|Username: THEzenlarge|Date: 30/09/2022 16:22:21|HurricaneIan hurricane hurricaneseason2022 walking holistichealth healthylifestyle healthyhabits zenlife|Likes: 0|Retweets: 0|Url: https://twitter.com/THEzenlarge/status/1575883761773944833\n",
            "\n",
            "\n",
            "doc_id = doc_2917 - tweet_id: 1575870297458155521 - score: 5.696959116755021\n",
            "\t Text: ['62', 'degre', 'amp', 'light', 'wind', 'augusta', 'ahead', 'hurricaneian', 'howev', 'would', 'think', '12', 'saw', 'dramat', 'dog']|Username: alexandrankoch|Date: 30/09/2022 15:28:51|HurricaneIan|Likes: 6|Retweets: 0|Url: https://twitter.com/alexandrankoch/status/1575870297458155521\n",
            "\n",
            "\n",
            "doc_id = doc_2327 - tweet_id: 1575878251561771008 - score: 5.636331170871003\n",
            "\t Text: ['feel', 'guilti', 'enjoy', 'beauti', 'blue', 'sky', 'bright', 'sunshin', 'much', 'suffer', 'south', 'us', 'hurricaneian', 'florida']|Username: RobynInFlorida|Date: 30/09/2022 16:00:28|HurricaneIan Florida|Likes: 3|Retweets: 1|Url: https://twitter.com/RobynInFlorida/status/1575878251561771008\n",
            "\n",
            "\n",
            "doc_id = doc_707 - tweet_id: 1575909632530432029 - score: 5.516033226912298\n",
            "\t Text: ['jordan', 'reidi', 'carri', 'dog', 'ivori', 'back', 'second', 'floor', 'apart', 'fort', 'myer', 'florida', 'flee', 'hurricaneian', 'pass', 'jraedl']|Username: GettyImagesNews|Date: 30/09/2022 18:05:10|Florida HurricaneIan|Likes: 3|Retweets: 2|Url: https://twitter.com/GettyImagesNews/status/1575909632530432029\n",
            "\n",
            "\n"
          ]
        }
      ],
      "source": [
        "## Query 5\n",
        "\n",
        "query5 = \"My dog suffered\"\n",
        "ranked_docs, ranked_scores, return_list = search_tf_idf(query5, index, idf, tf, doc_to_tweet)\n",
        "top = 10\n",
        "\n",
        "print(\"\\n======================\\nTop {} results out of {} for the searched query: {} \\n\".format(top, len(ranked_docs), query5))\n",
        "for idx, d_id in enumerate(ranked_docs[:top]):\n",
        "    print(\"doc_id = {} - tweet_id: {} - score: {}\".format(d_id, doc_to_tweet[d_id], ranked_scores[idx]))\n",
        "    print(\"\\t\", return_list[idx])\n",
        "    print(\"\\n\")"
      ]
    },
    {
      "cell_type": "markdown",
      "metadata": {
        "id": "X8dCYVThg_3u"
      },
      "source": [
        "### Evaluation ( part 2 )"
      ]
    },
    {
      "cell_type": "markdown",
      "metadata": {
        "id": "uzukBV9W3vUF"
      },
      "source": [
        "#### Ex 1"
      ]
    },
    {
      "cell_type": "code",
      "execution_count": null,
      "metadata": {
        "id": "Z1R3DysR5O1T"
      },
      "outputs": [],
      "source": [
        "# baseline with 3 queries and the ground truth files for each query\n",
        "\n",
        "search_results = pd.read_csv(\"evaluation_gt.csv\")"
      ]
    },
    {
      "cell_type": "code",
      "execution_count": null,
      "metadata": {
        "colab": {
          "base_uri": "https://localhost:8080/"
        },
        "id": "g0yllnfJhOft",
        "outputId": "245aa821-e1f1-41fd-c570-1ace31814584"
      },
      "outputs": [
        {
          "output_type": "stream",
          "name": "stdout",
          "text": [
            "The ground truth of our dataset is composed of 2 Relevance Levels: [0, 1]\n"
          ]
        }
      ],
      "source": [
        "print_result = search_results[\"label\"].unique()\n",
        "print(\"The ground truth of our dataset is composed of {} Relevance Levels: {}\".format(len(print_result), sorted(print_result)))"
      ]
    },
    {
      "cell_type": "code",
      "execution_count": null,
      "metadata": {
        "id": "4YGdjkv5jlkY"
      },
      "outputs": [],
      "source": [
        "# queries Ex1 definition\n",
        "q1 = \"Landfall in South Carolina\"\n",
        "q2 = \"Help and recovery during the hurricane disaster\"\n",
        "q3 = \"Floodings in South Carolina\"\n",
        "\n",
        "# create the dataframe with this 3 queries\n",
        "queries = [q1,q2,q3]\n",
        "queries_df = pd.DataFrame(columns = [\"tweet_id\", \"query_id\", \"score\"])\n",
        "idxs = []\n",
        "\n",
        "# get the tweets_id\n",
        "d = search_results[\"doc\"].values\n",
        "for i in range(len(search_results[\"doc\"])):\n",
        "  idxs.append((d[i],doc_to_tweet[d[i]]))\n"
      ]
    },
    {
      "cell_type": "code",
      "execution_count": null,
      "metadata": {
        "id": "1vZt3nAqxuKr"
      },
      "outputs": [],
      "source": [
        "# To be able to differenciate queries on idxs during loop\n",
        "aux_1 = idxs[0:10] + idxs[30:40]\n",
        "aux_2 = idxs[10:20] + idxs[40:50]\n",
        "aux_3 = idxs[20:30] + idxs[50:60]\n",
        "idxs = []\n",
        "idxs.append(aux_1)\n",
        "idxs.append(aux_2)\n",
        "idxs.append(aux_3)"
      ]
    },
    {
      "cell_type": "code",
      "execution_count": null,
      "metadata": {
        "colab": {
          "base_uri": "https://localhost:8080/",
          "height": 206
        },
        "id": "VilLPzN-rPej",
        "outputId": "af58f8ac-400f-4893-9958-875bab0df050"
      },
      "outputs": [
        {
          "output_type": "execute_result",
          "data": {
            "text/plain": [
              "              tweet_id query_id     score  \\\n",
              "6  1575916977717141504        1  3.641145   \n",
              "4  1575911964555247616        1  3.371244   \n",
              "9  1575916073223962652        1  2.820090   \n",
              "7  1575916807927795712        1  2.395052   \n",
              "2  1575917983062380545        1  2.243561   \n",
              "\n",
              "                                                 url  \n",
              "6  https://twitter.com/willy_lowry/status/1575916...  \n",
              "4  https://twitter.com/AVEnthusiastsCH/status/157...  \n",
              "9  https://twitter.com/NBCPhiladelphia/status/157...  \n",
              "7  https://twitter.com/Jason_Disharoon/status/157...  \n",
              "2  https://twitter.com/EddieMcCoven/status/157591...  "
            ],
            "text/html": [
              "\n",
              "  <div id=\"df-71756833-475a-4095-99ac-a1678871bf64\">\n",
              "    <div class=\"colab-df-container\">\n",
              "      <div>\n",
              "<style scoped>\n",
              "    .dataframe tbody tr th:only-of-type {\n",
              "        vertical-align: middle;\n",
              "    }\n",
              "\n",
              "    .dataframe tbody tr th {\n",
              "        vertical-align: top;\n",
              "    }\n",
              "\n",
              "    .dataframe thead th {\n",
              "        text-align: right;\n",
              "    }\n",
              "</style>\n",
              "<table border=\"1\" class=\"dataframe\">\n",
              "  <thead>\n",
              "    <tr style=\"text-align: right;\">\n",
              "      <th></th>\n",
              "      <th>tweet_id</th>\n",
              "      <th>query_id</th>\n",
              "      <th>score</th>\n",
              "      <th>url</th>\n",
              "    </tr>\n",
              "  </thead>\n",
              "  <tbody>\n",
              "    <tr>\n",
              "      <th>6</th>\n",
              "      <td>1575916977717141504</td>\n",
              "      <td>1</td>\n",
              "      <td>3.641145</td>\n",
              "      <td>https://twitter.com/willy_lowry/status/1575916...</td>\n",
              "    </tr>\n",
              "    <tr>\n",
              "      <th>4</th>\n",
              "      <td>1575911964555247616</td>\n",
              "      <td>1</td>\n",
              "      <td>3.371244</td>\n",
              "      <td>https://twitter.com/AVEnthusiastsCH/status/157...</td>\n",
              "    </tr>\n",
              "    <tr>\n",
              "      <th>9</th>\n",
              "      <td>1575916073223962652</td>\n",
              "      <td>1</td>\n",
              "      <td>2.820090</td>\n",
              "      <td>https://twitter.com/NBCPhiladelphia/status/157...</td>\n",
              "    </tr>\n",
              "    <tr>\n",
              "      <th>7</th>\n",
              "      <td>1575916807927795712</td>\n",
              "      <td>1</td>\n",
              "      <td>2.395052</td>\n",
              "      <td>https://twitter.com/Jason_Disharoon/status/157...</td>\n",
              "    </tr>\n",
              "    <tr>\n",
              "      <th>2</th>\n",
              "      <td>1575917983062380545</td>\n",
              "      <td>1</td>\n",
              "      <td>2.243561</td>\n",
              "      <td>https://twitter.com/EddieMcCoven/status/157591...</td>\n",
              "    </tr>\n",
              "  </tbody>\n",
              "</table>\n",
              "</div>\n",
              "      <button class=\"colab-df-convert\" onclick=\"convertToInteractive('df-71756833-475a-4095-99ac-a1678871bf64')\"\n",
              "              title=\"Convert this dataframe to an interactive table.\"\n",
              "              style=\"display:none;\">\n",
              "        \n",
              "  <svg xmlns=\"http://www.w3.org/2000/svg\" height=\"24px\"viewBox=\"0 0 24 24\"\n",
              "       width=\"24px\">\n",
              "    <path d=\"M0 0h24v24H0V0z\" fill=\"none\"/>\n",
              "    <path d=\"M18.56 5.44l.94 2.06.94-2.06 2.06-.94-2.06-.94-.94-2.06-.94 2.06-2.06.94zm-11 1L8.5 8.5l.94-2.06 2.06-.94-2.06-.94L8.5 2.5l-.94 2.06-2.06.94zm10 10l.94 2.06.94-2.06 2.06-.94-2.06-.94-.94-2.06-.94 2.06-2.06.94z\"/><path d=\"M17.41 7.96l-1.37-1.37c-.4-.4-.92-.59-1.43-.59-.52 0-1.04.2-1.43.59L10.3 9.45l-7.72 7.72c-.78.78-.78 2.05 0 2.83L4 21.41c.39.39.9.59 1.41.59.51 0 1.02-.2 1.41-.59l7.78-7.78 2.81-2.81c.8-.78.8-2.07 0-2.86zM5.41 20L4 18.59l7.72-7.72 1.47 1.35L5.41 20z\"/>\n",
              "  </svg>\n",
              "      </button>\n",
              "      \n",
              "  <style>\n",
              "    .colab-df-container {\n",
              "      display:flex;\n",
              "      flex-wrap:wrap;\n",
              "      gap: 12px;\n",
              "    }\n",
              "\n",
              "    .colab-df-convert {\n",
              "      background-color: #E8F0FE;\n",
              "      border: none;\n",
              "      border-radius: 50%;\n",
              "      cursor: pointer;\n",
              "      display: none;\n",
              "      fill: #1967D2;\n",
              "      height: 32px;\n",
              "      padding: 0 0 0 0;\n",
              "      width: 32px;\n",
              "    }\n",
              "\n",
              "    .colab-df-convert:hover {\n",
              "      background-color: #E2EBFA;\n",
              "      box-shadow: 0px 1px 2px rgba(60, 64, 67, 0.3), 0px 1px 3px 1px rgba(60, 64, 67, 0.15);\n",
              "      fill: #174EA6;\n",
              "    }\n",
              "\n",
              "    [theme=dark] .colab-df-convert {\n",
              "      background-color: #3B4455;\n",
              "      fill: #D2E3FC;\n",
              "    }\n",
              "\n",
              "    [theme=dark] .colab-df-convert:hover {\n",
              "      background-color: #434B5C;\n",
              "      box-shadow: 0px 1px 3px 1px rgba(0, 0, 0, 0.15);\n",
              "      filter: drop-shadow(0px 1px 2px rgba(0, 0, 0, 0.3));\n",
              "      fill: #FFFFFF;\n",
              "    }\n",
              "  </style>\n",
              "\n",
              "      <script>\n",
              "        const buttonEl =\n",
              "          document.querySelector('#df-71756833-475a-4095-99ac-a1678871bf64 button.colab-df-convert');\n",
              "        buttonEl.style.display =\n",
              "          google.colab.kernel.accessAllowed ? 'block' : 'none';\n",
              "\n",
              "        async function convertToInteractive(key) {\n",
              "          const element = document.querySelector('#df-71756833-475a-4095-99ac-a1678871bf64');\n",
              "          const dataTable =\n",
              "            await google.colab.kernel.invokeFunction('convertToInteractive',\n",
              "                                                     [key], {});\n",
              "          if (!dataTable) return;\n",
              "\n",
              "          const docLinkHtml = 'Like what you see? Visit the ' +\n",
              "            '<a target=\"_blank\" href=https://colab.research.google.com/notebooks/data_table.ipynb>data table notebook</a>'\n",
              "            + ' to learn more about interactive tables.';\n",
              "          element.innerHTML = '';\n",
              "          dataTable['output_type'] = 'display_data';\n",
              "          await google.colab.output.renderOutput(dataTable, element);\n",
              "          const docLink = document.createElement('div');\n",
              "          docLink.innerHTML = docLinkHtml;\n",
              "          element.appendChild(docLink);\n",
              "        }\n",
              "      </script>\n",
              "    </div>\n",
              "  </div>\n",
              "  "
            ]
          },
          "metadata": {},
          "execution_count": 43
        }
      ],
      "source": [
        "for i in range(len(queries)):\n",
        "    ranked_docs, ranked_scores, return_list = search_tf_idf(queries[i], index, idf, tf, doc_to_tweet)\n",
        "    for d_id, t_id in idxs[i]:\n",
        "      try:\n",
        "        queries_df = queries_df.append({\"tweet_id\": t_id, \"query_id\": int(i+1), \"score\": ranked_scores[ranked_docs.index(str(d_id))], \"url\": tweets[doc_to_tweet[d_id]]['url']}, ignore_index=True)\n",
        "      except:\n",
        "        queries_df = queries_df.append({\"tweet_id\": t_id, \"query_id\": int(i+1), \"score\": 0, \"url\": tweets[doc_to_tweet[d_id]]['url']}, ignore_index=True)\n",
        "\n",
        "# we sort by score, respecting the query_id value\n",
        "queries_df = queries_df.sort_values(by=['query_id','score'], ascending = [True, False])\n",
        "\n",
        "queries_df.head()"
      ]
    },
    {
      "cell_type": "code",
      "execution_count": null,
      "metadata": {
        "id": "RTnPEgeFpvKb"
      },
      "outputs": [],
      "source": [
        "queries_df = queries_df.astype({'query_id': 'int64'})"
      ]
    },
    {
      "cell_type": "code",
      "execution_count": null,
      "metadata": {
        "colab": {
          "base_uri": "https://localhost:8080/"
        },
        "id": "Q5zl7rhNkYoC",
        "outputId": "1fa4ad3d-ef08-4795-9954-36e22d747477"
      },
      "outputs": [
        {
          "output_type": "execute_result",
          "data": {
            "text/plain": [
              "60"
            ]
          },
          "metadata": {},
          "execution_count": 45
        }
      ],
      "source": [
        "# we take ground_truth from the evaluation_gt\n",
        "ground_truth = search_results[\"label\"].values\n",
        "len(ground_truth)"
      ]
    },
    {
      "cell_type": "code",
      "execution_count": null,
      "metadata": {
        "colab": {
          "base_uri": "https://localhost:8080/",
          "height": 206
        },
        "id": "yXncSX4sn3Mm",
        "outputId": "11749155-d866-40ab-8d78-e825fbc0ff27"
      },
      "outputs": [
        {
          "output_type": "execute_result",
          "data": {
            "text/plain": [
              "              tweet_id  query_id     score  ground_truth\n",
              "6  1575916977717141504         1  3.641145             1\n",
              "4  1575911964555247616         1  3.371244             1\n",
              "9  1575916073223962652         1  2.820090             1\n",
              "7  1575916807927795712         1  2.395052             1\n",
              "2  1575917983062380545         1  2.243561             1"
            ],
            "text/html": [
              "\n",
              "  <div id=\"df-5597f016-8f09-42e9-a810-18a63440e853\">\n",
              "    <div class=\"colab-df-container\">\n",
              "      <div>\n",
              "<style scoped>\n",
              "    .dataframe tbody tr th:only-of-type {\n",
              "        vertical-align: middle;\n",
              "    }\n",
              "\n",
              "    .dataframe tbody tr th {\n",
              "        vertical-align: top;\n",
              "    }\n",
              "\n",
              "    .dataframe thead th {\n",
              "        text-align: right;\n",
              "    }\n",
              "</style>\n",
              "<table border=\"1\" class=\"dataframe\">\n",
              "  <thead>\n",
              "    <tr style=\"text-align: right;\">\n",
              "      <th></th>\n",
              "      <th>tweet_id</th>\n",
              "      <th>query_id</th>\n",
              "      <th>score</th>\n",
              "      <th>ground_truth</th>\n",
              "    </tr>\n",
              "  </thead>\n",
              "  <tbody>\n",
              "    <tr>\n",
              "      <th>6</th>\n",
              "      <td>1575916977717141504</td>\n",
              "      <td>1</td>\n",
              "      <td>3.641145</td>\n",
              "      <td>1</td>\n",
              "    </tr>\n",
              "    <tr>\n",
              "      <th>4</th>\n",
              "      <td>1575911964555247616</td>\n",
              "      <td>1</td>\n",
              "      <td>3.371244</td>\n",
              "      <td>1</td>\n",
              "    </tr>\n",
              "    <tr>\n",
              "      <th>9</th>\n",
              "      <td>1575916073223962652</td>\n",
              "      <td>1</td>\n",
              "      <td>2.820090</td>\n",
              "      <td>1</td>\n",
              "    </tr>\n",
              "    <tr>\n",
              "      <th>7</th>\n",
              "      <td>1575916807927795712</td>\n",
              "      <td>1</td>\n",
              "      <td>2.395052</td>\n",
              "      <td>1</td>\n",
              "    </tr>\n",
              "    <tr>\n",
              "      <th>2</th>\n",
              "      <td>1575917983062380545</td>\n",
              "      <td>1</td>\n",
              "      <td>2.243561</td>\n",
              "      <td>1</td>\n",
              "    </tr>\n",
              "  </tbody>\n",
              "</table>\n",
              "</div>\n",
              "      <button class=\"colab-df-convert\" onclick=\"convertToInteractive('df-5597f016-8f09-42e9-a810-18a63440e853')\"\n",
              "              title=\"Convert this dataframe to an interactive table.\"\n",
              "              style=\"display:none;\">\n",
              "        \n",
              "  <svg xmlns=\"http://www.w3.org/2000/svg\" height=\"24px\"viewBox=\"0 0 24 24\"\n",
              "       width=\"24px\">\n",
              "    <path d=\"M0 0h24v24H0V0z\" fill=\"none\"/>\n",
              "    <path d=\"M18.56 5.44l.94 2.06.94-2.06 2.06-.94-2.06-.94-.94-2.06-.94 2.06-2.06.94zm-11 1L8.5 8.5l.94-2.06 2.06-.94-2.06-.94L8.5 2.5l-.94 2.06-2.06.94zm10 10l.94 2.06.94-2.06 2.06-.94-2.06-.94-.94-2.06-.94 2.06-2.06.94z\"/><path d=\"M17.41 7.96l-1.37-1.37c-.4-.4-.92-.59-1.43-.59-.52 0-1.04.2-1.43.59L10.3 9.45l-7.72 7.72c-.78.78-.78 2.05 0 2.83L4 21.41c.39.39.9.59 1.41.59.51 0 1.02-.2 1.41-.59l7.78-7.78 2.81-2.81c.8-.78.8-2.07 0-2.86zM5.41 20L4 18.59l7.72-7.72 1.47 1.35L5.41 20z\"/>\n",
              "  </svg>\n",
              "      </button>\n",
              "      \n",
              "  <style>\n",
              "    .colab-df-container {\n",
              "      display:flex;\n",
              "      flex-wrap:wrap;\n",
              "      gap: 12px;\n",
              "    }\n",
              "\n",
              "    .colab-df-convert {\n",
              "      background-color: #E8F0FE;\n",
              "      border: none;\n",
              "      border-radius: 50%;\n",
              "      cursor: pointer;\n",
              "      display: none;\n",
              "      fill: #1967D2;\n",
              "      height: 32px;\n",
              "      padding: 0 0 0 0;\n",
              "      width: 32px;\n",
              "    }\n",
              "\n",
              "    .colab-df-convert:hover {\n",
              "      background-color: #E2EBFA;\n",
              "      box-shadow: 0px 1px 2px rgba(60, 64, 67, 0.3), 0px 1px 3px 1px rgba(60, 64, 67, 0.15);\n",
              "      fill: #174EA6;\n",
              "    }\n",
              "\n",
              "    [theme=dark] .colab-df-convert {\n",
              "      background-color: #3B4455;\n",
              "      fill: #D2E3FC;\n",
              "    }\n",
              "\n",
              "    [theme=dark] .colab-df-convert:hover {\n",
              "      background-color: #434B5C;\n",
              "      box-shadow: 0px 1px 3px 1px rgba(0, 0, 0, 0.15);\n",
              "      filter: drop-shadow(0px 1px 2px rgba(0, 0, 0, 0.3));\n",
              "      fill: #FFFFFF;\n",
              "    }\n",
              "  </style>\n",
              "\n",
              "      <script>\n",
              "        const buttonEl =\n",
              "          document.querySelector('#df-5597f016-8f09-42e9-a810-18a63440e853 button.colab-df-convert');\n",
              "        buttonEl.style.display =\n",
              "          google.colab.kernel.accessAllowed ? 'block' : 'none';\n",
              "\n",
              "        async function convertToInteractive(key) {\n",
              "          const element = document.querySelector('#df-5597f016-8f09-42e9-a810-18a63440e853');\n",
              "          const dataTable =\n",
              "            await google.colab.kernel.invokeFunction('convertToInteractive',\n",
              "                                                     [key], {});\n",
              "          if (!dataTable) return;\n",
              "\n",
              "          const docLinkHtml = 'Like what you see? Visit the ' +\n",
              "            '<a target=\"_blank\" href=https://colab.research.google.com/notebooks/data_table.ipynb>data table notebook</a>'\n",
              "            + ' to learn more about interactive tables.';\n",
              "          element.innerHTML = '';\n",
              "          dataTable['output_type'] = 'display_data';\n",
              "          await google.colab.output.renderOutput(dataTable, element);\n",
              "          const docLink = document.createElement('div');\n",
              "          docLink.innerHTML = docLinkHtml;\n",
              "          element.appendChild(docLink);\n",
              "        }\n",
              "      </script>\n",
              "    </div>\n",
              "  </div>\n",
              "  "
            ]
          },
          "metadata": {},
          "execution_count": 46
        }
      ],
      "source": [
        "queries_df['ground_truth'] = ground_truth\n",
        "queries_df.drop(columns=['url'], inplace=True)\n",
        "queries_df.head()"
      ]
    },
    {
      "cell_type": "code",
      "execution_count": null,
      "metadata": {
        "colab": {
          "base_uri": "https://localhost:8080/",
          "height": 293
        },
        "id": "veXNdNsu05cI",
        "outputId": "c92a9594-e0eb-4316-a0b7-664d21d51ace"
      },
      "outputs": [
        {
          "output_type": "stream",
          "name": "stdout",
          "text": [
            "==> Precision@5: 1.0\n",
            "\n",
            "\n",
            "Check on the dataset sorted by score:\n",
            "\n"
          ]
        },
        {
          "output_type": "execute_result",
          "data": {
            "text/plain": [
              "              tweet_id  query_id     score  ground_truth\n",
              "6  1575916977717141504         1  3.641145             1\n",
              "4  1575911964555247616         1  3.371244             1\n",
              "9  1575916073223962652         1  2.820090             1\n",
              "7  1575916807927795712         1  2.395052             1\n",
              "2  1575917983062380545         1  2.243561             1"
            ],
            "text/html": [
              "\n",
              "  <div id=\"df-d62bf4e9-c239-4ddf-a198-8f73ce63da26\">\n",
              "    <div class=\"colab-df-container\">\n",
              "      <div>\n",
              "<style scoped>\n",
              "    .dataframe tbody tr th:only-of-type {\n",
              "        vertical-align: middle;\n",
              "    }\n",
              "\n",
              "    .dataframe tbody tr th {\n",
              "        vertical-align: top;\n",
              "    }\n",
              "\n",
              "    .dataframe thead th {\n",
              "        text-align: right;\n",
              "    }\n",
              "</style>\n",
              "<table border=\"1\" class=\"dataframe\">\n",
              "  <thead>\n",
              "    <tr style=\"text-align: right;\">\n",
              "      <th></th>\n",
              "      <th>tweet_id</th>\n",
              "      <th>query_id</th>\n",
              "      <th>score</th>\n",
              "      <th>ground_truth</th>\n",
              "    </tr>\n",
              "  </thead>\n",
              "  <tbody>\n",
              "    <tr>\n",
              "      <th>6</th>\n",
              "      <td>1575916977717141504</td>\n",
              "      <td>1</td>\n",
              "      <td>3.641145</td>\n",
              "      <td>1</td>\n",
              "    </tr>\n",
              "    <tr>\n",
              "      <th>4</th>\n",
              "      <td>1575911964555247616</td>\n",
              "      <td>1</td>\n",
              "      <td>3.371244</td>\n",
              "      <td>1</td>\n",
              "    </tr>\n",
              "    <tr>\n",
              "      <th>9</th>\n",
              "      <td>1575916073223962652</td>\n",
              "      <td>1</td>\n",
              "      <td>2.820090</td>\n",
              "      <td>1</td>\n",
              "    </tr>\n",
              "    <tr>\n",
              "      <th>7</th>\n",
              "      <td>1575916807927795712</td>\n",
              "      <td>1</td>\n",
              "      <td>2.395052</td>\n",
              "      <td>1</td>\n",
              "    </tr>\n",
              "    <tr>\n",
              "      <th>2</th>\n",
              "      <td>1575917983062380545</td>\n",
              "      <td>1</td>\n",
              "      <td>2.243561</td>\n",
              "      <td>1</td>\n",
              "    </tr>\n",
              "  </tbody>\n",
              "</table>\n",
              "</div>\n",
              "      <button class=\"colab-df-convert\" onclick=\"convertToInteractive('df-d62bf4e9-c239-4ddf-a198-8f73ce63da26')\"\n",
              "              title=\"Convert this dataframe to an interactive table.\"\n",
              "              style=\"display:none;\">\n",
              "        \n",
              "  <svg xmlns=\"http://www.w3.org/2000/svg\" height=\"24px\"viewBox=\"0 0 24 24\"\n",
              "       width=\"24px\">\n",
              "    <path d=\"M0 0h24v24H0V0z\" fill=\"none\"/>\n",
              "    <path d=\"M18.56 5.44l.94 2.06.94-2.06 2.06-.94-2.06-.94-.94-2.06-.94 2.06-2.06.94zm-11 1L8.5 8.5l.94-2.06 2.06-.94-2.06-.94L8.5 2.5l-.94 2.06-2.06.94zm10 10l.94 2.06.94-2.06 2.06-.94-2.06-.94-.94-2.06-.94 2.06-2.06.94z\"/><path d=\"M17.41 7.96l-1.37-1.37c-.4-.4-.92-.59-1.43-.59-.52 0-1.04.2-1.43.59L10.3 9.45l-7.72 7.72c-.78.78-.78 2.05 0 2.83L4 21.41c.39.39.9.59 1.41.59.51 0 1.02-.2 1.41-.59l7.78-7.78 2.81-2.81c.8-.78.8-2.07 0-2.86zM5.41 20L4 18.59l7.72-7.72 1.47 1.35L5.41 20z\"/>\n",
              "  </svg>\n",
              "      </button>\n",
              "      \n",
              "  <style>\n",
              "    .colab-df-container {\n",
              "      display:flex;\n",
              "      flex-wrap:wrap;\n",
              "      gap: 12px;\n",
              "    }\n",
              "\n",
              "    .colab-df-convert {\n",
              "      background-color: #E8F0FE;\n",
              "      border: none;\n",
              "      border-radius: 50%;\n",
              "      cursor: pointer;\n",
              "      display: none;\n",
              "      fill: #1967D2;\n",
              "      height: 32px;\n",
              "      padding: 0 0 0 0;\n",
              "      width: 32px;\n",
              "    }\n",
              "\n",
              "    .colab-df-convert:hover {\n",
              "      background-color: #E2EBFA;\n",
              "      box-shadow: 0px 1px 2px rgba(60, 64, 67, 0.3), 0px 1px 3px 1px rgba(60, 64, 67, 0.15);\n",
              "      fill: #174EA6;\n",
              "    }\n",
              "\n",
              "    [theme=dark] .colab-df-convert {\n",
              "      background-color: #3B4455;\n",
              "      fill: #D2E3FC;\n",
              "    }\n",
              "\n",
              "    [theme=dark] .colab-df-convert:hover {\n",
              "      background-color: #434B5C;\n",
              "      box-shadow: 0px 1px 3px 1px rgba(0, 0, 0, 0.15);\n",
              "      filter: drop-shadow(0px 1px 2px rgba(0, 0, 0, 0.3));\n",
              "      fill: #FFFFFF;\n",
              "    }\n",
              "  </style>\n",
              "\n",
              "      <script>\n",
              "        const buttonEl =\n",
              "          document.querySelector('#df-d62bf4e9-c239-4ddf-a198-8f73ce63da26 button.colab-df-convert');\n",
              "        buttonEl.style.display =\n",
              "          google.colab.kernel.accessAllowed ? 'block' : 'none';\n",
              "\n",
              "        async function convertToInteractive(key) {\n",
              "          const element = document.querySelector('#df-d62bf4e9-c239-4ddf-a198-8f73ce63da26');\n",
              "          const dataTable =\n",
              "            await google.colab.kernel.invokeFunction('convertToInteractive',\n",
              "                                                     [key], {});\n",
              "          if (!dataTable) return;\n",
              "\n",
              "          const docLinkHtml = 'Like what you see? Visit the ' +\n",
              "            '<a target=\"_blank\" href=https://colab.research.google.com/notebooks/data_table.ipynb>data table notebook</a>'\n",
              "            + ' to learn more about interactive tables.';\n",
              "          element.innerHTML = '';\n",
              "          dataTable['output_type'] = 'display_data';\n",
              "          await google.colab.output.renderOutput(dataTable, element);\n",
              "          const docLink = document.createElement('div');\n",
              "          docLink.innerHTML = docLinkHtml;\n",
              "          element.appendChild(docLink);\n",
              "        }\n",
              "      </script>\n",
              "    </div>\n",
              "  </div>\n",
              "  "
            ]
          },
          "metadata": {},
          "execution_count": 47
        }
      ],
      "source": [
        "current_query = 1\n",
        "current_query_res = queries_df[queries_df[\"query_id\"] == current_query]\n",
        "\n",
        "k = 5\n",
        "print(\"==> Precision@{}: {}\\n\".format(k, precision_at_k(current_query_res[\"ground_truth\"], current_query_res[\"score\"], k)))\n",
        "print(\"\\nCheck on the dataset sorted by score:\\n\")\n",
        "\n",
        "current_query_res.sort_values(\"score\", ascending=False).head(k)"
      ]
    },
    {
      "cell_type": "code",
      "execution_count": null,
      "metadata": {
        "colab": {
          "base_uri": "https://localhost:8080/",
          "height": 293
        },
        "id": "HRW7yLSd07g5",
        "outputId": "a04df9c0-db63-474f-e089-d45b3765d9a4"
      },
      "outputs": [
        {
          "output_type": "stream",
          "name": "stdout",
          "text": [
            "==> Precision@5: 1.0\n",
            "\n",
            "\n",
            "Check on the dataset sorted by score:\n",
            "\n"
          ]
        },
        {
          "output_type": "execute_result",
          "data": {
            "text/plain": [
              "               tweet_id  query_id     score  ground_truth\n",
              "27  1575913215942590469         2  2.957361             1\n",
              "22  1575914737749016577         2  2.516081             1\n",
              "29  1575911925526896640         2  1.861978             1\n",
              "24  1575914189071138818         2  1.236198             1\n",
              "21  1575915964817760257         2  1.235798             1"
            ],
            "text/html": [
              "\n",
              "  <div id=\"df-a467bf61-35b5-41aa-a482-5697056d54de\">\n",
              "    <div class=\"colab-df-container\">\n",
              "      <div>\n",
              "<style scoped>\n",
              "    .dataframe tbody tr th:only-of-type {\n",
              "        vertical-align: middle;\n",
              "    }\n",
              "\n",
              "    .dataframe tbody tr th {\n",
              "        vertical-align: top;\n",
              "    }\n",
              "\n",
              "    .dataframe thead th {\n",
              "        text-align: right;\n",
              "    }\n",
              "</style>\n",
              "<table border=\"1\" class=\"dataframe\">\n",
              "  <thead>\n",
              "    <tr style=\"text-align: right;\">\n",
              "      <th></th>\n",
              "      <th>tweet_id</th>\n",
              "      <th>query_id</th>\n",
              "      <th>score</th>\n",
              "      <th>ground_truth</th>\n",
              "    </tr>\n",
              "  </thead>\n",
              "  <tbody>\n",
              "    <tr>\n",
              "      <th>27</th>\n",
              "      <td>1575913215942590469</td>\n",
              "      <td>2</td>\n",
              "      <td>2.957361</td>\n",
              "      <td>1</td>\n",
              "    </tr>\n",
              "    <tr>\n",
              "      <th>22</th>\n",
              "      <td>1575914737749016577</td>\n",
              "      <td>2</td>\n",
              "      <td>2.516081</td>\n",
              "      <td>1</td>\n",
              "    </tr>\n",
              "    <tr>\n",
              "      <th>29</th>\n",
              "      <td>1575911925526896640</td>\n",
              "      <td>2</td>\n",
              "      <td>1.861978</td>\n",
              "      <td>1</td>\n",
              "    </tr>\n",
              "    <tr>\n",
              "      <th>24</th>\n",
              "      <td>1575914189071138818</td>\n",
              "      <td>2</td>\n",
              "      <td>1.236198</td>\n",
              "      <td>1</td>\n",
              "    </tr>\n",
              "    <tr>\n",
              "      <th>21</th>\n",
              "      <td>1575915964817760257</td>\n",
              "      <td>2</td>\n",
              "      <td>1.235798</td>\n",
              "      <td>1</td>\n",
              "    </tr>\n",
              "  </tbody>\n",
              "</table>\n",
              "</div>\n",
              "      <button class=\"colab-df-convert\" onclick=\"convertToInteractive('df-a467bf61-35b5-41aa-a482-5697056d54de')\"\n",
              "              title=\"Convert this dataframe to an interactive table.\"\n",
              "              style=\"display:none;\">\n",
              "        \n",
              "  <svg xmlns=\"http://www.w3.org/2000/svg\" height=\"24px\"viewBox=\"0 0 24 24\"\n",
              "       width=\"24px\">\n",
              "    <path d=\"M0 0h24v24H0V0z\" fill=\"none\"/>\n",
              "    <path d=\"M18.56 5.44l.94 2.06.94-2.06 2.06-.94-2.06-.94-.94-2.06-.94 2.06-2.06.94zm-11 1L8.5 8.5l.94-2.06 2.06-.94-2.06-.94L8.5 2.5l-.94 2.06-2.06.94zm10 10l.94 2.06.94-2.06 2.06-.94-2.06-.94-.94-2.06-.94 2.06-2.06.94z\"/><path d=\"M17.41 7.96l-1.37-1.37c-.4-.4-.92-.59-1.43-.59-.52 0-1.04.2-1.43.59L10.3 9.45l-7.72 7.72c-.78.78-.78 2.05 0 2.83L4 21.41c.39.39.9.59 1.41.59.51 0 1.02-.2 1.41-.59l7.78-7.78 2.81-2.81c.8-.78.8-2.07 0-2.86zM5.41 20L4 18.59l7.72-7.72 1.47 1.35L5.41 20z\"/>\n",
              "  </svg>\n",
              "      </button>\n",
              "      \n",
              "  <style>\n",
              "    .colab-df-container {\n",
              "      display:flex;\n",
              "      flex-wrap:wrap;\n",
              "      gap: 12px;\n",
              "    }\n",
              "\n",
              "    .colab-df-convert {\n",
              "      background-color: #E8F0FE;\n",
              "      border: none;\n",
              "      border-radius: 50%;\n",
              "      cursor: pointer;\n",
              "      display: none;\n",
              "      fill: #1967D2;\n",
              "      height: 32px;\n",
              "      padding: 0 0 0 0;\n",
              "      width: 32px;\n",
              "    }\n",
              "\n",
              "    .colab-df-convert:hover {\n",
              "      background-color: #E2EBFA;\n",
              "      box-shadow: 0px 1px 2px rgba(60, 64, 67, 0.3), 0px 1px 3px 1px rgba(60, 64, 67, 0.15);\n",
              "      fill: #174EA6;\n",
              "    }\n",
              "\n",
              "    [theme=dark] .colab-df-convert {\n",
              "      background-color: #3B4455;\n",
              "      fill: #D2E3FC;\n",
              "    }\n",
              "\n",
              "    [theme=dark] .colab-df-convert:hover {\n",
              "      background-color: #434B5C;\n",
              "      box-shadow: 0px 1px 3px 1px rgba(0, 0, 0, 0.15);\n",
              "      filter: drop-shadow(0px 1px 2px rgba(0, 0, 0, 0.3));\n",
              "      fill: #FFFFFF;\n",
              "    }\n",
              "  </style>\n",
              "\n",
              "      <script>\n",
              "        const buttonEl =\n",
              "          document.querySelector('#df-a467bf61-35b5-41aa-a482-5697056d54de button.colab-df-convert');\n",
              "        buttonEl.style.display =\n",
              "          google.colab.kernel.accessAllowed ? 'block' : 'none';\n",
              "\n",
              "        async function convertToInteractive(key) {\n",
              "          const element = document.querySelector('#df-a467bf61-35b5-41aa-a482-5697056d54de');\n",
              "          const dataTable =\n",
              "            await google.colab.kernel.invokeFunction('convertToInteractive',\n",
              "                                                     [key], {});\n",
              "          if (!dataTable) return;\n",
              "\n",
              "          const docLinkHtml = 'Like what you see? Visit the ' +\n",
              "            '<a target=\"_blank\" href=https://colab.research.google.com/notebooks/data_table.ipynb>data table notebook</a>'\n",
              "            + ' to learn more about interactive tables.';\n",
              "          element.innerHTML = '';\n",
              "          dataTable['output_type'] = 'display_data';\n",
              "          await google.colab.output.renderOutput(dataTable, element);\n",
              "          const docLink = document.createElement('div');\n",
              "          docLink.innerHTML = docLinkHtml;\n",
              "          element.appendChild(docLink);\n",
              "        }\n",
              "      </script>\n",
              "    </div>\n",
              "  </div>\n",
              "  "
            ]
          },
          "metadata": {},
          "execution_count": 48
        }
      ],
      "source": [
        "# Check for query 2\n",
        "\n",
        "current_query = 2\n",
        "current_query_res = queries_df[queries_df[\"query_id\"] == current_query]\n",
        "\n",
        "k = 5\n",
        "print(\"==> Precision@{}: {}\\n\".format(k, precision_at_k(current_query_res[\"ground_truth\"], current_query_res[\"score\"], k)))\n",
        "print(\"\\nCheck on the dataset sorted by score:\\n\")\n",
        "\n",
        "current_query_res.sort_values(\"score\", ascending=False).head(k)"
      ]
    },
    {
      "cell_type": "code",
      "execution_count": null,
      "metadata": {
        "colab": {
          "base_uri": "https://localhost:8080/",
          "height": 293
        },
        "id": "duX2N_vb1GD-",
        "outputId": "d0917a33-6468-4d09-fe77-a55bc7186a70"
      },
      "outputs": [
        {
          "output_type": "stream",
          "name": "stdout",
          "text": [
            "==> Precision@5: 0.0\n",
            "\n",
            "\n",
            "Check on the dataset sorted by score:\n",
            "\n"
          ]
        },
        {
          "output_type": "execute_result",
          "data": {
            "text/plain": [
              "               tweet_id  query_id     score  ground_truth\n",
              "42  1575917156734320663         3  3.348685             0\n",
              "44  1575916229910470656         3  2.929887             0\n",
              "41  1575917165831589890         3  2.699228             0\n",
              "49  1575917165831589890         3  2.699228             0\n",
              "40  1575917717600681984         3  2.101680             0"
            ],
            "text/html": [
              "\n",
              "  <div id=\"df-ded23830-dd3e-481e-bf66-ef3cb0bb42ce\">\n",
              "    <div class=\"colab-df-container\">\n",
              "      <div>\n",
              "<style scoped>\n",
              "    .dataframe tbody tr th:only-of-type {\n",
              "        vertical-align: middle;\n",
              "    }\n",
              "\n",
              "    .dataframe tbody tr th {\n",
              "        vertical-align: top;\n",
              "    }\n",
              "\n",
              "    .dataframe thead th {\n",
              "        text-align: right;\n",
              "    }\n",
              "</style>\n",
              "<table border=\"1\" class=\"dataframe\">\n",
              "  <thead>\n",
              "    <tr style=\"text-align: right;\">\n",
              "      <th></th>\n",
              "      <th>tweet_id</th>\n",
              "      <th>query_id</th>\n",
              "      <th>score</th>\n",
              "      <th>ground_truth</th>\n",
              "    </tr>\n",
              "  </thead>\n",
              "  <tbody>\n",
              "    <tr>\n",
              "      <th>42</th>\n",
              "      <td>1575917156734320663</td>\n",
              "      <td>3</td>\n",
              "      <td>3.348685</td>\n",
              "      <td>0</td>\n",
              "    </tr>\n",
              "    <tr>\n",
              "      <th>44</th>\n",
              "      <td>1575916229910470656</td>\n",
              "      <td>3</td>\n",
              "      <td>2.929887</td>\n",
              "      <td>0</td>\n",
              "    </tr>\n",
              "    <tr>\n",
              "      <th>41</th>\n",
              "      <td>1575917165831589890</td>\n",
              "      <td>3</td>\n",
              "      <td>2.699228</td>\n",
              "      <td>0</td>\n",
              "    </tr>\n",
              "    <tr>\n",
              "      <th>49</th>\n",
              "      <td>1575917165831589890</td>\n",
              "      <td>3</td>\n",
              "      <td>2.699228</td>\n",
              "      <td>0</td>\n",
              "    </tr>\n",
              "    <tr>\n",
              "      <th>40</th>\n",
              "      <td>1575917717600681984</td>\n",
              "      <td>3</td>\n",
              "      <td>2.101680</td>\n",
              "      <td>0</td>\n",
              "    </tr>\n",
              "  </tbody>\n",
              "</table>\n",
              "</div>\n",
              "      <button class=\"colab-df-convert\" onclick=\"convertToInteractive('df-ded23830-dd3e-481e-bf66-ef3cb0bb42ce')\"\n",
              "              title=\"Convert this dataframe to an interactive table.\"\n",
              "              style=\"display:none;\">\n",
              "        \n",
              "  <svg xmlns=\"http://www.w3.org/2000/svg\" height=\"24px\"viewBox=\"0 0 24 24\"\n",
              "       width=\"24px\">\n",
              "    <path d=\"M0 0h24v24H0V0z\" fill=\"none\"/>\n",
              "    <path d=\"M18.56 5.44l.94 2.06.94-2.06 2.06-.94-2.06-.94-.94-2.06-.94 2.06-2.06.94zm-11 1L8.5 8.5l.94-2.06 2.06-.94-2.06-.94L8.5 2.5l-.94 2.06-2.06.94zm10 10l.94 2.06.94-2.06 2.06-.94-2.06-.94-.94-2.06-.94 2.06-2.06.94z\"/><path d=\"M17.41 7.96l-1.37-1.37c-.4-.4-.92-.59-1.43-.59-.52 0-1.04.2-1.43.59L10.3 9.45l-7.72 7.72c-.78.78-.78 2.05 0 2.83L4 21.41c.39.39.9.59 1.41.59.51 0 1.02-.2 1.41-.59l7.78-7.78 2.81-2.81c.8-.78.8-2.07 0-2.86zM5.41 20L4 18.59l7.72-7.72 1.47 1.35L5.41 20z\"/>\n",
              "  </svg>\n",
              "      </button>\n",
              "      \n",
              "  <style>\n",
              "    .colab-df-container {\n",
              "      display:flex;\n",
              "      flex-wrap:wrap;\n",
              "      gap: 12px;\n",
              "    }\n",
              "\n",
              "    .colab-df-convert {\n",
              "      background-color: #E8F0FE;\n",
              "      border: none;\n",
              "      border-radius: 50%;\n",
              "      cursor: pointer;\n",
              "      display: none;\n",
              "      fill: #1967D2;\n",
              "      height: 32px;\n",
              "      padding: 0 0 0 0;\n",
              "      width: 32px;\n",
              "    }\n",
              "\n",
              "    .colab-df-convert:hover {\n",
              "      background-color: #E2EBFA;\n",
              "      box-shadow: 0px 1px 2px rgba(60, 64, 67, 0.3), 0px 1px 3px 1px rgba(60, 64, 67, 0.15);\n",
              "      fill: #174EA6;\n",
              "    }\n",
              "\n",
              "    [theme=dark] .colab-df-convert {\n",
              "      background-color: #3B4455;\n",
              "      fill: #D2E3FC;\n",
              "    }\n",
              "\n",
              "    [theme=dark] .colab-df-convert:hover {\n",
              "      background-color: #434B5C;\n",
              "      box-shadow: 0px 1px 3px 1px rgba(0, 0, 0, 0.15);\n",
              "      filter: drop-shadow(0px 1px 2px rgba(0, 0, 0, 0.3));\n",
              "      fill: #FFFFFF;\n",
              "    }\n",
              "  </style>\n",
              "\n",
              "      <script>\n",
              "        const buttonEl =\n",
              "          document.querySelector('#df-ded23830-dd3e-481e-bf66-ef3cb0bb42ce button.colab-df-convert');\n",
              "        buttonEl.style.display =\n",
              "          google.colab.kernel.accessAllowed ? 'block' : 'none';\n",
              "\n",
              "        async function convertToInteractive(key) {\n",
              "          const element = document.querySelector('#df-ded23830-dd3e-481e-bf66-ef3cb0bb42ce');\n",
              "          const dataTable =\n",
              "            await google.colab.kernel.invokeFunction('convertToInteractive',\n",
              "                                                     [key], {});\n",
              "          if (!dataTable) return;\n",
              "\n",
              "          const docLinkHtml = 'Like what you see? Visit the ' +\n",
              "            '<a target=\"_blank\" href=https://colab.research.google.com/notebooks/data_table.ipynb>data table notebook</a>'\n",
              "            + ' to learn more about interactive tables.';\n",
              "          element.innerHTML = '';\n",
              "          dataTable['output_type'] = 'display_data';\n",
              "          await google.colab.output.renderOutput(dataTable, element);\n",
              "          const docLink = document.createElement('div');\n",
              "          docLink.innerHTML = docLinkHtml;\n",
              "          element.appendChild(docLink);\n",
              "        }\n",
              "      </script>\n",
              "    </div>\n",
              "  </div>\n",
              "  "
            ]
          },
          "metadata": {},
          "execution_count": 49
        }
      ],
      "source": [
        "# Check for query 3\n",
        "\n",
        "current_query = 3\n",
        "current_query_res = queries_df[queries_df[\"query_id\"] == current_query]\n",
        "\n",
        "k = 5\n",
        "print(\"==> Precision@{}: {}\\n\".format(k, precision_at_k(current_query_res[\"ground_truth\"], current_query_res[\"score\"], k)))\n",
        "print(\"\\nCheck on the dataset sorted by score:\\n\")\n",
        "\n",
        "current_query_res.sort_values(\"score\", ascending=False).head(k)"
      ]
    },
    {
      "cell_type": "code",
      "execution_count": null,
      "metadata": {
        "colab": {
          "base_uri": "https://localhost:8080/"
        },
        "id": "_syV90f11gqg",
        "outputId": "6854c689-0d5d-4411-9358-04c76bf36a47"
      },
      "outputs": [
        {
          "output_type": "execute_result",
          "data": {
            "text/plain": [
              "1.0"
            ]
          },
          "metadata": {},
          "execution_count": 50
        }
      ],
      "source": [
        "current_query = 1\n",
        "current_query_res = queries_df[queries_df[\"query_id\"] == current_query]\n",
        "avg_precision_at_k(np.array(current_query_res[\"ground_truth\"]), np.array(current_query_res[\"score\"]), 20)"
      ]
    },
    {
      "cell_type": "code",
      "execution_count": null,
      "metadata": {
        "colab": {
          "base_uri": "https://localhost:8080/"
        },
        "id": "tDhYh-i81yQo",
        "outputId": "74264663-21d0-4631-9e74-8a65d4e1c4e0"
      },
      "outputs": [
        {
          "output_type": "execute_result",
          "data": {
            "text/plain": [
              "1.0000000000000002"
            ]
          },
          "metadata": {},
          "execution_count": 51
        }
      ],
      "source": [
        "# Check with average_precision_score of sklearn\n",
        "\n",
        "from sklearn.metrics import average_precision_score\n",
        "k = 20\n",
        "average_precision_score(np.array(current_query_res[\"ground_truth\"]), np.array(current_query_res[\"score\"][:k]))"
      ]
    },
    {
      "cell_type": "code",
      "execution_count": null,
      "metadata": {
        "colab": {
          "base_uri": "https://localhost:8080/"
        },
        "id": "RcBG1GnQ2Cfp",
        "outputId": "e19c5152-01ce-4c03-89c8-da10e682dfd9"
      },
      "outputs": [
        {
          "output_type": "execute_result",
          "data": {
            "text/plain": [
              "0.6666666666666666"
            ]
          },
          "metadata": {},
          "execution_count": 52
        }
      ],
      "source": [
        "map_k = map_at_k(queries_df, 20)\n",
        "map_k"
      ]
    },
    {
      "cell_type": "code",
      "execution_count": null,
      "metadata": {
        "colab": {
          "base_uri": "https://localhost:8080/"
        },
        "id": "2cvCMaZb2RXt",
        "outputId": "73527661-5cde-4e99-c5fb-daf7d3337340"
      },
      "outputs": [
        {
          "output_type": "execute_result",
          "data": {
            "text/plain": [
              "1.0"
            ]
          },
          "metadata": {},
          "execution_count": 53
        }
      ],
      "source": [
        "mrr_k = mrr_at_k(queries_df)\n",
        "mrr_k"
      ]
    },
    {
      "cell_type": "code",
      "execution_count": null,
      "metadata": {
        "colab": {
          "base_uri": "https://localhost:8080/"
        },
        "id": "iEcetPNt2d5t",
        "outputId": "3a1bab99-6926-4014-9bb0-23750a070021"
      },
      "outputs": [
        {
          "output_type": "stream",
          "name": "stdout",
          "text": [
            "The ndcg@11 for query with query_id = 1: 1.0\n",
            "The ndcg@11 for query with query_id = 2: 1.0\n",
            "The ndcg@11 for query with query_id = 3: 0\n"
          ]
        }
      ],
      "source": [
        "k=10\n",
        "for current_query in range(1,len(queries)+1):\n",
        "  current_query_res = queries_df[queries_df[\"query_id\"] == current_query]\n",
        "  labels = np.array(current_query_res[\"ground_truth\"])\n",
        "  scores = np.array(current_query_res[\"score\"])\n",
        "  ndcg_k = np.round(ndcg_at_k(labels, scores, k),4)\n",
        "  print(\"The ndcg@{} for query with query_id = {}: {}\".format(k+1,current_query,ndcg_k))"
      ]
    },
    {
      "cell_type": "markdown",
      "metadata": {
        "id": "WDRVdGuW32Cz"
      },
      "source": [
        "#### Ex 2"
      ]
    },
    {
      "cell_type": "code",
      "execution_count": null,
      "metadata": {
        "colab": {
          "base_uri": "https://localhost:8080/",
          "height": 206
        },
        "id": "38I5c2bBzVqh",
        "outputId": "4ce86dba-7435-49d4-f481-0a5b97de6b72"
      },
      "outputs": [
        {
          "output_type": "execute_result",
          "data": {
            "text/plain": [
              "              tweet_id query_id     score  \\\n",
              "0  1575910304159977472        1  2.231423   \n",
              "1  1575910361298968576        1  2.231423   \n",
              "2  1575885709734543360        1  2.231423   \n",
              "3  1575912020368449536        1  2.043265   \n",
              "4  1575881799267295234        1  1.932302   \n",
              "\n",
              "                                                 url  \n",
              "0  https://twitter.com/kadenfields8/status/157591...  \n",
              "1  https://twitter.com/cesarharamillo/status/1575...  \n",
              "2  https://twitter.com/KPRC2/status/1575885709734...  \n",
              "3  https://twitter.com/TheMoreYouKnw/status/15759...  \n",
              "4  https://twitter.com/neveragainFL/status/157588...  "
            ],
            "text/html": [
              "\n",
              "  <div id=\"df-a7b198a5-72eb-44d2-bcc8-490acf41ec5d\">\n",
              "    <div class=\"colab-df-container\">\n",
              "      <div>\n",
              "<style scoped>\n",
              "    .dataframe tbody tr th:only-of-type {\n",
              "        vertical-align: middle;\n",
              "    }\n",
              "\n",
              "    .dataframe tbody tr th {\n",
              "        vertical-align: top;\n",
              "    }\n",
              "\n",
              "    .dataframe thead th {\n",
              "        text-align: right;\n",
              "    }\n",
              "</style>\n",
              "<table border=\"1\" class=\"dataframe\">\n",
              "  <thead>\n",
              "    <tr style=\"text-align: right;\">\n",
              "      <th></th>\n",
              "      <th>tweet_id</th>\n",
              "      <th>query_id</th>\n",
              "      <th>score</th>\n",
              "      <th>url</th>\n",
              "    </tr>\n",
              "  </thead>\n",
              "  <tbody>\n",
              "    <tr>\n",
              "      <th>0</th>\n",
              "      <td>1575910304159977472</td>\n",
              "      <td>1</td>\n",
              "      <td>2.231423</td>\n",
              "      <td>https://twitter.com/kadenfields8/status/157591...</td>\n",
              "    </tr>\n",
              "    <tr>\n",
              "      <th>1</th>\n",
              "      <td>1575910361298968576</td>\n",
              "      <td>1</td>\n",
              "      <td>2.231423</td>\n",
              "      <td>https://twitter.com/cesarharamillo/status/1575...</td>\n",
              "    </tr>\n",
              "    <tr>\n",
              "      <th>2</th>\n",
              "      <td>1575885709734543360</td>\n",
              "      <td>1</td>\n",
              "      <td>2.231423</td>\n",
              "      <td>https://twitter.com/KPRC2/status/1575885709734...</td>\n",
              "    </tr>\n",
              "    <tr>\n",
              "      <th>3</th>\n",
              "      <td>1575912020368449536</td>\n",
              "      <td>1</td>\n",
              "      <td>2.043265</td>\n",
              "      <td>https://twitter.com/TheMoreYouKnw/status/15759...</td>\n",
              "    </tr>\n",
              "    <tr>\n",
              "      <th>4</th>\n",
              "      <td>1575881799267295234</td>\n",
              "      <td>1</td>\n",
              "      <td>1.932302</td>\n",
              "      <td>https://twitter.com/neveragainFL/status/157588...</td>\n",
              "    </tr>\n",
              "  </tbody>\n",
              "</table>\n",
              "</div>\n",
              "      <button class=\"colab-df-convert\" onclick=\"convertToInteractive('df-a7b198a5-72eb-44d2-bcc8-490acf41ec5d')\"\n",
              "              title=\"Convert this dataframe to an interactive table.\"\n",
              "              style=\"display:none;\">\n",
              "        \n",
              "  <svg xmlns=\"http://www.w3.org/2000/svg\" height=\"24px\"viewBox=\"0 0 24 24\"\n",
              "       width=\"24px\">\n",
              "    <path d=\"M0 0h24v24H0V0z\" fill=\"none\"/>\n",
              "    <path d=\"M18.56 5.44l.94 2.06.94-2.06 2.06-.94-2.06-.94-.94-2.06-.94 2.06-2.06.94zm-11 1L8.5 8.5l.94-2.06 2.06-.94-2.06-.94L8.5 2.5l-.94 2.06-2.06.94zm10 10l.94 2.06.94-2.06 2.06-.94-2.06-.94-.94-2.06-.94 2.06-2.06.94z\"/><path d=\"M17.41 7.96l-1.37-1.37c-.4-.4-.92-.59-1.43-.59-.52 0-1.04.2-1.43.59L10.3 9.45l-7.72 7.72c-.78.78-.78 2.05 0 2.83L4 21.41c.39.39.9.59 1.41.59.51 0 1.02-.2 1.41-.59l7.78-7.78 2.81-2.81c.8-.78.8-2.07 0-2.86zM5.41 20L4 18.59l7.72-7.72 1.47 1.35L5.41 20z\"/>\n",
              "  </svg>\n",
              "      </button>\n",
              "      \n",
              "  <style>\n",
              "    .colab-df-container {\n",
              "      display:flex;\n",
              "      flex-wrap:wrap;\n",
              "      gap: 12px;\n",
              "    }\n",
              "\n",
              "    .colab-df-convert {\n",
              "      background-color: #E8F0FE;\n",
              "      border: none;\n",
              "      border-radius: 50%;\n",
              "      cursor: pointer;\n",
              "      display: none;\n",
              "      fill: #1967D2;\n",
              "      height: 32px;\n",
              "      padding: 0 0 0 0;\n",
              "      width: 32px;\n",
              "    }\n",
              "\n",
              "    .colab-df-convert:hover {\n",
              "      background-color: #E2EBFA;\n",
              "      box-shadow: 0px 1px 2px rgba(60, 64, 67, 0.3), 0px 1px 3px 1px rgba(60, 64, 67, 0.15);\n",
              "      fill: #174EA6;\n",
              "    }\n",
              "\n",
              "    [theme=dark] .colab-df-convert {\n",
              "      background-color: #3B4455;\n",
              "      fill: #D2E3FC;\n",
              "    }\n",
              "\n",
              "    [theme=dark] .colab-df-convert:hover {\n",
              "      background-color: #434B5C;\n",
              "      box-shadow: 0px 1px 3px 1px rgba(0, 0, 0, 0.15);\n",
              "      filter: drop-shadow(0px 1px 2px rgba(0, 0, 0, 0.3));\n",
              "      fill: #FFFFFF;\n",
              "    }\n",
              "  </style>\n",
              "\n",
              "      <script>\n",
              "        const buttonEl =\n",
              "          document.querySelector('#df-a7b198a5-72eb-44d2-bcc8-490acf41ec5d button.colab-df-convert');\n",
              "        buttonEl.style.display =\n",
              "          google.colab.kernel.accessAllowed ? 'block' : 'none';\n",
              "\n",
              "        async function convertToInteractive(key) {\n",
              "          const element = document.querySelector('#df-a7b198a5-72eb-44d2-bcc8-490acf41ec5d');\n",
              "          const dataTable =\n",
              "            await google.colab.kernel.invokeFunction('convertToInteractive',\n",
              "                                                     [key], {});\n",
              "          if (!dataTable) return;\n",
              "\n",
              "          const docLinkHtml = 'Like what you see? Visit the ' +\n",
              "            '<a target=\"_blank\" href=https://colab.research.google.com/notebooks/data_table.ipynb>data table notebook</a>'\n",
              "            + ' to learn more about interactive tables.';\n",
              "          element.innerHTML = '';\n",
              "          dataTable['output_type'] = 'display_data';\n",
              "          await google.colab.output.renderOutput(dataTable, element);\n",
              "          const docLink = document.createElement('div');\n",
              "          docLink.innerHTML = docLinkHtml;\n",
              "          element.appendChild(docLink);\n",
              "        }\n",
              "      </script>\n",
              "    </div>\n",
              "  </div>\n",
              "  "
            ]
          },
          "metadata": {},
          "execution_count": 55
        }
      ],
      "source": [
        "#create the dataframe with our 5 queries to be evaluated\n",
        "queries = [query1, query2, query3, query4, query5]\n",
        "queries_df = pd.DataFrame(columns = [\"tweet_id\", \"query_id\", \"score\", 'url'])\n",
        "top = 10\n",
        "\n",
        "for i in range(len(queries)):\n",
        "    ranked_docs, ranked_scores, return_list = search_tf_idf(queries[i], index, idf, tf, doc_to_tweet)\n",
        "\n",
        "    for idx, d_id in enumerate(ranked_docs[:top]):\n",
        "        queries_df = queries_df.append({\"tweet_id\": doc_to_tweet[d_id], \"query_id\": str(i+1), \"score\": ranked_scores[idx], \"url\": tweets[doc_to_tweet[d_id]]['url']}, ignore_index=True)        \n",
        "queries_df.head()"
      ]
    },
    {
      "cell_type": "code",
      "execution_count": null,
      "metadata": {
        "id": "3MJLfsRX-baS"
      },
      "outputs": [],
      "source": [
        "ground_truth = [ 1,0,1,0,1,1,0,0,0,1,1,1,0,1,0,0,1,1,1,0,0,0,1,1,0,0,0,0,1,0,1,0,1,1,0,1,1,1,0,0,0,1,0,1,0,0,1]"
      ]
    },
    {
      "cell_type": "code",
      "execution_count": null,
      "metadata": {
        "colab": {
          "base_uri": "https://localhost:8080/"
        },
        "id": "zJ4bOgXC-dVu",
        "outputId": "179a5516-e015-4e58-bb76-482856b232cd"
      },
      "outputs": [
        {
          "output_type": "execute_result",
          "data": {
            "text/plain": [
              "47"
            ]
          },
          "metadata": {},
          "execution_count": 57
        }
      ],
      "source": [
        "len(ground_truth)"
      ]
    },
    {
      "cell_type": "code",
      "execution_count": null,
      "metadata": {
        "id": "ToZ9LTqH-rBP"
      },
      "outputs": [],
      "source": [
        "queries_df['ground_truth'] = ground_truth"
      ]
    },
    {
      "cell_type": "code",
      "execution_count": null,
      "metadata": {
        "id": "3Bc0wVz07oYq"
      },
      "outputs": [],
      "source": [
        "queries_df.drop(columns=['url'], inplace=True)"
      ]
    },
    {
      "cell_type": "code",
      "execution_count": null,
      "metadata": {
        "id": "gv1yhJKDsuir"
      },
      "outputs": [],
      "source": [
        "queries_df = queries_df.astype({'query_id': 'int64'})"
      ]
    },
    {
      "cell_type": "code",
      "execution_count": null,
      "metadata": {
        "colab": {
          "base_uri": "https://localhost:8080/",
          "height": 206
        },
        "id": "-v9wWLeG6rc6",
        "outputId": "8954fe9a-d15c-424c-b81e-1111856e2656"
      },
      "outputs": [
        {
          "output_type": "execute_result",
          "data": {
            "text/plain": [
              "              tweet_id  query_id     score  ground_truth\n",
              "0  1575910304159977472         1  2.231423             1\n",
              "1  1575910361298968576         1  2.231423             0\n",
              "2  1575885709734543360         1  2.231423             1\n",
              "3  1575912020368449536         1  2.043265             0\n",
              "4  1575881799267295234         1  1.932302             1"
            ],
            "text/html": [
              "\n",
              "  <div id=\"df-ffbcba9a-6365-4a65-bb9c-15adb311bc75\">\n",
              "    <div class=\"colab-df-container\">\n",
              "      <div>\n",
              "<style scoped>\n",
              "    .dataframe tbody tr th:only-of-type {\n",
              "        vertical-align: middle;\n",
              "    }\n",
              "\n",
              "    .dataframe tbody tr th {\n",
              "        vertical-align: top;\n",
              "    }\n",
              "\n",
              "    .dataframe thead th {\n",
              "        text-align: right;\n",
              "    }\n",
              "</style>\n",
              "<table border=\"1\" class=\"dataframe\">\n",
              "  <thead>\n",
              "    <tr style=\"text-align: right;\">\n",
              "      <th></th>\n",
              "      <th>tweet_id</th>\n",
              "      <th>query_id</th>\n",
              "      <th>score</th>\n",
              "      <th>ground_truth</th>\n",
              "    </tr>\n",
              "  </thead>\n",
              "  <tbody>\n",
              "    <tr>\n",
              "      <th>0</th>\n",
              "      <td>1575910304159977472</td>\n",
              "      <td>1</td>\n",
              "      <td>2.231423</td>\n",
              "      <td>1</td>\n",
              "    </tr>\n",
              "    <tr>\n",
              "      <th>1</th>\n",
              "      <td>1575910361298968576</td>\n",
              "      <td>1</td>\n",
              "      <td>2.231423</td>\n",
              "      <td>0</td>\n",
              "    </tr>\n",
              "    <tr>\n",
              "      <th>2</th>\n",
              "      <td>1575885709734543360</td>\n",
              "      <td>1</td>\n",
              "      <td>2.231423</td>\n",
              "      <td>1</td>\n",
              "    </tr>\n",
              "    <tr>\n",
              "      <th>3</th>\n",
              "      <td>1575912020368449536</td>\n",
              "      <td>1</td>\n",
              "      <td>2.043265</td>\n",
              "      <td>0</td>\n",
              "    </tr>\n",
              "    <tr>\n",
              "      <th>4</th>\n",
              "      <td>1575881799267295234</td>\n",
              "      <td>1</td>\n",
              "      <td>1.932302</td>\n",
              "      <td>1</td>\n",
              "    </tr>\n",
              "  </tbody>\n",
              "</table>\n",
              "</div>\n",
              "      <button class=\"colab-df-convert\" onclick=\"convertToInteractive('df-ffbcba9a-6365-4a65-bb9c-15adb311bc75')\"\n",
              "              title=\"Convert this dataframe to an interactive table.\"\n",
              "              style=\"display:none;\">\n",
              "        \n",
              "  <svg xmlns=\"http://www.w3.org/2000/svg\" height=\"24px\"viewBox=\"0 0 24 24\"\n",
              "       width=\"24px\">\n",
              "    <path d=\"M0 0h24v24H0V0z\" fill=\"none\"/>\n",
              "    <path d=\"M18.56 5.44l.94 2.06.94-2.06 2.06-.94-2.06-.94-.94-2.06-.94 2.06-2.06.94zm-11 1L8.5 8.5l.94-2.06 2.06-.94-2.06-.94L8.5 2.5l-.94 2.06-2.06.94zm10 10l.94 2.06.94-2.06 2.06-.94-2.06-.94-.94-2.06-.94 2.06-2.06.94z\"/><path d=\"M17.41 7.96l-1.37-1.37c-.4-.4-.92-.59-1.43-.59-.52 0-1.04.2-1.43.59L10.3 9.45l-7.72 7.72c-.78.78-.78 2.05 0 2.83L4 21.41c.39.39.9.59 1.41.59.51 0 1.02-.2 1.41-.59l7.78-7.78 2.81-2.81c.8-.78.8-2.07 0-2.86zM5.41 20L4 18.59l7.72-7.72 1.47 1.35L5.41 20z\"/>\n",
              "  </svg>\n",
              "      </button>\n",
              "      \n",
              "  <style>\n",
              "    .colab-df-container {\n",
              "      display:flex;\n",
              "      flex-wrap:wrap;\n",
              "      gap: 12px;\n",
              "    }\n",
              "\n",
              "    .colab-df-convert {\n",
              "      background-color: #E8F0FE;\n",
              "      border: none;\n",
              "      border-radius: 50%;\n",
              "      cursor: pointer;\n",
              "      display: none;\n",
              "      fill: #1967D2;\n",
              "      height: 32px;\n",
              "      padding: 0 0 0 0;\n",
              "      width: 32px;\n",
              "    }\n",
              "\n",
              "    .colab-df-convert:hover {\n",
              "      background-color: #E2EBFA;\n",
              "      box-shadow: 0px 1px 2px rgba(60, 64, 67, 0.3), 0px 1px 3px 1px rgba(60, 64, 67, 0.15);\n",
              "      fill: #174EA6;\n",
              "    }\n",
              "\n",
              "    [theme=dark] .colab-df-convert {\n",
              "      background-color: #3B4455;\n",
              "      fill: #D2E3FC;\n",
              "    }\n",
              "\n",
              "    [theme=dark] .colab-df-convert:hover {\n",
              "      background-color: #434B5C;\n",
              "      box-shadow: 0px 1px 3px 1px rgba(0, 0, 0, 0.15);\n",
              "      filter: drop-shadow(0px 1px 2px rgba(0, 0, 0, 0.3));\n",
              "      fill: #FFFFFF;\n",
              "    }\n",
              "  </style>\n",
              "\n",
              "      <script>\n",
              "        const buttonEl =\n",
              "          document.querySelector('#df-ffbcba9a-6365-4a65-bb9c-15adb311bc75 button.colab-df-convert');\n",
              "        buttonEl.style.display =\n",
              "          google.colab.kernel.accessAllowed ? 'block' : 'none';\n",
              "\n",
              "        async function convertToInteractive(key) {\n",
              "          const element = document.querySelector('#df-ffbcba9a-6365-4a65-bb9c-15adb311bc75');\n",
              "          const dataTable =\n",
              "            await google.colab.kernel.invokeFunction('convertToInteractive',\n",
              "                                                     [key], {});\n",
              "          if (!dataTable) return;\n",
              "\n",
              "          const docLinkHtml = 'Like what you see? Visit the ' +\n",
              "            '<a target=\"_blank\" href=https://colab.research.google.com/notebooks/data_table.ipynb>data table notebook</a>'\n",
              "            + ' to learn more about interactive tables.';\n",
              "          element.innerHTML = '';\n",
              "          dataTable['output_type'] = 'display_data';\n",
              "          await google.colab.output.renderOutput(dataTable, element);\n",
              "          const docLink = document.createElement('div');\n",
              "          docLink.innerHTML = docLinkHtml;\n",
              "          element.appendChild(docLink);\n",
              "        }\n",
              "      </script>\n",
              "    </div>\n",
              "  </div>\n",
              "  "
            ]
          },
          "metadata": {},
          "execution_count": 61
        }
      ],
      "source": [
        "queries_df.head()"
      ]
    },
    {
      "cell_type": "code",
      "execution_count": null,
      "metadata": {
        "colab": {
          "base_uri": "https://localhost:8080/",
          "height": 293
        },
        "id": "kcml_xdO5hdI",
        "outputId": "44b9fc8a-af33-4c46-f06a-08d9e6955cbb"
      },
      "outputs": [
        {
          "output_type": "stream",
          "name": "stdout",
          "text": [
            "==> Precision@5: 0.4\n",
            "\n",
            "\n",
            "Check on the dataset sorted by score:\n",
            "\n"
          ]
        },
        {
          "output_type": "execute_result",
          "data": {
            "text/plain": [
              "              tweet_id  query_id     score  ground_truth\n",
              "0  1575910304159977472         1  2.231423             1\n",
              "1  1575910361298968576         1  2.231423             0\n",
              "2  1575885709734543360         1  2.231423             1\n",
              "3  1575912020368449536         1  2.043265             0\n",
              "4  1575881799267295234         1  1.932302             1"
            ],
            "text/html": [
              "\n",
              "  <div id=\"df-017c19cd-52e3-49e5-89b5-ff0eb94fd28e\">\n",
              "    <div class=\"colab-df-container\">\n",
              "      <div>\n",
              "<style scoped>\n",
              "    .dataframe tbody tr th:only-of-type {\n",
              "        vertical-align: middle;\n",
              "    }\n",
              "\n",
              "    .dataframe tbody tr th {\n",
              "        vertical-align: top;\n",
              "    }\n",
              "\n",
              "    .dataframe thead th {\n",
              "        text-align: right;\n",
              "    }\n",
              "</style>\n",
              "<table border=\"1\" class=\"dataframe\">\n",
              "  <thead>\n",
              "    <tr style=\"text-align: right;\">\n",
              "      <th></th>\n",
              "      <th>tweet_id</th>\n",
              "      <th>query_id</th>\n",
              "      <th>score</th>\n",
              "      <th>ground_truth</th>\n",
              "    </tr>\n",
              "  </thead>\n",
              "  <tbody>\n",
              "    <tr>\n",
              "      <th>0</th>\n",
              "      <td>1575910304159977472</td>\n",
              "      <td>1</td>\n",
              "      <td>2.231423</td>\n",
              "      <td>1</td>\n",
              "    </tr>\n",
              "    <tr>\n",
              "      <th>1</th>\n",
              "      <td>1575910361298968576</td>\n",
              "      <td>1</td>\n",
              "      <td>2.231423</td>\n",
              "      <td>0</td>\n",
              "    </tr>\n",
              "    <tr>\n",
              "      <th>2</th>\n",
              "      <td>1575885709734543360</td>\n",
              "      <td>1</td>\n",
              "      <td>2.231423</td>\n",
              "      <td>1</td>\n",
              "    </tr>\n",
              "    <tr>\n",
              "      <th>3</th>\n",
              "      <td>1575912020368449536</td>\n",
              "      <td>1</td>\n",
              "      <td>2.043265</td>\n",
              "      <td>0</td>\n",
              "    </tr>\n",
              "    <tr>\n",
              "      <th>4</th>\n",
              "      <td>1575881799267295234</td>\n",
              "      <td>1</td>\n",
              "      <td>1.932302</td>\n",
              "      <td>1</td>\n",
              "    </tr>\n",
              "  </tbody>\n",
              "</table>\n",
              "</div>\n",
              "      <button class=\"colab-df-convert\" onclick=\"convertToInteractive('df-017c19cd-52e3-49e5-89b5-ff0eb94fd28e')\"\n",
              "              title=\"Convert this dataframe to an interactive table.\"\n",
              "              style=\"display:none;\">\n",
              "        \n",
              "  <svg xmlns=\"http://www.w3.org/2000/svg\" height=\"24px\"viewBox=\"0 0 24 24\"\n",
              "       width=\"24px\">\n",
              "    <path d=\"M0 0h24v24H0V0z\" fill=\"none\"/>\n",
              "    <path d=\"M18.56 5.44l.94 2.06.94-2.06 2.06-.94-2.06-.94-.94-2.06-.94 2.06-2.06.94zm-11 1L8.5 8.5l.94-2.06 2.06-.94-2.06-.94L8.5 2.5l-.94 2.06-2.06.94zm10 10l.94 2.06.94-2.06 2.06-.94-2.06-.94-.94-2.06-.94 2.06-2.06.94z\"/><path d=\"M17.41 7.96l-1.37-1.37c-.4-.4-.92-.59-1.43-.59-.52 0-1.04.2-1.43.59L10.3 9.45l-7.72 7.72c-.78.78-.78 2.05 0 2.83L4 21.41c.39.39.9.59 1.41.59.51 0 1.02-.2 1.41-.59l7.78-7.78 2.81-2.81c.8-.78.8-2.07 0-2.86zM5.41 20L4 18.59l7.72-7.72 1.47 1.35L5.41 20z\"/>\n",
              "  </svg>\n",
              "      </button>\n",
              "      \n",
              "  <style>\n",
              "    .colab-df-container {\n",
              "      display:flex;\n",
              "      flex-wrap:wrap;\n",
              "      gap: 12px;\n",
              "    }\n",
              "\n",
              "    .colab-df-convert {\n",
              "      background-color: #E8F0FE;\n",
              "      border: none;\n",
              "      border-radius: 50%;\n",
              "      cursor: pointer;\n",
              "      display: none;\n",
              "      fill: #1967D2;\n",
              "      height: 32px;\n",
              "      padding: 0 0 0 0;\n",
              "      width: 32px;\n",
              "    }\n",
              "\n",
              "    .colab-df-convert:hover {\n",
              "      background-color: #E2EBFA;\n",
              "      box-shadow: 0px 1px 2px rgba(60, 64, 67, 0.3), 0px 1px 3px 1px rgba(60, 64, 67, 0.15);\n",
              "      fill: #174EA6;\n",
              "    }\n",
              "\n",
              "    [theme=dark] .colab-df-convert {\n",
              "      background-color: #3B4455;\n",
              "      fill: #D2E3FC;\n",
              "    }\n",
              "\n",
              "    [theme=dark] .colab-df-convert:hover {\n",
              "      background-color: #434B5C;\n",
              "      box-shadow: 0px 1px 3px 1px rgba(0, 0, 0, 0.15);\n",
              "      filter: drop-shadow(0px 1px 2px rgba(0, 0, 0, 0.3));\n",
              "      fill: #FFFFFF;\n",
              "    }\n",
              "  </style>\n",
              "\n",
              "      <script>\n",
              "        const buttonEl =\n",
              "          document.querySelector('#df-017c19cd-52e3-49e5-89b5-ff0eb94fd28e button.colab-df-convert');\n",
              "        buttonEl.style.display =\n",
              "          google.colab.kernel.accessAllowed ? 'block' : 'none';\n",
              "\n",
              "        async function convertToInteractive(key) {\n",
              "          const element = document.querySelector('#df-017c19cd-52e3-49e5-89b5-ff0eb94fd28e');\n",
              "          const dataTable =\n",
              "            await google.colab.kernel.invokeFunction('convertToInteractive',\n",
              "                                                     [key], {});\n",
              "          if (!dataTable) return;\n",
              "\n",
              "          const docLinkHtml = 'Like what you see? Visit the ' +\n",
              "            '<a target=\"_blank\" href=https://colab.research.google.com/notebooks/data_table.ipynb>data table notebook</a>'\n",
              "            + ' to learn more about interactive tables.';\n",
              "          element.innerHTML = '';\n",
              "          dataTable['output_type'] = 'display_data';\n",
              "          await google.colab.output.renderOutput(dataTable, element);\n",
              "          const docLink = document.createElement('div');\n",
              "          docLink.innerHTML = docLinkHtml;\n",
              "          element.appendChild(docLink);\n",
              "        }\n",
              "      </script>\n",
              "    </div>\n",
              "  </div>\n",
              "  "
            ]
          },
          "metadata": {},
          "execution_count": 62
        }
      ],
      "source": [
        "# Check for query 1\n",
        "\n",
        "current_query = 1\n",
        "current_query_res = queries_df[queries_df[\"query_id\"] == current_query]\n",
        "\n",
        "k = 5\n",
        "print(\"==> Precision@{}: {}\\n\".format(k, precision_at_k(current_query_res[\"ground_truth\"], current_query_res[\"score\"], k)))\n",
        "print(\"\\nCheck on the dataset sorted by score:\\n\")\n",
        "\n",
        "current_query_res.sort_values(\"score\", ascending=False).head(k)"
      ]
    },
    {
      "cell_type": "code",
      "execution_count": null,
      "metadata": {
        "colab": {
          "base_uri": "https://localhost:8080/",
          "height": 293
        },
        "id": "YJwgM7TQr5Ol",
        "outputId": "56bbd20c-7bfc-4059-9f8f-6492cb8f2039"
      },
      "outputs": [
        {
          "output_type": "stream",
          "name": "stdout",
          "text": [
            "==> Precision@5: 0.6\n",
            "\n",
            "\n",
            "Check on the dataset sorted by score:\n",
            "\n"
          ]
        },
        {
          "output_type": "execute_result",
          "data": {
            "text/plain": [
              "               tweet_id  query_id      score  ground_truth\n",
              "10  1575868406603350017         2  12.160546             1\n",
              "11  1575871626540818432         2   8.293264             1\n",
              "12  1575886977764728838         2   7.046583             0\n",
              "13  1575871595716935680         2   6.373914             1\n",
              "14  1575865182944894978         2   5.369395             0"
            ],
            "text/html": [
              "\n",
              "  <div id=\"df-77825882-1ee4-4d02-856c-249def59642f\">\n",
              "    <div class=\"colab-df-container\">\n",
              "      <div>\n",
              "<style scoped>\n",
              "    .dataframe tbody tr th:only-of-type {\n",
              "        vertical-align: middle;\n",
              "    }\n",
              "\n",
              "    .dataframe tbody tr th {\n",
              "        vertical-align: top;\n",
              "    }\n",
              "\n",
              "    .dataframe thead th {\n",
              "        text-align: right;\n",
              "    }\n",
              "</style>\n",
              "<table border=\"1\" class=\"dataframe\">\n",
              "  <thead>\n",
              "    <tr style=\"text-align: right;\">\n",
              "      <th></th>\n",
              "      <th>tweet_id</th>\n",
              "      <th>query_id</th>\n",
              "      <th>score</th>\n",
              "      <th>ground_truth</th>\n",
              "    </tr>\n",
              "  </thead>\n",
              "  <tbody>\n",
              "    <tr>\n",
              "      <th>10</th>\n",
              "      <td>1575868406603350017</td>\n",
              "      <td>2</td>\n",
              "      <td>12.160546</td>\n",
              "      <td>1</td>\n",
              "    </tr>\n",
              "    <tr>\n",
              "      <th>11</th>\n",
              "      <td>1575871626540818432</td>\n",
              "      <td>2</td>\n",
              "      <td>8.293264</td>\n",
              "      <td>1</td>\n",
              "    </tr>\n",
              "    <tr>\n",
              "      <th>12</th>\n",
              "      <td>1575886977764728838</td>\n",
              "      <td>2</td>\n",
              "      <td>7.046583</td>\n",
              "      <td>0</td>\n",
              "    </tr>\n",
              "    <tr>\n",
              "      <th>13</th>\n",
              "      <td>1575871595716935680</td>\n",
              "      <td>2</td>\n",
              "      <td>6.373914</td>\n",
              "      <td>1</td>\n",
              "    </tr>\n",
              "    <tr>\n",
              "      <th>14</th>\n",
              "      <td>1575865182944894978</td>\n",
              "      <td>2</td>\n",
              "      <td>5.369395</td>\n",
              "      <td>0</td>\n",
              "    </tr>\n",
              "  </tbody>\n",
              "</table>\n",
              "</div>\n",
              "      <button class=\"colab-df-convert\" onclick=\"convertToInteractive('df-77825882-1ee4-4d02-856c-249def59642f')\"\n",
              "              title=\"Convert this dataframe to an interactive table.\"\n",
              "              style=\"display:none;\">\n",
              "        \n",
              "  <svg xmlns=\"http://www.w3.org/2000/svg\" height=\"24px\"viewBox=\"0 0 24 24\"\n",
              "       width=\"24px\">\n",
              "    <path d=\"M0 0h24v24H0V0z\" fill=\"none\"/>\n",
              "    <path d=\"M18.56 5.44l.94 2.06.94-2.06 2.06-.94-2.06-.94-.94-2.06-.94 2.06-2.06.94zm-11 1L8.5 8.5l.94-2.06 2.06-.94-2.06-.94L8.5 2.5l-.94 2.06-2.06.94zm10 10l.94 2.06.94-2.06 2.06-.94-2.06-.94-.94-2.06-.94 2.06-2.06.94z\"/><path d=\"M17.41 7.96l-1.37-1.37c-.4-.4-.92-.59-1.43-.59-.52 0-1.04.2-1.43.59L10.3 9.45l-7.72 7.72c-.78.78-.78 2.05 0 2.83L4 21.41c.39.39.9.59 1.41.59.51 0 1.02-.2 1.41-.59l7.78-7.78 2.81-2.81c.8-.78.8-2.07 0-2.86zM5.41 20L4 18.59l7.72-7.72 1.47 1.35L5.41 20z\"/>\n",
              "  </svg>\n",
              "      </button>\n",
              "      \n",
              "  <style>\n",
              "    .colab-df-container {\n",
              "      display:flex;\n",
              "      flex-wrap:wrap;\n",
              "      gap: 12px;\n",
              "    }\n",
              "\n",
              "    .colab-df-convert {\n",
              "      background-color: #E8F0FE;\n",
              "      border: none;\n",
              "      border-radius: 50%;\n",
              "      cursor: pointer;\n",
              "      display: none;\n",
              "      fill: #1967D2;\n",
              "      height: 32px;\n",
              "      padding: 0 0 0 0;\n",
              "      width: 32px;\n",
              "    }\n",
              "\n",
              "    .colab-df-convert:hover {\n",
              "      background-color: #E2EBFA;\n",
              "      box-shadow: 0px 1px 2px rgba(60, 64, 67, 0.3), 0px 1px 3px 1px rgba(60, 64, 67, 0.15);\n",
              "      fill: #174EA6;\n",
              "    }\n",
              "\n",
              "    [theme=dark] .colab-df-convert {\n",
              "      background-color: #3B4455;\n",
              "      fill: #D2E3FC;\n",
              "    }\n",
              "\n",
              "    [theme=dark] .colab-df-convert:hover {\n",
              "      background-color: #434B5C;\n",
              "      box-shadow: 0px 1px 3px 1px rgba(0, 0, 0, 0.15);\n",
              "      filter: drop-shadow(0px 1px 2px rgba(0, 0, 0, 0.3));\n",
              "      fill: #FFFFFF;\n",
              "    }\n",
              "  </style>\n",
              "\n",
              "      <script>\n",
              "        const buttonEl =\n",
              "          document.querySelector('#df-77825882-1ee4-4d02-856c-249def59642f button.colab-df-convert');\n",
              "        buttonEl.style.display =\n",
              "          google.colab.kernel.accessAllowed ? 'block' : 'none';\n",
              "\n",
              "        async function convertToInteractive(key) {\n",
              "          const element = document.querySelector('#df-77825882-1ee4-4d02-856c-249def59642f');\n",
              "          const dataTable =\n",
              "            await google.colab.kernel.invokeFunction('convertToInteractive',\n",
              "                                                     [key], {});\n",
              "          if (!dataTable) return;\n",
              "\n",
              "          const docLinkHtml = 'Like what you see? Visit the ' +\n",
              "            '<a target=\"_blank\" href=https://colab.research.google.com/notebooks/data_table.ipynb>data table notebook</a>'\n",
              "            + ' to learn more about interactive tables.';\n",
              "          element.innerHTML = '';\n",
              "          dataTable['output_type'] = 'display_data';\n",
              "          await google.colab.output.renderOutput(dataTable, element);\n",
              "          const docLink = document.createElement('div');\n",
              "          docLink.innerHTML = docLinkHtml;\n",
              "          element.appendChild(docLink);\n",
              "        }\n",
              "      </script>\n",
              "    </div>\n",
              "  </div>\n",
              "  "
            ]
          },
          "metadata": {},
          "execution_count": 63
        }
      ],
      "source": [
        "# Check for query 2\n",
        "\n",
        "current_query = 2\n",
        "current_query_res = queries_df[queries_df[\"query_id\"] == current_query]\n",
        "\n",
        "k = 5\n",
        "print(\"==> Precision@{}: {}\\n\".format(k, precision_at_k(current_query_res[\"ground_truth\"], current_query_res[\"score\"], k)))\n",
        "print(\"\\nCheck on the dataset sorted by score:\\n\")\n",
        "\n",
        "current_query_res.sort_values(\"score\", ascending=False).head(k)"
      ]
    },
    {
      "cell_type": "code",
      "execution_count": null,
      "metadata": {
        "colab": {
          "base_uri": "https://localhost:8080/",
          "height": 293
        },
        "id": "1A64rmW2sG93",
        "outputId": "39191f73-3b32-4357-b76a-b92378e4f404"
      },
      "outputs": [
        {
          "output_type": "stream",
          "name": "stdout",
          "text": [
            "==> Precision@5: 0.4\n",
            "\n",
            "\n",
            "Check on the dataset sorted by score:\n",
            "\n"
          ]
        },
        {
          "output_type": "execute_result",
          "data": {
            "text/plain": [
              "               tweet_id  query_id     score  ground_truth\n",
              "17  1575908417062903810         3  7.278079             1\n",
              "18  1575887548039036933         3  7.258603             1\n",
              "19  1575880135609573376         3  6.151865             0\n",
              "20  1575876492076408832         3  5.964746             0\n",
              "21  1575875350973730816         3  5.850843             0"
            ],
            "text/html": [
              "\n",
              "  <div id=\"df-49d024fd-b031-41c6-b6e6-59e991130600\">\n",
              "    <div class=\"colab-df-container\">\n",
              "      <div>\n",
              "<style scoped>\n",
              "    .dataframe tbody tr th:only-of-type {\n",
              "        vertical-align: middle;\n",
              "    }\n",
              "\n",
              "    .dataframe tbody tr th {\n",
              "        vertical-align: top;\n",
              "    }\n",
              "\n",
              "    .dataframe thead th {\n",
              "        text-align: right;\n",
              "    }\n",
              "</style>\n",
              "<table border=\"1\" class=\"dataframe\">\n",
              "  <thead>\n",
              "    <tr style=\"text-align: right;\">\n",
              "      <th></th>\n",
              "      <th>tweet_id</th>\n",
              "      <th>query_id</th>\n",
              "      <th>score</th>\n",
              "      <th>ground_truth</th>\n",
              "    </tr>\n",
              "  </thead>\n",
              "  <tbody>\n",
              "    <tr>\n",
              "      <th>17</th>\n",
              "      <td>1575908417062903810</td>\n",
              "      <td>3</td>\n",
              "      <td>7.278079</td>\n",
              "      <td>1</td>\n",
              "    </tr>\n",
              "    <tr>\n",
              "      <th>18</th>\n",
              "      <td>1575887548039036933</td>\n",
              "      <td>3</td>\n",
              "      <td>7.258603</td>\n",
              "      <td>1</td>\n",
              "    </tr>\n",
              "    <tr>\n",
              "      <th>19</th>\n",
              "      <td>1575880135609573376</td>\n",
              "      <td>3</td>\n",
              "      <td>6.151865</td>\n",
              "      <td>0</td>\n",
              "    </tr>\n",
              "    <tr>\n",
              "      <th>20</th>\n",
              "      <td>1575876492076408832</td>\n",
              "      <td>3</td>\n",
              "      <td>5.964746</td>\n",
              "      <td>0</td>\n",
              "    </tr>\n",
              "    <tr>\n",
              "      <th>21</th>\n",
              "      <td>1575875350973730816</td>\n",
              "      <td>3</td>\n",
              "      <td>5.850843</td>\n",
              "      <td>0</td>\n",
              "    </tr>\n",
              "  </tbody>\n",
              "</table>\n",
              "</div>\n",
              "      <button class=\"colab-df-convert\" onclick=\"convertToInteractive('df-49d024fd-b031-41c6-b6e6-59e991130600')\"\n",
              "              title=\"Convert this dataframe to an interactive table.\"\n",
              "              style=\"display:none;\">\n",
              "        \n",
              "  <svg xmlns=\"http://www.w3.org/2000/svg\" height=\"24px\"viewBox=\"0 0 24 24\"\n",
              "       width=\"24px\">\n",
              "    <path d=\"M0 0h24v24H0V0z\" fill=\"none\"/>\n",
              "    <path d=\"M18.56 5.44l.94 2.06.94-2.06 2.06-.94-2.06-.94-.94-2.06-.94 2.06-2.06.94zm-11 1L8.5 8.5l.94-2.06 2.06-.94-2.06-.94L8.5 2.5l-.94 2.06-2.06.94zm10 10l.94 2.06.94-2.06 2.06-.94-2.06-.94-.94-2.06-.94 2.06-2.06.94z\"/><path d=\"M17.41 7.96l-1.37-1.37c-.4-.4-.92-.59-1.43-.59-.52 0-1.04.2-1.43.59L10.3 9.45l-7.72 7.72c-.78.78-.78 2.05 0 2.83L4 21.41c.39.39.9.59 1.41.59.51 0 1.02-.2 1.41-.59l7.78-7.78 2.81-2.81c.8-.78.8-2.07 0-2.86zM5.41 20L4 18.59l7.72-7.72 1.47 1.35L5.41 20z\"/>\n",
              "  </svg>\n",
              "      </button>\n",
              "      \n",
              "  <style>\n",
              "    .colab-df-container {\n",
              "      display:flex;\n",
              "      flex-wrap:wrap;\n",
              "      gap: 12px;\n",
              "    }\n",
              "\n",
              "    .colab-df-convert {\n",
              "      background-color: #E8F0FE;\n",
              "      border: none;\n",
              "      border-radius: 50%;\n",
              "      cursor: pointer;\n",
              "      display: none;\n",
              "      fill: #1967D2;\n",
              "      height: 32px;\n",
              "      padding: 0 0 0 0;\n",
              "      width: 32px;\n",
              "    }\n",
              "\n",
              "    .colab-df-convert:hover {\n",
              "      background-color: #E2EBFA;\n",
              "      box-shadow: 0px 1px 2px rgba(60, 64, 67, 0.3), 0px 1px 3px 1px rgba(60, 64, 67, 0.15);\n",
              "      fill: #174EA6;\n",
              "    }\n",
              "\n",
              "    [theme=dark] .colab-df-convert {\n",
              "      background-color: #3B4455;\n",
              "      fill: #D2E3FC;\n",
              "    }\n",
              "\n",
              "    [theme=dark] .colab-df-convert:hover {\n",
              "      background-color: #434B5C;\n",
              "      box-shadow: 0px 1px 3px 1px rgba(0, 0, 0, 0.15);\n",
              "      filter: drop-shadow(0px 1px 2px rgba(0, 0, 0, 0.3));\n",
              "      fill: #FFFFFF;\n",
              "    }\n",
              "  </style>\n",
              "\n",
              "      <script>\n",
              "        const buttonEl =\n",
              "          document.querySelector('#df-49d024fd-b031-41c6-b6e6-59e991130600 button.colab-df-convert');\n",
              "        buttonEl.style.display =\n",
              "          google.colab.kernel.accessAllowed ? 'block' : 'none';\n",
              "\n",
              "        async function convertToInteractive(key) {\n",
              "          const element = document.querySelector('#df-49d024fd-b031-41c6-b6e6-59e991130600');\n",
              "          const dataTable =\n",
              "            await google.colab.kernel.invokeFunction('convertToInteractive',\n",
              "                                                     [key], {});\n",
              "          if (!dataTable) return;\n",
              "\n",
              "          const docLinkHtml = 'Like what you see? Visit the ' +\n",
              "            '<a target=\"_blank\" href=https://colab.research.google.com/notebooks/data_table.ipynb>data table notebook</a>'\n",
              "            + ' to learn more about interactive tables.';\n",
              "          element.innerHTML = '';\n",
              "          dataTable['output_type'] = 'display_data';\n",
              "          await google.colab.output.renderOutput(dataTable, element);\n",
              "          const docLink = document.createElement('div');\n",
              "          docLink.innerHTML = docLinkHtml;\n",
              "          element.appendChild(docLink);\n",
              "        }\n",
              "      </script>\n",
              "    </div>\n",
              "  </div>\n",
              "  "
            ]
          },
          "metadata": {},
          "execution_count": 64
        }
      ],
      "source": [
        "# Check for query 3\n",
        "\n",
        "current_query = 3\n",
        "current_query_res = queries_df[queries_df[\"query_id\"] == current_query]\n",
        "\n",
        "k = 5\n",
        "print(\"==> Precision@{}: {}\\n\".format(k, precision_at_k(current_query_res[\"ground_truth\"], current_query_res[\"score\"], k)))\n",
        "print(\"\\nCheck on the dataset sorted by score:\\n\")\n",
        "\n",
        "current_query_res.sort_values(\"score\", ascending=False).head(k)"
      ]
    },
    {
      "cell_type": "code",
      "execution_count": null,
      "metadata": {
        "colab": {
          "base_uri": "https://localhost:8080/",
          "height": 293
        },
        "id": "tmx2PDpbsRcq",
        "outputId": "0ab4d5b0-900a-4305-99c5-8aab6dd85d8b"
      },
      "outputs": [
        {
          "output_type": "stream",
          "name": "stdout",
          "text": [
            "==> Precision@5: 0.4\n",
            "\n",
            "\n",
            "Check on the dataset sorted by score:\n",
            "\n"
          ]
        },
        {
          "output_type": "execute_result",
          "data": {
            "text/plain": [
              "               tweet_id  query_id      score  ground_truth\n",
              "27  1575915199256739841         4  14.035991             0\n",
              "28  1575890386249486336         4  14.035991             1\n",
              "29  1575912058365042688         4   9.926253             0\n",
              "30  1575875202445348864         4   9.926253             1\n",
              "31  1575884604741128192         4   9.926253             0"
            ],
            "text/html": [
              "\n",
              "  <div id=\"df-a9547ced-711d-4dc8-812b-a2466ae08897\">\n",
              "    <div class=\"colab-df-container\">\n",
              "      <div>\n",
              "<style scoped>\n",
              "    .dataframe tbody tr th:only-of-type {\n",
              "        vertical-align: middle;\n",
              "    }\n",
              "\n",
              "    .dataframe tbody tr th {\n",
              "        vertical-align: top;\n",
              "    }\n",
              "\n",
              "    .dataframe thead th {\n",
              "        text-align: right;\n",
              "    }\n",
              "</style>\n",
              "<table border=\"1\" class=\"dataframe\">\n",
              "  <thead>\n",
              "    <tr style=\"text-align: right;\">\n",
              "      <th></th>\n",
              "      <th>tweet_id</th>\n",
              "      <th>query_id</th>\n",
              "      <th>score</th>\n",
              "      <th>ground_truth</th>\n",
              "    </tr>\n",
              "  </thead>\n",
              "  <tbody>\n",
              "    <tr>\n",
              "      <th>27</th>\n",
              "      <td>1575915199256739841</td>\n",
              "      <td>4</td>\n",
              "      <td>14.035991</td>\n",
              "      <td>0</td>\n",
              "    </tr>\n",
              "    <tr>\n",
              "      <th>28</th>\n",
              "      <td>1575890386249486336</td>\n",
              "      <td>4</td>\n",
              "      <td>14.035991</td>\n",
              "      <td>1</td>\n",
              "    </tr>\n",
              "    <tr>\n",
              "      <th>29</th>\n",
              "      <td>1575912058365042688</td>\n",
              "      <td>4</td>\n",
              "      <td>9.926253</td>\n",
              "      <td>0</td>\n",
              "    </tr>\n",
              "    <tr>\n",
              "      <th>30</th>\n",
              "      <td>1575875202445348864</td>\n",
              "      <td>4</td>\n",
              "      <td>9.926253</td>\n",
              "      <td>1</td>\n",
              "    </tr>\n",
              "    <tr>\n",
              "      <th>31</th>\n",
              "      <td>1575884604741128192</td>\n",
              "      <td>4</td>\n",
              "      <td>9.926253</td>\n",
              "      <td>0</td>\n",
              "    </tr>\n",
              "  </tbody>\n",
              "</table>\n",
              "</div>\n",
              "      <button class=\"colab-df-convert\" onclick=\"convertToInteractive('df-a9547ced-711d-4dc8-812b-a2466ae08897')\"\n",
              "              title=\"Convert this dataframe to an interactive table.\"\n",
              "              style=\"display:none;\">\n",
              "        \n",
              "  <svg xmlns=\"http://www.w3.org/2000/svg\" height=\"24px\"viewBox=\"0 0 24 24\"\n",
              "       width=\"24px\">\n",
              "    <path d=\"M0 0h24v24H0V0z\" fill=\"none\"/>\n",
              "    <path d=\"M18.56 5.44l.94 2.06.94-2.06 2.06-.94-2.06-.94-.94-2.06-.94 2.06-2.06.94zm-11 1L8.5 8.5l.94-2.06 2.06-.94-2.06-.94L8.5 2.5l-.94 2.06-2.06.94zm10 10l.94 2.06.94-2.06 2.06-.94-2.06-.94-.94-2.06-.94 2.06-2.06.94z\"/><path d=\"M17.41 7.96l-1.37-1.37c-.4-.4-.92-.59-1.43-.59-.52 0-1.04.2-1.43.59L10.3 9.45l-7.72 7.72c-.78.78-.78 2.05 0 2.83L4 21.41c.39.39.9.59 1.41.59.51 0 1.02-.2 1.41-.59l7.78-7.78 2.81-2.81c.8-.78.8-2.07 0-2.86zM5.41 20L4 18.59l7.72-7.72 1.47 1.35L5.41 20z\"/>\n",
              "  </svg>\n",
              "      </button>\n",
              "      \n",
              "  <style>\n",
              "    .colab-df-container {\n",
              "      display:flex;\n",
              "      flex-wrap:wrap;\n",
              "      gap: 12px;\n",
              "    }\n",
              "\n",
              "    .colab-df-convert {\n",
              "      background-color: #E8F0FE;\n",
              "      border: none;\n",
              "      border-radius: 50%;\n",
              "      cursor: pointer;\n",
              "      display: none;\n",
              "      fill: #1967D2;\n",
              "      height: 32px;\n",
              "      padding: 0 0 0 0;\n",
              "      width: 32px;\n",
              "    }\n",
              "\n",
              "    .colab-df-convert:hover {\n",
              "      background-color: #E2EBFA;\n",
              "      box-shadow: 0px 1px 2px rgba(60, 64, 67, 0.3), 0px 1px 3px 1px rgba(60, 64, 67, 0.15);\n",
              "      fill: #174EA6;\n",
              "    }\n",
              "\n",
              "    [theme=dark] .colab-df-convert {\n",
              "      background-color: #3B4455;\n",
              "      fill: #D2E3FC;\n",
              "    }\n",
              "\n",
              "    [theme=dark] .colab-df-convert:hover {\n",
              "      background-color: #434B5C;\n",
              "      box-shadow: 0px 1px 3px 1px rgba(0, 0, 0, 0.15);\n",
              "      filter: drop-shadow(0px 1px 2px rgba(0, 0, 0, 0.3));\n",
              "      fill: #FFFFFF;\n",
              "    }\n",
              "  </style>\n",
              "\n",
              "      <script>\n",
              "        const buttonEl =\n",
              "          document.querySelector('#df-a9547ced-711d-4dc8-812b-a2466ae08897 button.colab-df-convert');\n",
              "        buttonEl.style.display =\n",
              "          google.colab.kernel.accessAllowed ? 'block' : 'none';\n",
              "\n",
              "        async function convertToInteractive(key) {\n",
              "          const element = document.querySelector('#df-a9547ced-711d-4dc8-812b-a2466ae08897');\n",
              "          const dataTable =\n",
              "            await google.colab.kernel.invokeFunction('convertToInteractive',\n",
              "                                                     [key], {});\n",
              "          if (!dataTable) return;\n",
              "\n",
              "          const docLinkHtml = 'Like what you see? Visit the ' +\n",
              "            '<a target=\"_blank\" href=https://colab.research.google.com/notebooks/data_table.ipynb>data table notebook</a>'\n",
              "            + ' to learn more about interactive tables.';\n",
              "          element.innerHTML = '';\n",
              "          dataTable['output_type'] = 'display_data';\n",
              "          await google.colab.output.renderOutput(dataTable, element);\n",
              "          const docLink = document.createElement('div');\n",
              "          docLink.innerHTML = docLinkHtml;\n",
              "          element.appendChild(docLink);\n",
              "        }\n",
              "      </script>\n",
              "    </div>\n",
              "  </div>\n",
              "  "
            ]
          },
          "metadata": {},
          "execution_count": 65
        }
      ],
      "source": [
        "# Check for query 4\n",
        "\n",
        "current_query = 4\n",
        "current_query_res = queries_df[queries_df[\"query_id\"] == current_query]\n",
        "\n",
        "k = 5\n",
        "print(\"==> Precision@{}: {}\\n\".format(k, precision_at_k(current_query_res[\"ground_truth\"], current_query_res[\"score\"], k)))\n",
        "print(\"\\nCheck on the dataset sorted by score:\\n\")\n",
        "\n",
        "current_query_res.sort_values(\"score\", ascending=False).head(k)"
      ]
    },
    {
      "cell_type": "code",
      "execution_count": null,
      "metadata": {
        "colab": {
          "base_uri": "https://localhost:8080/",
          "height": 293
        },
        "id": "PyRYCIKtsUM3",
        "outputId": "28e6a53b-f04a-499d-e29e-87033d8ef165"
      },
      "outputs": [
        {
          "output_type": "stream",
          "name": "stdout",
          "text": [
            "==> Precision@5: 0.2\n",
            "\n",
            "\n",
            "Check on the dataset sorted by score:\n",
            "\n"
          ]
        },
        {
          "output_type": "execute_result",
          "data": {
            "text/plain": [
              "               tweet_id  query_id      score  ground_truth\n",
              "37  1575899951812341760         5  11.393918             1\n",
              "38  1575875317918748679         5  10.543081             0\n",
              "39  1575916894309138432         5   7.028018             0\n",
              "40  1575875501352046593         5   6.840351             0\n",
              "41  1575909904845402112         5   6.652336             1"
            ],
            "text/html": [
              "\n",
              "  <div id=\"df-a14c3dae-6600-4007-aa64-091c823184db\">\n",
              "    <div class=\"colab-df-container\">\n",
              "      <div>\n",
              "<style scoped>\n",
              "    .dataframe tbody tr th:only-of-type {\n",
              "        vertical-align: middle;\n",
              "    }\n",
              "\n",
              "    .dataframe tbody tr th {\n",
              "        vertical-align: top;\n",
              "    }\n",
              "\n",
              "    .dataframe thead th {\n",
              "        text-align: right;\n",
              "    }\n",
              "</style>\n",
              "<table border=\"1\" class=\"dataframe\">\n",
              "  <thead>\n",
              "    <tr style=\"text-align: right;\">\n",
              "      <th></th>\n",
              "      <th>tweet_id</th>\n",
              "      <th>query_id</th>\n",
              "      <th>score</th>\n",
              "      <th>ground_truth</th>\n",
              "    </tr>\n",
              "  </thead>\n",
              "  <tbody>\n",
              "    <tr>\n",
              "      <th>37</th>\n",
              "      <td>1575899951812341760</td>\n",
              "      <td>5</td>\n",
              "      <td>11.393918</td>\n",
              "      <td>1</td>\n",
              "    </tr>\n",
              "    <tr>\n",
              "      <th>38</th>\n",
              "      <td>1575875317918748679</td>\n",
              "      <td>5</td>\n",
              "      <td>10.543081</td>\n",
              "      <td>0</td>\n",
              "    </tr>\n",
              "    <tr>\n",
              "      <th>39</th>\n",
              "      <td>1575916894309138432</td>\n",
              "      <td>5</td>\n",
              "      <td>7.028018</td>\n",
              "      <td>0</td>\n",
              "    </tr>\n",
              "    <tr>\n",
              "      <th>40</th>\n",
              "      <td>1575875501352046593</td>\n",
              "      <td>5</td>\n",
              "      <td>6.840351</td>\n",
              "      <td>0</td>\n",
              "    </tr>\n",
              "    <tr>\n",
              "      <th>41</th>\n",
              "      <td>1575909904845402112</td>\n",
              "      <td>5</td>\n",
              "      <td>6.652336</td>\n",
              "      <td>1</td>\n",
              "    </tr>\n",
              "  </tbody>\n",
              "</table>\n",
              "</div>\n",
              "      <button class=\"colab-df-convert\" onclick=\"convertToInteractive('df-a14c3dae-6600-4007-aa64-091c823184db')\"\n",
              "              title=\"Convert this dataframe to an interactive table.\"\n",
              "              style=\"display:none;\">\n",
              "        \n",
              "  <svg xmlns=\"http://www.w3.org/2000/svg\" height=\"24px\"viewBox=\"0 0 24 24\"\n",
              "       width=\"24px\">\n",
              "    <path d=\"M0 0h24v24H0V0z\" fill=\"none\"/>\n",
              "    <path d=\"M18.56 5.44l.94 2.06.94-2.06 2.06-.94-2.06-.94-.94-2.06-.94 2.06-2.06.94zm-11 1L8.5 8.5l.94-2.06 2.06-.94-2.06-.94L8.5 2.5l-.94 2.06-2.06.94zm10 10l.94 2.06.94-2.06 2.06-.94-2.06-.94-.94-2.06-.94 2.06-2.06.94z\"/><path d=\"M17.41 7.96l-1.37-1.37c-.4-.4-.92-.59-1.43-.59-.52 0-1.04.2-1.43.59L10.3 9.45l-7.72 7.72c-.78.78-.78 2.05 0 2.83L4 21.41c.39.39.9.59 1.41.59.51 0 1.02-.2 1.41-.59l7.78-7.78 2.81-2.81c.8-.78.8-2.07 0-2.86zM5.41 20L4 18.59l7.72-7.72 1.47 1.35L5.41 20z\"/>\n",
              "  </svg>\n",
              "      </button>\n",
              "      \n",
              "  <style>\n",
              "    .colab-df-container {\n",
              "      display:flex;\n",
              "      flex-wrap:wrap;\n",
              "      gap: 12px;\n",
              "    }\n",
              "\n",
              "    .colab-df-convert {\n",
              "      background-color: #E8F0FE;\n",
              "      border: none;\n",
              "      border-radius: 50%;\n",
              "      cursor: pointer;\n",
              "      display: none;\n",
              "      fill: #1967D2;\n",
              "      height: 32px;\n",
              "      padding: 0 0 0 0;\n",
              "      width: 32px;\n",
              "    }\n",
              "\n",
              "    .colab-df-convert:hover {\n",
              "      background-color: #E2EBFA;\n",
              "      box-shadow: 0px 1px 2px rgba(60, 64, 67, 0.3), 0px 1px 3px 1px rgba(60, 64, 67, 0.15);\n",
              "      fill: #174EA6;\n",
              "    }\n",
              "\n",
              "    [theme=dark] .colab-df-convert {\n",
              "      background-color: #3B4455;\n",
              "      fill: #D2E3FC;\n",
              "    }\n",
              "\n",
              "    [theme=dark] .colab-df-convert:hover {\n",
              "      background-color: #434B5C;\n",
              "      box-shadow: 0px 1px 3px 1px rgba(0, 0, 0, 0.15);\n",
              "      filter: drop-shadow(0px 1px 2px rgba(0, 0, 0, 0.3));\n",
              "      fill: #FFFFFF;\n",
              "    }\n",
              "  </style>\n",
              "\n",
              "      <script>\n",
              "        const buttonEl =\n",
              "          document.querySelector('#df-a14c3dae-6600-4007-aa64-091c823184db button.colab-df-convert');\n",
              "        buttonEl.style.display =\n",
              "          google.colab.kernel.accessAllowed ? 'block' : 'none';\n",
              "\n",
              "        async function convertToInteractive(key) {\n",
              "          const element = document.querySelector('#df-a14c3dae-6600-4007-aa64-091c823184db');\n",
              "          const dataTable =\n",
              "            await google.colab.kernel.invokeFunction('convertToInteractive',\n",
              "                                                     [key], {});\n",
              "          if (!dataTable) return;\n",
              "\n",
              "          const docLinkHtml = 'Like what you see? Visit the ' +\n",
              "            '<a target=\"_blank\" href=https://colab.research.google.com/notebooks/data_table.ipynb>data table notebook</a>'\n",
              "            + ' to learn more about interactive tables.';\n",
              "          element.innerHTML = '';\n",
              "          dataTable['output_type'] = 'display_data';\n",
              "          await google.colab.output.renderOutput(dataTable, element);\n",
              "          const docLink = document.createElement('div');\n",
              "          docLink.innerHTML = docLinkHtml;\n",
              "          element.appendChild(docLink);\n",
              "        }\n",
              "      </script>\n",
              "    </div>\n",
              "  </div>\n",
              "  "
            ]
          },
          "metadata": {},
          "execution_count": 66
        }
      ],
      "source": [
        "# Check for query 5\n",
        "\n",
        "current_query = 5\n",
        "current_query_res = queries_df[queries_df[\"query_id\"] == current_query]\n",
        "\n",
        "k = 5\n",
        "print(\"==> Precision@{}: {}\\n\".format(k, precision_at_k(current_query_res[\"ground_truth\"], current_query_res[\"score\"], k)))\n",
        "print(\"\\nCheck on the dataset sorted by score:\\n\")\n",
        "\n",
        "current_query_res.sort_values(\"score\", ascending=False).head(k)"
      ]
    },
    {
      "cell_type": "code",
      "execution_count": null,
      "metadata": {
        "colab": {
          "base_uri": "https://localhost:8080/"
        },
        "id": "luzMu3SstVKC",
        "outputId": "2266cde2-be06-4284-e1b8-737409e0b466"
      },
      "outputs": [
        {
          "output_type": "execute_result",
          "data": {
            "text/plain": [
              "0.5873015873015873"
            ]
          },
          "metadata": {},
          "execution_count": 67
        }
      ],
      "source": [
        "avg_precision_at_k(np.array(current_query_res[\"ground_truth\"]), np.array(current_query_res[\"score\"]), 8)"
      ]
    },
    {
      "cell_type": "code",
      "execution_count": null,
      "metadata": {
        "colab": {
          "base_uri": "https://localhost:8080/"
        },
        "id": "14pPWQB2tZAx",
        "outputId": "f487f9a3-0743-49c6-a378-11e50e45958c"
      },
      "outputs": [
        {
          "output_type": "stream",
          "name": "stdout",
          "text": [
            "Av Precision Score at k = 1/10: 1.0\n",
            "Av Precision Score at k = 2/10: 1.0\n",
            "Av Precision Score at k = 3/10: 1.0\n",
            "Av Precision Score at k = 4/10: 1.0\n",
            "Av Precision Score at k = 5/10: 0.5\n",
            "Av Precision Score at k = 6/10: 0.6666666666666666\n",
            "Av Precision Score at k = 7/10: 0.5873015873015873\n",
            "Av Precision Score at k = 8/10: 0.5873015873015873\n",
            "Av Precision Score at k = 9/10: 0.5873015873015873\n",
            "Av Precision Score at k = 10/10: 0.5404761904761904\n"
          ]
        }
      ],
      "source": [
        "max_k = len(current_query_res[\"score\"])\n",
        "for k in range(max_k):\n",
        "  print(\"Av Precision Score at k = {}/{}: \".format(k+1,max_k),end=\"\")\n",
        "  print(avg_precision_at_k(np.array(current_query_res[\"ground_truth\"]), np.array(current_query_res[\"score\"]), k+1))"
      ]
    },
    {
      "cell_type": "code",
      "execution_count": null,
      "metadata": {
        "colab": {
          "base_uri": "https://localhost:8080/"
        },
        "id": "LY4VU8Ffvfi7",
        "outputId": "4946c810-4baf-41e5-e7c9-0846db33321d"
      },
      "outputs": [
        {
          "output_type": "execute_result",
          "data": {
            "text/plain": [
              "0.5404761904761904"
            ]
          },
          "metadata": {},
          "execution_count": 69
        }
      ],
      "source": [
        "# Check with average_precision_score of sklearn\n",
        "\n",
        "from sklearn.metrics import average_precision_score\n",
        "k = max_k\n",
        "average_precision_score(np.array(current_query_res[\"ground_truth\"]), np.array(current_query_res[\"score\"][:k]))"
      ]
    },
    {
      "cell_type": "code",
      "execution_count": null,
      "metadata": {
        "colab": {
          "base_uri": "https://localhost:8080/"
        },
        "id": "_IQqqdvCxb2u",
        "outputId": "14449787-e59f-4b50-9d4e-b385f50e9ba8"
      },
      "outputs": [
        {
          "output_type": "execute_result",
          "data": {
            "text/plain": [
              "0.6548280423280423"
            ]
          },
          "metadata": {},
          "execution_count": 70
        }
      ],
      "source": [
        "map_k = map_at_k(queries_df, 20)\n",
        "map_k"
      ]
    },
    {
      "cell_type": "code",
      "execution_count": null,
      "metadata": {
        "colab": {
          "base_uri": "https://localhost:8080/"
        },
        "id": "AeKWER0ayPjC",
        "outputId": "5c3e7025-dc45-4572-8a8d-920e9624d3a3"
      },
      "outputs": [
        {
          "output_type": "execute_result",
          "data": {
            "text/plain": [
              "1.0"
            ]
          },
          "metadata": {},
          "execution_count": 71
        }
      ],
      "source": [
        "mrr_k = mrr_at_k(queries_df)\n",
        "mrr_k"
      ]
    },
    {
      "cell_type": "code",
      "execution_count": null,
      "metadata": {
        "colab": {
          "base_uri": "https://localhost:8080/"
        },
        "id": "BH7yQLhtzKuS",
        "outputId": "d31b0965-d22b-4824-8ea6-08336fcad46b"
      },
      "outputs": [
        {
          "output_type": "stream",
          "name": "stdout",
          "text": [
            "The ndcg@10 for query with query_id=1: 0.8406\n",
            "The ndcg@10 for query with query_id=2: 0.9349\n",
            "The ndcg@10 for query with query_id=3: 0.9059\n",
            "The ndcg@10 for query with query_id=4: 0.8201\n",
            "The ndcg@10 for query with query_id=5: 0.7724\n"
          ]
        }
      ],
      "source": [
        "k=10\n",
        "for current_query in range(1,len(queries)+1):\n",
        "  current_query_res = queries_df[queries_df[\"query_id\"] == current_query]\n",
        "  labels = np.array(current_query_res[\"ground_truth\"])\n",
        "  scores = np.array(current_query_res[\"score\"])\n",
        "  ndcg_k = np.round(ndcg_at_k(labels, scores, k),4)\n",
        "  print(\"The ndcg@{} for query with query_id={}: {}\".format(k,current_query,ndcg_k))"
      ]
    },
    {
      "cell_type": "code",
      "execution_count": null,
      "metadata": {
        "colab": {
          "base_uri": "https://localhost:8080/"
        },
        "id": "iuV0BZ4q0Ucl",
        "outputId": "50b081fd-da20-48e8-ff63-c6340237abee"
      },
      "outputs": [
        {
          "output_type": "stream",
          "name": "stdout",
          "text": [
            "\n",
            "==> For Query 1 Precision@10: 0.5\n",
            "Average Precission@10 for query with q_id=1: 0.6809523809523809\n",
            "ndcg@10 for query with query_id=1: 0.8406\n",
            "\n",
            "==> For Query 2 Precision@10: 0.4\n",
            "Average Precission@10 for query with q_id=2: 0.8303571428571428\n",
            "ndcg@10 for query with query_id=2: 0.9349\n",
            "\n",
            "==> For Query 3 Precision@10: 0.4\n",
            "Average Precission@10 for query with q_id=3: 0.7678571428571428\n",
            "ndcg@10 for query with query_id=3: 0.9059\n",
            "\n",
            "==> For Query 4 Precision@10: 0.6\n",
            "Average Precission@10 for query with q_id=4: 0.4544973544973545\n",
            "ndcg@10 for query with query_id=4: 0.8201\n",
            "\n",
            "==> For Query 5 Precision@10: 0.4\n",
            "Average Precission@10 for query with q_id=5: 0.5404761904761904\n",
            "ndcg@10 for query with query_id=5: 0.7724\n",
            "\n",
            "MAP@10: 0.6548280423280423\n",
            "MRR@10: 1.0\n"
          ]
        }
      ],
      "source": [
        "# Review of all evaluations techniques for all queries\n",
        "k = 10\n",
        "for i in range(5):\n",
        "    current_query = i + 1\n",
        "    current_query_res = queries_df[queries_df[\"query_id\"] == current_query] \n",
        "    print(\"\\n==> For Query {} Precision@{}: {}\".format(current_query, k,\n",
        "                                precision_at_k(current_query_res[\"ground_truth\"], current_query_res[\"score\"], k)))\n",
        "\n",
        "    print(\"Average Precission@{} for query with q_id={}: {}\".format(k,current_query,avg_precision_at_k(np.array(current_query_res[\"ground_truth\"]), np.array(current_query_res[\"score\"]), 150)))\n",
        "\n",
        "    \n",
        "\n",
        "    labels = np.array(current_query_res[\"ground_truth\"])\n",
        "    scores = np.array(current_query_res[\"score\"])\n",
        "    ndcg_k = np.round(ndcg_at_k(labels, scores, k),4)\n",
        "    print(\"ndcg@{} for query with query_id={}: {}\".format(k,current_query,ndcg_k))\n",
        "    \n",
        "print(\"\\nMAP@{}: {}\".format(k,map_at_k(queries_df, k)))\n",
        "\n",
        "print(\"MRR@{}: {}\".format(k,mrr_at_k(queries_df, k)))"
      ]
    },
    {
      "cell_type": "code",
      "execution_count": null,
      "metadata": {
        "colab": {
          "base_uri": "https://localhost:8080/",
          "height": 282
        },
        "id": "KJgGrUED0-Le",
        "outputId": "3c2d2ade-4789-45b0-be3f-9d89cc6b8410"
      },
      "outputs": [
        {
          "output_type": "stream",
          "name": "stderr",
          "text": [
            "WARNING:gensim.models.base_any2vec:under 10 jobs per worker: consider setting a smaller `batch_words' for smoother alpha decay\n"
          ]
        },
        {
          "output_type": "display_data",
          "data": {
            "text/plain": [
              "<Figure size 432x288 with 1 Axes>"
            ],
            "image/png": "[encoded data removed]"
          },
          "metadata": {
            "needs_background": "light"
          }
        }
      ],
      "source": [
        "clean_tweets = []\n",
        "for doc_id, tweet_id in doc_to_tweet.items():\n",
        "        terms = tweets[tweet_id]['text']\n",
        "        clean_tweets.append(terms)\n",
        "\n",
        "model = Word2Vec(clean_tweets, workers=4, min_count=50, window=10, sample=1e-3)\n",
        "\n",
        "\n",
        "X = model.wv[model.wv.vocab]\n",
        "\n",
        "tsne = TSNE(n_components=2)\n",
        "X_tsne = tsne.fit_transform(X)\n",
        "\n",
        "plt.scatter(X_tsne[:, 0], X_tsne[:, 1])\n",
        "plt.show()\n"
      ]
    },
    {
      "cell_type": "code",
      "execution_count": null,
      "metadata": {
        "colab": {
          "base_uri": "https://localhost:8080/",
          "height": 336
        },
        "id": "UtQFpry9tvNk",
        "outputId": "90daa311-2d5e-4f38-d772-6f71efd474c0"
      },
      "outputs": [
        {
          "output_type": "stream",
          "name": "stderr",
          "text": [
            "WARNING:gensim.models.base_any2vec:under 10 jobs per worker: consider setting a smaller `batch_words' for smoother alpha decay\n"
          ]
        },
        {
          "output_type": "display_data",
          "data": {
            "text/plain": [
              "<Figure size 432x288 with 1 Axes>"
            ],
            "image/png": "[encoded data removed]"
          },
          "metadata": {
            "needs_background": "light"
          }
        }
      ],
      "source": [
        "model_wp = Word2Vec(clean_tweets, workers=4, min_count=50, window=10, sample=1e-3)\n",
        "\n",
        "\n",
        "words_wp = []\n",
        "embeddings_wp = []\n",
        "for word in list(model_wp.wv.vocab):\n",
        "    embeddings_wp.append(model_wp.wv[word])\n",
        "    words_wp.append(word)\n",
        "    \n",
        "tsne_wp_3d = TSNE(perplexity=30, n_components=3, init='pca', n_iter=3500, random_state=12)\n",
        "embeddings_wp_3d = tsne_wp_3d.fit_transform(embeddings_wp)\n",
        "\n",
        "from mpl_toolkits.mplot3d import Axes3D\n",
        "\n",
        "\n",
        "def tsne_plot_3d(title, label, embeddings, a=1):\n",
        "    fig = plt.figure()\n",
        "    ax = Axes3D(fig)\n",
        "    colors = cm.rainbow(np.linspace(0, 1, 1))\n",
        "    plt.scatter(embeddings[:, 0], embeddings[:, 1], embeddings[:, 2], c=colors, alpha=a, label=label)\n",
        "    plt.legend(loc=4)\n",
        "    plt.title(title)\n",
        "    plt.show()\n",
        "\n",
        "\n",
        "tsne_plot_3d('Visualizing tweets using t-SNE', 'HurricaneIan', embeddings_wp_3d, a=0.1)"
      ]
    },
    {
      "cell_type": "markdown",
      "metadata": {
        "id": "MOBPZqyxuKdd"
      },
      "source": [
        "### Ranking (part 3)"
      ]
    },
    {
      "cell_type": "markdown",
      "metadata": {
        "id": "au0VuN-h_L1r"
      },
      "source": [
        "#### BM25 score"
      ]
    },
    {
      "cell_type": "code",
      "execution_count": null,
      "metadata": {
        "id": "wRGwQlJIKC9E",
        "colab": {
          "base_uri": "https://localhost:8080/",
          "height": 35
        },
        "outputId": "544ef8e4-4ed5-4f6b-c51a-8a82d86c4ceb"
      },
      "outputs": [
        {
          "output_type": "execute_result",
          "data": {
            "text/plain": [
              "'for tweet_id, score in res.items():\\n  print(\"\\n {} \\t {}\".format(tweet_id, score))\\n  print(str(tweets[tweet_id][\\'text\\']))'"
            ],
            "application/vnd.google.colaboratory.intrinsic+json": {
              "type": "string"
            }
          },
          "metadata": {},
          "execution_count": 77
        }
      ],
      "source": [
        "# try score\n",
        "query = 'hurricane ian dog'\n",
        "\n",
        "res_docs, res_scores = rankTweetsBM25(query, tweets, idf, doc_to_tweet, N=N)\n",
        "\n",
        "\"\"\"for tweet_id, score in res.items():\n",
        "  print(\"\\n {} \\t {}\".format(tweet_id, score))\n",
        "  print(str(tweets[tweet_id]['text']))\"\"\"\n"
      ]
    },
    {
      "cell_type": "markdown",
      "metadata": {
        "id": "I-ODzD-r0H6I"
      },
      "source": [
        "#### Evaluation"
      ]
    },
    {
      "cell_type": "markdown",
      "source": [
        "##### Building the structure "
      ],
      "metadata": {
        "id": "oe2nBA6HomhW"
      }
    },
    {
      "cell_type": "code",
      "source": [
        "q1 = \"Hurricane ian consequences\"\n",
        "q2 = \"I am very sad\" # change \"Covid pandemic\" because it has very few results\n",
        "q3 = \"Home destroyed\" # --> less ambiguous\n",
        "q4 = \"Climate emergency\"\n",
        "q5 = \"My dog suffered\"\n",
        "\n",
        "#create the dataframe with our 5 queries to be evaluated\n",
        "queries = [q1, q2, q3, q4, q5]"
      ],
      "metadata": {
        "id": "y1otZlt0X0zH"
      },
      "execution_count": 31,
      "outputs": []
    },
    {
      "cell_type": "code",
      "execution_count": null,
      "metadata": {
        "id": "xyvdevLIu9UO",
        "colab": {
          "base_uri": "https://localhost:8080/",
          "height": 87
        },
        "outputId": "073243aa-9d97-4a13-c26f-86f2bd81623a"
      },
      "outputs": [
        {
          "output_type": "execute_result",
          "data": {
            "text/plain": [
              "'\\nqueries_df = pd.DataFrame(columns = [\"doc_id\", \"query_id\", \"score\", \\'url\\'])\\ntop = 20\\n\\n# Evaluate the queries with TF-IDF and store the results in the dataframe\\nfor i in range(len(queries)):\\n    ranked_docs, ranked_scores, return_list = search_tf_idf(queries[i], index, idf, tf, doc_to_tweet)\\n\\n    for idx, d_id in enumerate(ranked_docs[:20]):\\n        queries_df = queries_df.append({\"doc_id\": d_id, \"query_id\": i+1, \"score\": ranked_scores[idx], \"url\": tweets[doc_to_tweet[d_id]][\\'url\\']}, ignore_index=True)    \\n\\n'"
            ],
            "application/vnd.google.colaboratory.intrinsic+json": {
              "type": "string"
            }
          },
          "metadata": {},
          "execution_count": 79
        }
      ],
      "source": [
        "'''\n",
        "queries_df = pd.DataFrame(columns = [\"doc_id\", \"query_id\", \"score\", 'url'])\n",
        "top = 20\n",
        "\n",
        "# Evaluate the queries with TF-IDF and store the results in the dataframe\n",
        "for i in range(len(queries)):\n",
        "    ranked_docs, ranked_scores, return_list = search_tf_idf(queries[i], index, idf, tf, doc_to_tweet)\n",
        "\n",
        "    for idx, d_id in enumerate(ranked_docs[:20]):\n",
        "        queries_df = queries_df.append({\"doc_id\": d_id, \"query_id\": i+1, \"score\": ranked_scores[idx], \"url\": tweets[doc_to_tweet[d_id]]['url']}, ignore_index=True)    \n",
        "\n",
        "'''    "
      ]
    },
    {
      "cell_type": "code",
      "source": [
        "''' \n",
        "store results in a csv --> choose relevant ones\n",
        "\n",
        "# queries_df[queries_df['query_id'] == 5].to_csv('query5_res.csv', index=False)\n",
        "'''"
      ],
      "metadata": {
        "id": "K5c16XH8xKrz",
        "colab": {
          "base_uri": "https://localhost:8080/",
          "height": 35
        },
        "outputId": "19a42110-fa8a-4c3f-9ecf-b139bec2142d"
      },
      "execution_count": null,
      "outputs": [
        {
          "output_type": "execute_result",
          "data": {
            "text/plain": [
              "\" \\nstore results in a csv --> choose relevant ones\\n\\n# queries_df[queries_df['query_id'] == 5].to_csv('query5_res.csv', index=False)\\n\""
            ],
            "application/vnd.google.colaboratory.intrinsic+json": {
              "type": "string"
            }
          },
          "metadata": {},
          "execution_count": 80
        }
      ]
    },
    {
      "cell_type": "code",
      "source": [
        "'''\n",
        "# load dataframe with ground truths\n",
        "\n",
        "q1_df = pd.read_csv('query1_res.csv - query1_res.csv')\n",
        "\n",
        "# remove url and score columns\n",
        "rel_q1 = q1_df.drop(columns={'url', 'score'})\n",
        "\n",
        "# keep only relevant documents\n",
        "rel_q1 = rel_q1[rel_q1['ground_truth'] == 1]\n",
        "\n",
        "rel_q1\n",
        "'''"
      ],
      "metadata": {
        "id": "R1Ca0ROdIGOe",
        "colab": {
          "base_uri": "https://localhost:8080/",
          "height": 53
        },
        "outputId": "1406d250-2886-415b-8d83-87d8c88b8f82"
      },
      "execution_count": null,
      "outputs": [
        {
          "output_type": "execute_result",
          "data": {
            "text/plain": [
              "\"\\n# load dataframe with ground truths\\n\\nq1_df = pd.read_csv('query1_res.csv - query1_res.csv')\\n\\n# remove url and score columns\\nrel_q1 = q1_df.drop(columns={'url', 'score'})\\n\\n# keep only relevant documents\\nrel_q1 = rel_q1[rel_q1['ground_truth'] == 1]\\n\\nrel_q1\\n\""
            ],
            "application/vnd.google.colaboratory.intrinsic+json": {
              "type": "string"
            }
          },
          "metadata": {},
          "execution_count": 81
        }
      ]
    },
    {
      "cell_type": "code",
      "source": [
        "'''\n",
        "q2_df = pd.read_csv('query2_res.csv')\n",
        "rel_q2 = q2_df.drop(columns={'url', 'score'})\n",
        "rel_q2 = rel_q2[rel_q2['ground_truth'] == 1]\n",
        "rel_q2\n",
        "'''"
      ],
      "metadata": {
        "id": "aAVrIXWwMSDv",
        "colab": {
          "base_uri": "https://localhost:8080/",
          "height": 35
        },
        "outputId": "91253251-4a4d-4f90-bb60-e8d92d13722c"
      },
      "execution_count": null,
      "outputs": [
        {
          "output_type": "execute_result",
          "data": {
            "text/plain": [
              "\"\\nq2_df = pd.read_csv('query2_res.csv')\\nrel_q2 = q2_df.drop(columns={'url', 'score'})\\nrel_q2 = rel_q2[rel_q2['ground_truth'] == 1]\\nrel_q2\\n\""
            ],
            "application/vnd.google.colaboratory.intrinsic+json": {
              "type": "string"
            }
          },
          "metadata": {},
          "execution_count": 82
        }
      ]
    },
    {
      "cell_type": "code",
      "source": [
        "'''\n",
        "q3_df = pd.read_csv('query3_res.csv')\n",
        "rel_q3 = q3_df.drop(columns={'url', 'score'})\n",
        "rel_q3 = rel_q3[rel_q3['ground_truth'] == 1]\n",
        "rel_q3\n",
        "'''"
      ],
      "metadata": {
        "id": "Y09oxLEgVBTl",
        "colab": {
          "base_uri": "https://localhost:8080/",
          "height": 35
        },
        "outputId": "e7b365ad-bf4e-4469-d7e8-4113100f8bbc"
      },
      "execution_count": null,
      "outputs": [
        {
          "output_type": "execute_result",
          "data": {
            "text/plain": [
              "\"\\nq3_df = pd.read_csv('query3_res.csv')\\nrel_q3 = q3_df.drop(columns={'url', 'score'})\\nrel_q3 = rel_q3[rel_q3['ground_truth'] == 1]\\nrel_q3\\n\""
            ],
            "application/vnd.google.colaboratory.intrinsic+json": {
              "type": "string"
            }
          },
          "metadata": {},
          "execution_count": 83
        }
      ]
    },
    {
      "cell_type": "code",
      "source": [
        "'''\n",
        "q4_df = pd.read_csv('query4_res.csv')\n",
        "rel_q4 = q4_df.drop(columns={'url', 'score'})\n",
        "rel_q4 = rel_q4[rel_q4['ground_truth'] == 1]\n",
        "rel_q4\n",
        "'''"
      ],
      "metadata": {
        "id": "CxrCIzxgYbmG",
        "colab": {
          "base_uri": "https://localhost:8080/",
          "height": 35
        },
        "outputId": "0acbdd04-db2f-41c7-940e-d05094ee1bda"
      },
      "execution_count": null,
      "outputs": [
        {
          "output_type": "execute_result",
          "data": {
            "text/plain": [
              "\"\\nq4_df = pd.read_csv('query4_res.csv')\\nrel_q4 = q4_df.drop(columns={'url', 'score'})\\nrel_q4 = rel_q4[rel_q4['ground_truth'] == 1]\\nrel_q4\\n\""
            ],
            "application/vnd.google.colaboratory.intrinsic+json": {
              "type": "string"
            }
          },
          "metadata": {},
          "execution_count": 84
        }
      ]
    },
    {
      "cell_type": "code",
      "source": [
        "'''\n",
        "q5_df = pd.read_csv('query5_res.csv')\n",
        "rel_q5 = q5_df[q5_df['ground_truth'] == 1]\n",
        "rel_q5\n",
        "'''"
      ],
      "metadata": {
        "id": "M6Rh58f_ZPxW",
        "colab": {
          "base_uri": "https://localhost:8080/",
          "height": 35
        },
        "outputId": "c2c3c605-bdda-47a1-dd0e-85c440621cb6"
      },
      "execution_count": null,
      "outputs": [
        {
          "output_type": "execute_result",
          "data": {
            "text/plain": [
              "\"\\nq5_df = pd.read_csv('query5_res.csv')\\nrel_q5 = q5_df[q5_df['ground_truth'] == 1]\\nrel_q5\\n\""
            ],
            "application/vnd.google.colaboratory.intrinsic+json": {
              "type": "string"
            }
          },
          "metadata": {},
          "execution_count": 85
        }
      ]
    },
    {
      "cell_type": "code",
      "source": [
        "'''\n",
        "## DO NOT EXECUTE! We executed this and then we stored the files in 'queries_df_part3.csv'\n",
        "\n",
        "# build a dataframe with 10 relevant documents + 10 non-relevant documents for each query\n",
        "queries_df = pd.concat([rel_q1, rel_q2, rel_q3, rel_q4, rel_q5], ignore_index=True)  # doc_id | query_id | ground_truth\n",
        "\n",
        "query_ids = queries_df['query_id'].unique()\n",
        "\n",
        "total_docs = set(doc_to_tweet.keys()) # take ids from ALL docs in the collection\n",
        "\n",
        "# Add 10 non-relevant documents for each query\n",
        "for q_id in query_ids:\n",
        "\n",
        "  rel_docs = set(queries_df[queries_df['query_id'] == q_id]['doc_id']) # take ids from the relevant docs we selected\n",
        "\n",
        "  # take ids from nonrelevant docs and add them to the dataframe\n",
        "  nonrel_docs = total_docs - rel_docs \n",
        "  for nr_doc in random.sample(nonrel_docs, 10):\n",
        "    queries_df = queries_df.append({'doc_id':nr_doc, 'query_id':q_id, 'ground_truth':0}, ignore_index=True)\n",
        "\n",
        "\n",
        "queries_df.to_csv('queries_df_part3.csv', index=False)\n",
        "'''"
      ],
      "metadata": {
        "id": "s87-YIxzgz0_",
        "colab": {
          "base_uri": "https://localhost:8080/",
          "height": 122
        },
        "outputId": "baf3d217-60e2-4e58-e502-36a062b2f1a0"
      },
      "execution_count": null,
      "outputs": [
        {
          "output_type": "execute_result",
          "data": {
            "text/plain": [
              "\"\\n## DO NOT EXECUTE! We executed this and then we stored the files in 'queries_df_part3.csv'\\n\\n# build a dataframe with 10 relevant documents + 10 non-relevant documents for each query\\nqueries_df = pd.concat([rel_q1, rel_q2, rel_q3, rel_q4, rel_q5], ignore_index=True)  # doc_id | query_id | ground_truth\\n\\nquery_ids = queries_df['query_id'].unique()\\n\\ntotal_docs = set(doc_to_tweet.keys()) # take ids from ALL docs in the collection\\n\\n# Add 10 non-relevant documents for each query\\nfor q_id in query_ids:\\n\\n  rel_docs = set(queries_df[queries_df['query_id'] == q_id]['doc_id']) # take ids from the relevant docs we selected\\n\\n  # take ids from nonrelevant docs and add them to the dataframe\\n  nonrel_docs = total_docs - rel_docs \\n  for nr_doc in random.sample(nonrel_docs, 10):\\n    queries_df = queries_df.append({'doc_id':nr_doc, 'query_id':q_id, 'ground_truth':0}, ignore_index=True)\\n\\n\\nqueries_df.to_csv('queries_df_part3.csv', index=False)\\n\""
            ],
            "application/vnd.google.colaboratory.intrinsic+json": {
              "type": "string"
            }
          },
          "metadata": {},
          "execution_count": 86
        }
      ]
    },
    {
      "cell_type": "code",
      "source": [
        "queries_df = pd.read_csv('queries_df_part3.csv')"
      ],
      "metadata": {
        "id": "6MPiEa0Ri-Ju"
      },
      "execution_count": null,
      "outputs": []
    },
    {
      "cell_type": "code",
      "source": [
        "queries_df.shape"
      ],
      "metadata": {
        "colab": {
          "base_uri": "https://localhost:8080/"
        },
        "id": "MtYlwKuHgu7O",
        "outputId": "cb7f56da-e292-491d-e801-96b94fc4cf50"
      },
      "execution_count": null,
      "outputs": [
        {
          "output_type": "execute_result",
          "data": {
            "text/plain": [
              "(100, 3)"
            ]
          },
          "metadata": {},
          "execution_count": 88
        }
      ]
    },
    {
      "cell_type": "code",
      "source": [
        "queries_df"
      ],
      "metadata": {
        "colab": {
          "base_uri": "https://localhost:8080/",
          "height": 424
        },
        "id": "RGrM7engb3AC",
        "outputId": "ee45e849-11c5-49c4-d3cd-c2f1e7e143bc"
      },
      "execution_count": null,
      "outputs": [
        {
          "output_type": "execute_result",
          "data": {
            "text/plain": [
              "      doc_id  query_id  ground_truth\n",
              "0   doc_3894         1             1\n",
              "1    doc_640         1             1\n",
              "2   doc_1963         1             1\n",
              "3   doc_1933         1             1\n",
              "4   doc_3572         1             1\n",
              "..       ...       ...           ...\n",
              "95  doc_2675         5             0\n",
              "96  doc_2175         5             0\n",
              "97  doc_3010         5             0\n",
              "98  doc_2650         5             0\n",
              "99  doc_1847         5             0\n",
              "\n",
              "[100 rows x 3 columns]"
            ],
            "text/html": [
              "\n",
              "  <div id=\"df-90719eb2-a98a-46e6-a5f0-ee8e6243ef73\">\n",
              "    <div class=\"colab-df-container\">\n",
              "      <div>\n",
              "<style scoped>\n",
              "    .dataframe tbody tr th:only-of-type {\n",
              "        vertical-align: middle;\n",
              "    }\n",
              "\n",
              "    .dataframe tbody tr th {\n",
              "        vertical-align: top;\n",
              "    }\n",
              "\n",
              "    .dataframe thead th {\n",
              "        text-align: right;\n",
              "    }\n",
              "</style>\n",
              "<table border=\"1\" class=\"dataframe\">\n",
              "  <thead>\n",
              "    <tr style=\"text-align: right;\">\n",
              "      <th></th>\n",
              "      <th>doc_id</th>\n",
              "      <th>query_id</th>\n",
              "      <th>ground_truth</th>\n",
              "    </tr>\n",
              "  </thead>\n",
              "  <tbody>\n",
              "    <tr>\n",
              "      <th>0</th>\n",
              "      <td>doc_3894</td>\n",
              "      <td>1</td>\n",
              "      <td>1</td>\n",
              "    </tr>\n",
              "    <tr>\n",
              "      <th>1</th>\n",
              "      <td>doc_640</td>\n",
              "      <td>1</td>\n",
              "      <td>1</td>\n",
              "    </tr>\n",
              "    <tr>\n",
              "      <th>2</th>\n",
              "      <td>doc_1963</td>\n",
              "      <td>1</td>\n",
              "      <td>1</td>\n",
              "    </tr>\n",
              "    <tr>\n",
              "      <th>3</th>\n",
              "      <td>doc_1933</td>\n",
              "      <td>1</td>\n",
              "      <td>1</td>\n",
              "    </tr>\n",
              "    <tr>\n",
              "      <th>4</th>\n",
              "      <td>doc_3572</td>\n",
              "      <td>1</td>\n",
              "      <td>1</td>\n",
              "    </tr>\n",
              "    <tr>\n",
              "      <th>...</th>\n",
              "      <td>...</td>\n",
              "      <td>...</td>\n",
              "      <td>...</td>\n",
              "    </tr>\n",
              "    <tr>\n",
              "      <th>95</th>\n",
              "      <td>doc_2675</td>\n",
              "      <td>5</td>\n",
              "      <td>0</td>\n",
              "    </tr>\n",
              "    <tr>\n",
              "      <th>96</th>\n",
              "      <td>doc_2175</td>\n",
              "      <td>5</td>\n",
              "      <td>0</td>\n",
              "    </tr>\n",
              "    <tr>\n",
              "      <th>97</th>\n",
              "      <td>doc_3010</td>\n",
              "      <td>5</td>\n",
              "      <td>0</td>\n",
              "    </tr>\n",
              "    <tr>\n",
              "      <th>98</th>\n",
              "      <td>doc_2650</td>\n",
              "      <td>5</td>\n",
              "      <td>0</td>\n",
              "    </tr>\n",
              "    <tr>\n",
              "      <th>99</th>\n",
              "      <td>doc_1847</td>\n",
              "      <td>5</td>\n",
              "      <td>0</td>\n",
              "    </tr>\n",
              "  </tbody>\n",
              "</table>\n",
              "<p>100 rows × 3 columns</p>\n",
              "</div>\n",
              "      <button class=\"colab-df-convert\" onclick=\"convertToInteractive('df-90719eb2-a98a-46e6-a5f0-ee8e6243ef73')\"\n",
              "              title=\"Convert this dataframe to an interactive table.\"\n",
              "              style=\"display:none;\">\n",
              "        \n",
              "  <svg xmlns=\"http://www.w3.org/2000/svg\" height=\"24px\"viewBox=\"0 0 24 24\"\n",
              "       width=\"24px\">\n",
              "    <path d=\"M0 0h24v24H0V0z\" fill=\"none\"/>\n",
              "    <path d=\"M18.56 5.44l.94 2.06.94-2.06 2.06-.94-2.06-.94-.94-2.06-.94 2.06-2.06.94zm-11 1L8.5 8.5l.94-2.06 2.06-.94-2.06-.94L8.5 2.5l-.94 2.06-2.06.94zm10 10l.94 2.06.94-2.06 2.06-.94-2.06-.94-.94-2.06-.94 2.06-2.06.94z\"/><path d=\"M17.41 7.96l-1.37-1.37c-.4-.4-.92-.59-1.43-.59-.52 0-1.04.2-1.43.59L10.3 9.45l-7.72 7.72c-.78.78-.78 2.05 0 2.83L4 21.41c.39.39.9.59 1.41.59.51 0 1.02-.2 1.41-.59l7.78-7.78 2.81-2.81c.8-.78.8-2.07 0-2.86zM5.41 20L4 18.59l7.72-7.72 1.47 1.35L5.41 20z\"/>\n",
              "  </svg>\n",
              "      </button>\n",
              "      \n",
              "  <style>\n",
              "    .colab-df-container {\n",
              "      display:flex;\n",
              "      flex-wrap:wrap;\n",
              "      gap: 12px;\n",
              "    }\n",
              "\n",
              "    .colab-df-convert {\n",
              "      background-color: #E8F0FE;\n",
              "      border: none;\n",
              "      border-radius: 50%;\n",
              "      cursor: pointer;\n",
              "      display: none;\n",
              "      fill: #1967D2;\n",
              "      height: 32px;\n",
              "      padding: 0 0 0 0;\n",
              "      width: 32px;\n",
              "    }\n",
              "\n",
              "    .colab-df-convert:hover {\n",
              "      background-color: #E2EBFA;\n",
              "      box-shadow: 0px 1px 2px rgba(60, 64, 67, 0.3), 0px 1px 3px 1px rgba(60, 64, 67, 0.15);\n",
              "      fill: #174EA6;\n",
              "    }\n",
              "\n",
              "    [theme=dark] .colab-df-convert {\n",
              "      background-color: #3B4455;\n",
              "      fill: #D2E3FC;\n",
              "    }\n",
              "\n",
              "    [theme=dark] .colab-df-convert:hover {\n",
              "      background-color: #434B5C;\n",
              "      box-shadow: 0px 1px 3px 1px rgba(0, 0, 0, 0.15);\n",
              "      filter: drop-shadow(0px 1px 2px rgba(0, 0, 0, 0.3));\n",
              "      fill: #FFFFFF;\n",
              "    }\n",
              "  </style>\n",
              "\n",
              "      <script>\n",
              "        const buttonEl =\n",
              "          document.querySelector('#df-90719eb2-a98a-46e6-a5f0-ee8e6243ef73 button.colab-df-convert');\n",
              "        buttonEl.style.display =\n",
              "          google.colab.kernel.accessAllowed ? 'block' : 'none';\n",
              "\n",
              "        async function convertToInteractive(key) {\n",
              "          const element = document.querySelector('#df-90719eb2-a98a-46e6-a5f0-ee8e6243ef73');\n",
              "          const dataTable =\n",
              "            await google.colab.kernel.invokeFunction('convertToInteractive',\n",
              "                                                     [key], {});\n",
              "          if (!dataTable) return;\n",
              "\n",
              "          const docLinkHtml = 'Like what you see? Visit the ' +\n",
              "            '<a target=\"_blank\" href=https://colab.research.google.com/notebooks/data_table.ipynb>data table notebook</a>'\n",
              "            + ' to learn more about interactive tables.';\n",
              "          element.innerHTML = '';\n",
              "          dataTable['output_type'] = 'display_data';\n",
              "          await google.colab.output.renderOutput(dataTable, element);\n",
              "          const docLink = document.createElement('div');\n",
              "          docLink.innerHTML = docLinkHtml;\n",
              "          element.appendChild(docLink);\n",
              "        }\n",
              "      </script>\n",
              "    </div>\n",
              "  </div>\n",
              "  "
            ]
          },
          "metadata": {},
          "execution_count": 89
        }
      ]
    },
    {
      "cell_type": "markdown",
      "source": [
        "##### Ranking"
      ],
      "metadata": {
        "id": "NR9byW12WXlb"
      }
    },
    {
      "cell_type": "code",
      "source": [
        "queries"
      ],
      "metadata": {
        "id": "8wl2ahvTX7vW",
        "colab": {
          "base_uri": "https://localhost:8080/"
        },
        "outputId": "f9d0410c-fedc-46ad-b31e-dede7249aef6"
      },
      "execution_count": null,
      "outputs": [
        {
          "output_type": "execute_result",
          "data": {
            "text/plain": [
              "['Hurricane ian consequences',\n",
              " 'I am very sad',\n",
              " 'Home destroyed',\n",
              " 'Climate emergency',\n",
              " 'My dog suffered']"
            ]
          },
          "metadata": {},
          "execution_count": 90
        }
      ]
    },
    {
      "cell_type": "code",
      "source": [
        "for idx, q in enumerate(queries):\n",
        "  print(idx, q)"
      ],
      "metadata": {
        "id": "n_akPJsdYc86",
        "colab": {
          "base_uri": "https://localhost:8080/"
        },
        "outputId": "2c980e05-eedd-4204-c98e-6a8f107ca52d"
      },
      "execution_count": null,
      "outputs": [
        {
          "output_type": "stream",
          "name": "stdout",
          "text": [
            "0 Hurricane ian consequences\n",
            "1 I am very sad\n",
            "2 Home destroyed\n",
            "3 Climate emergency\n",
            "4 My dog suffered\n"
          ]
        }
      ]
    },
    {
      "cell_type": "code",
      "source": [
        "rank_methods = ['own', 'bm25']\n",
        "\n",
        "for ranking in rank_methods:\n",
        "  print('For ranking method '+ranking)\n",
        "\n",
        "  for q_idx, query in enumerate(queries):\n",
        "    query_id = q_idx + 1 # sum one to the idx because it starts at 0, first query has id = 1 and first index = 0\n",
        "\n",
        "    doc_rows = queries_df[queries_df['query_id'] == query_id]\n",
        "    doc_ids = list(doc_rows['doc_id']) # take the 20 doc_ids for that query\n",
        "\n",
        "    selected_tweets = dict((doc_to_tweet[d_id], tweets[doc_to_tweet[d_id]]) for d_id in doc_ids)\n",
        "\n",
        "    if ranking == 'own':\n",
        "      result_docs, result_scores, result_list = rankTweetsOurs(query, index, idf, tf, selected_tweets, doc_to_tweet)\n",
        "      aux = dict(zip(result_docs, result_scores))\n",
        "\n",
        "      doc_rows['score_bm25'] = [aux[k] for k in doc_rows['doc_id']]\n",
        "\n",
        "      print(\"==> Precision@{}: {}\\n\".format(20, precision_at_k(doc_rows[\"ground_truth\"], doc_rows[\"score_bm25\"], k=20)))\n",
        "\n",
        "    if ranking == 'bm25':\n",
        "      result_docs, result_scores = rankTweetsBM25(query, selected_tweets, idf, doc_to_tweet, N, k1=1.2, b=0.75)\n",
        "      aux = dict(zip(result_docs, result_scores))\n",
        "\n",
        "      doc_rows['score_bm25'] = [aux[k] for k in doc_rows['doc_id']]\n",
        "\n",
        "      print(\"==> Precision@{}: {}\\n\".format(10, precision_at_k(doc_rows[\"ground_truth\"], doc_rows[\"score_bm25\"], k=10)))\n"
      ],
      "metadata": {
        "id": "UiMSlyArV9Iu",
        "colab": {
          "base_uri": "https://localhost:8080/"
        },
        "outputId": "19b0eecd-1f69-4c00-9e1e-0aa872846479"
      },
      "execution_count": null,
      "outputs": [
        {
          "output_type": "stream",
          "name": "stdout",
          "text": [
            "For ranking method own\n",
            "==> Precision@20: 0.5\n",
            "\n",
            "==> Precision@20: 0.5\n",
            "\n",
            "==> Precision@20: 0.5\n",
            "\n",
            "==> Precision@20: 0.5\n",
            "\n",
            "==> Precision@20: 0.5\n",
            "\n",
            "For ranking method bm25\n",
            "==> Precision@10: 1.0\n",
            "\n",
            "==> Precision@10: 1.0\n",
            "\n",
            "==> Precision@10: 1.0\n",
            "\n",
            "==> Precision@10: 1.0\n",
            "\n",
            "==> Precision@10: 1.0\n",
            "\n"
          ]
        }
      ]
    },
    {
      "cell_type": "code",
      "source": [
        "# Recall\n",
        "def recall_at_k(k,d,index):\n",
        "  # k = retreieved docs, d = dataset\n",
        "  # relevant at k = number of relevant docs until k\n",
        "  # total relevant = total number of relevant docs\n",
        "  if k > 20:\n",
        "    k = 20\n",
        "  rel_at_k = 0\n",
        "  if k < 11:\n",
        "    for i in range(k):\n",
        "      if d['ground_truth'][index+i] == 1:\n",
        "        rel_at_k = rel_at_k + 1\n",
        "  else:\n",
        "    for i in range(10):\n",
        "      if d['ground_truth'][index+i] == 1:\n",
        "        rel_at_k = rel_at_k + 1\n",
        "    for i in range(k-10):\n",
        "      if d['ground_truth'][index+i+50] == 1:\n",
        "        rel_at_k = rel_at_k + 1\n",
        "  total_rel = sum(d['ground_truth'])\n",
        "  \n",
        "  recall = rel_at_k/total_rel\n",
        "  return recall"
      ],
      "metadata": {
        "id": "_Un0T1gmt0dv"
      },
      "execution_count": null,
      "outputs": []
    },
    {
      "cell_type": "code",
      "source": [
        "# Recall for 5 queries\n",
        "k = 5\n",
        "for i in range(5):\n",
        "  q_df = queries_df[queries_df['query_id'] == (i+1)]\n",
        "  idx = (i)*10\n",
        "  recall = recall_at_k(k,q_df,idx)\n",
        "  print(\"Recall of query \" + str(i) + \" : \"+ str(recall))"
      ],
      "metadata": {
        "colab": {
          "base_uri": "https://localhost:8080/"
        },
        "id": "s5Amnvaclojp",
        "outputId": "b14b55cf-5b7d-4960-93ae-b387d9e95306"
      },
      "execution_count": null,
      "outputs": [
        {
          "output_type": "stream",
          "name": "stdout",
          "text": [
            "Recall of query 0 : 0.5\n",
            "Recall of query 1 : 0.5\n",
            "Recall of query 2 : 0.5\n",
            "Recall of query 3 : 0.5\n",
            "Recall of query 4 : 0.5\n"
          ]
        }
      ]
    },
    {
      "cell_type": "markdown",
      "metadata": {
        "id": "aI2Qgz-WODYg"
      },
      "source": [
        "#### Word2Vec + cosine similarity"
      ]
    },
    {
      "cell_type": "code",
      "source": [
        "top = 20\n",
        "\n",
        "for query_id, query in enumerate(queries, start=1): # iterate through the queries\n",
        "\n",
        "  print('Query results for query number {}: {}'.format(query_id, query))\n",
        "\n",
        "  ranked_docs_w2v, ranked_scores_w2v = search_word2vec(query, index, doc_to_tweet, tweets) # rank documents for current query\n",
        "\n",
        "  for idx, d_id in enumerate(ranked_docs_w2v[:top]): # return the 20 first\n",
        "    print(\"doc_id = {} - tweet_id: {} - score: {}\".format(d_id, doc_to_tweet[d_id], ranked_scores_w2v[idx]))\n",
        "    print(\"\\t\", tweet_Searcher(tweets, doc_to_tweet[d_id]))\n",
        "\n",
        "  print('\\n')"
      ],
      "metadata": {
        "colab": {
          "base_uri": "https://localhost:8080/"
        },
        "id": "goaU6EQxEFtF",
        "outputId": "6fb03371-2727-43be-904a-aa95b7d90ea0"
      },
      "execution_count": 39,
      "outputs": [
        {
          "output_type": "stream",
          "name": "stdout",
          "text": [
            "Query results for query number 1: Hurricane ian consequences\n"
          ]
        },
        {
          "output_type": "stream",
          "name": "stderr",
          "text": [
            "WARNING:gensim.models.base_any2vec:under 10 jobs per worker: consider setting a smaller `batch_words' for smoother alpha decay\n",
            "WARNING:gensim.models.base_any2vec:under 10 jobs per worker: consider setting a smaller `batch_words' for smoother alpha decay\n"
          ]
        },
        {
          "output_type": "stream",
          "name": "stdout",
          "text": [
            "doc_id = doc_640 - tweet_id: 1575910304159977472 - score: 17.45459747314453\n",
            "\t Text: ['hurrican', 'ian', 'hurricaneian']|Username: kadenfields8|Date: 30/09/2022 18:07:50|HurricaneIan|Likes: 2|Retweets: 0|Url: https://twitter.com/kadenfields8/status/1575910304159977472\n",
            "doc_id = doc_2786 - tweet_id: 1575871747454558209 - score: 17.45459747314453\n",
            "\t Text: ['sloppi', 'landscap', 'hurrican', 'ian', 'hurricaneian', 'dougmilesmedia', 'sarasotacounti']|Username: DougMilesMedia|Date: 30/09/2022 15:34:37|HurricaneIan dougmilesmedia SarasotaCounty|Likes: 1|Retweets: 0|Url: https://twitter.com/DougMilesMedia/status/1575871747454558209\n",
            "doc_id = doc_2140 - tweet_id: 1575881799267295234 - score: 17.45459747314453\n",
            "\t Text: ['hurricaneian', 'perpetu', 'hurrican', 'ian']|Username: neveragainFL|Date: 30/09/2022 16:14:34|hurricaneian|Likes: 0|Retweets: 0|Url: https://twitter.com/neveragainFL/status/1575881799267295234\n",
            "doc_id = doc_1217 - tweet_id: 1575902689040666626 - score: 17.45459747314453\n",
            "\t Text: ['hurrican', 'ian', 'tour', 'hurricaneian']|Username: besmarterpeople|Date: 30/09/2022 17:37:34|HurricaneIan|Likes: 0|Retweets: 0|Url: https://twitter.com/besmarterpeople/status/1575902689040666626\n",
            "doc_id = doc_3572 - tweet_id: 1575862334924689408 - score: 17.367687225341797\n",
            "\t Text: ['hurrican', 'ian', 'unearth', 'bodi', 'cemeteri']|Username: Theanatoliapost|Date: 30/09/2022 14:57:13|hurricaneian florida oaklandcemetery|Likes: 0|Retweets: 0|Url: https://twitter.com/Theanatoliapost/status/1575862334924689408\n",
            "doc_id = doc_359 - tweet_id: 1575913729027633152 - score: 16.076631546020508\n",
            "\t Text: ['monster', 'hurricaneian', 'florida', 'ian', 'hurricanerelief']|Username: alliesimps|Date: 30/09/2022 18:21:26|HurricaneIan Florida Ian hurricanerelief|Likes: 0|Retweets: 0|Url: https://twitter.com/alliesimps/status/1575913729027633152\n",
            "doc_id = doc_2795 - tweet_id: 1575871633570439169 - score: 15.44609260559082\n",
            "\t Text: ['sc', 'eat', 'hurrican', 'snack', 'hurricaneian']|Username: fitnessfitsash|Date: 30/09/2022 15:34:10|HurricaneIan|Likes: 3|Retweets: 1|Url: https://twitter.com/fitnessfitsash/status/1575871633570439169\n",
            "doc_id = doc_2062 - tweet_id: 1575883427500417024 - score: 15.394755363464355\n",
            "\t Text: ['legal', 'need', 'hurrican', 'hurricaneian', 'disasterprep']|Username: clsmf|Date: 30/09/2022 16:21:02|HurricaneIan DisasterPrep|Likes: 1|Retweets: 0|Url: https://twitter.com/clsmf/status/1575883427500417024\n",
            "doc_id = doc_691 - tweet_id: 1575909761685803008 - score: 15.25609302520752\n",
            "\t Text: ['hurrican', 'purchas', 'shovel', 'duct', 'tape', 'rope', 'tarp', 'one', 'question', 'motiv', 'hurricaneian']|Username: AngieCowan|Date: 30/09/2022 18:05:40|HurricaneIan|Likes: 0|Retweets: 0|Url: https://twitter.com/AngieCowan/status/1575909761685803008\n",
            "doc_id = doc_1855 - tweet_id: 1575888144071000064 - score: 15.150350570678711\n",
            "\t Text: ['hurricaneian', 'corps', 'florida', 'cemeteri', 'expos', 'casket', 'unearth', 'hurrican', 'ian', 'devast']|Username: TwitWit00000|Date: 30/09/2022 16:39:46|hurricaneian Florida|Likes: 0|Retweets: 0|Url: https://twitter.com/TwitWit00000/status/1575888144071000064\n",
            "doc_id = doc_469 - tweet_id: 1575912295276113920 - score: 14.98792552947998\n",
            "\t Text: ['damn', 'power', 'ian', 'hurricaneian']|Username: CallMe_JDub|Date: 30/09/2022 18:15:44|HurricaneIan|Likes: 0|Retweets: 0|Url: https://twitter.com/CallMe_JDub/status/1575912295276113920\n",
            "doc_id = doc_2110 - tweet_id: 1575882363649003521 - score: 14.83485221862793\n",
            "\t Text: ['hurrican', 'ian', 'cant', 'move', 'hurricaneian', 'game', 'streamer']|Username: GTTGGaming|Date: 30/09/2022 16:16:48|hurricaneian gaming streamer|Likes: 1|Retweets: 0|Url: https://twitter.com/GTTGGaming/status/1575882363649003521\n",
            "doc_id = doc_2549 - tweet_id: 1575875118617632768 - score: 14.51036262512207\n",
            "\t Text: ['mikey', 'word', 'ian', 'hurricaneian', 'overit', 'charleston']|Username: moirawebb|Date: 30/09/2022 15:48:01|HurricaneIan overit Charleston|Likes: 2|Retweets: 0|Url: https://twitter.com/moirawebb/status/1575875118617632768\n",
            "doc_id = doc_807 - tweet_id: 1575908618200924167 - score: 14.139328002929688\n",
            "\t Text: ['ian', 'predict', 'spare', 'atlanta', 'hurricaneian', 'hurrican', 'ian', 'atlantanew', 'atl']|Username: cl_atlanta|Date: 30/09/2022 18:01:08|HurricaneIan Hurricane Ian AtlantaNews ATL|Likes: 1|Retweets: 0|Url: https://twitter.com/cl_atlanta/status/1575908618200924167\n",
            "doc_id = doc_1420 - tweet_id: 1575899053883559938 - score: 14.136359214782715\n",
            "\t Text: ['hurricaneian', 'come', 'play', 'lucki', 'one', 'hurrican', 'hurricaneian', 'ianflorida', 'ianflorida']|Username: Ashmm87|Date: 30/09/2022 17:23:07|Hurricane_Ian Hurricane hurricaneian ianflorida Ianflorida|Likes: 0|Retweets: 0|Url: https://twitter.com/Ashmm87/status/1575899053883559938\n",
            "doc_id = doc_1565 - tweet_id: 1575894893913726976 - score: 14.012643814086914\n",
            "\t Text: ['hurrican', 'work', 'parti', 'hurricaneian', 'snackoverload', 'fridayvib']|Username: VickieLynne520|Date: 30/09/2022 17:06:36|HurricaneIan SnackOverload FridayVibes|Likes: 0|Retweets: 0|Url: https://twitter.com/VickieLynne520/status/1575894893913726976\n",
            "doc_id = doc_2353 - tweet_id: 1575877976834572288 - score: 13.844486236572266\n",
            "\t Text: ['perspect', 'causat', 'key', 'hurrican', 'ian', 'coverag', 'disput', 'hurricaneian', 'propertyinsur', 'riskmanag', 'claimsdisput']|Username: BusInsMagazine|Date: 30/09/2022 15:59:22|HurricaneIan propertyinsurance riskmanagement claimsdisputes|Likes: 0|Retweets: 0|Url: https://twitter.com/BusInsMagazine/status/1575877976834572288\n",
            "doc_id = doc_1332 - tweet_id: 1575901072576626688 - score: 13.833873748779297\n",
            "\t Text: ['ian', 'wrap', 'hurrican', 'ball', 'tight', 'landfal', 'hurricaneian', 'signatur', 'fl', 'carolina']|Username: BobbiStorm|Date: 30/09/2022 17:31:09|ian hurricane landfall hurricaneian FL Carolinas|Likes: 7|Retweets: 3|Url: https://twitter.com/BobbiStorm/status/1575901072576626688\n",
            "doc_id = doc_1166 - tweet_id: 1575903370975510528 - score: 13.798449516296387\n",
            "\t Text: ['get', 'back', 'normal', 'ian', 'hurricaneian', 'ian']|Username: WJCTNews|Date: 30/09/2022 17:40:17|hurricaneian ian|Likes: 0|Retweets: 0|Url: https://twitter.com/WJCTNews/status/1575903370975510528\n",
            "doc_id = doc_1453 - tweet_id: 1575897983060688903 - score: 13.717469215393066\n",
            "\t Text: ['map', 'ian', 'hurricaneian', 'iannew', 'ian', 'mapofian']|Username: IanAndIainNews|Date: 30/09/2022 17:18:52|HurricaneIan IanNews Ian MapOfIans|Likes: 0|Retweets: 0|Url: https://twitter.com/IanAndIainNews/status/1575897983060688903\n",
            "\n",
            "\n",
            "Query results for query number 2: I am very sad\n",
            "doc_id = doc_603 - tweet_id: 1575910725541068801 - score: 0.00048477790551260114\n",
            "\t Text: ['sad', 'socialsm', 'kept', 'cuba', 'infrastructur', 'entir', 'economi', 'decrepit', 'decad', 'cuban', 'havana', 'bang', 'pot', 'protest', 'day', 'long', 'blackout', 'hurricaneian']|Username: PoliticalTom|Date: 30/09/2022 18:09:30|Socialsm Cuba HurricaneIan|Likes: 0|Retweets: 0|Url: https://twitter.com/PoliticalTom/status/1575910725541068801\n",
            "doc_id = doc_492 - tweet_id: 1575912058365042688 - score: 0.00048477790551260114\n",
            "\t Text: ['thefungi669', 'sad', 'good', 'track', 'record', 'trumpcrimefamili', 'letitiajam', 'hurricaneian']|Username: Gary_McRobb|Date: 30/09/2022 18:14:48|TrumpCrimeFamily letitiajames HurricaneIan|Likes: 2|Retweets: 2|Url: https://twitter.com/Gary_McRobb/status/1575912058365042688\n",
            "doc_id = doc_3994 - tweet_id: 1575856279234351104 - score: 0.00048477790551260114\n",
            "\t Text: ['5', 'sad', 'school', 'cancel', 'today', 'wcpss', 'student', 'taken', 'part', 'offic', 'snack', 'includ', 'keep', 'eye', 'hurricaneian']|Username: LPadgettPharmD|Date: 30/09/2022 14:33:09|HurricaneIan|Likes: 8|Retweets: 0|Url: https://twitter.com/LPadgettPharmD/status/1575856279234351104\n",
            "doc_id = doc_229 - tweet_id: 1575915199256739841 - score: 0.00048477790551260114\n",
            "\t Text: ['sad', 'pawleysisland', 'hurricaneian', 'southcarolina']|Username: southrnfoodjunk|Date: 30/09/2022 18:27:17|pawleysisland HurricaneIan southcarolina|Likes: 0|Retweets: 0|Url: https://twitter.com/southrnfoodjunk/status/1575915199256739841\n",
            "doc_id = doc_2012 - tweet_id: 1575884604741128192 - score: 0.00048477790551260114\n",
            "\t Text: ['wxbrad', 'earli', 'shot', 'myrtl', 'beach', 'sad', 'prayer', 'hurricaneian']|Username: cameroncraig|Date: 30/09/2022 16:25:42|hurricaneian|Likes: 16|Retweets: 2|Url: https://twitter.com/cameroncraig/status/1575884604741128192\n",
            "doc_id = doc_1764 - tweet_id: 1575890386249486336 - score: 0.00048477790551260114\n",
            "\t Text: ['sad', 'read', 'today', 'hurricaneian']|Username: kamontree|Date: 30/09/2022 16:48:41|hurricaneian|Likes: 0|Retweets: 0|Url: https://twitter.com/kamontree/status/1575890386249486336\n",
            "doc_id = doc_2543 - tweet_id: 1575875202445348864 - score: 0.00036669312976300716\n",
            "\t Text: ['insan', 'sad', 'live', 'lost', 'home', 'irrepar', 'damag', 'hurricaneian']|Username: makeupbytoshi|Date: 30/09/2022 15:48:21|HurricaneIan|Likes: 0|Retweets: 1|Url: https://twitter.com/makeupbytoshi/status/1575875202445348864\n",
            "doc_id = doc_2997 - tweet_id: 1575869451710316544 - score: 0.00032639995333738625\n",
            "\t Text: ['hope', 'florida', 'emerg', 'kit', 'sustain', 'sad', 'pray', 'victim', 'hurricaneian']|Username: columbuscareers|Date: 30/09/2022 15:25:30|Florida HurricaneIan|Likes: 0|Retweets: 0|Url: https://twitter.com/columbuscareers/status/1575869451710316544\n",
            "doc_id = doc_2514 - tweet_id: 1575875581530480641 - score: 0.00032639995333738625\n",
            "\t Text: ['fort', 'myer', 'middl', 'devast', 'sad', 'mani', 'peopl', 'homeless', 'join', 'us', '12', 'channel', '2', 'wsbtv', 'florida', 'fortmyer', 'hurricaneian']|Username: jesteveztv|Date: 30/09/2022 15:49:51|Florida FortMyers HurricaneIan|Likes: 18|Retweets: 3|Url: https://twitter.com/jesteveztv/status/1575875581530480641\n",
            "doc_id = doc_2225 - tweet_id: 1575880007196766208 - score: 0.00032639995333738625\n",
            "\t Text: ['sad', 'tale', 'presid', '98', 'said', 'help', 'ukrain', 'florida', 'bidenworstpresidentev', 'democratsaretheproblem', 'bidenbordercrisi', 'hurricaneian']|Username: OUKnowWho|Date: 30/09/2022 16:07:26|BidenWorstPresidentEver DemocratsAreTheProblem bidenbordercrisis HurricaneIan|Likes: 1|Retweets: 0|Url: https://twitter.com/OUKnowWho/status/1575880007196766208\n",
            "doc_id = doc_215 - tweet_id: 1575915407843770386 - score: 0.00032639995333738625\n",
            "\t Text: ['heart', 'struck', 'immens', 'sad', 'heavi', 'heart', 'sw', 'florida', 'famili', 'think', 'staysaf', 'hurricaneian']|Username: SaltmarshCPA|Date: 30/09/2022 18:28:06|staysafe hurricaneian|Likes: 0|Retweets: 0|Url: https://twitter.com/SaltmarshCPA/status/1575915407843770386\n",
            "doc_id = doc_698 - tweet_id: 1575909716072755200 - score: 0.0003046357014682144\n",
            "\t Text: ['say', 'man', 'grandson', 'tri', 'go', 'hurrican', 'get', 'get', 'hous', 'man', 'home', 'complet', 'wash', 'away', 'accord', 'woman', 'respond', 'still', 'look', 'bodi', 'sad', 'hurricaneian', 'fortmyer']|Username: GordonSeverson|Date: 30/09/2022 18:05:29|HurricaneIan FortMyers|Likes: 1|Retweets: 0|Url: https://twitter.com/GordonSeverson/status/1575909716072755200\n",
            "doc_id = doc_2847 - tweet_id: 1575870975328935936 - score: 0.00027892092475667596\n",
            "\t Text: ['gm', 'amigo', 'somber', 'week', 'feel', 'gulf', 'coast', 'neighbor', 'famili', 'friend', 'spent', 'much', 'time', 'sad', 'see', 'complet', 'destroy', 'posit', 'help', 'pleas', 'peopl', 'need', 'rebuild', 'entir', 'live', 'hurricaneian', 'floridastrong']|Username: CardanoAmigos|Date: 30/09/2022 15:31:33|HurricaneIan FloridaStrong|Likes: 1|Retweets: 0|Url: https://twitter.com/CardanoAmigos/status/1575870975328935936\n",
            "doc_id = doc_923 - tweet_id: 1575907420290834432 - score: 0.00023432547459378839\n",
            "\t Text: ['heartbroken', 'devast', 'hardship', 'caus', 'hurrican', 'ian', 'commun', 'staff', 'client', 'share', 'sad', 'impact', 'remain', 'resolv', 'stand', 'commun', 'come', 'back', 'strong', 'swflstrong', 'hurricaneian']|Username: GBCRPLaw|Date: 30/09/2022 17:56:22|SWFLStrong HurricaneIan|Likes: 0|Retweets: 0|Url: https://twitter.com/GBCRPLaw/status/1575907420290834432\n",
            "doc_id = doc_922 - tweet_id: 1575907422488518656 - score: 0.00021160172764211893\n",
            "\t Text: ['sad', 'see', 'go', 'florida', 'hope', 'everyon', 'safe', 'healthi', 'aw', 'event', 'hurricaneian']|Username: RivertownRx|Date: 30/09/2022 17:56:23|HurricaneIan|Likes: 0|Retweets: 0|Url: https://twitter.com/RivertownRx/status/1575907422488518656\n",
            "doc_id = doc_813 - tweet_id: 1575908546927292417 - score: 0.00015726633137091994\n",
            "\t Text: ['sad', 'daytona', 'beach', 'hurrican', 'ian', 'damag', 'widespread', 'flood', 'seen', 'drone', 'footag', 'hurricaneian', 'ianhurrican', 'hurricanian', 'hurricanefiona', 'hellojimtob', 'florida', 'miami', 'cuba', 'keywest', 'ian']|Username: NFT_Promoter|Date: 30/09/2022 18:00:51|HurricaneIan IanHurricane HurricanIan HurricaneFiona HelloJimtober Florida miami Cuba KeyWest Ian|Likes: 0|Retweets: 0|Url: https://twitter.com/NFT_Promoter/status/1575908546927292417\n",
            "doc_id = doc_771 - tweet_id: 1575908981972774912 - score: 0.00015726633137091994\n",
            "\t Text: ['sad', 'daytona', 'beach', 'hurrican', 'ian', 'damag', 'widespread', 'flood', 'seen', 'drone', 'footag', 'hurricaneian', 'ianhurrican', 'hurricanian', 'hurricanefiona', 'hellojimtob', 'florida', 'miami', 'cuba', 'keywest', 'ian']|Username: NFT_Dreaming|Date: 30/09/2022 18:02:34|HurricaneIan IanHurricane HurricanIan HurricaneFiona HelloJimtober Florida miami Cuba KeyWest Ian|Likes: 0|Retweets: 0|Url: https://twitter.com/NFT_Dreaming/status/1575908981972774912\n",
            "doc_id = doc_702 - tweet_id: 1575909666021933056 - score: 0.00015726633137091994\n",
            "\t Text: ['sad', 'daytona', 'beach', 'hurrican', 'ian', 'damag', 'widespread', 'flood', 'seen', 'drone', 'footag', 'hurricaneian', 'ianhurrican', 'hurricanian', 'hurricanefiona', 'hellojimtob', 'florida', 'miami', 'cuba', 'keywest', 'ian']|Username: cloud_wax|Date: 30/09/2022 18:05:18|HurricaneIan IanHurricane HurricanIan HurricaneFiona HelloJimtober Florida miami Cuba KeyWest Ian|Likes: 0|Retweets: 0|Url: https://twitter.com/cloud_wax/status/1575909666021933056\n",
            "doc_id = doc_2929 - tweet_id: 1575870158933221383 - score: 0.0001502579398220405\n",
            "\t Text: ['damag', 'hurrican', 'famili', 'condo', 'grate', 'sever', 'damag', 'done', 'build', 'wow', 'stay', 'week', 'amp', 'sad', 'see', 'like', 'vtuber', 'hurricaneian', 'daytonabeach', 'florida', 'thetow']|Username: _SakuraKitsune|Date: 30/09/2022 15:28:18|Vtuber HurricaneIan DaytonaBeach Florida TheTowers|Likes: 14|Retweets: 3|Url: https://twitter.com/_SakuraKitsune/status/1575870158933221383\n",
            "doc_id = doc_3528 - tweet_id: 1575862925499445251 - score: 0.00014272279804572463\n",
            "\t Text: ['sad', 'see', 'florida', 'news', 'happi', 'see', 'back', 'ritikaguptatv', 'hurricaneian', 'bloomberg', 'bloombergtv', 'busi']|Username: Crypto_Tuitions|Date: 30/09/2022 14:59:34|Florida news HurricaneIan|Likes: 0|Retweets: 1|Url: https://twitter.com/Crypto_Tuitions/status/1575862925499445251\n",
            "\n",
            "\n",
            "Query results for query number 3: Home destroyed\n"
          ]
        },
        {
          "output_type": "stream",
          "name": "stderr",
          "text": [
            "WARNING:gensim.models.base_any2vec:under 10 jobs per worker: consider setting a smaller `batch_words' for smoother alpha decay\n",
            "WARNING:gensim.models.base_any2vec:under 10 jobs per worker: consider setting a smaller `batch_words' for smoother alpha decay\n"
          ]
        },
        {
          "output_type": "stream",
          "name": "stdout",
          "text": [
            "doc_id = doc_3471 - tweet_id: 1575863585452048384 - score: 0.004092366900295019\n",
            "\t Text: ['hurricaneian', 'flood', 'angelo', 'dawkin', 'home']|Username: ringsidenews_|Date: 30/09/2022 15:02:11|HurricaneIan|Likes: 73|Retweets: 8|Url: https://twitter.com/ringsidenews_/status/1575863585452048384\n",
            "doc_id = doc_3470 - tweet_id: 1575863585460420608 - score: 0.004092366900295019\n",
            "\t Text: ['hurricaneian', 'flood', 'angelo', 'dawkin', 'home']|Username: prowrestlingmag|Date: 30/09/2022 15:02:11|HurricaneIan|Likes: 3|Retweets: 0|Url: https://twitter.com/prowrestlingmag/status/1575863585460420608\n",
            "doc_id = doc_3184 - tweet_id: 1575867141169025024 - score: 0.004092366900295019\n",
            "\t Text: ['hurricaneian', 'flood', 'angelo', 'dawkin', 'home']|Username: PWStream|Date: 30/09/2022 15:16:19|HurricaneIan|Likes: 7|Retweets: 8|Url: https://twitter.com/PWStream/status/1575867141169025024\n",
            "doc_id = doc_742 - tweet_id: 1575909199330316288 - score: 0.004011612851172686\n",
            "\t Text: ['hurricaneian', 'expect', 'make', 'landfal', 'littl', 'closer', 'son', 'locat', 'nc', 'home', 'intracoast', 'waterway', 'ocean', 'alreadi', 'push', 'overflow', 'marsh', 'creek', 'well', 'beyond', 'bank']|Username: TaviGreiner|Date: 30/09/2022 18:03:26|HurricaneIan|Likes: 1|Retweets: 0|Url: https://twitter.com/TaviGreiner/status/1575909199330316288\n",
            "doc_id = doc_2037 - tweet_id: 1575883969413132289 - score: 0.003948461264371872\n",
            "\t Text: ['fcn2go', 'floodwat', 'bleed', 'wall', 'coupl', 'home', 'st', 'augustin', 'coupl', 'davi', 'shore', 'board', 'door', 'hurricaneian', 'floodwat', 'found', 'anoth', 'way', 'fcn2go', 'staugustin']|Username: RenataFCNews|Date: 30/09/2022 16:23:11|HurricaneIan StAugustine|Likes: 1|Retweets: 2|Url: https://twitter.com/RenataFCNews/status/1575883969413132289\n",
            "doc_id = doc_650 - tweet_id: 1575910210635714560 - score: 0.0039016851224005222\n",
            "\t Text: ['come', 'roomi', 'home', 'period', 'done', 'hurricaneian']|Username: yeellowteabbri|Date: 30/09/2022 18:07:27|hurricaneian|Likes: 0|Retweets: 0|Url: https://twitter.com/yeellowteabbri/status/1575910210635714560\n",
            "doc_id = doc_1986 - tweet_id: 1575885090441134081 - score: 0.003819697303697467\n",
            "\t Text: ['stay', 'home', 'dovehurricaneguid', 'hurricaneian', 'hurricaneian', 'hurricaneseason', 'hurrican']|Username: 1055TheDove|Date: 30/09/2022 16:27:38|DoveHurricaneGuide HurricaneIan Hurricane_Ian HurricaneSeason Hurricanes|Likes: 0|Retweets: 0|Url: https://twitter.com/1055TheDove/status/1575885090441134081\n",
            "doc_id = doc_1018 - tweet_id: 1575905955656892417 - score: 0.0036737092304974794\n",
            "\t Text: ['hit', 'home', 'fulli', 'shed', 'hold', 'chswx', 'hurricaneian']|Username: Uncle__Dee|Date: 30/09/2022 17:50:33|chswx HurricaneIan|Likes: 0|Retweets: 0|Url: https://twitter.com/Uncle__Dee/status/1575905955656892417\n",
            "doc_id = doc_3777 - tweet_id: 1575859150239981568 - score: 0.003656723303720355\n",
            "\t Text: ['shaverkarea', 'garyisthedad', 'nickadamsinusa', 'mayb', 'seen', 'footag', 'countless', 'trailer', 'park', 'home', 'decim', 'ignor', 'illog', 'hurricaneian', 'florida', 'msm']|Username: Marco35117419|Date: 30/09/2022 14:44:34|ignorant illogical HurricaneIan Florida MSM|Likes: 0|Retweets: 0|Url: https://twitter.com/Marco35117419/status/1575859150239981568\n",
            "doc_id = doc_134 - tweet_id: 1575916389491056641 - score: 0.003625989193096757\n",
            "\t Text: ['cape', 'romano', 'dome', 'home', 'built', '1982', 'southwest', 'florida', 'stapl', '40', 'year', 'destroy', 'hurrican', 'ian', 'hurricaneian', 'ian', 'ianaftermath', 'trend', 'colliercounti', 'florida']|Username: 1wingedangel78|Date: 30/09/2022 18:32:01|HurricaneIan Ian ianaftermath Trending CollierCounty Florida|Likes: 1|Retweets: 0|Url: https://twitter.com/1wingedangel78/status/1575916389491056641\n",
            "doc_id = doc_1413 - tweet_id: 1575899233068146688 - score: 0.003579152515158057\n",
            "\t Text: ['absolut', 'ghastli', 'miami', 'herald', 'publish', 'piec', 'essenti', 'celebr', 'one', 'tucker', 'carlson', 'home', 'damag', 'hurricaneian']|Username: realDanBel|Date: 30/09/2022 17:23:50|HurricaneIan|Likes: 1|Retweets: 1|Url: https://twitter.com/realDanBel/status/1575899233068146688\n",
            "doc_id = doc_3613 - tweet_id: 1575861651076587520 - score: 0.0034954394213855267\n",
            "\t Text: ['hurricaneian', 'hit', 'florida', 'todayshow', 'visit', 'pultehom', 'innov', 'home', 'ford', 'sunrun', 'demonstr', 'new', 'f150lightn', 'home', 'integr', 'system', 'could', 'power', 'home', 'event', 'poweroutag']|Username: Sunrun|Date: 30/09/2022 14:54:30|HurricaneIan Florida F150Lightning poweroutage|Likes: 10|Retweets: 3|Url: https://twitter.com/Sunrun/status/1575861651076587520\n",
            "doc_id = doc_2686 - tweet_id: 1575873282091499523 - score: 0.003418614622205496\n",
            "\t Text: ['custom', 'may', 'abl', 'receiv', 'power', 'home', 'damag', 'hurricaneian', 'inspect', 'licens', 'electrician', 'may', 'requir', 'home', 'receiv', 'power', 'ian']|Username: Edison_Electric|Date: 30/09/2022 15:40:43|HurricaneIan Ian|Likes: 1|Retweets: 2|Url: https://twitter.com/Edison_Electric/status/1575873282091499523\n",
            "doc_id = doc_2543 - tweet_id: 1575875202445348864 - score: 0.003367236815392971\n",
            "\t Text: ['insan', 'sad', 'live', 'lost', 'home', 'irrepar', 'damag', 'hurricaneian']|Username: makeupbytoshi|Date: 30/09/2022 15:48:21|HurricaneIan|Likes: 0|Retweets: 1|Url: https://twitter.com/makeupbytoshi/status/1575875202445348864\n",
            "doc_id = doc_1416 - tweet_id: 1575899112301395970 - score: 0.003356557572260499\n",
            "\t Text: ['maf', 'star', 'jami', 'oti', 'give', 'updat', 'home', 'hurricaneian', 'confirm', 'minim', 'damag']|Username: monstersandcrit|Date: 30/09/2022 17:23:21|MAFS HurricaneIan|Likes: 0|Retweets: 0|Url: https://twitter.com/monstersandcrit/status/1575899112301395970\n",
            "doc_id = doc_836 - tweet_id: 1575908417062903810 - score: 0.0032830045092850924\n",
            "\t Text: ['mobil', 'home', 'commun', 'destroy', 'hurricaneian']|Username: leonardkl|Date: 30/09/2022 18:00:20|HurricaneIan|Likes: 0|Retweets: 0|Url: https://twitter.com/leonardkl/status/1575908417062903810\n",
            "doc_id = doc_3228 - tweet_id: 1575866516263776256 - score: 0.003272108966484666\n",
            "\t Text: ['duke', 'respond', 'standard', 'can', 'repli', 'noth', 'nurs', 'home', 'gener', 'power', 'cool', 'patient', 'room', 'hurricaneian', 'dukeenergi', 'govrondesanti']|Username: CharlesExpHC|Date: 30/09/2022 15:13:50|HurricaneIan|Likes: 1|Retweets: 0|Url: https://twitter.com/CharlesExpHC/status/1575866516263776256\n",
            "doc_id = doc_2880 - tweet_id: 1575870693698568193 - score: 0.003258580109104514\n",
            "\t Text: ['head', 'home', 'earli', 'work', 'crap', 'hurricaneian']|Username: emphotographysc|Date: 30/09/2022 15:30:26|HurricaneIan|Likes: 0|Retweets: 0|Url: https://twitter.com/emphotographysc/status/1575870693698568193\n",
            "doc_id = doc_313 - tweet_id: 1575914273687019520 - score: 0.0032457453198730946\n",
            "\t Text: ['everyth', 'home', 'gone', 'damag', 'home', 'fortmyersbeach', 'fort', 'myer', 'beach', 'mayor', 'describ', 'war', 'zone', 'hurrican', 'hurricaneian', 'ian']|Username: Belinda_Post|Date: 30/09/2022 18:23:36|FortMyersBeach hurricane hurricaneian ian|Likes: 5|Retweets: 1|Url: https://twitter.com/Belinda_Post/status/1575914273687019520\n",
            "doc_id = doc_1630 - tweet_id: 1575893772252192769 - score: 0.003186127170920372\n",
            "\t Text: ['tornado', 'rip', 'least', 'two', 'florida', 'airport', 'home', 'dozen', 'light', 'plane', 'tie', 'outsid', 'damag', 'catastroph', 'hurricaneian', 'florida']|Username: planeandpilot|Date: 30/09/2022 17:02:08|HurricaneIan Florida|Likes: 0|Retweets: 0|Url: https://twitter.com/planeandpilot/status/1575893772252192769\n",
            "\n",
            "\n",
            "Query results for query number 4: Climate emergency\n",
            "doc_id = doc_2319 - tweet_id: 1575878315675717632 - score: 0.0005191901000216603\n",
            "\t Text: ['fl', 'regulatori', 'bulletin', 'emerg', 'order', 'hurricaneian', 'propertylegalnew']|Username: PLRBConf|Date: 30/09/2022 16:00:43|HurricaneIan PropertyLegalNews|Likes: 0|Retweets: 0|Url: https://twitter.com/PLRBConf/status/1575878315675717632\n",
            "doc_id = doc_3802 - tweet_id: 1575858899349131271 - score: 0.00048410429735668004\n",
            "\t Text: ['recent', 'look', 'orchestr', 'piec', 'climat', 'crisi', 'hurricaneian']|Username: briancwise|Date: 30/09/2022 14:43:34|HurricaneIan|Likes: 0|Retweets: 0|Url: https://twitter.com/briancwise/status/1575858899349131271\n",
            "doc_id = doc_2955 - tweet_id: 1575869960517304321 - score: 0.00048410429735668004\n",
            "\t Text: ['dncclimat', 'thedreamcorp', 'yougovamerica', 'thank', 'highlight', 'room', 'climat', 'denier', 'hurricaneian']|Username: cece248|Date: 30/09/2022 15:27:31|HurricaneIan|Likes: 0|Retweets: 0|Url: https://twitter.com/cece248/status/1575869960517304321\n",
            "doc_id = doc_2698 - tweet_id: 1575873060632424450 - score: 0.00048410429735668004\n",
            "\t Text: ['humor', 'best', 'reveng', 'corpor', 'bs', 'climat', 'ianhurrican', 'hurricaneian']|Username: FranklinBlog|Date: 30/09/2022 15:39:50|climate ianhurricane hurricaneIan|Likes: 0|Retweets: 0|Url: https://twitter.com/FranklinBlog/status/1575873060632424450\n",
            "doc_id = doc_3968 - tweet_id: 1575856602346766344 - score: 0.00044023338705301285\n",
            "\t Text: ['cnn', 'chief', 'climat', 'correspond', 'billweircnn', 'show', 'destruct', 'hurricaneian', 'resid', 'st', 'jame', 'citi', 'florida']|Username: CharlesPDavis|Date: 30/09/2022 14:34:26|HurricaneIan|Likes: 0|Retweets: 0|Url: https://twitter.com/CharlesPDavis/status/1575856602346766344\n",
            "doc_id = doc_1404 - tweet_id: 1575899573637337089 - score: 0.00041810862603597343\n",
            "\t Text: ['40', 'florida', 'nurs', 'home', 'evacu', 'hurrican', 'ian', 'wake', 'known', 'resid', 'death', 'thursday', 'state', 'mobil', 'emerg', 'resourc', 'prevent', 'major', 'catastroph', 'florida', 'hurricaneian', 'emerg', 'nursinghom', 'fhca']|Username: mcknightsltcn|Date: 30/09/2022 17:25:11|florida hurricaneian emergency nursinghomes|Likes: 0|Retweets: 1|Url: https://twitter.com/mcknightsltcn/status/1575899573637337089\n",
            "doc_id = doc_2587 - tweet_id: 1575874594367365121 - score: 0.00041277866694144905\n",
            "\t Text: ['aaaand', 'light', 'gone', 'emerg', 'siren', 'follow', 'close', 'scream', 'myrtlebeach', 'hurricaneian']|Username: mettakam|Date: 30/09/2022 15:45:56|myrtlebeach hurricaneian|Likes: 1|Retweets: 0|Url: https://twitter.com/mettakam/status/1575874594367365121\n",
            "doc_id = doc_3668 - tweet_id: 1575860650819321856 - score: 0.00038427708204835653\n",
            "\t Text: ['hurricaneian', 'result', 'climat', 'chang', 'climat', 'chang', 'start', 'actual', 'start', 'florida', 'start', 'popul', 'pre', '1900']|Username: kevan_logic|Date: 30/09/2022 14:50:31|HurricaneIan|Likes: 4|Retweets: 1|Url: https://twitter.com/kevan_logic/status/1575860650819321856\n",
            "doc_id = doc_889 - tweet_id: 1575907910713909248 - score: 0.0003841285652015358\n",
            "\t Text: ['moron', 'half', 'world', 'away', 'think', 'climat', 'chang', 'real', 'hurricaneian']|Username: somekindofsimp|Date: 30/09/2022 17:58:19|HurricaneIan|Likes: 0|Retweets: 0|Url: https://twitter.com/somekindofsimp/status/1575907910713909248\n",
            "doc_id = doc_2497 - tweet_id: 1575875806638886914 - score: 0.0003841285652015358\n",
            "\t Text: ['one', 'thing', 'good', 'speci', 'avoid', 'blame', 'climat', 'chang', 'differ', 'human', 'problem', 'earth', 'bad', 'hair', 'phase', 'restorearth', 'fridaysforfutur', 'climateactionedu', 'hurricaneian']|Username: RestorEarth|Date: 30/09/2022 15:50:45|RestorEarth FridaysForFuture climateactionedu HurricaneIan|Likes: 2|Retweets: 3|Url: https://twitter.com/RestorEarth/status/1575875806638886914\n",
            "doc_id = doc_1958 - tweet_id: 1575885770094690305 - score: 0.0003841285652015358\n",
            "\t Text: ['climat', 'chang', 'crazi', 'mum', 'defend', 'exot', 'trip', 'hurricaneian', 'climatescam', 'climateandcoronawarwayout']|Username: AllHitzAMWokeUp|Date: 30/09/2022 16:30:20|HurricaneIan ClimateScam ClimateAndCoronaWarWayOut|Likes: 0|Retweets: 1|Url: https://twitter.com/AllHitzAMWokeUp/status/1575885770094690305\n",
            "doc_id = doc_147 - tweet_id: 1575916233295532032 - score: 0.0003841285652015358\n",
            "\t Text: ['donaldjtrumpjr', 'hurricaneian', 'ukrain', 'donald', 'trump', 'tweet', 'climat', 'chang', 'skeptic', '115', 'time']|Username: A_NHDogLover|Date: 30/09/2022 18:31:23|HurricaneIan Ukraine|Likes: 0|Retweets: 0|Url: https://twitter.com/A_NHDogLover/status/1575916233295532032\n",
            "doc_id = doc_3480 - tweet_id: 1575863538282893314 - score: 0.000360210076905787\n",
            "\t Text: ['top', '5', 'climat', 'hashtag', 'septemb', '28', '2022', 'hurricaneian', '4', '84', 'cop27', '3', '87', 'globalwarm', '2', '66', 'ian', '2', '42', 'methan', '2', '18']|Username: TopClimateTweet|Date: 30/09/2022 15:02:00|hurricaneian cop27 globalwarming ian methane|Likes: 0|Retweets: 0|Url: https://twitter.com/TopClimateTweet/status/1575863538282893314\n",
            "doc_id = doc_1399 - tweet_id: 1575899709897482245 - score: 0.00035997951636090875\n",
            "\t Text: ['9', '30', '2022', 'hurrican', 'ian', 'updat', 'american', 'sign', 'languag', 'hand', 'georgia', 'emerg', 'manag', 'homeland', 'secur', 'agenc', 'deaf', 'asl', 'equalaccess', 'ada', 'access', 'deafcert', 'hurricaneian']|Username: allhandson|Date: 30/09/2022 17:25:44|Ian Deaf ASL EqualAccess ADA Accessibility DeafCERT HurricaneIan|Likes: 1|Retweets: 0|Url: https://twitter.com/allhandson/status/1575899709897482245\n",
            "doc_id = doc_2890 - tweet_id: 1575870621434941440 - score: 0.00035566205042414367\n",
            "\t Text: ['desanti', 'privat', 'polic', 'forc', 'hire', 'help', 'florida', 'emerg', 'situat', 'hurricaneian', 'rondesantisfl', 'flgopmajor', 'weatherchannel']|Username: Genie2|Date: 30/09/2022 15:30:09|HurricaneIan|Likes: 0|Retweets: 0|Url: https://twitter.com/Genie2/status/1575870621434941440\n",
            "doc_id = doc_2997 - tweet_id: 1575869451710316544 - score: 0.00035147019661962986\n",
            "\t Text: ['hope', 'florida', 'emerg', 'kit', 'sustain', 'sad', 'pray', 'victim', 'hurricaneian']|Username: columbuscareers|Date: 30/09/2022 15:25:30|Florida HurricaneIan|Likes: 0|Retweets: 0|Url: https://twitter.com/columbuscareers/status/1575869451710316544\n",
            "doc_id = doc_3069 - tweet_id: 1575868597360287744 - score: 0.0003486228233668953\n",
            "\t Text: ['man', 'made', 'climat', 'disast', 'challeng', 'mother', 'natur', 'decim', 'human', 'hurricaneian', 'leav', 'trail', 'destruct', 'florida', 'pictur']|Username: OBEROI_R_US|Date: 30/09/2022 15:22:06|Climate HurricaneIan Florida|Likes: 1|Retweets: 0|Url: https://twitter.com/OBEROI_R_US/status/1575868597360287744\n",
            "doc_id = doc_3162 - tweet_id: 1575867416181178373 - score: 0.00033517417614348233\n",
            "\t Text: ['climat', 'chang', 'made', 'hurricaneian', 'even', 'destruct', 'queen', 'elizabeth', 'caus', 'death', 'reveal', 'health', 'care', 'system', 'applenewstoday', 'shubasu', 'listen']|Username: AppleNews|Date: 30/09/2022 15:17:24|HurricaneIan AppleNewsToday|Likes: 2|Retweets: 1|Url: https://twitter.com/AppleNews/status/1575867416181178373\n",
            "doc_id = doc_3795 - tweet_id: 1575858986720845827 - score: 0.00033340370282530785\n",
            "\t Text: ['new', 'world', 'new', 'climat', 'new', 'meet', 'new', 'ian', 'hurricaneian']|Username: chriscartw83|Date: 30/09/2022 14:43:55|Climate Ian hurricaneIan|Likes: 3|Retweets: 1|Url: https://twitter.com/chriscartw83/status/1575858986720845827\n",
            "doc_id = doc_949 - tweet_id: 1575907126207479809 - score: 0.00032958705560304224\n",
            "\t Text: ['midland', 'wr120b', 'wr120ez', 'noaa', 'emerg', 'weather', 'alert', 'radio', 'hurricaneian', 'hurricaneian', 'hurricaneianupd', 'hurricaneprep', 'prep', 'prepar', 'storm', 'weather', 'weatherupd', 'weatheralert', 'tornado', 'emerg', 'radio', 'equip', 'southcarolina', 'pleaseretweet']|Username: YulTolbert|Date: 30/09/2022 17:55:12|NOAA Radio HurricaneIan Hurricane_Ian HurricaneIanupdate HurricanePrep prep prepare storm weather weatherupdates weatheralert tornado emergency radio equipment southcarolina pleaseretweet|Likes: 0|Retweets: 1|Url: https://twitter.com/YulTolbert/status/1575907126207479809\n",
            "\n",
            "\n",
            "Query results for query number 5: My dog suffered\n"
          ]
        },
        {
          "output_type": "stream",
          "name": "stderr",
          "text": [
            "WARNING:gensim.models.base_any2vec:under 10 jobs per worker: consider setting a smaller `batch_words' for smoother alpha decay\n"
          ]
        },
        {
          "output_type": "stream",
          "name": "stdout",
          "text": [
            "doc_id = doc_2661 - tweet_id: 1575873584840736768 - score: 0.000286098598735407\n",
            "\t Text: ['say', 'divin', 'retribut', 'pain', 'suffer', 'caus', 'make', 'elitist', 'chuckl', 'think', 'pretti', 'hard', 'seriou', 'note', 'hope', 'everyon', 'path', 'hurricaneian', 'safe', 'secur', 'know', 'vote', 'señor', 'fuckhead']|Username: vstjade|Date: 30/09/2022 15:41:55|HurricaneIan|Likes: 0|Retweets: 0|Url: https://twitter.com/vstjade/status/1575873584840736768\n",
            "doc_id = doc_1441 - tweet_id: 1575898404492054528 - score: 0.000286098598735407\n",
            "\t Text: ['labor', 'protect', 'home', 'insur', 'infrastructur', 'govern', 'respons', 'agenc', 'capac', 'decidedli', 'sexi', 'topic', 'like', 'overlook', 'come', 'month', 'instead', 'hear', 'much', 'sexier', 'hurricaneian', 'caus', 'widespread', 'suffer']|Username: LeanneDesselle|Date: 30/09/2022 17:20:33|hurricaneian|Likes: 1|Retweets: 0|Url: https://twitter.com/LeanneDesselle/status/1575898404492054528\n",
            "doc_id = doc_654 - tweet_id: 1575910161222619136 - score: 0.00028528503025881946\n",
            "\t Text: ['final', 'cell', 'servic', 'back', 'happi', 'report', 'wife', '2', 'dog', '3', 'cat', 'surviv', 'storm', 'evacu', 'mid', 'storm', 'hous', 'began', 'flood', 'made', 'safe', 'higher', 'ground', 'got', 'long', 'road', 'ahead', 'happi', 'aliv', 'hurricaneian']|Username: thepeaceondrugs|Date: 30/09/2022 18:07:16|HurricaneIan|Likes: 3|Retweets: 0|Url: https://twitter.com/thepeaceondrugs/status/1575910161222619136\n",
            "doc_id = doc_2451 - tweet_id: 1575876324140646400 - score: 0.00028528503025881946\n",
            "\t Text: ['tree', 'beauti', 'tree', 'environment', 'friendli', 'tree', 'danger', 'heavi', 'rain', 'strong', 'wind', 'mix', 'prepared', 'tip', 'hurricaneian', 'hunker', 'room', 'safe', 'tall', 'tree', 'minim', 'travel', 'awar', 'around', 'walk', 'dog', 'weatherreadi']|Username: WRNAmbassadors|Date: 30/09/2022 15:52:48|HurricaneIan WeatherReady|Likes: 1|Retweets: 1|Url: https://twitter.com/WRNAmbassadors/status/1575876324140646400\n",
            "doc_id = doc_1854 - tweet_id: 1575888174617956356 - score: 0.00028528503025881946\n",
            "\t Text: ['cute', 'new', 'wavynew', 'help', 'vbspca', 'took', 'ador', 'dog', 'save', 'hurricaneian', 'donat']|Username: juliemilletnews|Date: 30/09/2022 16:39:54|dogs HurricaneIan|Likes: 2|Retweets: 0|Url: https://twitter.com/juliemilletnews/status/1575888174617956356\n",
            "doc_id = doc_1392 - tweet_id: 1575899951812341760 - score: 0.0002711648412514478\n",
            "\t Text: ['brave', 'man', 'save', 'dog', 'drown', 'hurricaneian', 'floodwat', 'rescu', 'ian', 'hurricanian', 'dog', 'braveri', 'hero']|Username: LynnSchore|Date: 30/09/2022 17:26:41|HurricaneIan rescue Ian HurricanIan dogs bravery hero|Likes: 1|Retweets: 0|Url: https://twitter.com/LynnSchore/status/1575899951812341760\n",
            "doc_id = doc_1409 - tweet_id: 1575899425905717248 - score: 0.00019143267127219588\n",
            "\t Text: ['c', 'amp', 'c', 'complet', 'servic', 'avail', '24', 'hour', 'day', '7', 'day', 'week', 'regularli', 'personnel', 'avail', 'properti', 'suffer', 'water', 'rain', 'wind', 'damag', 'upcom', 'day', 'hotlin', '1', '800', '307', 'team', '8326', 'cnccompleteservic', 'hurricaneian']|Username: CCCompleteServ1|Date: 30/09/2022 17:24:36|cnccompleteservices hurricaneian|Likes: 0|Retweets: 0|Url: https://twitter.com/CCCompleteServ1/status/1575899425905717248\n",
            "doc_id = doc_2917 - tweet_id: 1575870297458155521 - score: 0.00019089030683971941\n",
            "\t Text: ['62', 'degre', 'amp', 'light', 'wind', 'augusta', 'ahead', 'hurricaneian', 'howev', 'would', 'think', '12', 'saw', 'dramat', 'dog']|Username: alexandrankoch|Date: 30/09/2022 15:28:51|HurricaneIan|Likes: 6|Retweets: 0|Url: https://twitter.com/alexandrankoch/status/1575870297458155521\n",
            "doc_id = doc_2537 - tweet_id: 1575875317918748679 - score: 0.00018832927162293345\n",
            "\t Text: ['pray', 'suffer', 'hurrican', 'hurricaneian']|Username: Gaming2klife1|Date: 30/09/2022 15:48:48|HurricaneIan|Likes: 0|Retweets: 0|Url: https://twitter.com/Gaming2klife1/status/1575875317918748679\n",
            "doc_id = doc_679 - tweet_id: 1575909904845402112 - score: 0.00018778692174237221\n",
            "\t Text: ['dog', 'love', 'rain', 'would', 'wander', 'around', 'outsid', 'entir', 'hurrican', 'let', 'hurricaneian']|Username: quillsive|Date: 30/09/2022 18:06:14|HurricaneIan|Likes: 0|Retweets: 0|Url: https://twitter.com/quillsive/status/1575909904845402112\n",
            "doc_id = doc_2044 - tweet_id: 1575883761773944833 - score: 0.00018778692174237221\n",
            "\t Text: ['walk', 'dog', 'hurricaneian', 'hurrican', 'hurricaneseason2022', 'walk', 'holistichealth', 'healthylifestyl', 'healthyhabit', 'zenlif']|Username: THEzenlarge|Date: 30/09/2022 16:22:21|HurricaneIan hurricane hurricaneseason2022 walking holistichealth healthylifestyle healthyhabits zenlife|Likes: 0|Retweets: 0|Url: https://twitter.com/THEzenlarge/status/1575883761773944833\n",
            "doc_id = doc_1287 - tweet_id: 1575901760031539205 - score: 0.00017023210239131004\n",
            "\t Text: ['suffer', 'agricultur', 'loss', 'due', 'hurricaneian', 'usda', 'rang', 'disast', 'assist', 'program', 'help', 'produc', 'get', 'back', 'feet', 'find', 'qualifi', 'report', 'loss']|Username: NikkiFriedFL|Date: 30/09/2022 17:33:53|HurricaneIan|Likes: 4|Retweets: 3|Url: https://twitter.com/NikkiFriedFL/status/1575901760031539205\n",
            "doc_id = doc_852 - tweet_id: 1575908334338801664 - score: 0.00016689927724655718\n",
            "\t Text: ['good', 'day', 'sunshin', 'palm', 'beach', 'co', 'florida', 'lucki', 'avoid', 'hurricaneian', 'best', 'wish', 'suffer', 'damag', 'storm']|Username: screenwriteretc|Date: 30/09/2022 18:00:00|Florida HurricaneIan|Likes: 0|Retweets: 0|Url: https://twitter.com/screenwriteretc/status/1575908334338801664\n",
            "doc_id = doc_538 - tweet_id: 1575911392145817601 - score: 0.00016689927724655718\n",
            "\t Text: ['good', 'key', 'west', 'part', 'lucki', 'thought', 'prayer', 'suffer', 'greatli', 'hurricaneian', 'keywest', 'key', 'west', 'florida']|Username: JH_Cunningham|Date: 30/09/2022 18:12:09|hurricaneian keywest|Likes: 0|Retweets: 1|Url: https://twitter.com/JH_Cunningham/status/1575911392145817601\n",
            "doc_id = doc_2327 - tweet_id: 1575878251561771008 - score: 0.00016689927724655718\n",
            "\t Text: ['feel', 'guilti', 'enjoy', 'beauti', 'blue', 'sky', 'bright', 'sunshin', 'much', 'suffer', 'south', 'us', 'hurricaneian', 'florida']|Username: RobynInFlorida|Date: 30/09/2022 16:00:28|HurricaneIan Florida|Likes: 3|Retweets: 1|Url: https://twitter.com/RobynInFlorida/status/1575878251561771008\n",
            "doc_id = doc_707 - tweet_id: 1575909632530432029 - score: 0.00016635691281408072\n",
            "\t Text: ['jordan', 'reidi', 'carri', 'dog', 'ivori', 'back', 'second', 'floor', 'apart', 'fort', 'myer', 'florida', 'flee', 'hurricaneian', 'pass', 'jraedl']|Username: GettyImagesNews|Date: 30/09/2022 18:05:10|Florida HurricaneIan|Likes: 3|Retweets: 2|Url: https://twitter.com/GettyImagesNews/status/1575909632530432029\n",
            "doc_id = doc_2523 - tweet_id: 1575875501352046593 - score: 0.00016364947077818215\n",
            "\t Text: ['like', 'express', 'sympathi', 'economi', 'suffer', 'much', 'pain', 'amp', 'miseri', 'due', 'recent', 'extrem', 'weather', 'cost', 'live', 'amp', 'energi', 'crise', 'hope', 'economi', 'suffer', 'cold', 'hunger', 'homeless', 'like', 'real', 'peopl', 'hurricaneian', 'ian', 'climateemerg']|Username: IPolemikos|Date: 30/09/2022 15:49:32|HurricaneIan Ian ClimateEmergency|Likes: 0|Retweets: 0|Url: https://twitter.com/IPolemikos/status/1575875501352046593\n",
            "doc_id = doc_90 - tweet_id: 1575916894309138432 - score: 0.00014613890380132943\n",
            "\t Text: ['help', 'church', 'suffer', 'great', 'loss', 'florida', 'carolina', 'pleas', 'go']|Username: ReseedingAmeric|Date: 30/09/2022 18:34:01|HurricaneIan BIMI reseedingameric|Likes: 0|Retweets: 0|Url: https://twitter.com/ReseedingAmeric/status/1575916894309138432\n",
            "doc_id = doc_1572 - tweet_id: 1575894823612997645 - score: 0.00013853218115400523\n",
            "\t Text: ['nancylevin', 'lesleyabravanel', 'marcgunth', 'lol', 'care', 'left', 'democrat', 'ignor', 'suffer', 'florida', 'desanti', 'normal', 'peopl', 'help', 'impact', 'hurricaneian']|Username: lou_twin|Date: 30/09/2022 17:06:19|left Democrats Florida DeSantis HurricaneIan|Likes: 0|Retweets: 0|Url: https://twitter.com/lou_twin/status/1575894823612997645\n",
            "doc_id = doc_282 - tweet_id: 1575914639476412422 - score: 0.00012567598605528474\n",
            "\t Text: ['news', 'come', 'catastroph', 'flood', 'hurricaneian', 'devast', 'prayer', 'victim', 'suffer', 'huge', 'loss', 'due', 'unexpect', 'calam', 'hurrican', 'prayersforflorida']|Username: maxfortllc|Date: 30/09/2022 18:25:03|HurricaneIan Hurricane prayersforflorida|Likes: 1|Retweets: 2|Url: https://twitter.com/maxfortllc/status/1575914639476412422\n",
            "\n",
            "\n"
          ]
        }
      ]
    }
  ],
  "metadata": {
    "colab": {
      "provenance": []
    },
    "kernelspec": {
      "display_name": "Python 3",
      "name": "python3"
    },
    "language_info": {
      "name": "python"
    }
  },
  "nbformat": 4,
  "nbformat_minor": 0
}