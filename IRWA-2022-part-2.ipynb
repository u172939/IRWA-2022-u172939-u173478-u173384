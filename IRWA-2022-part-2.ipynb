{
  "nbformat": 4,
  "nbformat_minor": 0,
  "metadata": {
    "colab": {
      "provenance": [],
      "collapsed_sections": [],
      "toc_visible": true
    },
    "kernelspec": {
      "name": "python3",
      "display_name": "Python 3"
    },
    "language_info": {
      "name": "python"
    }
  },
  "cells": [
    {
      "cell_type": "code",
      "execution_count": 1,
      "metadata": {
        "id": "8LZjOBPN2bB6",
        "colab": {
          "base_uri": "https://localhost:8080/"
        },
        "outputId": "9cd5ae21-8e84-4547-a93f-cfb89b9a07b8"
      },
      "outputs": [
        {
          "output_type": "stream",
          "name": "stdout",
          "text": [
            "Mounted at /content/drive\n"
          ]
        }
      ],
      "source": [
        "# Mounting drive\n",
        "\n",
        "from google.colab import drive\n",
        "\n",
        "drive.mount('/content/drive')\n",
        "\n",
        "import os\n",
        "os.chdir(\"/content/drive/Shareddrives/InformationRetrieval_2022/project/inputs\")"
      ]
    },
    {
      "cell_type": "markdown",
      "source": [
        "# Import libraries"
      ],
      "metadata": {
        "id": "gjyBCDacpDtn"
      }
    },
    {
      "cell_type": "code",
      "source": [
        "import json\n",
        "import csv\n",
        "import pandas as pd\n",
        "import numpy as np\n",
        "import re\n",
        "import datetime\n",
        "from numpy import linalg as la"
      ],
      "metadata": {
        "id": "cOH-XcBC37Jq"
      },
      "execution_count": 2,
      "outputs": []
    },
    {
      "cell_type": "code",
      "source": [
        "import nltk\n",
        "nltk.download('stopwords')\n",
        "\n",
        "from collections import defaultdict\n",
        "from array import array\n",
        "from nltk.stem import PorterStemmer\n",
        "from nltk.corpus import stopwords\n",
        "import math\n",
        "import numpy as np\n",
        "import collections\n",
        "import warnings\n",
        "warnings.filterwarnings('ignore')"
      ],
      "metadata": {
        "id": "Uk0ExiLogesl",
        "colab": {
          "base_uri": "https://localhost:8080/"
        },
        "outputId": "7eb2956f-1f25-45b9-d6be-d99880769f4e"
      },
      "execution_count": 3,
      "outputs": [
        {
          "output_type": "stream",
          "name": "stderr",
          "text": [
            "[nltk_data] Downloading package stopwords to /root/nltk_data...\n",
            "[nltk_data]   Unzipping corpora/stopwords.zip.\n"
          ]
        }
      ]
    },
    {
      "cell_type": "markdown",
      "source": [
        "# Function definitions"
      ],
      "metadata": {
        "id": "Oq143FmEpIm3"
      }
    },
    {
      "cell_type": "markdown",
      "source": [
        "### Part 1 implementations"
      ],
      "metadata": {
        "id": "S6AxqFAJNeiw"
      }
    },
    {
      "cell_type": "code",
      "source": [
        "def clean(text):\n",
        "    # transform to lowercase\n",
        "    cleanText = text.lower()\n",
        "\n",
        "    # removing the urls from tweeet, starts with https\n",
        "    cleanText = re.sub('https?:\\/\\/.*[\\r\\n]*', '', cleanText, flags=re.MULTILINE)\n",
        "\n",
        "    # removing nonalphanumeric\n",
        "    cleanText = re.sub(r'[\\W]+', ' ', cleanText)\n",
        "    cleanText = re.sub(r'[\\_]+', '', cleanText)\n",
        "    \n",
        "    return cleanText\n",
        " "
      ],
      "metadata": {
        "id": "A49ivFkmoZPK"
      },
      "execution_count": 4,
      "outputs": []
    },
    {
      "cell_type": "code",
      "source": [
        "def build_terms(text):\n",
        "\n",
        "    stemmer = PorterStemmer()\n",
        "    stop_words = set(stopwords.words(\"english\"))\n",
        "\n",
        "    text = clean(text)\n",
        "\n",
        "    # Tokenize the text to get a list of terms\n",
        "    text =  text.split()\n",
        "\n",
        "    # Eliminate the stopwords \n",
        "    text = [word for word in text if word not in stop_words]  \n",
        "\n",
        "    # Stemming (keeping the root of the words)\n",
        "    text = [stemmer.stem(word) for word in text] \n",
        "    \n",
        "    return text"
      ],
      "metadata": {
        "id": "S8DDNIClgXtk"
      },
      "execution_count": 5,
      "outputs": []
    },
    {
      "cell_type": "code",
      "source": [
        "def create_mapping(filename, key, value, verbose=True):\n",
        "  \n",
        "  # Read the csv file\n",
        "  mapping_df = pd.read_csv(filename, header=None, sep='\\s', index_col=False)\n",
        "\n",
        "  # Change column names \n",
        "  mapping_df.columns = [key, value]\n",
        "\n",
        "  # Transform the pandas DataFrame to a dictionary {doc_id: tweet_id}\n",
        "  mapping = dict()\n",
        "\n",
        "  for idx, row in mapping_df.iterrows():\n",
        "    mapping[row[key]] = row[value]\n",
        "\n",
        "  if verbose:\n",
        "    print('The length of the mapping is: ', len(mapping_df))\n",
        "    print('Example of structure: ({} : {})'.format(list(mapping.keys())[0], list(mapping.values())[0]))\n",
        "\n",
        "  return mapping"
      ],
      "metadata": {
        "id": "YEevsqJChC8W"
      },
      "execution_count": 6,
      "outputs": []
    },
    {
      "cell_type": "markdown",
      "source": [
        "### Part 2 implementations"
      ],
      "metadata": {
        "id": "SN8wwiqLNdI5"
      }
    },
    {
      "cell_type": "code",
      "source": [
        "def create_index_tfidf(doc_to_tweet, tweets, num_documents):\n",
        "    \"\"\"\n",
        "    Implement the inverted index and compute tf, df and idf\n",
        "    \n",
        "    Arguments:\n",
        "    doc_to_tweet -- dictionary to pass from doc_id to tweet_it\n",
        "    tweets -- collection of tweets\n",
        "    num_documents -- total number of tweets\n",
        "    \n",
        "    Returns:\n",
        "    index - the inverted index as a Python dictionary: {term: list of documents and positions}\n",
        "    tf - normalized term frequency for each term in each document\n",
        "    df - number of documents each term appear in\n",
        "    idf - inverse document frequency of each term\n",
        "    \"\"\"\n",
        "\n",
        "    index = defaultdict(list)\n",
        "    tf = defaultdict(list)  # term frequencies of terms in documents (documents in the same order as in the main index)\n",
        "    df = defaultdict(int)  # document frequencies of terms in the collection\n",
        "    idf = defaultdict(float)\n",
        "\n",
        "    # Remember, tweets contain {tweet_id: {tweet info}}\n",
        "\n",
        "    for doc_id, tweet_id in doc_to_tweet.items():  \n",
        "\n",
        "        terms = tweets[tweet_id]['text']\n",
        "\n",
        "        current_doc_index = {}\n",
        "\n",
        "        for position, term in enumerate(terms): # iterate through tweet terms\n",
        "            try:\n",
        "                current_doc_index[term][1].append(position)  \n",
        "            except:\n",
        "                current_doc_index[term] = [doc_id, array('I',[position])]\n",
        "\n",
        "        # Compute normalized term frequencies and df weights\n",
        "        norm = 0\n",
        "\n",
        "        for term, posting in current_doc_index.items(): # posting ==> [current_doc, [list of positions]] for each term\n",
        "            norm += len(posting[1]) ** 2\n",
        "        norm = math.sqrt(norm)\n",
        "\n",
        "        for term, posting in current_doc_index.items():\n",
        "            tf[term].append(np.round(len(posting[1])/norm,4)) # append the tf for current term\n",
        "            df[term] += 1 #increment the document frequency of current term\n",
        "\n",
        "        # Merge the current page index with the main index\n",
        "        for term_doc, posting in current_doc_index.items():\n",
        "            index[term_doc].append(posting)\n",
        "\n",
        "        # Compute IDF \n",
        "        for term in df:\n",
        "            idf[term] = np.round(np.log(float(num_documents/df[term])), 4)\n",
        "\n",
        "    return index, tf, df, idf\n"
      ],
      "metadata": {
        "id": "PoI15v-k5whm"
      },
      "execution_count": 7,
      "outputs": []
    },
    {
      "cell_type": "code",
      "source": [
        "def rank_documents(query, tweets, index, idf, tf):\n",
        "    \"\"\"\n",
        "    Perform the ranking of the results of a search based on the tf-idf weights\n",
        "    \n",
        "    Argument:\n",
        "    query -- list of query terms\n",
        "    tweets -- list of tweets, to rank, matching the query\n",
        "    index -- inverted index data structure\n",
        "    idf -- inverted document frequencies\n",
        "    tf -- term frequencies\n",
        "    \n",
        "    Returns:\n",
        "    List of ranked documents, List of corresponding scores\n",
        "    \"\"\"\n",
        "\n",
        "    # doc_vectors[k] = (k,[0]*len(terms))\n",
        "    doc_vectors = defaultdict(lambda: [0] * len(query)) \n",
        "    query_vector = [0] * len(query)\n",
        "\n",
        "    # compute the norm for the query tf\n",
        "    query_terms_count = collections.Counter(query)  # term frequency for the query terms\n",
        "    query_norm = la.norm(list(query_terms_count.values()))\n",
        "\n",
        "    for termIndex, term in enumerate(query):  #termIndex is the index of the term in the query\n",
        "        if term not in index:\n",
        "            # do not have into account terms that do not appear in query\n",
        "            continue \n",
        "\n",
        "        # Compute tf*idf (normalize TF as done with documents)\n",
        "        query_vector[termIndex]= query_terms_count[term]/query_norm * idf[term] \n",
        "\n",
        "        # Generate doc_vectors for matching docs\n",
        "        for doc_index, (doc, postings) in enumerate(index[term]):\n",
        "         \n",
        "            if doc in tweets:\n",
        "                doc_vectors[doc][termIndex] = tf[term][doc_index] * idf[term] \n",
        "\n",
        "    \n",
        "    # Compute the score of each doc (cosine similarity with query vector)\n",
        "    doc_scores = [[np.dot(curDocVec, query_vector), doc] for doc, curDocVec in doc_vectors.items()]\n",
        "    doc_scores.sort(reverse=True) #sort by descending order\n",
        "    \n",
        "    result_docs = [x[1] for x in doc_scores] # take doc_id\n",
        "    result_scores = [x[0] for x in doc_scores] # take score\n",
        "\n",
        "    return result_docs, result_scores"
      ],
      "metadata": {
        "id": "LHMUPkTmMBZH"
      },
      "execution_count": 8,
      "outputs": []
    },
    {
      "cell_type": "code",
      "source": [
        "def get_hashtags(tweet):\n",
        "    \"\"\" \n",
        "    Return the list of hastags (input) as a string (output)\n",
        "    \"\"\"\n",
        "    return ' '.join(tweet['hashtags']).strip()"
      ],
      "metadata": {
        "id": "ZmAVcUfQu20j"
      },
      "execution_count": 9,
      "outputs": []
    },
    {
      "cell_type": "code",
      "source": [
        "def tweet_Searcher(tweets, id):\n",
        "    \"\"\" \n",
        "    Return the information of the tweet corresponding to the id as a string\n",
        "    \"\"\"\n",
        "    tweet = tweets[id]\n",
        "    return str(\"Text: \" + str(tweet['text']) + \"|\" + \"Username: \" + str(tweet[\"username\"]) + \"|\" + \"Date: \"+ str(tweet[\"date\"]) + \"|\" + get_hashtags(tweet) + \"|\" + \"Likes: \" +  str(tweet[\"likes\"]) + \"|\" + \"Retweets: \"+ str(tweet[\"retweets\"]) + \"|\" + \"Url: \" + tweet['url'])\n"
      ],
      "metadata": {
        "id": "g3D8UmIAsTe3"
      },
      "execution_count": 10,
      "outputs": []
    },
    {
      "cell_type": "code",
      "source": [
        "def search_tf_idf(query, index, idf, tf, doc_to_tweet):\n",
        "    \"\"\"\n",
        "    Perform the ranking of the results of a search based on the tf-idf weights\n",
        "    \n",
        "    Argument:\n",
        "    query -- list of query terms\n",
        "    index -- inverted index data structure\n",
        "    idf -- inverted document frequencies\n",
        "    tf -- term frequencies\n",
        "    doc_to_tweet -- dictionary to pass from doc_id to tweet_it\n",
        "    \n",
        "    Returns:\n",
        "    List of ranked documents, List of corresponding scores, \n",
        "    Ranked list of documents that contain any of the query terms\n",
        "    \"\"\"\n",
        "\n",
        "    query = build_terms(query) #preprocessing\n",
        "\n",
        "    docs = set()\n",
        "    for term in query:\n",
        "        try:\n",
        "            # store in term_docs the ids of the docs that contain \"term\"                        \n",
        "            term_docs = [posting[0] for posting in index[term]]\n",
        "            \n",
        "            # docs = docs Union term_docs\n",
        "            docs |= set(term_docs)\n",
        "        except:\n",
        "            #term is not in index\n",
        "            pass\n",
        "\n",
        "    docs = list(docs)\n",
        "\n",
        "    ranked_docs, rank_scores = rank_documents(query, docs, index, idf, tf)\n",
        "\n",
        "    return_list=[]\n",
        "    for doc_id in ranked_docs:\n",
        "        return_list.append(tweet_Searcher(tweets, doc_to_tweet[doc_id]))\n",
        "\n",
        "    return ranked_docs, rank_scores, return_list"
      ],
      "metadata": {
        "id": "f_H_QuW_UDPp"
      },
      "execution_count": 11,
      "outputs": []
    },
    {
      "cell_type": "code",
      "source": [
        "def precision_at_k(doc_score, y_score, k=10): # binary relevance, predicted relevnace, k for a given query\n",
        "    \"\"\"\n",
        "    Argument:\n",
        "    doc_score -- ground truth (true relevance labels).\n",
        "    y_score -- Predicted scores.\n",
        "    k -- number of doc to consider.\n",
        "\n",
        "    Return:\n",
        "    precision @k -- float\n",
        "\n",
        "    \"\"\"\n",
        "    order = np.argsort(y_score)[::-1] # ranking of the documents according to the predicted score\n",
        "    doc_score = np.take(doc_score, order[:k]) # retrieve ground truth according to the ranking order)\n",
        "    relevant = sum(doc_score) # number of relevant documents\n",
        "\n",
        "    return float(relevant) / k # compute precision at k, which is the number of relevant\n",
        "\n"
      ],
      "metadata": {
        "id": "NRr4hUIch3k1"
      },
      "execution_count": 12,
      "outputs": []
    },
    {
      "cell_type": "code",
      "source": [
        "def avg_precision_at_k(doc_score, y_score, k=10):    \n",
        "    '''\n",
        "    Argument:\n",
        "    doc_score -- Ground truth\n",
        "    y_score -- Predicted scores\n",
        "    k -- number of tweet to consider\n",
        "    \n",
        "    Return:\n",
        "    average precision @k : float\n",
        "    '''\n",
        "    gtp = np.sum(doc_score[:k]) # total number of gt positives\n",
        "    order = y_score.argsort()[::-1]\n",
        "    doc_score = doc_score.take(order)  \n",
        " \n",
        "    ## if all tweets are non-relevant\n",
        "    if gtp==0:\n",
        "        return 0\n",
        "\n",
        "    prec_at_i = 0\n",
        "    \n",
        "    iters=k\n",
        "    if k > len(doc_score):\n",
        "        iters=len(doc_score)\n",
        "\n",
        "    for i in range(iters):\n",
        "        if doc_score[i] == 1: # only add the P@k when the doc is relevant\n",
        "            prec_at_i += precision_at_k(doc_score, y_score, i+1) # compute P@k\n",
        "    \n",
        "    return prec_at_i/gtp # compute average"
      ],
      "metadata": {
        "id": "sxTdoz4RB6bK"
      },
      "execution_count": 13,
      "outputs": []
    },
    {
      "cell_type": "code",
      "source": [
        "def map_at_k(search_res, k=10):\n",
        "    '''\n",
        "    Argument:\n",
        "    search_res -- search results dataset containing:\n",
        "        query_id -- query id.\n",
        "        tweet_id -- tweet id.\n",
        "        score -- relevance predicted through td-idf.\n",
        "        ground_truth -- actual relevance of the tweet for the query (ground truth).\n",
        "    \n",
        "    Return:\n",
        "    mean average precision @k -- float\n",
        "    '''\n",
        "    \n",
        "    avp = []\n",
        "    for q in search_res[\"query_id\"].unique(): #loop over all query id\n",
        "\n",
        "         # select data for current query\n",
        "        curr_data = search_res[search_res[\"query_id\"] == q] \n",
        "\n",
        "        # append average precision for current query\n",
        "        avp.append(avg_precision_at_k(np.array(curr_data[\"ground_truth\"]), np.array(curr_data[\"score\"]), k)) \n",
        "    return np.sum(avp)/len(avp) # return mean average precision"
      ],
      "metadata": {
        "id": "7Fnw4fecuZKY"
      },
      "execution_count": 14,
      "outputs": []
    },
    {
      "cell_type": "code",
      "source": [
        "def mrr_at_k(search_res, k=10):\n",
        "    '''\n",
        "    Argument:\n",
        "    doc_score -- Ground truth (true relevance labels).\n",
        "    y_score -- Predicted scores.\n",
        "    k : number of tweets to consider.\n",
        "    \n",
        "    Return:\n",
        "    Mean Reciprocal Rank\n",
        "    '''\n",
        "    RRs = []\n",
        "    \n",
        "    for q in search_res[\"query_id\"].unique():\n",
        "        \n",
        "        doc_score = np.array(search_res[search_res['query_id'] == q][\"ground_truth\"])\n",
        "        y_score = np.array(search_res[search_res['query_id'] == q][\"score\"])\n",
        "        \n",
        "        order = y_score.argsort()[::-1]   # ranking of the documents according to the predicted score\n",
        "        doc_score = doc_score.take(order)   # retrieve ground truth according to the ranking order)\n",
        "\n",
        "        if np.sum(doc_score[:k])== str(0): # if there are not relevant doument return 0\n",
        "            RRs.append(0)\n",
        "        else:\n",
        "            RRs.append(1/(doc_score.argmax()+1)) \n",
        "\n",
        "    return np.round(np.mean(RRs), 4)"
      ],
      "metadata": {
        "id": "PLUeiAM2yH2U"
      },
      "execution_count": 15,
      "outputs": []
    },
    {
      "cell_type": "code",
      "source": [
        "def dcg_at_k(y_true, y_score,  k=10):\n",
        "    '''\n",
        "    Argument:\n",
        "    y_true -- Ground truth (true relevance labels).\n",
        "    y_score -- Predicted scores.\n",
        "    k : number of tweets to consider.\n",
        "    \n",
        "    Return:\n",
        "    DCG@k\n",
        "    '''\n",
        "\n",
        "    order = y_score.argsort()[::-1] \n",
        "    y_true = y_true.take(order)[:k]  \n",
        "\n",
        "    gain = [] # Compute gain \n",
        "    for i in range(len(y_true)):\n",
        "        gain.append((2**y_true[i])-1)\n",
        "    \n",
        "    discounts =[] # Compute denominator\n",
        "    for i in range(len(y_true)):\n",
        "        discounts.append(math.log2(i+2)) #we add +2 as the first position in array is 0 and first rank is 1\n",
        "    \n",
        "    division =[]\n",
        "    for i in range(len(gain)):\n",
        "        division.append(gain[i]/discounts[i])\n",
        "        \n",
        "    return np.sum(division) #return dcg@k"
      ],
      "metadata": {
        "id": "cH2DSIkNzC8_"
      },
      "execution_count": 16,
      "outputs": []
    },
    {
      "cell_type": "code",
      "source": [
        "def ndcg_at_k(y_true, y_score, k=10):\n",
        "    '''\n",
        "    Argument:\n",
        "    doc_score -- Ground truth (true relevance labels).\n",
        "    y_score -- Predicted scores.\n",
        "    k -- number of tweets to consider.\n",
        "    \n",
        "    Return:\n",
        "    Normalized DCG@K\n",
        "    '''\n",
        "\n",
        "    dcg_max = dcg_at_k(y_true, y_true, k) # Ideal dcg order by y_true as we want the sort by relevance\n",
        "    \n",
        "    if not dcg_max:\n",
        "        return 0\n",
        "    \n",
        "    return np.round((dcg_at_k(y_true, y_score, k))/dcg_max,4)  # return ndcg@k"
      ],
      "metadata": {
        "id": "qnATPVaAzHQW"
      },
      "execution_count": 17,
      "outputs": []
    },
    {
      "cell_type": "markdown",
      "source": [
        "# Solution implementation"
      ],
      "metadata": {
        "id": "Of_JuuCOl9ID"
      }
    },
    {
      "cell_type": "code",
      "source": [
        "# Build a dictionary {doc_id: tweet_id}\n",
        "\n",
        "doc_to_tweet = create_mapping('tweet_document_ids_map.csv', key='doc_id', value='tweet_id')"
      ],
      "metadata": {
        "colab": {
          "base_uri": "https://localhost:8080/"
        },
        "id": "72Q1wT3fhaqU",
        "outputId": "82d4e4de-825c-4626-87b1-a50b3c4d218d"
      },
      "execution_count": 18,
      "outputs": [
        {
          "output_type": "stream",
          "name": "stdout",
          "text": [
            "The length of the mapping is:  4000\n",
            "Example of structure: (doc_1 : 1575918182698979328)\n"
          ]
        }
      ]
    },
    {
      "cell_type": "code",
      "source": [
        "# Read data from .json\n",
        "\n",
        "data = pd.read_json('tw_hurricane_data.json', lines = True)"
      ],
      "metadata": {
        "id": "yorXiZUP7B61"
      },
      "execution_count": 19,
      "outputs": []
    },
    {
      "cell_type": "code",
      "source": [
        "# Checking that all tweets are in english\n",
        "\n",
        "data['lang'].value_counts()"
      ],
      "metadata": {
        "colab": {
          "base_uri": "https://localhost:8080/"
        },
        "id": "Smt6CRugM9qi",
        "outputId": "89ebc646-357e-46be-bb5f-5e44fcbceac1"
      },
      "execution_count": 20,
      "outputs": [
        {
          "output_type": "execute_result",
          "data": {
            "text/plain": [
              "en    4000\n",
              "Name: lang, dtype: int64"
            ]
          },
          "metadata": {},
          "execution_count": 20
        }
      ]
    },
    {
      "cell_type": "code",
      "source": [
        "# Analyze original data\n",
        "\n",
        "data.head()"
      ],
      "metadata": {
        "id": "G1HomsUhKaLN",
        "outputId": "ab92286f-d24a-4dcc-b3f0-7aeeb538a6ca",
        "colab": {
          "base_uri": "https://localhost:8080/",
          "height": 540
        }
      },
      "execution_count": 21,
      "outputs": [
        {
          "output_type": "execute_result",
          "data": {
            "text/plain": [
              "                 created_at                   id               id_str  \\\n",
              "0 2022-09-30 18:39:08+00:00  1575918182698979328  1575918182698979328   \n",
              "1 2022-09-30 18:39:01+00:00  1575918151862304768  1575918151862304768   \n",
              "2 2022-09-30 18:38:58+00:00  1575918140839673873  1575918140839673856   \n",
              "3 2022-09-30 18:38:57+00:00  1575918135009738752  1575918135009738752   \n",
              "4 2022-09-30 18:38:53+00:00  1575918119251419136  1575918119251419136   \n",
              "\n",
              "                                           full_text  truncated  \\\n",
              "0  So this will keep spinning over us until 7 pm…...      False   \n",
              "1  Our hearts go out to all those affected by #Hu...      False   \n",
              "2  Kissimmee neighborhood off of Michigan Ave. \\n...      False   \n",
              "3  I have this one tree in my backyard that scare...      False   \n",
              "4  @AshleyRuizWx @Stephan89441722 @lilmizzheidi @...      False   \n",
              "\n",
              "  display_text_range                                           entities  \\\n",
              "0            [0, 76]  {'hashtags': [{'text': 'HurricaneIan', 'indice...   \n",
              "1           [0, 136]  {'hashtags': [{'text': 'HurricaneIan', 'indice...   \n",
              "2            [0, 58]  {'hashtags': [{'text': 'HurricaneIan', 'indice...   \n",
              "3           [0, 141]  {'hashtags': [{'text': 'scwx', 'indices': [122...   \n",
              "4         [127, 280]  {'hashtags': [{'text': 'HurricaneIan', 'indice...   \n",
              "\n",
              "                                   extended_entities  \\\n",
              "0  {'media': [{'id': 1575918178261254162, 'id_str...   \n",
              "1                                                NaN   \n",
              "2  {'media': [{'id': 1575918121080311808, 'id_str...   \n",
              "3                                                NaN   \n",
              "4                                                NaN   \n",
              "\n",
              "                                            metadata  \\\n",
              "0  {'iso_language_code': 'en', 'result_type': 're...   \n",
              "1  {'iso_language_code': 'en', 'result_type': 're...   \n",
              "2  {'iso_language_code': 'en', 'result_type': 're...   \n",
              "3  {'iso_language_code': 'en', 'result_type': 're...   \n",
              "4  {'iso_language_code': 'en', 'result_type': 're...   \n",
              "\n",
              "                                              source  ...  is_quote_status  \\\n",
              "0  <a href=\"http://twitter.com/download/iphone\" r...  ...            False   \n",
              "1  <a href=\"https://sproutsocial.com\" rel=\"nofoll...  ...            False   \n",
              "2  <a href=\"http://twitter.com/download/iphone\" r...  ...            False   \n",
              "3  <a href=\"http://twitter.com/download/iphone\" r...  ...            False   \n",
              "4  <a href=\"http://twitter.com/download/iphone\" r...  ...            False   \n",
              "\n",
              "   retweet_count  favorite_count  favorited retweeted possibly_sensitive lang  \\\n",
              "0              0               0      False     False                0.0   en   \n",
              "1              0               0      False     False                NaN   en   \n",
              "2              0               0      False     False                0.0   en   \n",
              "3              0               0      False     False                NaN   en   \n",
              "4              0               0      False     False                NaN   en   \n",
              "\n",
              "  quoted_status_id quoted_status_id_str  quoted_status  \n",
              "0              NaN                  NaN            NaN  \n",
              "1              NaN                  NaN            NaN  \n",
              "2              NaN                  NaN            NaN  \n",
              "3              NaN                  NaN            NaN  \n",
              "4              NaN                  NaN            NaN  \n",
              "\n",
              "[5 rows x 30 columns]"
            ],
            "text/html": [
              "\n",
              "  <div id=\"df-5f990178-6ad8-4d7d-8ec4-dcd4f22e973b\">\n",
              "    <div class=\"colab-df-container\">\n",
              "      <div>\n",
              "<style scoped>\n",
              "    .dataframe tbody tr th:only-of-type {\n",
              "        vertical-align: middle;\n",
              "    }\n",
              "\n",
              "    .dataframe tbody tr th {\n",
              "        vertical-align: top;\n",
              "    }\n",
              "\n",
              "    .dataframe thead th {\n",
              "        text-align: right;\n",
              "    }\n",
              "</style>\n",
              "<table border=\"1\" class=\"dataframe\">\n",
              "  <thead>\n",
              "    <tr style=\"text-align: right;\">\n",
              "      <th></th>\n",
              "      <th>created_at</th>\n",
              "      <th>id</th>\n",
              "      <th>id_str</th>\n",
              "      <th>full_text</th>\n",
              "      <th>truncated</th>\n",
              "      <th>display_text_range</th>\n",
              "      <th>entities</th>\n",
              "      <th>extended_entities</th>\n",
              "      <th>metadata</th>\n",
              "      <th>source</th>\n",
              "      <th>...</th>\n",
              "      <th>is_quote_status</th>\n",
              "      <th>retweet_count</th>\n",
              "      <th>favorite_count</th>\n",
              "      <th>favorited</th>\n",
              "      <th>retweeted</th>\n",
              "      <th>possibly_sensitive</th>\n",
              "      <th>lang</th>\n",
              "      <th>quoted_status_id</th>\n",
              "      <th>quoted_status_id_str</th>\n",
              "      <th>quoted_status</th>\n",
              "    </tr>\n",
              "  </thead>\n",
              "  <tbody>\n",
              "    <tr>\n",
              "      <th>0</th>\n",
              "      <td>2022-09-30 18:39:08+00:00</td>\n",
              "      <td>1575918182698979328</td>\n",
              "      <td>1575918182698979328</td>\n",
              "      <td>So this will keep spinning over us until 7 pm…...</td>\n",
              "      <td>False</td>\n",
              "      <td>[0, 76]</td>\n",
              "      <td>{'hashtags': [{'text': 'HurricaneIan', 'indice...</td>\n",
              "      <td>{'media': [{'id': 1575918178261254162, 'id_str...</td>\n",
              "      <td>{'iso_language_code': 'en', 'result_type': 're...</td>\n",
              "      <td>&lt;a href=\"http://twitter.com/download/iphone\" r...</td>\n",
              "      <td>...</td>\n",
              "      <td>False</td>\n",
              "      <td>0</td>\n",
              "      <td>0</td>\n",
              "      <td>False</td>\n",
              "      <td>False</td>\n",
              "      <td>0.0</td>\n",
              "      <td>en</td>\n",
              "      <td>NaN</td>\n",
              "      <td>NaN</td>\n",
              "      <td>NaN</td>\n",
              "    </tr>\n",
              "    <tr>\n",
              "      <th>1</th>\n",
              "      <td>2022-09-30 18:39:01+00:00</td>\n",
              "      <td>1575918151862304768</td>\n",
              "      <td>1575918151862304768</td>\n",
              "      <td>Our hearts go out to all those affected by #Hu...</td>\n",
              "      <td>False</td>\n",
              "      <td>[0, 136]</td>\n",
              "      <td>{'hashtags': [{'text': 'HurricaneIan', 'indice...</td>\n",
              "      <td>NaN</td>\n",
              "      <td>{'iso_language_code': 'en', 'result_type': 're...</td>\n",
              "      <td>&lt;a href=\"https://sproutsocial.com\" rel=\"nofoll...</td>\n",
              "      <td>...</td>\n",
              "      <td>False</td>\n",
              "      <td>0</td>\n",
              "      <td>0</td>\n",
              "      <td>False</td>\n",
              "      <td>False</td>\n",
              "      <td>NaN</td>\n",
              "      <td>en</td>\n",
              "      <td>NaN</td>\n",
              "      <td>NaN</td>\n",
              "      <td>NaN</td>\n",
              "    </tr>\n",
              "    <tr>\n",
              "      <th>2</th>\n",
              "      <td>2022-09-30 18:38:58+00:00</td>\n",
              "      <td>1575918140839673873</td>\n",
              "      <td>1575918140839673856</td>\n",
              "      <td>Kissimmee neighborhood off of Michigan Ave. \\n...</td>\n",
              "      <td>False</td>\n",
              "      <td>[0, 58]</td>\n",
              "      <td>{'hashtags': [{'text': 'HurricaneIan', 'indice...</td>\n",
              "      <td>{'media': [{'id': 1575918121080311808, 'id_str...</td>\n",
              "      <td>{'iso_language_code': 'en', 'result_type': 're...</td>\n",
              "      <td>&lt;a href=\"http://twitter.com/download/iphone\" r...</td>\n",
              "      <td>...</td>\n",
              "      <td>False</td>\n",
              "      <td>0</td>\n",
              "      <td>0</td>\n",
              "      <td>False</td>\n",
              "      <td>False</td>\n",
              "      <td>0.0</td>\n",
              "      <td>en</td>\n",
              "      <td>NaN</td>\n",
              "      <td>NaN</td>\n",
              "      <td>NaN</td>\n",
              "    </tr>\n",
              "    <tr>\n",
              "      <th>3</th>\n",
              "      <td>2022-09-30 18:38:57+00:00</td>\n",
              "      <td>1575918135009738752</td>\n",
              "      <td>1575918135009738752</td>\n",
              "      <td>I have this one tree in my backyard that scare...</td>\n",
              "      <td>False</td>\n",
              "      <td>[0, 141]</td>\n",
              "      <td>{'hashtags': [{'text': 'scwx', 'indices': [122...</td>\n",
              "      <td>NaN</td>\n",
              "      <td>{'iso_language_code': 'en', 'result_type': 're...</td>\n",
              "      <td>&lt;a href=\"http://twitter.com/download/iphone\" r...</td>\n",
              "      <td>...</td>\n",
              "      <td>False</td>\n",
              "      <td>0</td>\n",
              "      <td>0</td>\n",
              "      <td>False</td>\n",
              "      <td>False</td>\n",
              "      <td>NaN</td>\n",
              "      <td>en</td>\n",
              "      <td>NaN</td>\n",
              "      <td>NaN</td>\n",
              "      <td>NaN</td>\n",
              "    </tr>\n",
              "    <tr>\n",
              "      <th>4</th>\n",
              "      <td>2022-09-30 18:38:53+00:00</td>\n",
              "      <td>1575918119251419136</td>\n",
              "      <td>1575918119251419136</td>\n",
              "      <td>@AshleyRuizWx @Stephan89441722 @lilmizzheidi @...</td>\n",
              "      <td>False</td>\n",
              "      <td>[127, 280]</td>\n",
              "      <td>{'hashtags': [{'text': 'HurricaneIan', 'indice...</td>\n",
              "      <td>NaN</td>\n",
              "      <td>{'iso_language_code': 'en', 'result_type': 're...</td>\n",
              "      <td>&lt;a href=\"http://twitter.com/download/iphone\" r...</td>\n",
              "      <td>...</td>\n",
              "      <td>False</td>\n",
              "      <td>0</td>\n",
              "      <td>0</td>\n",
              "      <td>False</td>\n",
              "      <td>False</td>\n",
              "      <td>NaN</td>\n",
              "      <td>en</td>\n",
              "      <td>NaN</td>\n",
              "      <td>NaN</td>\n",
              "      <td>NaN</td>\n",
              "    </tr>\n",
              "  </tbody>\n",
              "</table>\n",
              "<p>5 rows × 30 columns</p>\n",
              "</div>\n",
              "      <button class=\"colab-df-convert\" onclick=\"convertToInteractive('df-5f990178-6ad8-4d7d-8ec4-dcd4f22e973b')\"\n",
              "              title=\"Convert this dataframe to an interactive table.\"\n",
              "              style=\"display:none;\">\n",
              "        \n",
              "  <svg xmlns=\"http://www.w3.org/2000/svg\" height=\"24px\"viewBox=\"0 0 24 24\"\n",
              "       width=\"24px\">\n",
              "    <path d=\"M0 0h24v24H0V0z\" fill=\"none\"/>\n",
              "    <path d=\"M18.56 5.44l.94 2.06.94-2.06 2.06-.94-2.06-.94-.94-2.06-.94 2.06-2.06.94zm-11 1L8.5 8.5l.94-2.06 2.06-.94-2.06-.94L8.5 2.5l-.94 2.06-2.06.94zm10 10l.94 2.06.94-2.06 2.06-.94-2.06-.94-.94-2.06-.94 2.06-2.06.94z\"/><path d=\"M17.41 7.96l-1.37-1.37c-.4-.4-.92-.59-1.43-.59-.52 0-1.04.2-1.43.59L10.3 9.45l-7.72 7.72c-.78.78-.78 2.05 0 2.83L4 21.41c.39.39.9.59 1.41.59.51 0 1.02-.2 1.41-.59l7.78-7.78 2.81-2.81c.8-.78.8-2.07 0-2.86zM5.41 20L4 18.59l7.72-7.72 1.47 1.35L5.41 20z\"/>\n",
              "  </svg>\n",
              "      </button>\n",
              "      \n",
              "  <style>\n",
              "    .colab-df-container {\n",
              "      display:flex;\n",
              "      flex-wrap:wrap;\n",
              "      gap: 12px;\n",
              "    }\n",
              "\n",
              "    .colab-df-convert {\n",
              "      background-color: #E8F0FE;\n",
              "      border: none;\n",
              "      border-radius: 50%;\n",
              "      cursor: pointer;\n",
              "      display: none;\n",
              "      fill: #1967D2;\n",
              "      height: 32px;\n",
              "      padding: 0 0 0 0;\n",
              "      width: 32px;\n",
              "    }\n",
              "\n",
              "    .colab-df-convert:hover {\n",
              "      background-color: #E2EBFA;\n",
              "      box-shadow: 0px 1px 2px rgba(60, 64, 67, 0.3), 0px 1px 3px 1px rgba(60, 64, 67, 0.15);\n",
              "      fill: #174EA6;\n",
              "    }\n",
              "\n",
              "    [theme=dark] .colab-df-convert {\n",
              "      background-color: #3B4455;\n",
              "      fill: #D2E3FC;\n",
              "    }\n",
              "\n",
              "    [theme=dark] .colab-df-convert:hover {\n",
              "      background-color: #434B5C;\n",
              "      box-shadow: 0px 1px 3px 1px rgba(0, 0, 0, 0.15);\n",
              "      filter: drop-shadow(0px 1px 2px rgba(0, 0, 0, 0.3));\n",
              "      fill: #FFFFFF;\n",
              "    }\n",
              "  </style>\n",
              "\n",
              "      <script>\n",
              "        const buttonEl =\n",
              "          document.querySelector('#df-5f990178-6ad8-4d7d-8ec4-dcd4f22e973b button.colab-df-convert');\n",
              "        buttonEl.style.display =\n",
              "          google.colab.kernel.accessAllowed ? 'block' : 'none';\n",
              "\n",
              "        async function convertToInteractive(key) {\n",
              "          const element = document.querySelector('#df-5f990178-6ad8-4d7d-8ec4-dcd4f22e973b');\n",
              "          const dataTable =\n",
              "            await google.colab.kernel.invokeFunction('convertToInteractive',\n",
              "                                                     [key], {});\n",
              "          if (!dataTable) return;\n",
              "\n",
              "          const docLinkHtml = 'Like what you see? Visit the ' +\n",
              "            '<a target=\"_blank\" href=https://colab.research.google.com/notebooks/data_table.ipynb>data table notebook</a>'\n",
              "            + ' to learn more about interactive tables.';\n",
              "          element.innerHTML = '';\n",
              "          dataTable['output_type'] = 'display_data';\n",
              "          await google.colab.output.renderOutput(dataTable, element);\n",
              "          const docLink = document.createElement('div');\n",
              "          docLink.innerHTML = docLinkHtml;\n",
              "          element.appendChild(docLink);\n",
              "        }\n",
              "      </script>\n",
              "    </div>\n",
              "  </div>\n",
              "  "
            ]
          },
          "metadata": {},
          "execution_count": 21
        }
      ]
    },
    {
      "cell_type": "markdown",
      "source": [
        "### Creating a dictionary of tweets ( part 1 )"
      ],
      "metadata": {
        "id": "A_5FKIecqjHC"
      }
    },
    {
      "cell_type": "code",
      "source": [
        "# Init dictionary\n",
        "tweets = dict()\n",
        "\n",
        "\n",
        "for idx, row in data.iterrows():\n",
        "\n",
        "  # Init dictionary for each tweet\n",
        "  tweet = dict()\n",
        "    \n",
        "  tweet['text'] = build_terms(row['full_text'])   # Clean and format text\n",
        "\n",
        "  tweet['username'] = row['user']['screen_name']\n",
        "\n",
        "  tweet['date'] =  row['created_at'].strftime('%d/%m/%Y %H:%M:%S')  # Format date\n",
        "\n",
        "  tweet['hashtags'] = [h['text'] for h in row['entities']['hashtags']]  # Store a list of hashtags\n",
        "\n",
        "  tweet['likes'] = row['favorite_count']\n",
        "\n",
        "  tweet['retweets'] = row['retweet_count']\n",
        "\n",
        "  tweet['url'] = 'https://twitter.com/'+row['user']['screen_name']+'/status/'+str(row['id'])  # Construct the url\n",
        "\n",
        "  # Add tweet to the dictionary\n",
        "  tweets[row['id']] = tweet\n"
      ],
      "metadata": {
        "id": "vRQpx6hB79Xd"
      },
      "execution_count": 22,
      "outputs": []
    },
    {
      "cell_type": "markdown",
      "source": [
        "### Checks ( part 1 )"
      ],
      "metadata": {
        "id": "41Cmhs_wq6CY"
      }
    },
    {
      "cell_type": "code",
      "source": [
        "print('The document doc_id: {} has tweet_id: {}\\n'.format('doc_1', doc_to_tweet['doc_1']))\n",
        "print('In the intial DataFrame we have tweet_id {} at position 0\\n'.format(data.iloc[0]['id']))\n",
        "print('The original full_text is: [{}]'.format(data.iloc[0]['full_text']))"
      ],
      "metadata": {
        "colab": {
          "base_uri": "https://localhost:8080/"
        },
        "id": "1_VusVSArdgP",
        "outputId": "509c4ef2-4b1a-4235-958a-e1de845106fa"
      },
      "execution_count": 23,
      "outputs": [
        {
          "output_type": "stream",
          "name": "stdout",
          "text": [
            "The document doc_id: doc_1 has tweet_id: 1575918182698979328\n",
            "\n",
            "In the intial DataFrame we have tweet_id 1575918182698979328 at position 0\n",
            "\n",
            "The original full_text is: [So this will keep spinning over us until 7 pm…go away already. #HurricaneIan https://t.co/VROTxNS9rz]\n"
          ]
        }
      ]
    },
    {
      "cell_type": "code",
      "source": [
        "# Tweet after formatting\n",
        "\n",
        "tweets[1575918140839673873]"
      ],
      "metadata": {
        "id": "MfZSz6q02Jaz",
        "colab": {
          "base_uri": "https://localhost:8080/"
        },
        "outputId": "2433c876-e972-471e-cdff-0f1b47ad09ac"
      },
      "execution_count": 24,
      "outputs": [
        {
          "output_type": "execute_result",
          "data": {
            "text/plain": [
              "{'text': ['kissimme', 'neighborhood', 'michigan', 'ave', 'hurricaneian'],\n",
              " 'username': 'CHeathWFTV',\n",
              " 'date': '30/09/2022 18:38:58',\n",
              " 'hashtags': ['HurricaneIan'],\n",
              " 'likes': 0,\n",
              " 'retweets': 0,\n",
              " 'url': 'https://twitter.com/CHeathWFTV/status/1575918140839673873'}"
            ]
          },
          "metadata": {},
          "execution_count": 24
        }
      ]
    },
    {
      "cell_type": "markdown",
      "source": [
        "### Indexing ( part 2 )"
      ],
      "metadata": {
        "id": "w-NE8lt_5E3g"
      }
    },
    {
      "cell_type": "code",
      "source": [
        "import time\n",
        "start_time = time.time()\n",
        "\n",
        "# Create full inverted index (inverted index, term frequencies, document frequencies, IDF)\n",
        "index,tf,df,idf = create_index_tfidf(doc_to_tweet, tweets,len(tweets))\n",
        "\n",
        "print(\"Total time to create the index: {} seconds\".format(np.round(time.time() - start_time, 2)))"
      ],
      "metadata": {
        "id": "8XlGZ3hZOIgc",
        "colab": {
          "base_uri": "https://localhost:8080/"
        },
        "outputId": "63544afd-3d5c-43e8-984a-368c24b75fc3"
      },
      "execution_count": 25,
      "outputs": [
        {
          "output_type": "stream",
          "name": "stdout",
          "text": [
            "Total time to create the index: 248.8 seconds\n"
          ]
        }
      ]
    },
    {
      "cell_type": "code",
      "source": [
        "## Query 1\n",
        "\n",
        "query1 = \"Hurricane Ian\"\n",
        "ranked_docs, ranked_scores, return_list = search_tf_idf(query1, index, idf, tf, doc_to_tweet)\n",
        "top = 10\n",
        "\n",
        "print(\"\\n======================\\nTop {} results out of {} for the searched query: {} \\n\".format(top, len(ranked_docs), query1))\n",
        "for idx, d_id in enumerate(ranked_docs[:top]):\n",
        "    print(\"doc_id = {} - tweet_id: {} - score: {}\".format(d_id, doc_to_tweet[d_id], ranked_scores[idx]))\n",
        "    print(\"\\t\", return_list[idx])\n",
        "    print(\"\\n\")"
      ],
      "metadata": {
        "colab": {
          "base_uri": "https://localhost:8080/"
        },
        "id": "gCMp0yZkLS2d",
        "outputId": "20ba85eb-fa53-46c1-8118-20b8ae0af9c4"
      },
      "execution_count": 26,
      "outputs": [
        {
          "output_type": "stream",
          "name": "stdout",
          "text": [
            "\n",
            "======================\n",
            "Top 10 results out of 1042 for the searched query: Hurricane Ian \n",
            "\n",
            "doc_id = doc_640 - tweet_id: 1575910304159977472 - score: 2.2314227007232357\n",
            "\t Text: ['hurrican', 'ian', 'hurricaneian']|Username: kadenfields8|Date: 30/09/2022 18:07:50|HurricaneIan|Likes: 2|Retweets: 0|Url: https://twitter.com/kadenfields8/status/1575910304159977472\n",
            "\n",
            "\n",
            "doc_id = doc_634 - tweet_id: 1575910361298968576 - score: 2.2314227007232357\n",
            "\t Text: ['hurrican', 'ian', 'ian', 'hurricaneian', 'hurricanian', 'huracan', 'huracanian', 'hurrican']|Username: cesarharamillo|Date: 30/09/2022 18:08:03|Ian HurricaneIan HurricanIan Huracan HuracanIan Hurricane|Likes: 1|Retweets: 0|Url: https://twitter.com/cesarharamillo/status/1575910361298968576\n",
            "\n",
            "\n",
            "doc_id = doc_1963 - tweet_id: 1575885709734543360 - score: 2.2314227007232357\n",
            "\t Text: ['latest', 'hurrican', 'ian']|Username: KPRC2|Date: 30/09/2022 16:30:06|hurricaneian ian severewx kprc2 click2houston sc florida|Likes: 0|Retweets: 0|Url: https://twitter.com/KPRC2/status/1575885709734543360\n",
            "\n",
            "\n",
            "doc_id = doc_495 - tweet_id: 1575912020368449536 - score: 2.043265076210369\n",
            "\t Text: ['hurrican', 'ian', 'like', 'hurrican', 'around', 'late', 'gonna', 'take', 'time', 'east', 'coast', 'hurricaneian', 'ian', 'hurrican']|Username: TheMoreYouKnw|Date: 30/09/2022 18:14:39|HurricaneIan Ian Hurricane|Likes: 0|Retweets: 0|Url: https://twitter.com/TheMoreYouKnw/status/1575912020368449536\n",
            "\n",
            "\n",
            "doc_id = doc_2140 - tweet_id: 1575881799267295234 - score: 1.9323023040554514\n",
            "\t Text: ['hurricaneian', 'perpetu', 'hurrican', 'ian']|Username: neveragainFL|Date: 30/09/2022 16:14:34|hurricaneian|Likes: 0|Retweets: 0|Url: https://twitter.com/neveragainFL/status/1575881799267295234\n",
            "\n",
            "\n",
            "doc_id = doc_1933 - tweet_id: 1575886315740336128 - score: 1.9323023040554514\n",
            "\t Text: ['hurrican', 'ian', 'impact', 'updat']|Username: JoshFitzWx|Date: 30/09/2022 16:32:30|NBC29 VAwx Ian HurricaneIan|Likes: 2|Retweets: 2|Url: https://twitter.com/JoshFitzWx/status/1575886315740336128\n",
            "\n",
            "\n",
            "doc_id = doc_1217 - tweet_id: 1575902689040666626 - score: 1.9323023040554514\n",
            "\t Text: ['hurrican', 'ian', 'tour', 'hurricaneian']|Username: besmarterpeople|Date: 30/09/2022 17:37:34|HurricaneIan|Likes: 0|Retweets: 0|Url: https://twitter.com/besmarterpeople/status/1575902689040666626\n",
            "\n",
            "\n",
            "doc_id = doc_807 - tweet_id: 1575908618200924167 - score: 1.7711989900392244\n",
            "\t Text: ['ian', 'predict', 'spare', 'atlanta', 'hurricaneian', 'hurrican', 'ian', 'atlantanew', 'atl']|Username: cl_atlanta|Date: 30/09/2022 18:01:08|HurricaneIan Hurricane Ian AtlantaNews ATL|Likes: 1|Retweets: 0|Url: https://twitter.com/cl_atlanta/status/1575908618200924167\n",
            "\n",
            "\n",
            "doc_id = doc_3572 - tweet_id: 1575862334924689408 - score: 1.728251180747196\n",
            "\t Text: ['hurrican', 'ian', 'unearth', 'bodi', 'cemeteri']|Username: Theanatoliapost|Date: 30/09/2022 14:57:13|hurricaneian florida oaklandcemetery|Likes: 0|Retweets: 0|Url: https://twitter.com/Theanatoliapost/status/1575862334924689408\n",
            "\n",
            "\n",
            "doc_id = doc_3526 - tweet_id: 1575862943191027713 - score: 1.7243358779970874\n",
            "\t Text: ['hurrican', 'ian', 'relief', 'gonna', 'long', 'day', 'xufn', 'hurricaneian', 'hurrican']|Username: jrx_the|Date: 30/09/2022 14:59:38|HurricaneIan Hurricane|Likes: 1|Retweets: 0|Url: https://twitter.com/jrx_the/status/1575862943191027713\n",
            "\n",
            "\n"
          ]
        }
      ]
    },
    {
      "cell_type": "code",
      "source": [
        "## Query 2\n",
        "\n",
        "\n",
        "query2 = \"Covid Pandemic\"\n",
        "ranked_docs, ranked_scores, return_list = search_tf_idf(query2, index, idf, tf, doc_to_tweet)\n",
        "top = 10\n",
        "\n",
        "print(\"\\n======================\\nTop {} results out of {} for the searched query: {} \\n\".format(top, len(ranked_docs), query2))\n",
        "for idx, d_id in enumerate(ranked_docs[:top]):\n",
        "    print(\"doc_id = {} - tweet_id: {} - score: {}\".format(d_id, doc_to_tweet[d_id], ranked_scores[idx]))\n",
        "    print(\"\\t\", return_list[idx])\n",
        "    print(\"\\n\")"
      ],
      "metadata": {
        "colab": {
          "base_uri": "https://localhost:8080/"
        },
        "id": "tGJ7TKrAV2N8",
        "outputId": "b35db424-613f-41ac-8aba-26f613d1bcd0"
      },
      "execution_count": 27,
      "outputs": [
        {
          "output_type": "stream",
          "name": "stdout",
          "text": [
            "\n",
            "======================\n",
            "Top 10 results out of 7 for the searched query: Covid Pandemic \n",
            "\n",
            "doc_id = doc_3088 - tweet_id: 1575868406603350017 - score: 12.160545944094801\n",
            "\t Text: ['heartbreak', 'fl', 'one', 'last', 'trip', 'us', '2019', 'pandem', 'heartbreak', 'see', 'pray', 'safe', 'florida', 'hurricaneian']|Username: ALYNH77|Date: 30/09/2022 15:21:21|Florida HurricaneIan|Likes: 0|Retweets: 0|Url: https://twitter.com/ALYNH77/status/1575868406603350017\n",
            "\n",
            "\n",
            "doc_id = doc_2796 - tweet_id: 1575871626540818432 - score: 8.293263506655457\n",
            "\t Text: ['mentalhealth', 'matter', 'ever', 'especi', 'given', 'covid', 'hurricaneian', 'take', 'care', 'rememb', 'simpli', 'enough', 'depaulsmn']|Username: AMDPU22|Date: 30/09/2022 15:34:08|MentalHealth COVID HurricaneIan DePaulSMN|Likes: 0|Retweets: 0|Url: https://twitter.com/AMDPU22/status/1575871626540818432\n",
            "\n",
            "\n",
            "doc_id = doc_1903 - tweet_id: 1575886977764728838 - score: 7.0465833039606744\n",
            "\t Text: ['talk', 'hurrican', 'way', 'conspiraci', 'believ', 'right', 'talk', 'covid', 'spot', 'amp', 'crack', 'hurricaneian', 'hurrican', 'justbecauseyoucantseeit']|Username: RamblingMyMind|Date: 30/09/2022 16:35:08|COVID hurricaneian Hurricane JustBecauseYouCantSeeIt|Likes: 0|Retweets: 1|Url: https://twitter.com/RamblingMyMind/status/1575886977764728838\n",
            "\n",
            "\n",
            "doc_id = doc_2798 - tweet_id: 1575871595716935680 - score: 6.373914129844785\n",
            "\t Text: ['joy', 'gendusa', 'florida', 'ceo', 'told', 'employe', 'week', 'bring', 'famili', 'pet', 'offic', 'could', 'continu', 'work', 'hurricaneian', 'previous', 'berat', 'staff', 'fear', 'covid', 'scoop', 'pblest']|Username: daithaigilbert|Date: 30/09/2022 15:34:01|HurricaneIan|Likes: 19|Retweets: 9|Url: https://twitter.com/daithaigilbert/status/1575871595716935680\n",
            "\n",
            "\n",
            "doc_id = doc_3331 - tweet_id: 1575865182944894978 - score: 5.369394829831723\n",
            "\t Text: ['junkscienc', 'studi', 'sez', 'man', 'caus', 'globalwarm', 'ad', '10', 'rain', 'hurricaneian', 'comput', 'simul', 'scam', 'saw', '2', '2μ', 'covid', 'dead', 'us', 'gov', 'lab', 'peer', 'review', 'pimp', 'fakenew', 'ap', 'buy', 'eco', 'dictatorship', 'save', 'earth']|Username: FraserFaithful|Date: 30/09/2022 15:08:32|JunkScience GlobalWarming HurricaneIan Covid FakeNews|Likes: 2|Retweets: 2|Url: https://twitter.com/FraserFaithful/status/1575865182944894978\n",
            "\n",
            "\n",
            "doc_id = doc_3671 - tweet_id: 1575860573795127296 - score: 5.127233927150003\n",
            "\t Text: ['start', 'cleanup', 'central', 'florida', 'today', 'easi', 'task', 'covid', 'fatigu', 'sit', 'everi', '30', 'minut', 'small', 'tree', 'lot', 'tree', 'trash', 'pick', 'easi', 'life', 'compar', 'brethren', 'sw', 'fl', 'hurricaneian', 'cleanup', 'mystori']|Username: holdsworth353|Date: 30/09/2022 14:50:13|Florida Covid HurricaneIan Cleanup MyStory|Likes: 1|Retweets: 1|Url: https://twitter.com/holdsworth353/status/1575860573795127296\n",
            "\n",
            "\n",
            "doc_id = doc_3841 - tweet_id: 1575858286293053440 - score: 4.849197335182102\n",
            "\t Text: ['desatan', 'sold', 'anti', 'fauci', 'shirt', 'thousand', 'unvaccin', 'floridian', 'die', 'covid', 'desatan', 'wage', 'war', 'woke', 'ceo', 'work', 'peopl', 'becam', 'homeless', 'amid', 'florida', 'hous', 'crisi', 'desatan', 'wast', 'taxpay', 'money', 'kidnap', 'venezuelan', 'texa', 'hurricaneian', 'form']|Username: TheDailyEdge|Date: 30/09/2022 14:41:08|HurricaneIan|Likes: 84|Retweets: 50|Url: https://twitter.com/TheDailyEdge/status/1575858286293053440\n",
            "\n",
            "\n"
          ]
        }
      ]
    },
    {
      "cell_type": "code",
      "source": [
        "## Query 3\n",
        "\n",
        "query3 = \"House destroyed\"\n",
        "ranked_docs, ranked_scores, return_list = search_tf_idf(query3, index, idf, tf, doc_to_tweet)\n",
        "top = 10\n",
        "\n",
        "print(\"\\n======================\\nTop {} results out of {} for the searched query: {} \\n\".format(top, len(ranked_docs), query3))\n",
        "for idx, d_id in enumerate(ranked_docs[:top]):\n",
        "    print(\"doc_id = {} - tweet_id: {} - score: {}\".format(d_id, doc_to_tweet[d_id], ranked_scores[idx]))\n",
        "    print(\"\\t\", return_list[idx])\n",
        "    print(\"\\n\")"
      ],
      "metadata": {
        "colab": {
          "base_uri": "https://localhost:8080/"
        },
        "id": "sA0N7rKqYo99",
        "outputId": "8b34afe1-f9f0-4c52-cf93-1b58dfdba841"
      },
      "execution_count": 28,
      "outputs": [
        {
          "output_type": "stream",
          "name": "stdout",
          "text": [
            "\n",
            "======================\n",
            "Top 10 results out of 125 for the searched query: House destroyed \n",
            "\n",
            "doc_id = doc_836 - tweet_id: 1575908417062903810 - score: 7.278078975376553\n",
            "\t Text: ['mobil', 'home', 'commun', 'destroy', 'hurricaneian']|Username: leonardkl|Date: 30/09/2022 18:00:20|HurricaneIan|Likes: 0|Retweets: 0|Url: https://twitter.com/leonardkl/status/1575908417062903810\n",
            "\n",
            "\n",
            "doc_id = doc_1881 - tweet_id: 1575887548039036933 - score: 7.258603402176856\n",
            "\t Text: ['matlacha', 'home', 'destroy', 'hurricaneian', 'neighbor', 'tell', 'man', 'live', 'got', 'time', 'hous', 'crumbl', 'nbc2']|Username: ClaireNBC2|Date: 30/09/2022 16:37:24|Matlacha HurricaneIan|Likes: 6|Retweets: 0|Url: https://twitter.com/ClaireNBC2/status/1575887548039036933\n",
            "\n",
            "\n",
            "doc_id = doc_2217 - tweet_id: 1575880135609573376 - score: 6.151864607988231\n",
            "\t Text: ['car', 'destroy', 'hurricaneian', 'flood', 'via', 'ig', 'gisringhausen']|Username: wrldrn|Date: 30/09/2022 16:07:57|cars hurricaneian|Likes: 0|Retweets: 0|Url: https://twitter.com/wrldrn/status/1575880135609573376\n",
            "\n",
            "\n",
            "doc_id = doc_2439 - tweet_id: 1575876492076408832 - score: 5.964746157549989\n",
            "\t Text: ['parent', 'hous', 'daytona', 'one', 'inch', 'away', 'flood', 'hous', 'hurricaneian']|Username: CharlieMort0n|Date: 30/09/2022 15:53:28|HurricaneIan|Likes: 2|Retweets: 0|Url: https://twitter.com/CharlieMort0n/status/1575876492076408832\n",
            "\n",
            "\n",
            "doc_id = doc_2535 - tweet_id: 1575875350973730816 - score: 5.850842540471323\n",
            "\t Text: ['outsid', 'hous', 'fresh', 'water', 'lake', 'hurricaneian', 'safe', 'reloc', 'could', 'util', 'chunk', 'swfl', 'destroy', 'mani', 'home', 'insur', 'water', 'week']|Username: ThomasPound63|Date: 30/09/2022 15:48:56|HurricaneIan SWFL|Likes: 1|Retweets: 0|Url: https://twitter.com/ThomasPound63/status/1575875350973730816\n",
            "\n",
            "\n",
            "doc_id = doc_909 - tweet_id: 1575907687803817984 - score: 5.455727503078135\n",
            "\t Text: ['pictur', 'brother', 'sister', 'law', 'neighborhood', 'fort', 'myer', 'florida', 'know', 'stuck', 'miami', 'thought', '2', 'day', 'hous', 'destroy', 'go', 'fund', 'pin', 'profil', 'donat', 'help', 'hurricaneian']|Username: stephanieu45|Date: 30/09/2022 17:57:26|hurricaneian|Likes: 0|Retweets: 0|Url: https://twitter.com/stephanieu45/status/1575907687803817984\n",
            "\n",
            "\n",
            "doc_id = doc_2078 - tweet_id: 1575883032916959232 - score: 4.945892336276939\n",
            "\t Text: ['hurricaneian', '1', 'hous', '0']|Username: RealGrxnt|Date: 30/09/2022 16:19:28|HurricaneIan|Likes: 34|Retweets: 3|Url: https://twitter.com/RealGrxnt/status/1575883032916959232\n",
            "\n",
            "\n",
            "doc_id = doc_3811 - tweet_id: 1575858701499781120 - score: 4.906844389704899\n",
            "\t Text: ['know', 'desanti', 'florida', 'great', 'job', 'citi', 'basic', 'destroy', 'twitter', 'suppress', 'hurricaneian']|Username: BabyBooBoo62|Date: 30/09/2022 14:42:47|HurricaneIan|Likes: 0|Retweets: 0|Url: https://twitter.com/BabyBooBoo62/status/1575858701499781120\n",
            "\n",
            "\n",
            "doc_id = doc_2230 - tweet_id: 1575879802166267908 - score: 4.514622334010411\n",
            "\t Text: ['sure', 'go', 'tri', 'hour', 'power', 'cell', 'servic', 'mostli', 'lot', 'shit', 'destroy', 'aliv', 'hurricaneian']|Username: WauchulaGhost|Date: 30/09/2022 16:06:37|HurricaneIan|Likes: 12|Retweets: 2|Url: https://twitter.com/WauchulaGhost/status/1575879802166267908\n",
            "\n",
            "\n",
            "doc_id = doc_1271 - tweet_id: 1575901913467432960 - score: 4.423606105566094\n",
            "\t Text: ['weatherblock', 'hous', 'unsunghero', 'hurricaneian', 'wilmingtonnc']|Username: weatherchair|Date: 30/09/2022 17:34:29|unsungheroes hurricaneian wilmingtonnc|Likes: 1|Retweets: 0|Url: https://twitter.com/weatherchair/status/1575901913467432960\n",
            "\n",
            "\n"
          ]
        }
      ]
    },
    {
      "cell_type": "code",
      "source": [
        "## Query 4\n",
        "\n",
        "query4 = \"I am very sad\"\n",
        "ranked_docs, ranked_scores, return_list = search_tf_idf(query4, index, idf, tf, doc_to_tweet)\n",
        "top = 10\n",
        "\n",
        "print(\"\\n======================\\nTop {} results out of {} for the searched query: {} \\n\".format(top, len(ranked_docs), query4))\n",
        "for idx, d_id in enumerate(ranked_docs[:top]):\n",
        "    print(\"doc_id = {} - tweet_id: {} - score: {}\".format(d_id, doc_to_tweet[d_id], ranked_scores[idx]))\n",
        "    print(\"\\t\", return_list[idx])\n",
        "    print(\"\\n\")"
      ],
      "metadata": {
        "colab": {
          "base_uri": "https://localhost:8080/"
        },
        "id": "vRejlqC_Zoko",
        "outputId": "8a10ca78-a73c-4694-c4d3-e788a1b2da2a"
      },
      "execution_count": 29,
      "outputs": [
        {
          "output_type": "stream",
          "name": "stdout",
          "text": [
            "\n",
            "======================\n",
            "Top 10 results out of 20 for the searched query: I am very sad \n",
            "\n",
            "doc_id = doc_229 - tweet_id: 1575915199256739841 - score: 14.035991445\n",
            "\t Text: ['sad', 'pawleysisland', 'hurricaneian', 'southcarolina']|Username: southrnfoodjunk|Date: 30/09/2022 18:27:17|pawleysisland HurricaneIan southcarolina|Likes: 0|Retweets: 0|Url: https://twitter.com/southrnfoodjunk/status/1575915199256739841\n",
            "\n",
            "\n",
            "doc_id = doc_1764 - tweet_id: 1575890386249486336 - score: 14.035991445\n",
            "\t Text: ['sad', 'read', 'today', 'hurricaneian']|Username: kamontree|Date: 30/09/2022 16:48:41|hurricaneian|Likes: 0|Retweets: 0|Url: https://twitter.com/kamontree/status/1575890386249486336\n",
            "\n",
            "\n",
            "doc_id = doc_492 - tweet_id: 1575912058365042688 - score: 9.926253149904001\n",
            "\t Text: ['thefungi669', 'sad', 'good', 'track', 'record', 'trumpcrimefamili', 'letitiajam', 'hurricaneian']|Username: Gary_McRobb|Date: 30/09/2022 18:14:48|TrumpCrimeFamily letitiajames HurricaneIan|Likes: 2|Retweets: 2|Url: https://twitter.com/Gary_McRobb/status/1575912058365042688\n",
            "\n",
            "\n",
            "doc_id = doc_2543 - tweet_id: 1575875202445348864 - score: 9.926253149904001\n",
            "\t Text: ['insan', 'sad', 'live', 'lost', 'home', 'irrepar', 'damag', 'hurricaneian']|Username: makeupbytoshi|Date: 30/09/2022 15:48:21|HurricaneIan|Likes: 0|Retweets: 1|Url: https://twitter.com/makeupbytoshi/status/1575875202445348864\n",
            "\n",
            "\n",
            "doc_id = doc_2012 - tweet_id: 1575884604741128192 - score: 9.926253149904001\n",
            "\t Text: ['wxbrad', 'earli', 'shot', 'myrtl', 'beach', 'sad', 'prayer', 'hurricaneian']|Username: cameroncraig|Date: 30/09/2022 16:25:42|hurricaneian|Likes: 16|Retweets: 2|Url: https://twitter.com/cameroncraig/status/1575884604741128192\n",
            "\n",
            "\n",
            "doc_id = doc_2997 - tweet_id: 1575869451710316544 - score: 9.356391897237\n",
            "\t Text: ['hope', 'florida', 'emerg', 'kit', 'sustain', 'sad', 'pray', 'victim', 'hurricaneian']|Username: columbuscareers|Date: 30/09/2022 15:25:30|Florida HurricaneIan|Likes: 0|Retweets: 0|Url: https://twitter.com/columbuscareers/status/1575869451710316544\n",
            "\n",
            "\n",
            "doc_id = doc_922 - tweet_id: 1575907422488518656 - score: 8.463702841335\n",
            "\t Text: ['sad', 'see', 'go', 'florida', 'hope', 'everyon', 'safe', 'healthi', 'aw', 'event', 'hurricaneian']|Username: RivertownRx|Date: 30/09/2022 17:56:23|HurricaneIan|Likes: 0|Retweets: 0|Url: https://twitter.com/RivertownRx/status/1575907422488518656\n",
            "\n",
            "\n",
            "doc_id = doc_2225 - tweet_id: 1575880007196766208 - score: 8.104381460343001\n",
            "\t Text: ['sad', 'tale', 'presid', '98', 'said', 'help', 'ukrain', 'florida', 'bidenworstpresidentev', 'democratsaretheproblem', 'bidenbordercrisi', 'hurricaneian']|Username: OUKnowWho|Date: 30/09/2022 16:07:26|BidenWorstPresidentEver DemocratsAreTheProblem bidenbordercrisis HurricaneIan|Likes: 1|Retweets: 0|Url: https://twitter.com/OUKnowWho/status/1575880007196766208\n",
            "\n",
            "\n",
            "doc_id = doc_3528 - tweet_id: 1575862925499445251 - score: 7.503641026496999\n",
            "\t Text: ['sad', 'see', 'florida', 'news', 'happi', 'see', 'back', 'ritikaguptatv', 'hurricaneian', 'bloomberg', 'bloombergtv', 'busi']|Username: Crypto_Tuitions|Date: 30/09/2022 14:59:34|Florida news HurricaneIan|Likes: 0|Retweets: 1|Url: https://twitter.com/Crypto_Tuitions/status/1575862925499445251\n",
            "\n",
            "\n",
            "doc_id = doc_215 - tweet_id: 1575915407843770386 - score: 7.503641026496999\n",
            "\t Text: ['heart', 'struck', 'immens', 'sad', 'heavi', 'heart', 'sw', 'florida', 'famili', 'think', 'staysaf', 'hurricaneian']|Username: SaltmarshCPA|Date: 30/09/2022 18:28:06|staysafe hurricaneian|Likes: 0|Retweets: 0|Url: https://twitter.com/SaltmarshCPA/status/1575915407843770386\n",
            "\n",
            "\n"
          ]
        }
      ]
    },
    {
      "cell_type": "code",
      "source": [
        "## Query 5\n",
        "\n",
        "query5 = \"My dog suffered\"\n",
        "ranked_docs, ranked_scores, return_list = search_tf_idf(query5, index, idf, tf, doc_to_tweet)\n",
        "top = 10\n",
        "\n",
        "print(\"\\n======================\\nTop {} results out of {} for the searched query: {} \\n\".format(top, len(ranked_docs), query5))\n",
        "for idx, d_id in enumerate(ranked_docs[:top]):\n",
        "    print(\"doc_id = {} - tweet_id: {} - score: {}\".format(d_id, doc_to_tweet[d_id], ranked_scores[idx]))\n",
        "    print(\"\\t\", return_list[idx])\n",
        "    print(\"\\n\")"
      ],
      "metadata": {
        "colab": {
          "base_uri": "https://localhost:8080/"
        },
        "id": "-1NuI7PFaDkA",
        "outputId": "e97ebf82-7c88-4084-edf1-872e0216007c"
      },
      "execution_count": 30,
      "outputs": [
        {
          "output_type": "stream",
          "name": "stdout",
          "text": [
            "\n",
            "======================\n",
            "Top 10 results out of 32 for the searched query: My dog suffered \n",
            "\n",
            "doc_id = doc_1392 - tweet_id: 1575899951812341760 - score: 11.393918233510043\n",
            "\t Text: ['brave', 'man', 'save', 'dog', 'drown', 'hurricaneian', 'floodwat', 'rescu', 'ian', 'hurricanian', 'dog', 'braveri', 'hero']|Username: LynnSchore|Date: 30/09/2022 17:26:41|HurricaneIan rescue Ian HurricanIan dogs bravery hero|Likes: 1|Retweets: 0|Url: https://twitter.com/LynnSchore/status/1575899951812341760\n",
            "\n",
            "\n",
            "doc_id = doc_2537 - tweet_id: 1575875317918748679 - score: 10.543081127704832\n",
            "\t Text: ['pray', 'suffer', 'hurrican', 'hurricaneian']|Username: Gaming2klife1|Date: 30/09/2022 15:48:48|HurricaneIan|Likes: 0|Retweets: 0|Url: https://twitter.com/Gaming2klife1/status/1575875317918748679\n",
            "\n",
            "\n",
            "doc_id = doc_90 - tweet_id: 1575916894309138432 - score: 7.028017879728041\n",
            "\t Text: ['help', 'church', 'suffer', 'great', 'loss', 'florida', 'carolina', 'pleas', 'go']|Username: ReseedingAmeric|Date: 30/09/2022 18:34:01|HurricaneIan BIMI reseedingameric|Likes: 0|Retweets: 0|Url: https://twitter.com/ReseedingAmeric/status/1575916894309138432\n",
            "\n",
            "\n",
            "doc_id = doc_2523 - tweet_id: 1575875501352046593 - score: 6.840351035654895\n",
            "\t Text: ['like', 'express', 'sympathi', 'economi', 'suffer', 'much', 'pain', 'amp', 'miseri', 'due', 'recent', 'extrem', 'weather', 'cost', 'live', 'amp', 'energi', 'crise', 'hope', 'economi', 'suffer', 'cold', 'hunger', 'homeless', 'like', 'real', 'peopl', 'hurricaneian', 'ian', 'climateemerg']|Username: IPolemikos|Date: 30/09/2022 15:49:32|HurricaneIan Ian ClimateEmergency|Likes: 0|Retweets: 0|Url: https://twitter.com/IPolemikos/status/1575875501352046593\n",
            "\n",
            "\n",
            "doc_id = doc_679 - tweet_id: 1575909904845402112 - score: 6.652336071656231\n",
            "\t Text: ['dog', 'love', 'rain', 'would', 'wander', 'around', 'outsid', 'entir', 'hurrican', 'let', 'hurricaneian']|Username: quillsive|Date: 30/09/2022 18:06:14|HurricaneIan|Likes: 0|Retweets: 0|Url: https://twitter.com/quillsive/status/1575909904845402112\n",
            "\n",
            "\n",
            "doc_id = doc_1854 - tweet_id: 1575888174617956356 - score: 6.652336071656231\n",
            "\t Text: ['cute', 'new', 'wavynew', 'help', 'vbspca', 'took', 'ador', 'dog', 'save', 'hurricaneian', 'donat']|Username: juliemilletnews|Date: 30/09/2022 16:39:54|dogs HurricaneIan|Likes: 2|Retweets: 0|Url: https://twitter.com/juliemilletnews/status/1575888174617956356\n",
            "\n",
            "\n",
            "doc_id = doc_2044 - tweet_id: 1575883761773944833 - score: 6.369915170438322\n",
            "\t Text: ['walk', 'dog', 'hurricaneian', 'hurrican', 'hurricaneseason2022', 'walk', 'holistichealth', 'healthylifestyl', 'healthyhabit', 'zenlif']|Username: THEzenlarge|Date: 30/09/2022 16:22:21|HurricaneIan hurricane hurricaneseason2022 walking holistichealth healthylifestyle healthyhabits zenlife|Likes: 0|Retweets: 0|Url: https://twitter.com/THEzenlarge/status/1575883761773944833\n",
            "\n",
            "\n",
            "doc_id = doc_2917 - tweet_id: 1575870297458155521 - score: 5.696959116755021\n",
            "\t Text: ['62', 'degre', 'amp', 'light', 'wind', 'augusta', 'ahead', 'hurricaneian', 'howev', 'would', 'think', '12', 'saw', 'dramat', 'dog']|Username: alexandrankoch|Date: 30/09/2022 15:28:51|HurricaneIan|Likes: 6|Retweets: 0|Url: https://twitter.com/alexandrankoch/status/1575870297458155521\n",
            "\n",
            "\n",
            "doc_id = doc_2327 - tweet_id: 1575878251561771008 - score: 5.636331170871003\n",
            "\t Text: ['feel', 'guilti', 'enjoy', 'beauti', 'blue', 'sky', 'bright', 'sunshin', 'much', 'suffer', 'south', 'us', 'hurricaneian', 'florida']|Username: RobynInFlorida|Date: 30/09/2022 16:00:28|HurricaneIan Florida|Likes: 3|Retweets: 1|Url: https://twitter.com/RobynInFlorida/status/1575878251561771008\n",
            "\n",
            "\n",
            "doc_id = doc_707 - tweet_id: 1575909632530432029 - score: 5.516033226912298\n",
            "\t Text: ['jordan', 'reidi', 'carri', 'dog', 'ivori', 'back', 'second', 'floor', 'apart', 'fort', 'myer', 'florida', 'flee', 'hurricaneian', 'pass', 'jraedl']|Username: GettyImagesNews|Date: 30/09/2022 18:05:10|Florida HurricaneIan|Likes: 3|Retweets: 2|Url: https://twitter.com/GettyImagesNews/status/1575909632530432029\n",
            "\n",
            "\n"
          ]
        }
      ]
    },
    {
      "cell_type": "markdown",
      "source": [
        "### Evaluation ( part 2 )"
      ],
      "metadata": {
        "id": "X8dCYVThg_3u"
      }
    },
    {
      "cell_type": "markdown",
      "source": [
        "#### Ex 1"
      ],
      "metadata": {
        "id": "uzukBV9W3vUF"
      }
    },
    {
      "cell_type": "code",
      "source": [
        "# baseline with 3 queries and the ground truth files for each query\n",
        "\n",
        "search_results = pd.read_csv(\"evaluation_gt.csv\")"
      ],
      "metadata": {
        "id": "Z1R3DysR5O1T"
      },
      "execution_count": 31,
      "outputs": []
    },
    {
      "cell_type": "code",
      "source": [
        "print_result = search_results[\"label\"].unique()\n",
        "print(\"The ground truth of our dataset is composed of {} Relevance Levels: {}\".format(len(print_result), sorted(print_result)))"
      ],
      "metadata": {
        "colab": {
          "base_uri": "https://localhost:8080/"
        },
        "id": "g0yllnfJhOft",
        "outputId": "d67d496c-15fd-4044-fa0d-4fe231e6e28c"
      },
      "execution_count": 32,
      "outputs": [
        {
          "output_type": "stream",
          "name": "stdout",
          "text": [
            "The ground truth of our dataset is composed of 2 Relevance Levels: [0, 1]\n"
          ]
        }
      ]
    },
    {
      "cell_type": "code",
      "source": [
        "# queries Ex1 definition\n",
        "q1 = \"Landfall in South Carolina\"\n",
        "q2 = \"Help and recovery during the hurricane disaster\"\n",
        "q3 = \"Floodings in South Carolina\"\n",
        "\n",
        "# create the dataframe with this 3 queries\n",
        "queries = [q1,q2,q3]\n",
        "queries_df = pd.DataFrame(columns = [\"tweet_id\", \"query_id\", \"score\"])\n",
        "idxs = []\n",
        "\n",
        "# get the tweets_id\n",
        "d = search_results[\"doc\"].values\n",
        "for i in range(len(search_results[\"doc\"])):\n",
        "  idxs.append((d[i],doc_to_tweet[d[i]]))\n"
      ],
      "metadata": {
        "id": "4YGdjkv5jlkY"
      },
      "execution_count": 33,
      "outputs": []
    },
    {
      "cell_type": "code",
      "source": [
        "# To be able to differenciate queries on idxs during loop\n",
        "aux_1 = idxs[0:10] + idxs[30:40]\n",
        "aux_2 = idxs[10:20] + idxs[40:50]\n",
        "aux_3 = idxs[20:30] + idxs[50:60]\n",
        "idxs = []\n",
        "idxs.append(aux_1)\n",
        "idxs.append(aux_2)\n",
        "idxs.append(aux_3)"
      ],
      "metadata": {
        "id": "1vZt3nAqxuKr"
      },
      "execution_count": 34,
      "outputs": []
    },
    {
      "cell_type": "code",
      "source": [
        "for i in range(len(queries)):\n",
        "    ranked_docs, ranked_scores, return_list = search_tf_idf(queries[i], index, idf, tf, doc_to_tweet)\n",
        "    for d_id, t_id in idxs[i]:\n",
        "      try:\n",
        "        queries_df = queries_df.append({\"tweet_id\": t_id, \"query_id\": int(i+1), \"score\": ranked_scores[ranked_docs.index(str(d_id))], \"url\": tweets[doc_to_tweet[d_id]]['url']}, ignore_index=True)\n",
        "      except:\n",
        "        queries_df = queries_df.append({\"tweet_id\": t_id, \"query_id\": int(i+1), \"score\": 0, \"url\": tweets[doc_to_tweet[d_id]]['url']}, ignore_index=True)\n",
        "\n",
        "# we sort by score, respecting the query_id value\n",
        "queries_df = queries_df.sort_values(by=['query_id','score'], ascending = [True, False])\n",
        "\n",
        "queries_df.head()"
      ],
      "metadata": {
        "colab": {
          "base_uri": "https://localhost:8080/",
          "height": 201
        },
        "id": "VilLPzN-rPej",
        "outputId": "f8068e0f-28aa-4b06-de64-58605f797341"
      },
      "execution_count": 35,
      "outputs": [
        {
          "output_type": "execute_result",
          "data": {
            "text/plain": [
              "              tweet_id query_id     score  \\\n",
              "6  1575916977717141504        1  3.641145   \n",
              "4  1575911964555247616        1  3.371244   \n",
              "9  1575916073223962652        1  2.820090   \n",
              "7  1575916807927795712        1  2.395052   \n",
              "2  1575917983062380545        1  2.243561   \n",
              "\n",
              "                                                 url  \n",
              "6  https://twitter.com/willy_lowry/status/1575916...  \n",
              "4  https://twitter.com/AVEnthusiastsCH/status/157...  \n",
              "9  https://twitter.com/NBCPhiladelphia/status/157...  \n",
              "7  https://twitter.com/Jason_Disharoon/status/157...  \n",
              "2  https://twitter.com/EddieMcCoven/status/157591...  "
            ],
            "text/html": [
              "\n",
              "  <div id=\"df-aefc9666-b334-4b10-8aa6-a00b4e75a077\">\n",
              "    <div class=\"colab-df-container\">\n",
              "      <div>\n",
              "<style scoped>\n",
              "    .dataframe tbody tr th:only-of-type {\n",
              "        vertical-align: middle;\n",
              "    }\n",
              "\n",
              "    .dataframe tbody tr th {\n",
              "        vertical-align: top;\n",
              "    }\n",
              "\n",
              "    .dataframe thead th {\n",
              "        text-align: right;\n",
              "    }\n",
              "</style>\n",
              "<table border=\"1\" class=\"dataframe\">\n",
              "  <thead>\n",
              "    <tr style=\"text-align: right;\">\n",
              "      <th></th>\n",
              "      <th>tweet_id</th>\n",
              "      <th>query_id</th>\n",
              "      <th>score</th>\n",
              "      <th>url</th>\n",
              "    </tr>\n",
              "  </thead>\n",
              "  <tbody>\n",
              "    <tr>\n",
              "      <th>6</th>\n",
              "      <td>1575916977717141504</td>\n",
              "      <td>1</td>\n",
              "      <td>3.641145</td>\n",
              "      <td>https://twitter.com/willy_lowry/status/1575916...</td>\n",
              "    </tr>\n",
              "    <tr>\n",
              "      <th>4</th>\n",
              "      <td>1575911964555247616</td>\n",
              "      <td>1</td>\n",
              "      <td>3.371244</td>\n",
              "      <td>https://twitter.com/AVEnthusiastsCH/status/157...</td>\n",
              "    </tr>\n",
              "    <tr>\n",
              "      <th>9</th>\n",
              "      <td>1575916073223962652</td>\n",
              "      <td>1</td>\n",
              "      <td>2.820090</td>\n",
              "      <td>https://twitter.com/NBCPhiladelphia/status/157...</td>\n",
              "    </tr>\n",
              "    <tr>\n",
              "      <th>7</th>\n",
              "      <td>1575916807927795712</td>\n",
              "      <td>1</td>\n",
              "      <td>2.395052</td>\n",
              "      <td>https://twitter.com/Jason_Disharoon/status/157...</td>\n",
              "    </tr>\n",
              "    <tr>\n",
              "      <th>2</th>\n",
              "      <td>1575917983062380545</td>\n",
              "      <td>1</td>\n",
              "      <td>2.243561</td>\n",
              "      <td>https://twitter.com/EddieMcCoven/status/157591...</td>\n",
              "    </tr>\n",
              "  </tbody>\n",
              "</table>\n",
              "</div>\n",
              "      <button class=\"colab-df-convert\" onclick=\"convertToInteractive('df-aefc9666-b334-4b10-8aa6-a00b4e75a077')\"\n",
              "              title=\"Convert this dataframe to an interactive table.\"\n",
              "              style=\"display:none;\">\n",
              "        \n",
              "  <svg xmlns=\"http://www.w3.org/2000/svg\" height=\"24px\"viewBox=\"0 0 24 24\"\n",
              "       width=\"24px\">\n",
              "    <path d=\"M0 0h24v24H0V0z\" fill=\"none\"/>\n",
              "    <path d=\"M18.56 5.44l.94 2.06.94-2.06 2.06-.94-2.06-.94-.94-2.06-.94 2.06-2.06.94zm-11 1L8.5 8.5l.94-2.06 2.06-.94-2.06-.94L8.5 2.5l-.94 2.06-2.06.94zm10 10l.94 2.06.94-2.06 2.06-.94-2.06-.94-.94-2.06-.94 2.06-2.06.94z\"/><path d=\"M17.41 7.96l-1.37-1.37c-.4-.4-.92-.59-1.43-.59-.52 0-1.04.2-1.43.59L10.3 9.45l-7.72 7.72c-.78.78-.78 2.05 0 2.83L4 21.41c.39.39.9.59 1.41.59.51 0 1.02-.2 1.41-.59l7.78-7.78 2.81-2.81c.8-.78.8-2.07 0-2.86zM5.41 20L4 18.59l7.72-7.72 1.47 1.35L5.41 20z\"/>\n",
              "  </svg>\n",
              "      </button>\n",
              "      \n",
              "  <style>\n",
              "    .colab-df-container {\n",
              "      display:flex;\n",
              "      flex-wrap:wrap;\n",
              "      gap: 12px;\n",
              "    }\n",
              "\n",
              "    .colab-df-convert {\n",
              "      background-color: #E8F0FE;\n",
              "      border: none;\n",
              "      border-radius: 50%;\n",
              "      cursor: pointer;\n",
              "      display: none;\n",
              "      fill: #1967D2;\n",
              "      height: 32px;\n",
              "      padding: 0 0 0 0;\n",
              "      width: 32px;\n",
              "    }\n",
              "\n",
              "    .colab-df-convert:hover {\n",
              "      background-color: #E2EBFA;\n",
              "      box-shadow: 0px 1px 2px rgba(60, 64, 67, 0.3), 0px 1px 3px 1px rgba(60, 64, 67, 0.15);\n",
              "      fill: #174EA6;\n",
              "    }\n",
              "\n",
              "    [theme=dark] .colab-df-convert {\n",
              "      background-color: #3B4455;\n",
              "      fill: #D2E3FC;\n",
              "    }\n",
              "\n",
              "    [theme=dark] .colab-df-convert:hover {\n",
              "      background-color: #434B5C;\n",
              "      box-shadow: 0px 1px 3px 1px rgba(0, 0, 0, 0.15);\n",
              "      filter: drop-shadow(0px 1px 2px rgba(0, 0, 0, 0.3));\n",
              "      fill: #FFFFFF;\n",
              "    }\n",
              "  </style>\n",
              "\n",
              "      <script>\n",
              "        const buttonEl =\n",
              "          document.querySelector('#df-aefc9666-b334-4b10-8aa6-a00b4e75a077 button.colab-df-convert');\n",
              "        buttonEl.style.display =\n",
              "          google.colab.kernel.accessAllowed ? 'block' : 'none';\n",
              "\n",
              "        async function convertToInteractive(key) {\n",
              "          const element = document.querySelector('#df-aefc9666-b334-4b10-8aa6-a00b4e75a077');\n",
              "          const dataTable =\n",
              "            await google.colab.kernel.invokeFunction('convertToInteractive',\n",
              "                                                     [key], {});\n",
              "          if (!dataTable) return;\n",
              "\n",
              "          const docLinkHtml = 'Like what you see? Visit the ' +\n",
              "            '<a target=\"_blank\" href=https://colab.research.google.com/notebooks/data_table.ipynb>data table notebook</a>'\n",
              "            + ' to learn more about interactive tables.';\n",
              "          element.innerHTML = '';\n",
              "          dataTable['output_type'] = 'display_data';\n",
              "          await google.colab.output.renderOutput(dataTable, element);\n",
              "          const docLink = document.createElement('div');\n",
              "          docLink.innerHTML = docLinkHtml;\n",
              "          element.appendChild(docLink);\n",
              "        }\n",
              "      </script>\n",
              "    </div>\n",
              "  </div>\n",
              "  "
            ]
          },
          "metadata": {},
          "execution_count": 35
        }
      ]
    },
    {
      "cell_type": "code",
      "source": [
        "queries_df = queries_df.astype({'query_id': 'int64'})"
      ],
      "metadata": {
        "id": "RTnPEgeFpvKb"
      },
      "execution_count": 36,
      "outputs": []
    },
    {
      "cell_type": "code",
      "source": [
        "# we take ground_truth from the evaluation_gt\n",
        "ground_truth = search_results[\"label\"].values\n",
        "len(ground_truth)"
      ],
      "metadata": {
        "colab": {
          "base_uri": "https://localhost:8080/"
        },
        "id": "Q5zl7rhNkYoC",
        "outputId": "277cf908-457f-45a0-f472-fc2dee54ae7c"
      },
      "execution_count": 37,
      "outputs": [
        {
          "output_type": "execute_result",
          "data": {
            "text/plain": [
              "60"
            ]
          },
          "metadata": {},
          "execution_count": 37
        }
      ]
    },
    {
      "cell_type": "code",
      "source": [
        "queries_df['ground_truth'] = ground_truth\n",
        "queries_df.drop(columns=['url'], inplace=True)\n",
        "queries_df.head()"
      ],
      "metadata": {
        "colab": {
          "base_uri": "https://localhost:8080/",
          "height": 201
        },
        "id": "yXncSX4sn3Mm",
        "outputId": "3eedaab7-a93e-4efb-f313-cead09eaee5c"
      },
      "execution_count": 38,
      "outputs": [
        {
          "output_type": "execute_result",
          "data": {
            "text/plain": [
              "              tweet_id  query_id     score  ground_truth\n",
              "6  1575916977717141504         1  3.641145             1\n",
              "4  1575911964555247616         1  3.371244             1\n",
              "9  1575916073223962652         1  2.820090             1\n",
              "7  1575916807927795712         1  2.395052             1\n",
              "2  1575917983062380545         1  2.243561             1"
            ],
            "text/html": [
              "\n",
              "  <div id=\"df-170e2428-755f-4598-98d3-9de9ccf4c0b7\">\n",
              "    <div class=\"colab-df-container\">\n",
              "      <div>\n",
              "<style scoped>\n",
              "    .dataframe tbody tr th:only-of-type {\n",
              "        vertical-align: middle;\n",
              "    }\n",
              "\n",
              "    .dataframe tbody tr th {\n",
              "        vertical-align: top;\n",
              "    }\n",
              "\n",
              "    .dataframe thead th {\n",
              "        text-align: right;\n",
              "    }\n",
              "</style>\n",
              "<table border=\"1\" class=\"dataframe\">\n",
              "  <thead>\n",
              "    <tr style=\"text-align: right;\">\n",
              "      <th></th>\n",
              "      <th>tweet_id</th>\n",
              "      <th>query_id</th>\n",
              "      <th>score</th>\n",
              "      <th>ground_truth</th>\n",
              "    </tr>\n",
              "  </thead>\n",
              "  <tbody>\n",
              "    <tr>\n",
              "      <th>6</th>\n",
              "      <td>1575916977717141504</td>\n",
              "      <td>1</td>\n",
              "      <td>3.641145</td>\n",
              "      <td>1</td>\n",
              "    </tr>\n",
              "    <tr>\n",
              "      <th>4</th>\n",
              "      <td>1575911964555247616</td>\n",
              "      <td>1</td>\n",
              "      <td>3.371244</td>\n",
              "      <td>1</td>\n",
              "    </tr>\n",
              "    <tr>\n",
              "      <th>9</th>\n",
              "      <td>1575916073223962652</td>\n",
              "      <td>1</td>\n",
              "      <td>2.820090</td>\n",
              "      <td>1</td>\n",
              "    </tr>\n",
              "    <tr>\n",
              "      <th>7</th>\n",
              "      <td>1575916807927795712</td>\n",
              "      <td>1</td>\n",
              "      <td>2.395052</td>\n",
              "      <td>1</td>\n",
              "    </tr>\n",
              "    <tr>\n",
              "      <th>2</th>\n",
              "      <td>1575917983062380545</td>\n",
              "      <td>1</td>\n",
              "      <td>2.243561</td>\n",
              "      <td>1</td>\n",
              "    </tr>\n",
              "  </tbody>\n",
              "</table>\n",
              "</div>\n",
              "      <button class=\"colab-df-convert\" onclick=\"convertToInteractive('df-170e2428-755f-4598-98d3-9de9ccf4c0b7')\"\n",
              "              title=\"Convert this dataframe to an interactive table.\"\n",
              "              style=\"display:none;\">\n",
              "        \n",
              "  <svg xmlns=\"http://www.w3.org/2000/svg\" height=\"24px\"viewBox=\"0 0 24 24\"\n",
              "       width=\"24px\">\n",
              "    <path d=\"M0 0h24v24H0V0z\" fill=\"none\"/>\n",
              "    <path d=\"M18.56 5.44l.94 2.06.94-2.06 2.06-.94-2.06-.94-.94-2.06-.94 2.06-2.06.94zm-11 1L8.5 8.5l.94-2.06 2.06-.94-2.06-.94L8.5 2.5l-.94 2.06-2.06.94zm10 10l.94 2.06.94-2.06 2.06-.94-2.06-.94-.94-2.06-.94 2.06-2.06.94z\"/><path d=\"M17.41 7.96l-1.37-1.37c-.4-.4-.92-.59-1.43-.59-.52 0-1.04.2-1.43.59L10.3 9.45l-7.72 7.72c-.78.78-.78 2.05 0 2.83L4 21.41c.39.39.9.59 1.41.59.51 0 1.02-.2 1.41-.59l7.78-7.78 2.81-2.81c.8-.78.8-2.07 0-2.86zM5.41 20L4 18.59l7.72-7.72 1.47 1.35L5.41 20z\"/>\n",
              "  </svg>\n",
              "      </button>\n",
              "      \n",
              "  <style>\n",
              "    .colab-df-container {\n",
              "      display:flex;\n",
              "      flex-wrap:wrap;\n",
              "      gap: 12px;\n",
              "    }\n",
              "\n",
              "    .colab-df-convert {\n",
              "      background-color: #E8F0FE;\n",
              "      border: none;\n",
              "      border-radius: 50%;\n",
              "      cursor: pointer;\n",
              "      display: none;\n",
              "      fill: #1967D2;\n",
              "      height: 32px;\n",
              "      padding: 0 0 0 0;\n",
              "      width: 32px;\n",
              "    }\n",
              "\n",
              "    .colab-df-convert:hover {\n",
              "      background-color: #E2EBFA;\n",
              "      box-shadow: 0px 1px 2px rgba(60, 64, 67, 0.3), 0px 1px 3px 1px rgba(60, 64, 67, 0.15);\n",
              "      fill: #174EA6;\n",
              "    }\n",
              "\n",
              "    [theme=dark] .colab-df-convert {\n",
              "      background-color: #3B4455;\n",
              "      fill: #D2E3FC;\n",
              "    }\n",
              "\n",
              "    [theme=dark] .colab-df-convert:hover {\n",
              "      background-color: #434B5C;\n",
              "      box-shadow: 0px 1px 3px 1px rgba(0, 0, 0, 0.15);\n",
              "      filter: drop-shadow(0px 1px 2px rgba(0, 0, 0, 0.3));\n",
              "      fill: #FFFFFF;\n",
              "    }\n",
              "  </style>\n",
              "\n",
              "      <script>\n",
              "        const buttonEl =\n",
              "          document.querySelector('#df-170e2428-755f-4598-98d3-9de9ccf4c0b7 button.colab-df-convert');\n",
              "        buttonEl.style.display =\n",
              "          google.colab.kernel.accessAllowed ? 'block' : 'none';\n",
              "\n",
              "        async function convertToInteractive(key) {\n",
              "          const element = document.querySelector('#df-170e2428-755f-4598-98d3-9de9ccf4c0b7');\n",
              "          const dataTable =\n",
              "            await google.colab.kernel.invokeFunction('convertToInteractive',\n",
              "                                                     [key], {});\n",
              "          if (!dataTable) return;\n",
              "\n",
              "          const docLinkHtml = 'Like what you see? Visit the ' +\n",
              "            '<a target=\"_blank\" href=https://colab.research.google.com/notebooks/data_table.ipynb>data table notebook</a>'\n",
              "            + ' to learn more about interactive tables.';\n",
              "          element.innerHTML = '';\n",
              "          dataTable['output_type'] = 'display_data';\n",
              "          await google.colab.output.renderOutput(dataTable, element);\n",
              "          const docLink = document.createElement('div');\n",
              "          docLink.innerHTML = docLinkHtml;\n",
              "          element.appendChild(docLink);\n",
              "        }\n",
              "      </script>\n",
              "    </div>\n",
              "  </div>\n",
              "  "
            ]
          },
          "metadata": {},
          "execution_count": 38
        }
      ]
    },
    {
      "cell_type": "code",
      "source": [
        "current_query = 1\n",
        "current_query_res = queries_df[queries_df[\"query_id\"] == current_query]\n",
        "\n",
        "k = 5\n",
        "print(\"==> Precision@{}: {}\\n\".format(k, precision_at_k(current_query_res[\"ground_truth\"], current_query_res[\"score\"], k)))\n",
        "print(\"\\nCheck on the dataset sorted by score:\\n\")\n",
        "\n",
        "current_query_res.sort_values(\"score\", ascending=False).head(k)"
      ],
      "metadata": {
        "colab": {
          "base_uri": "https://localhost:8080/",
          "height": 283
        },
        "id": "veXNdNsu05cI",
        "outputId": "35362b42-d10e-440b-b713-0f437ee2b787"
      },
      "execution_count": 39,
      "outputs": [
        {
          "output_type": "stream",
          "name": "stdout",
          "text": [
            "==> Precision@5: 1.0\n",
            "\n",
            "\n",
            "Check on the dataset sorted by score:\n",
            "\n"
          ]
        },
        {
          "output_type": "execute_result",
          "data": {
            "text/plain": [
              "              tweet_id  query_id     score  ground_truth\n",
              "6  1575916977717141504         1  3.641145             1\n",
              "4  1575911964555247616         1  3.371244             1\n",
              "9  1575916073223962652         1  2.820090             1\n",
              "7  1575916807927795712         1  2.395052             1\n",
              "2  1575917983062380545         1  2.243561             1"
            ],
            "text/html": [
              "\n",
              "  <div id=\"df-5c215661-5ce4-409a-9f95-4cfd4fb7b5d0\">\n",
              "    <div class=\"colab-df-container\">\n",
              "      <div>\n",
              "<style scoped>\n",
              "    .dataframe tbody tr th:only-of-type {\n",
              "        vertical-align: middle;\n",
              "    }\n",
              "\n",
              "    .dataframe tbody tr th {\n",
              "        vertical-align: top;\n",
              "    }\n",
              "\n",
              "    .dataframe thead th {\n",
              "        text-align: right;\n",
              "    }\n",
              "</style>\n",
              "<table border=\"1\" class=\"dataframe\">\n",
              "  <thead>\n",
              "    <tr style=\"text-align: right;\">\n",
              "      <th></th>\n",
              "      <th>tweet_id</th>\n",
              "      <th>query_id</th>\n",
              "      <th>score</th>\n",
              "      <th>ground_truth</th>\n",
              "    </tr>\n",
              "  </thead>\n",
              "  <tbody>\n",
              "    <tr>\n",
              "      <th>6</th>\n",
              "      <td>1575916977717141504</td>\n",
              "      <td>1</td>\n",
              "      <td>3.641145</td>\n",
              "      <td>1</td>\n",
              "    </tr>\n",
              "    <tr>\n",
              "      <th>4</th>\n",
              "      <td>1575911964555247616</td>\n",
              "      <td>1</td>\n",
              "      <td>3.371244</td>\n",
              "      <td>1</td>\n",
              "    </tr>\n",
              "    <tr>\n",
              "      <th>9</th>\n",
              "      <td>1575916073223962652</td>\n",
              "      <td>1</td>\n",
              "      <td>2.820090</td>\n",
              "      <td>1</td>\n",
              "    </tr>\n",
              "    <tr>\n",
              "      <th>7</th>\n",
              "      <td>1575916807927795712</td>\n",
              "      <td>1</td>\n",
              "      <td>2.395052</td>\n",
              "      <td>1</td>\n",
              "    </tr>\n",
              "    <tr>\n",
              "      <th>2</th>\n",
              "      <td>1575917983062380545</td>\n",
              "      <td>1</td>\n",
              "      <td>2.243561</td>\n",
              "      <td>1</td>\n",
              "    </tr>\n",
              "  </tbody>\n",
              "</table>\n",
              "</div>\n",
              "      <button class=\"colab-df-convert\" onclick=\"convertToInteractive('df-5c215661-5ce4-409a-9f95-4cfd4fb7b5d0')\"\n",
              "              title=\"Convert this dataframe to an interactive table.\"\n",
              "              style=\"display:none;\">\n",
              "        \n",
              "  <svg xmlns=\"http://www.w3.org/2000/svg\" height=\"24px\"viewBox=\"0 0 24 24\"\n",
              "       width=\"24px\">\n",
              "    <path d=\"M0 0h24v24H0V0z\" fill=\"none\"/>\n",
              "    <path d=\"M18.56 5.44l.94 2.06.94-2.06 2.06-.94-2.06-.94-.94-2.06-.94 2.06-2.06.94zm-11 1L8.5 8.5l.94-2.06 2.06-.94-2.06-.94L8.5 2.5l-.94 2.06-2.06.94zm10 10l.94 2.06.94-2.06 2.06-.94-2.06-.94-.94-2.06-.94 2.06-2.06.94z\"/><path d=\"M17.41 7.96l-1.37-1.37c-.4-.4-.92-.59-1.43-.59-.52 0-1.04.2-1.43.59L10.3 9.45l-7.72 7.72c-.78.78-.78 2.05 0 2.83L4 21.41c.39.39.9.59 1.41.59.51 0 1.02-.2 1.41-.59l7.78-7.78 2.81-2.81c.8-.78.8-2.07 0-2.86zM5.41 20L4 18.59l7.72-7.72 1.47 1.35L5.41 20z\"/>\n",
              "  </svg>\n",
              "      </button>\n",
              "      \n",
              "  <style>\n",
              "    .colab-df-container {\n",
              "      display:flex;\n",
              "      flex-wrap:wrap;\n",
              "      gap: 12px;\n",
              "    }\n",
              "\n",
              "    .colab-df-convert {\n",
              "      background-color: #E8F0FE;\n",
              "      border: none;\n",
              "      border-radius: 50%;\n",
              "      cursor: pointer;\n",
              "      display: none;\n",
              "      fill: #1967D2;\n",
              "      height: 32px;\n",
              "      padding: 0 0 0 0;\n",
              "      width: 32px;\n",
              "    }\n",
              "\n",
              "    .colab-df-convert:hover {\n",
              "      background-color: #E2EBFA;\n",
              "      box-shadow: 0px 1px 2px rgba(60, 64, 67, 0.3), 0px 1px 3px 1px rgba(60, 64, 67, 0.15);\n",
              "      fill: #174EA6;\n",
              "    }\n",
              "\n",
              "    [theme=dark] .colab-df-convert {\n",
              "      background-color: #3B4455;\n",
              "      fill: #D2E3FC;\n",
              "    }\n",
              "\n",
              "    [theme=dark] .colab-df-convert:hover {\n",
              "      background-color: #434B5C;\n",
              "      box-shadow: 0px 1px 3px 1px rgba(0, 0, 0, 0.15);\n",
              "      filter: drop-shadow(0px 1px 2px rgba(0, 0, 0, 0.3));\n",
              "      fill: #FFFFFF;\n",
              "    }\n",
              "  </style>\n",
              "\n",
              "      <script>\n",
              "        const buttonEl =\n",
              "          document.querySelector('#df-5c215661-5ce4-409a-9f95-4cfd4fb7b5d0 button.colab-df-convert');\n",
              "        buttonEl.style.display =\n",
              "          google.colab.kernel.accessAllowed ? 'block' : 'none';\n",
              "\n",
              "        async function convertToInteractive(key) {\n",
              "          const element = document.querySelector('#df-5c215661-5ce4-409a-9f95-4cfd4fb7b5d0');\n",
              "          const dataTable =\n",
              "            await google.colab.kernel.invokeFunction('convertToInteractive',\n",
              "                                                     [key], {});\n",
              "          if (!dataTable) return;\n",
              "\n",
              "          const docLinkHtml = 'Like what you see? Visit the ' +\n",
              "            '<a target=\"_blank\" href=https://colab.research.google.com/notebooks/data_table.ipynb>data table notebook</a>'\n",
              "            + ' to learn more about interactive tables.';\n",
              "          element.innerHTML = '';\n",
              "          dataTable['output_type'] = 'display_data';\n",
              "          await google.colab.output.renderOutput(dataTable, element);\n",
              "          const docLink = document.createElement('div');\n",
              "          docLink.innerHTML = docLinkHtml;\n",
              "          element.appendChild(docLink);\n",
              "        }\n",
              "      </script>\n",
              "    </div>\n",
              "  </div>\n",
              "  "
            ]
          },
          "metadata": {},
          "execution_count": 39
        }
      ]
    },
    {
      "cell_type": "code",
      "source": [
        "# Check for query 2\n",
        "\n",
        "current_query = 2\n",
        "current_query_res = queries_df[queries_df[\"query_id\"] == current_query]\n",
        "\n",
        "k = 5\n",
        "print(\"==> Precision@{}: {}\\n\".format(k, precision_at_k(current_query_res[\"ground_truth\"], current_query_res[\"score\"], k)))\n",
        "print(\"\\nCheck on the dataset sorted by score:\\n\")\n",
        "\n",
        "current_query_res.sort_values(\"score\", ascending=False).head(k)"
      ],
      "metadata": {
        "colab": {
          "base_uri": "https://localhost:8080/",
          "height": 283
        },
        "id": "HRW7yLSd07g5",
        "outputId": "1fd09056-5810-4591-b640-83a3b78776d2"
      },
      "execution_count": 40,
      "outputs": [
        {
          "output_type": "stream",
          "name": "stdout",
          "text": [
            "==> Precision@5: 1.0\n",
            "\n",
            "\n",
            "Check on the dataset sorted by score:\n",
            "\n"
          ]
        },
        {
          "output_type": "execute_result",
          "data": {
            "text/plain": [
              "               tweet_id  query_id     score  ground_truth\n",
              "27  1575913215942590469         2  2.957361             1\n",
              "22  1575914737749016577         2  2.516081             1\n",
              "29  1575911925526896640         2  1.861978             1\n",
              "24  1575914189071138818         2  1.236198             1\n",
              "21  1575915964817760257         2  1.235798             1"
            ],
            "text/html": [
              "\n",
              "  <div id=\"df-40017466-f565-4d9a-8b4c-461f87cc0ce4\">\n",
              "    <div class=\"colab-df-container\">\n",
              "      <div>\n",
              "<style scoped>\n",
              "    .dataframe tbody tr th:only-of-type {\n",
              "        vertical-align: middle;\n",
              "    }\n",
              "\n",
              "    .dataframe tbody tr th {\n",
              "        vertical-align: top;\n",
              "    }\n",
              "\n",
              "    .dataframe thead th {\n",
              "        text-align: right;\n",
              "    }\n",
              "</style>\n",
              "<table border=\"1\" class=\"dataframe\">\n",
              "  <thead>\n",
              "    <tr style=\"text-align: right;\">\n",
              "      <th></th>\n",
              "      <th>tweet_id</th>\n",
              "      <th>query_id</th>\n",
              "      <th>score</th>\n",
              "      <th>ground_truth</th>\n",
              "    </tr>\n",
              "  </thead>\n",
              "  <tbody>\n",
              "    <tr>\n",
              "      <th>27</th>\n",
              "      <td>1575913215942590469</td>\n",
              "      <td>2</td>\n",
              "      <td>2.957361</td>\n",
              "      <td>1</td>\n",
              "    </tr>\n",
              "    <tr>\n",
              "      <th>22</th>\n",
              "      <td>1575914737749016577</td>\n",
              "      <td>2</td>\n",
              "      <td>2.516081</td>\n",
              "      <td>1</td>\n",
              "    </tr>\n",
              "    <tr>\n",
              "      <th>29</th>\n",
              "      <td>1575911925526896640</td>\n",
              "      <td>2</td>\n",
              "      <td>1.861978</td>\n",
              "      <td>1</td>\n",
              "    </tr>\n",
              "    <tr>\n",
              "      <th>24</th>\n",
              "      <td>1575914189071138818</td>\n",
              "      <td>2</td>\n",
              "      <td>1.236198</td>\n",
              "      <td>1</td>\n",
              "    </tr>\n",
              "    <tr>\n",
              "      <th>21</th>\n",
              "      <td>1575915964817760257</td>\n",
              "      <td>2</td>\n",
              "      <td>1.235798</td>\n",
              "      <td>1</td>\n",
              "    </tr>\n",
              "  </tbody>\n",
              "</table>\n",
              "</div>\n",
              "      <button class=\"colab-df-convert\" onclick=\"convertToInteractive('df-40017466-f565-4d9a-8b4c-461f87cc0ce4')\"\n",
              "              title=\"Convert this dataframe to an interactive table.\"\n",
              "              style=\"display:none;\">\n",
              "        \n",
              "  <svg xmlns=\"http://www.w3.org/2000/svg\" height=\"24px\"viewBox=\"0 0 24 24\"\n",
              "       width=\"24px\">\n",
              "    <path d=\"M0 0h24v24H0V0z\" fill=\"none\"/>\n",
              "    <path d=\"M18.56 5.44l.94 2.06.94-2.06 2.06-.94-2.06-.94-.94-2.06-.94 2.06-2.06.94zm-11 1L8.5 8.5l.94-2.06 2.06-.94-2.06-.94L8.5 2.5l-.94 2.06-2.06.94zm10 10l.94 2.06.94-2.06 2.06-.94-2.06-.94-.94-2.06-.94 2.06-2.06.94z\"/><path d=\"M17.41 7.96l-1.37-1.37c-.4-.4-.92-.59-1.43-.59-.52 0-1.04.2-1.43.59L10.3 9.45l-7.72 7.72c-.78.78-.78 2.05 0 2.83L4 21.41c.39.39.9.59 1.41.59.51 0 1.02-.2 1.41-.59l7.78-7.78 2.81-2.81c.8-.78.8-2.07 0-2.86zM5.41 20L4 18.59l7.72-7.72 1.47 1.35L5.41 20z\"/>\n",
              "  </svg>\n",
              "      </button>\n",
              "      \n",
              "  <style>\n",
              "    .colab-df-container {\n",
              "      display:flex;\n",
              "      flex-wrap:wrap;\n",
              "      gap: 12px;\n",
              "    }\n",
              "\n",
              "    .colab-df-convert {\n",
              "      background-color: #E8F0FE;\n",
              "      border: none;\n",
              "      border-radius: 50%;\n",
              "      cursor: pointer;\n",
              "      display: none;\n",
              "      fill: #1967D2;\n",
              "      height: 32px;\n",
              "      padding: 0 0 0 0;\n",
              "      width: 32px;\n",
              "    }\n",
              "\n",
              "    .colab-df-convert:hover {\n",
              "      background-color: #E2EBFA;\n",
              "      box-shadow: 0px 1px 2px rgba(60, 64, 67, 0.3), 0px 1px 3px 1px rgba(60, 64, 67, 0.15);\n",
              "      fill: #174EA6;\n",
              "    }\n",
              "\n",
              "    [theme=dark] .colab-df-convert {\n",
              "      background-color: #3B4455;\n",
              "      fill: #D2E3FC;\n",
              "    }\n",
              "\n",
              "    [theme=dark] .colab-df-convert:hover {\n",
              "      background-color: #434B5C;\n",
              "      box-shadow: 0px 1px 3px 1px rgba(0, 0, 0, 0.15);\n",
              "      filter: drop-shadow(0px 1px 2px rgba(0, 0, 0, 0.3));\n",
              "      fill: #FFFFFF;\n",
              "    }\n",
              "  </style>\n",
              "\n",
              "      <script>\n",
              "        const buttonEl =\n",
              "          document.querySelector('#df-40017466-f565-4d9a-8b4c-461f87cc0ce4 button.colab-df-convert');\n",
              "        buttonEl.style.display =\n",
              "          google.colab.kernel.accessAllowed ? 'block' : 'none';\n",
              "\n",
              "        async function convertToInteractive(key) {\n",
              "          const element = document.querySelector('#df-40017466-f565-4d9a-8b4c-461f87cc0ce4');\n",
              "          const dataTable =\n",
              "            await google.colab.kernel.invokeFunction('convertToInteractive',\n",
              "                                                     [key], {});\n",
              "          if (!dataTable) return;\n",
              "\n",
              "          const docLinkHtml = 'Like what you see? Visit the ' +\n",
              "            '<a target=\"_blank\" href=https://colab.research.google.com/notebooks/data_table.ipynb>data table notebook</a>'\n",
              "            + ' to learn more about interactive tables.';\n",
              "          element.innerHTML = '';\n",
              "          dataTable['output_type'] = 'display_data';\n",
              "          await google.colab.output.renderOutput(dataTable, element);\n",
              "          const docLink = document.createElement('div');\n",
              "          docLink.innerHTML = docLinkHtml;\n",
              "          element.appendChild(docLink);\n",
              "        }\n",
              "      </script>\n",
              "    </div>\n",
              "  </div>\n",
              "  "
            ]
          },
          "metadata": {},
          "execution_count": 40
        }
      ]
    },
    {
      "cell_type": "code",
      "source": [
        "# Check for query 3\n",
        "\n",
        "current_query = 3\n",
        "current_query_res = queries_df[queries_df[\"query_id\"] == current_query]\n",
        "\n",
        "k = 5\n",
        "print(\"==> Precision@{}: {}\\n\".format(k, precision_at_k(current_query_res[\"ground_truth\"], current_query_res[\"score\"], k)))\n",
        "print(\"\\nCheck on the dataset sorted by score:\\n\")\n",
        "\n",
        "current_query_res.sort_values(\"score\", ascending=False).head(k)"
      ],
      "metadata": {
        "colab": {
          "base_uri": "https://localhost:8080/",
          "height": 283
        },
        "id": "duX2N_vb1GD-",
        "outputId": "b42556eb-154c-4c9f-fad3-ec733e1bf8ee"
      },
      "execution_count": 41,
      "outputs": [
        {
          "output_type": "stream",
          "name": "stdout",
          "text": [
            "==> Precision@5: 0.0\n",
            "\n",
            "\n",
            "Check on the dataset sorted by score:\n",
            "\n"
          ]
        },
        {
          "output_type": "execute_result",
          "data": {
            "text/plain": [
              "               tweet_id  query_id     score  ground_truth\n",
              "42  1575917156734320663         3  3.348685             0\n",
              "44  1575916229910470656         3  2.929887             0\n",
              "41  1575917165831589890         3  2.699228             0\n",
              "49  1575917165831589890         3  2.699228             0\n",
              "40  1575917717600681984         3  2.101680             0"
            ],
            "text/html": [
              "\n",
              "  <div id=\"df-e2a73463-fe0e-44b7-b11f-2d34ee519021\">\n",
              "    <div class=\"colab-df-container\">\n",
              "      <div>\n",
              "<style scoped>\n",
              "    .dataframe tbody tr th:only-of-type {\n",
              "        vertical-align: middle;\n",
              "    }\n",
              "\n",
              "    .dataframe tbody tr th {\n",
              "        vertical-align: top;\n",
              "    }\n",
              "\n",
              "    .dataframe thead th {\n",
              "        text-align: right;\n",
              "    }\n",
              "</style>\n",
              "<table border=\"1\" class=\"dataframe\">\n",
              "  <thead>\n",
              "    <tr style=\"text-align: right;\">\n",
              "      <th></th>\n",
              "      <th>tweet_id</th>\n",
              "      <th>query_id</th>\n",
              "      <th>score</th>\n",
              "      <th>ground_truth</th>\n",
              "    </tr>\n",
              "  </thead>\n",
              "  <tbody>\n",
              "    <tr>\n",
              "      <th>42</th>\n",
              "      <td>1575917156734320663</td>\n",
              "      <td>3</td>\n",
              "      <td>3.348685</td>\n",
              "      <td>0</td>\n",
              "    </tr>\n",
              "    <tr>\n",
              "      <th>44</th>\n",
              "      <td>1575916229910470656</td>\n",
              "      <td>3</td>\n",
              "      <td>2.929887</td>\n",
              "      <td>0</td>\n",
              "    </tr>\n",
              "    <tr>\n",
              "      <th>41</th>\n",
              "      <td>1575917165831589890</td>\n",
              "      <td>3</td>\n",
              "      <td>2.699228</td>\n",
              "      <td>0</td>\n",
              "    </tr>\n",
              "    <tr>\n",
              "      <th>49</th>\n",
              "      <td>1575917165831589890</td>\n",
              "      <td>3</td>\n",
              "      <td>2.699228</td>\n",
              "      <td>0</td>\n",
              "    </tr>\n",
              "    <tr>\n",
              "      <th>40</th>\n",
              "      <td>1575917717600681984</td>\n",
              "      <td>3</td>\n",
              "      <td>2.101680</td>\n",
              "      <td>0</td>\n",
              "    </tr>\n",
              "  </tbody>\n",
              "</table>\n",
              "</div>\n",
              "      <button class=\"colab-df-convert\" onclick=\"convertToInteractive('df-e2a73463-fe0e-44b7-b11f-2d34ee519021')\"\n",
              "              title=\"Convert this dataframe to an interactive table.\"\n",
              "              style=\"display:none;\">\n",
              "        \n",
              "  <svg xmlns=\"http://www.w3.org/2000/svg\" height=\"24px\"viewBox=\"0 0 24 24\"\n",
              "       width=\"24px\">\n",
              "    <path d=\"M0 0h24v24H0V0z\" fill=\"none\"/>\n",
              "    <path d=\"M18.56 5.44l.94 2.06.94-2.06 2.06-.94-2.06-.94-.94-2.06-.94 2.06-2.06.94zm-11 1L8.5 8.5l.94-2.06 2.06-.94-2.06-.94L8.5 2.5l-.94 2.06-2.06.94zm10 10l.94 2.06.94-2.06 2.06-.94-2.06-.94-.94-2.06-.94 2.06-2.06.94z\"/><path d=\"M17.41 7.96l-1.37-1.37c-.4-.4-.92-.59-1.43-.59-.52 0-1.04.2-1.43.59L10.3 9.45l-7.72 7.72c-.78.78-.78 2.05 0 2.83L4 21.41c.39.39.9.59 1.41.59.51 0 1.02-.2 1.41-.59l7.78-7.78 2.81-2.81c.8-.78.8-2.07 0-2.86zM5.41 20L4 18.59l7.72-7.72 1.47 1.35L5.41 20z\"/>\n",
              "  </svg>\n",
              "      </button>\n",
              "      \n",
              "  <style>\n",
              "    .colab-df-container {\n",
              "      display:flex;\n",
              "      flex-wrap:wrap;\n",
              "      gap: 12px;\n",
              "    }\n",
              "\n",
              "    .colab-df-convert {\n",
              "      background-color: #E8F0FE;\n",
              "      border: none;\n",
              "      border-radius: 50%;\n",
              "      cursor: pointer;\n",
              "      display: none;\n",
              "      fill: #1967D2;\n",
              "      height: 32px;\n",
              "      padding: 0 0 0 0;\n",
              "      width: 32px;\n",
              "    }\n",
              "\n",
              "    .colab-df-convert:hover {\n",
              "      background-color: #E2EBFA;\n",
              "      box-shadow: 0px 1px 2px rgba(60, 64, 67, 0.3), 0px 1px 3px 1px rgba(60, 64, 67, 0.15);\n",
              "      fill: #174EA6;\n",
              "    }\n",
              "\n",
              "    [theme=dark] .colab-df-convert {\n",
              "      background-color: #3B4455;\n",
              "      fill: #D2E3FC;\n",
              "    }\n",
              "\n",
              "    [theme=dark] .colab-df-convert:hover {\n",
              "      background-color: #434B5C;\n",
              "      box-shadow: 0px 1px 3px 1px rgba(0, 0, 0, 0.15);\n",
              "      filter: drop-shadow(0px 1px 2px rgba(0, 0, 0, 0.3));\n",
              "      fill: #FFFFFF;\n",
              "    }\n",
              "  </style>\n",
              "\n",
              "      <script>\n",
              "        const buttonEl =\n",
              "          document.querySelector('#df-e2a73463-fe0e-44b7-b11f-2d34ee519021 button.colab-df-convert');\n",
              "        buttonEl.style.display =\n",
              "          google.colab.kernel.accessAllowed ? 'block' : 'none';\n",
              "\n",
              "        async function convertToInteractive(key) {\n",
              "          const element = document.querySelector('#df-e2a73463-fe0e-44b7-b11f-2d34ee519021');\n",
              "          const dataTable =\n",
              "            await google.colab.kernel.invokeFunction('convertToInteractive',\n",
              "                                                     [key], {});\n",
              "          if (!dataTable) return;\n",
              "\n",
              "          const docLinkHtml = 'Like what you see? Visit the ' +\n",
              "            '<a target=\"_blank\" href=https://colab.research.google.com/notebooks/data_table.ipynb>data table notebook</a>'\n",
              "            + ' to learn more about interactive tables.';\n",
              "          element.innerHTML = '';\n",
              "          dataTable['output_type'] = 'display_data';\n",
              "          await google.colab.output.renderOutput(dataTable, element);\n",
              "          const docLink = document.createElement('div');\n",
              "          docLink.innerHTML = docLinkHtml;\n",
              "          element.appendChild(docLink);\n",
              "        }\n",
              "      </script>\n",
              "    </div>\n",
              "  </div>\n",
              "  "
            ]
          },
          "metadata": {},
          "execution_count": 41
        }
      ]
    },
    {
      "cell_type": "code",
      "source": [
        "current_query = 1\n",
        "current_query_res = queries_df[queries_df[\"query_id\"] == current_query]\n",
        "avg_precision_at_k(np.array(current_query_res[\"ground_truth\"]), np.array(current_query_res[\"score\"]), 20)"
      ],
      "metadata": {
        "colab": {
          "base_uri": "https://localhost:8080/"
        },
        "id": "_syV90f11gqg",
        "outputId": "ebcd3923-3f98-4644-a32b-3dad5e0f5688"
      },
      "execution_count": 42,
      "outputs": [
        {
          "output_type": "execute_result",
          "data": {
            "text/plain": [
              "1.0"
            ]
          },
          "metadata": {},
          "execution_count": 42
        }
      ]
    },
    {
      "cell_type": "code",
      "source": [
        "# Check with average_precision_score of sklearn\n",
        "\n",
        "from sklearn.metrics import average_precision_score\n",
        "k = 20\n",
        "average_precision_score(np.array(current_query_res[\"ground_truth\"]), np.array(current_query_res[\"score\"][:k]))"
      ],
      "metadata": {
        "colab": {
          "base_uri": "https://localhost:8080/"
        },
        "id": "tDhYh-i81yQo",
        "outputId": "7794ffe6-b519-4758-be23-4fee5b4d8cb6"
      },
      "execution_count": 43,
      "outputs": [
        {
          "output_type": "execute_result",
          "data": {
            "text/plain": [
              "1.0000000000000002"
            ]
          },
          "metadata": {},
          "execution_count": 43
        }
      ]
    },
    {
      "cell_type": "code",
      "source": [
        "map_k = map_at_k(queries_df, 20)\n",
        "map_k"
      ],
      "metadata": {
        "colab": {
          "base_uri": "https://localhost:8080/"
        },
        "id": "RcBG1GnQ2Cfp",
        "outputId": "5500e463-d9a0-4e78-fd37-dc2524cda86e"
      },
      "execution_count": 44,
      "outputs": [
        {
          "output_type": "execute_result",
          "data": {
            "text/plain": [
              "0.6666666666666666"
            ]
          },
          "metadata": {},
          "execution_count": 44
        }
      ]
    },
    {
      "cell_type": "code",
      "source": [
        "mrr_k = mrr_at_k(queries_df)\n",
        "mrr_k"
      ],
      "metadata": {
        "colab": {
          "base_uri": "https://localhost:8080/"
        },
        "id": "2cvCMaZb2RXt",
        "outputId": "561a8db2-61c8-497c-ccdb-e19dfeb3130d"
      },
      "execution_count": 45,
      "outputs": [
        {
          "output_type": "execute_result",
          "data": {
            "text/plain": [
              "1.0"
            ]
          },
          "metadata": {},
          "execution_count": 45
        }
      ]
    },
    {
      "cell_type": "code",
      "source": [
        "k=10\n",
        "for current_query in range(1,len(queries)+1):\n",
        "  current_query_res = queries_df[queries_df[\"query_id\"] == current_query]\n",
        "  labels = np.array(current_query_res[\"ground_truth\"])\n",
        "  scores = np.array(current_query_res[\"score\"])\n",
        "  ndcg_k = np.round(ndcg_at_k(labels, scores, k),4)\n",
        "  print(\"The ndcg@{} for query with query_id = {}: {}\".format(k+1,current_query,ndcg_k))"
      ],
      "metadata": {
        "colab": {
          "base_uri": "https://localhost:8080/"
        },
        "id": "iEcetPNt2d5t",
        "outputId": "4d09186d-ba25-462b-b9df-d5dc2e444160"
      },
      "execution_count": 46,
      "outputs": [
        {
          "output_type": "stream",
          "name": "stdout",
          "text": [
            "The ndcg@11 for query with query_id = 1: 1.0\n",
            "The ndcg@11 for query with query_id = 2: 1.0\n",
            "The ndcg@11 for query with query_id = 3: 0\n"
          ]
        }
      ]
    },
    {
      "cell_type": "markdown",
      "source": [
        "#### Ex 2"
      ],
      "metadata": {
        "id": "WDRVdGuW32Cz"
      }
    },
    {
      "cell_type": "code",
      "source": [
        "#create the dataframe with our 5 queries to be evaluated\n",
        "queries = [query1, query2, query3, query4, query5]\n",
        "queries_df = pd.DataFrame(columns = [\"tweet_id\", \"query_id\", \"score\", 'url'])\n",
        "top = 10\n",
        "\n",
        "for i in range(len(queries)):\n",
        "    ranked_docs, ranked_scores, return_list = search_tf_idf(queries[i], index, idf, tf, doc_to_tweet)\n",
        "\n",
        "    for idx, d_id in enumerate(ranked_docs[:top]):\n",
        "        queries_df = queries_df.append({\"tweet_id\": doc_to_tweet[d_id], \"query_id\": str(i+1), \"score\": ranked_scores[idx], \"url\": tweets[doc_to_tweet[d_id]]['url']}, ignore_index=True)        \n",
        "queries_df.head()"
      ],
      "metadata": {
        "id": "38I5c2bBzVqh",
        "colab": {
          "base_uri": "https://localhost:8080/",
          "height": 201
        },
        "outputId": "610217f3-8a64-4f42-b093-f836e13c7b50"
      },
      "execution_count": 47,
      "outputs": [
        {
          "output_type": "execute_result",
          "data": {
            "text/plain": [
              "              tweet_id query_id     score  \\\n",
              "0  1575910304159977472        1  2.231423   \n",
              "1  1575910361298968576        1  2.231423   \n",
              "2  1575885709734543360        1  2.231423   \n",
              "3  1575912020368449536        1  2.043265   \n",
              "4  1575881799267295234        1  1.932302   \n",
              "\n",
              "                                                 url  \n",
              "0  https://twitter.com/kadenfields8/status/157591...  \n",
              "1  https://twitter.com/cesarharamillo/status/1575...  \n",
              "2  https://twitter.com/KPRC2/status/1575885709734...  \n",
              "3  https://twitter.com/TheMoreYouKnw/status/15759...  \n",
              "4  https://twitter.com/neveragainFL/status/157588...  "
            ],
            "text/html": [
              "\n",
              "  <div id=\"df-b34922c8-6003-4880-9534-be4a9ecd1580\">\n",
              "    <div class=\"colab-df-container\">\n",
              "      <div>\n",
              "<style scoped>\n",
              "    .dataframe tbody tr th:only-of-type {\n",
              "        vertical-align: middle;\n",
              "    }\n",
              "\n",
              "    .dataframe tbody tr th {\n",
              "        vertical-align: top;\n",
              "    }\n",
              "\n",
              "    .dataframe thead th {\n",
              "        text-align: right;\n",
              "    }\n",
              "</style>\n",
              "<table border=\"1\" class=\"dataframe\">\n",
              "  <thead>\n",
              "    <tr style=\"text-align: right;\">\n",
              "      <th></th>\n",
              "      <th>tweet_id</th>\n",
              "      <th>query_id</th>\n",
              "      <th>score</th>\n",
              "      <th>url</th>\n",
              "    </tr>\n",
              "  </thead>\n",
              "  <tbody>\n",
              "    <tr>\n",
              "      <th>0</th>\n",
              "      <td>1575910304159977472</td>\n",
              "      <td>1</td>\n",
              "      <td>2.231423</td>\n",
              "      <td>https://twitter.com/kadenfields8/status/157591...</td>\n",
              "    </tr>\n",
              "    <tr>\n",
              "      <th>1</th>\n",
              "      <td>1575910361298968576</td>\n",
              "      <td>1</td>\n",
              "      <td>2.231423</td>\n",
              "      <td>https://twitter.com/cesarharamillo/status/1575...</td>\n",
              "    </tr>\n",
              "    <tr>\n",
              "      <th>2</th>\n",
              "      <td>1575885709734543360</td>\n",
              "      <td>1</td>\n",
              "      <td>2.231423</td>\n",
              "      <td>https://twitter.com/KPRC2/status/1575885709734...</td>\n",
              "    </tr>\n",
              "    <tr>\n",
              "      <th>3</th>\n",
              "      <td>1575912020368449536</td>\n",
              "      <td>1</td>\n",
              "      <td>2.043265</td>\n",
              "      <td>https://twitter.com/TheMoreYouKnw/status/15759...</td>\n",
              "    </tr>\n",
              "    <tr>\n",
              "      <th>4</th>\n",
              "      <td>1575881799267295234</td>\n",
              "      <td>1</td>\n",
              "      <td>1.932302</td>\n",
              "      <td>https://twitter.com/neveragainFL/status/157588...</td>\n",
              "    </tr>\n",
              "  </tbody>\n",
              "</table>\n",
              "</div>\n",
              "      <button class=\"colab-df-convert\" onclick=\"convertToInteractive('df-b34922c8-6003-4880-9534-be4a9ecd1580')\"\n",
              "              title=\"Convert this dataframe to an interactive table.\"\n",
              "              style=\"display:none;\">\n",
              "        \n",
              "  <svg xmlns=\"http://www.w3.org/2000/svg\" height=\"24px\"viewBox=\"0 0 24 24\"\n",
              "       width=\"24px\">\n",
              "    <path d=\"M0 0h24v24H0V0z\" fill=\"none\"/>\n",
              "    <path d=\"M18.56 5.44l.94 2.06.94-2.06 2.06-.94-2.06-.94-.94-2.06-.94 2.06-2.06.94zm-11 1L8.5 8.5l.94-2.06 2.06-.94-2.06-.94L8.5 2.5l-.94 2.06-2.06.94zm10 10l.94 2.06.94-2.06 2.06-.94-2.06-.94-.94-2.06-.94 2.06-2.06.94z\"/><path d=\"M17.41 7.96l-1.37-1.37c-.4-.4-.92-.59-1.43-.59-.52 0-1.04.2-1.43.59L10.3 9.45l-7.72 7.72c-.78.78-.78 2.05 0 2.83L4 21.41c.39.39.9.59 1.41.59.51 0 1.02-.2 1.41-.59l7.78-7.78 2.81-2.81c.8-.78.8-2.07 0-2.86zM5.41 20L4 18.59l7.72-7.72 1.47 1.35L5.41 20z\"/>\n",
              "  </svg>\n",
              "      </button>\n",
              "      \n",
              "  <style>\n",
              "    .colab-df-container {\n",
              "      display:flex;\n",
              "      flex-wrap:wrap;\n",
              "      gap: 12px;\n",
              "    }\n",
              "\n",
              "    .colab-df-convert {\n",
              "      background-color: #E8F0FE;\n",
              "      border: none;\n",
              "      border-radius: 50%;\n",
              "      cursor: pointer;\n",
              "      display: none;\n",
              "      fill: #1967D2;\n",
              "      height: 32px;\n",
              "      padding: 0 0 0 0;\n",
              "      width: 32px;\n",
              "    }\n",
              "\n",
              "    .colab-df-convert:hover {\n",
              "      background-color: #E2EBFA;\n",
              "      box-shadow: 0px 1px 2px rgba(60, 64, 67, 0.3), 0px 1px 3px 1px rgba(60, 64, 67, 0.15);\n",
              "      fill: #174EA6;\n",
              "    }\n",
              "\n",
              "    [theme=dark] .colab-df-convert {\n",
              "      background-color: #3B4455;\n",
              "      fill: #D2E3FC;\n",
              "    }\n",
              "\n",
              "    [theme=dark] .colab-df-convert:hover {\n",
              "      background-color: #434B5C;\n",
              "      box-shadow: 0px 1px 3px 1px rgba(0, 0, 0, 0.15);\n",
              "      filter: drop-shadow(0px 1px 2px rgba(0, 0, 0, 0.3));\n",
              "      fill: #FFFFFF;\n",
              "    }\n",
              "  </style>\n",
              "\n",
              "      <script>\n",
              "        const buttonEl =\n",
              "          document.querySelector('#df-b34922c8-6003-4880-9534-be4a9ecd1580 button.colab-df-convert');\n",
              "        buttonEl.style.display =\n",
              "          google.colab.kernel.accessAllowed ? 'block' : 'none';\n",
              "\n",
              "        async function convertToInteractive(key) {\n",
              "          const element = document.querySelector('#df-b34922c8-6003-4880-9534-be4a9ecd1580');\n",
              "          const dataTable =\n",
              "            await google.colab.kernel.invokeFunction('convertToInteractive',\n",
              "                                                     [key], {});\n",
              "          if (!dataTable) return;\n",
              "\n",
              "          const docLinkHtml = 'Like what you see? Visit the ' +\n",
              "            '<a target=\"_blank\" href=https://colab.research.google.com/notebooks/data_table.ipynb>data table notebook</a>'\n",
              "            + ' to learn more about interactive tables.';\n",
              "          element.innerHTML = '';\n",
              "          dataTable['output_type'] = 'display_data';\n",
              "          await google.colab.output.renderOutput(dataTable, element);\n",
              "          const docLink = document.createElement('div');\n",
              "          docLink.innerHTML = docLinkHtml;\n",
              "          element.appendChild(docLink);\n",
              "        }\n",
              "      </script>\n",
              "    </div>\n",
              "  </div>\n",
              "  "
            ]
          },
          "metadata": {},
          "execution_count": 47
        }
      ]
    },
    {
      "cell_type": "code",
      "source": [
        "ground_truth = [ 1,0,1,0,1,1,0,0,0,1,\n",
        "1,1,0,1,0,0,1,1,1,0,\n",
        "0,0,1,1,0,0,0,0,1,0,\n",
        "1,0,1,1,0,1,1,1,0,0,\n",
        "0,1,0,1,0,0,1\n",
        "]"
      ],
      "metadata": {
        "id": "3MJLfsRX-baS"
      },
      "execution_count": 48,
      "outputs": []
    },
    {
      "cell_type": "code",
      "source": [
        "len(ground_truth)"
      ],
      "metadata": {
        "id": "zJ4bOgXC-dVu",
        "colab": {
          "base_uri": "https://localhost:8080/"
        },
        "outputId": "092c9d91-969f-4ae9-f898-e15d9406726a"
      },
      "execution_count": 49,
      "outputs": [
        {
          "output_type": "execute_result",
          "data": {
            "text/plain": [
              "47"
            ]
          },
          "metadata": {},
          "execution_count": 49
        }
      ]
    },
    {
      "cell_type": "code",
      "source": [
        "queries_df['ground_truth'] = ground_truth"
      ],
      "metadata": {
        "id": "ToZ9LTqH-rBP"
      },
      "execution_count": 50,
      "outputs": []
    },
    {
      "cell_type": "code",
      "source": [
        "queries_df.drop(columns=['url'], inplace=True)"
      ],
      "metadata": {
        "id": "3Bc0wVz07oYq"
      },
      "execution_count": 51,
      "outputs": []
    },
    {
      "cell_type": "code",
      "source": [
        "queries_df = queries_df.astype({'query_id': 'int64'})"
      ],
      "metadata": {
        "id": "gv1yhJKDsuir"
      },
      "execution_count": 52,
      "outputs": []
    },
    {
      "cell_type": "code",
      "source": [
        "queries_df.head()"
      ],
      "metadata": {
        "id": "-v9wWLeG6rc6",
        "colab": {
          "base_uri": "https://localhost:8080/",
          "height": 201
        },
        "outputId": "e4209d0a-d2ab-4223-ac9f-a3b82578945a"
      },
      "execution_count": 53,
      "outputs": [
        {
          "output_type": "execute_result",
          "data": {
            "text/plain": [
              "              tweet_id  query_id     score  ground_truth\n",
              "0  1575910304159977472         1  2.231423             1\n",
              "1  1575910361298968576         1  2.231423             0\n",
              "2  1575885709734543360         1  2.231423             1\n",
              "3  1575912020368449536         1  2.043265             0\n",
              "4  1575881799267295234         1  1.932302             1"
            ],
            "text/html": [
              "\n",
              "  <div id=\"df-6533f5b6-f377-4489-b9ab-d31b7a65c223\">\n",
              "    <div class=\"colab-df-container\">\n",
              "      <div>\n",
              "<style scoped>\n",
              "    .dataframe tbody tr th:only-of-type {\n",
              "        vertical-align: middle;\n",
              "    }\n",
              "\n",
              "    .dataframe tbody tr th {\n",
              "        vertical-align: top;\n",
              "    }\n",
              "\n",
              "    .dataframe thead th {\n",
              "        text-align: right;\n",
              "    }\n",
              "</style>\n",
              "<table border=\"1\" class=\"dataframe\">\n",
              "  <thead>\n",
              "    <tr style=\"text-align: right;\">\n",
              "      <th></th>\n",
              "      <th>tweet_id</th>\n",
              "      <th>query_id</th>\n",
              "      <th>score</th>\n",
              "      <th>ground_truth</th>\n",
              "    </tr>\n",
              "  </thead>\n",
              "  <tbody>\n",
              "    <tr>\n",
              "      <th>0</th>\n",
              "      <td>1575910304159977472</td>\n",
              "      <td>1</td>\n",
              "      <td>2.231423</td>\n",
              "      <td>1</td>\n",
              "    </tr>\n",
              "    <tr>\n",
              "      <th>1</th>\n",
              "      <td>1575910361298968576</td>\n",
              "      <td>1</td>\n",
              "      <td>2.231423</td>\n",
              "      <td>0</td>\n",
              "    </tr>\n",
              "    <tr>\n",
              "      <th>2</th>\n",
              "      <td>1575885709734543360</td>\n",
              "      <td>1</td>\n",
              "      <td>2.231423</td>\n",
              "      <td>1</td>\n",
              "    </tr>\n",
              "    <tr>\n",
              "      <th>3</th>\n",
              "      <td>1575912020368449536</td>\n",
              "      <td>1</td>\n",
              "      <td>2.043265</td>\n",
              "      <td>0</td>\n",
              "    </tr>\n",
              "    <tr>\n",
              "      <th>4</th>\n",
              "      <td>1575881799267295234</td>\n",
              "      <td>1</td>\n",
              "      <td>1.932302</td>\n",
              "      <td>1</td>\n",
              "    </tr>\n",
              "  </tbody>\n",
              "</table>\n",
              "</div>\n",
              "      <button class=\"colab-df-convert\" onclick=\"convertToInteractive('df-6533f5b6-f377-4489-b9ab-d31b7a65c223')\"\n",
              "              title=\"Convert this dataframe to an interactive table.\"\n",
              "              style=\"display:none;\">\n",
              "        \n",
              "  <svg xmlns=\"http://www.w3.org/2000/svg\" height=\"24px\"viewBox=\"0 0 24 24\"\n",
              "       width=\"24px\">\n",
              "    <path d=\"M0 0h24v24H0V0z\" fill=\"none\"/>\n",
              "    <path d=\"M18.56 5.44l.94 2.06.94-2.06 2.06-.94-2.06-.94-.94-2.06-.94 2.06-2.06.94zm-11 1L8.5 8.5l.94-2.06 2.06-.94-2.06-.94L8.5 2.5l-.94 2.06-2.06.94zm10 10l.94 2.06.94-2.06 2.06-.94-2.06-.94-.94-2.06-.94 2.06-2.06.94z\"/><path d=\"M17.41 7.96l-1.37-1.37c-.4-.4-.92-.59-1.43-.59-.52 0-1.04.2-1.43.59L10.3 9.45l-7.72 7.72c-.78.78-.78 2.05 0 2.83L4 21.41c.39.39.9.59 1.41.59.51 0 1.02-.2 1.41-.59l7.78-7.78 2.81-2.81c.8-.78.8-2.07 0-2.86zM5.41 20L4 18.59l7.72-7.72 1.47 1.35L5.41 20z\"/>\n",
              "  </svg>\n",
              "      </button>\n",
              "      \n",
              "  <style>\n",
              "    .colab-df-container {\n",
              "      display:flex;\n",
              "      flex-wrap:wrap;\n",
              "      gap: 12px;\n",
              "    }\n",
              "\n",
              "    .colab-df-convert {\n",
              "      background-color: #E8F0FE;\n",
              "      border: none;\n",
              "      border-radius: 50%;\n",
              "      cursor: pointer;\n",
              "      display: none;\n",
              "      fill: #1967D2;\n",
              "      height: 32px;\n",
              "      padding: 0 0 0 0;\n",
              "      width: 32px;\n",
              "    }\n",
              "\n",
              "    .colab-df-convert:hover {\n",
              "      background-color: #E2EBFA;\n",
              "      box-shadow: 0px 1px 2px rgba(60, 64, 67, 0.3), 0px 1px 3px 1px rgba(60, 64, 67, 0.15);\n",
              "      fill: #174EA6;\n",
              "    }\n",
              "\n",
              "    [theme=dark] .colab-df-convert {\n",
              "      background-color: #3B4455;\n",
              "      fill: #D2E3FC;\n",
              "    }\n",
              "\n",
              "    [theme=dark] .colab-df-convert:hover {\n",
              "      background-color: #434B5C;\n",
              "      box-shadow: 0px 1px 3px 1px rgba(0, 0, 0, 0.15);\n",
              "      filter: drop-shadow(0px 1px 2px rgba(0, 0, 0, 0.3));\n",
              "      fill: #FFFFFF;\n",
              "    }\n",
              "  </style>\n",
              "\n",
              "      <script>\n",
              "        const buttonEl =\n",
              "          document.querySelector('#df-6533f5b6-f377-4489-b9ab-d31b7a65c223 button.colab-df-convert');\n",
              "        buttonEl.style.display =\n",
              "          google.colab.kernel.accessAllowed ? 'block' : 'none';\n",
              "\n",
              "        async function convertToInteractive(key) {\n",
              "          const element = document.querySelector('#df-6533f5b6-f377-4489-b9ab-d31b7a65c223');\n",
              "          const dataTable =\n",
              "            await google.colab.kernel.invokeFunction('convertToInteractive',\n",
              "                                                     [key], {});\n",
              "          if (!dataTable) return;\n",
              "\n",
              "          const docLinkHtml = 'Like what you see? Visit the ' +\n",
              "            '<a target=\"_blank\" href=https://colab.research.google.com/notebooks/data_table.ipynb>data table notebook</a>'\n",
              "            + ' to learn more about interactive tables.';\n",
              "          element.innerHTML = '';\n",
              "          dataTable['output_type'] = 'display_data';\n",
              "          await google.colab.output.renderOutput(dataTable, element);\n",
              "          const docLink = document.createElement('div');\n",
              "          docLink.innerHTML = docLinkHtml;\n",
              "          element.appendChild(docLink);\n",
              "        }\n",
              "      </script>\n",
              "    </div>\n",
              "  </div>\n",
              "  "
            ]
          },
          "metadata": {},
          "execution_count": 53
        }
      ]
    },
    {
      "cell_type": "code",
      "source": [
        "# Check for query 1\n",
        "\n",
        "current_query = 1\n",
        "current_query_res = queries_df[queries_df[\"query_id\"] == current_query]\n",
        "\n",
        "k = 5\n",
        "print(\"==> Precision@{}: {}\\n\".format(k, precision_at_k(current_query_res[\"ground_truth\"], current_query_res[\"score\"], k)))\n",
        "print(\"\\nCheck on the dataset sorted by score:\\n\")\n",
        "\n",
        "current_query_res.sort_values(\"score\", ascending=False).head(k)"
      ],
      "metadata": {
        "id": "kcml_xdO5hdI",
        "colab": {
          "base_uri": "https://localhost:8080/",
          "height": 283
        },
        "outputId": "fdea5c51-d421-4b90-a0d9-ec089b412349"
      },
      "execution_count": 55,
      "outputs": [
        {
          "output_type": "stream",
          "name": "stdout",
          "text": [
            "==> Precision@5: 0.4\n",
            "\n",
            "\n",
            "Check on the dataset sorted by score:\n",
            "\n"
          ]
        },
        {
          "output_type": "execute_result",
          "data": {
            "text/plain": [
              "              tweet_id  query_id     score  ground_truth\n",
              "0  1575910304159977472         1  2.231423             1\n",
              "1  1575910361298968576         1  2.231423             0\n",
              "2  1575885709734543360         1  2.231423             1\n",
              "3  1575912020368449536         1  2.043265             0\n",
              "4  1575881799267295234         1  1.932302             1"
            ],
            "text/html": [
              "\n",
              "  <div id=\"df-efe706e7-b0ed-4356-8df3-ce57ffdda579\">\n",
              "    <div class=\"colab-df-container\">\n",
              "      <div>\n",
              "<style scoped>\n",
              "    .dataframe tbody tr th:only-of-type {\n",
              "        vertical-align: middle;\n",
              "    }\n",
              "\n",
              "    .dataframe tbody tr th {\n",
              "        vertical-align: top;\n",
              "    }\n",
              "\n",
              "    .dataframe thead th {\n",
              "        text-align: right;\n",
              "    }\n",
              "</style>\n",
              "<table border=\"1\" class=\"dataframe\">\n",
              "  <thead>\n",
              "    <tr style=\"text-align: right;\">\n",
              "      <th></th>\n",
              "      <th>tweet_id</th>\n",
              "      <th>query_id</th>\n",
              "      <th>score</th>\n",
              "      <th>ground_truth</th>\n",
              "    </tr>\n",
              "  </thead>\n",
              "  <tbody>\n",
              "    <tr>\n",
              "      <th>0</th>\n",
              "      <td>1575910304159977472</td>\n",
              "      <td>1</td>\n",
              "      <td>2.231423</td>\n",
              "      <td>1</td>\n",
              "    </tr>\n",
              "    <tr>\n",
              "      <th>1</th>\n",
              "      <td>1575910361298968576</td>\n",
              "      <td>1</td>\n",
              "      <td>2.231423</td>\n",
              "      <td>0</td>\n",
              "    </tr>\n",
              "    <tr>\n",
              "      <th>2</th>\n",
              "      <td>1575885709734543360</td>\n",
              "      <td>1</td>\n",
              "      <td>2.231423</td>\n",
              "      <td>1</td>\n",
              "    </tr>\n",
              "    <tr>\n",
              "      <th>3</th>\n",
              "      <td>1575912020368449536</td>\n",
              "      <td>1</td>\n",
              "      <td>2.043265</td>\n",
              "      <td>0</td>\n",
              "    </tr>\n",
              "    <tr>\n",
              "      <th>4</th>\n",
              "      <td>1575881799267295234</td>\n",
              "      <td>1</td>\n",
              "      <td>1.932302</td>\n",
              "      <td>1</td>\n",
              "    </tr>\n",
              "  </tbody>\n",
              "</table>\n",
              "</div>\n",
              "      <button class=\"colab-df-convert\" onclick=\"convertToInteractive('df-efe706e7-b0ed-4356-8df3-ce57ffdda579')\"\n",
              "              title=\"Convert this dataframe to an interactive table.\"\n",
              "              style=\"display:none;\">\n",
              "        \n",
              "  <svg xmlns=\"http://www.w3.org/2000/svg\" height=\"24px\"viewBox=\"0 0 24 24\"\n",
              "       width=\"24px\">\n",
              "    <path d=\"M0 0h24v24H0V0z\" fill=\"none\"/>\n",
              "    <path d=\"M18.56 5.44l.94 2.06.94-2.06 2.06-.94-2.06-.94-.94-2.06-.94 2.06-2.06.94zm-11 1L8.5 8.5l.94-2.06 2.06-.94-2.06-.94L8.5 2.5l-.94 2.06-2.06.94zm10 10l.94 2.06.94-2.06 2.06-.94-2.06-.94-.94-2.06-.94 2.06-2.06.94z\"/><path d=\"M17.41 7.96l-1.37-1.37c-.4-.4-.92-.59-1.43-.59-.52 0-1.04.2-1.43.59L10.3 9.45l-7.72 7.72c-.78.78-.78 2.05 0 2.83L4 21.41c.39.39.9.59 1.41.59.51 0 1.02-.2 1.41-.59l7.78-7.78 2.81-2.81c.8-.78.8-2.07 0-2.86zM5.41 20L4 18.59l7.72-7.72 1.47 1.35L5.41 20z\"/>\n",
              "  </svg>\n",
              "      </button>\n",
              "      \n",
              "  <style>\n",
              "    .colab-df-container {\n",
              "      display:flex;\n",
              "      flex-wrap:wrap;\n",
              "      gap: 12px;\n",
              "    }\n",
              "\n",
              "    .colab-df-convert {\n",
              "      background-color: #E8F0FE;\n",
              "      border: none;\n",
              "      border-radius: 50%;\n",
              "      cursor: pointer;\n",
              "      display: none;\n",
              "      fill: #1967D2;\n",
              "      height: 32px;\n",
              "      padding: 0 0 0 0;\n",
              "      width: 32px;\n",
              "    }\n",
              "\n",
              "    .colab-df-convert:hover {\n",
              "      background-color: #E2EBFA;\n",
              "      box-shadow: 0px 1px 2px rgba(60, 64, 67, 0.3), 0px 1px 3px 1px rgba(60, 64, 67, 0.15);\n",
              "      fill: #174EA6;\n",
              "    }\n",
              "\n",
              "    [theme=dark] .colab-df-convert {\n",
              "      background-color: #3B4455;\n",
              "      fill: #D2E3FC;\n",
              "    }\n",
              "\n",
              "    [theme=dark] .colab-df-convert:hover {\n",
              "      background-color: #434B5C;\n",
              "      box-shadow: 0px 1px 3px 1px rgba(0, 0, 0, 0.15);\n",
              "      filter: drop-shadow(0px 1px 2px rgba(0, 0, 0, 0.3));\n",
              "      fill: #FFFFFF;\n",
              "    }\n",
              "  </style>\n",
              "\n",
              "      <script>\n",
              "        const buttonEl =\n",
              "          document.querySelector('#df-efe706e7-b0ed-4356-8df3-ce57ffdda579 button.colab-df-convert');\n",
              "        buttonEl.style.display =\n",
              "          google.colab.kernel.accessAllowed ? 'block' : 'none';\n",
              "\n",
              "        async function convertToInteractive(key) {\n",
              "          const element = document.querySelector('#df-efe706e7-b0ed-4356-8df3-ce57ffdda579');\n",
              "          const dataTable =\n",
              "            await google.colab.kernel.invokeFunction('convertToInteractive',\n",
              "                                                     [key], {});\n",
              "          if (!dataTable) return;\n",
              "\n",
              "          const docLinkHtml = 'Like what you see? Visit the ' +\n",
              "            '<a target=\"_blank\" href=https://colab.research.google.com/notebooks/data_table.ipynb>data table notebook</a>'\n",
              "            + ' to learn more about interactive tables.';\n",
              "          element.innerHTML = '';\n",
              "          dataTable['output_type'] = 'display_data';\n",
              "          await google.colab.output.renderOutput(dataTable, element);\n",
              "          const docLink = document.createElement('div');\n",
              "          docLink.innerHTML = docLinkHtml;\n",
              "          element.appendChild(docLink);\n",
              "        }\n",
              "      </script>\n",
              "    </div>\n",
              "  </div>\n",
              "  "
            ]
          },
          "metadata": {},
          "execution_count": 55
        }
      ]
    },
    {
      "cell_type": "code",
      "source": [
        "# Check for query 2\n",
        "\n",
        "current_query = 2\n",
        "current_query_res = queries_df[queries_df[\"query_id\"] == current_query]\n",
        "\n",
        "k = 5\n",
        "print(\"==> Precision@{}: {}\\n\".format(k, precision_at_k(current_query_res[\"ground_truth\"], current_query_res[\"score\"], k)))\n",
        "print(\"\\nCheck on the dataset sorted by score:\\n\")\n",
        "\n",
        "current_query_res.sort_values(\"score\", ascending=False).head(k)"
      ],
      "metadata": {
        "id": "YJwgM7TQr5Ol",
        "colab": {
          "base_uri": "https://localhost:8080/",
          "height": 283
        },
        "outputId": "cec6d0ec-8b51-4a63-d9bc-eeca5f0ba924"
      },
      "execution_count": 56,
      "outputs": [
        {
          "output_type": "stream",
          "name": "stdout",
          "text": [
            "==> Precision@5: 0.6\n",
            "\n",
            "\n",
            "Check on the dataset sorted by score:\n",
            "\n"
          ]
        },
        {
          "output_type": "execute_result",
          "data": {
            "text/plain": [
              "               tweet_id  query_id      score  ground_truth\n",
              "10  1575868406603350017         2  12.160546             1\n",
              "11  1575871626540818432         2   8.293264             1\n",
              "12  1575886977764728838         2   7.046583             0\n",
              "13  1575871595716935680         2   6.373914             1\n",
              "14  1575865182944894978         2   5.369395             0"
            ],
            "text/html": [
              "\n",
              "  <div id=\"df-a5f3bf35-327b-4889-b511-e2ca7323470d\">\n",
              "    <div class=\"colab-df-container\">\n",
              "      <div>\n",
              "<style scoped>\n",
              "    .dataframe tbody tr th:only-of-type {\n",
              "        vertical-align: middle;\n",
              "    }\n",
              "\n",
              "    .dataframe tbody tr th {\n",
              "        vertical-align: top;\n",
              "    }\n",
              "\n",
              "    .dataframe thead th {\n",
              "        text-align: right;\n",
              "    }\n",
              "</style>\n",
              "<table border=\"1\" class=\"dataframe\">\n",
              "  <thead>\n",
              "    <tr style=\"text-align: right;\">\n",
              "      <th></th>\n",
              "      <th>tweet_id</th>\n",
              "      <th>query_id</th>\n",
              "      <th>score</th>\n",
              "      <th>ground_truth</th>\n",
              "    </tr>\n",
              "  </thead>\n",
              "  <tbody>\n",
              "    <tr>\n",
              "      <th>10</th>\n",
              "      <td>1575868406603350017</td>\n",
              "      <td>2</td>\n",
              "      <td>12.160546</td>\n",
              "      <td>1</td>\n",
              "    </tr>\n",
              "    <tr>\n",
              "      <th>11</th>\n",
              "      <td>1575871626540818432</td>\n",
              "      <td>2</td>\n",
              "      <td>8.293264</td>\n",
              "      <td>1</td>\n",
              "    </tr>\n",
              "    <tr>\n",
              "      <th>12</th>\n",
              "      <td>1575886977764728838</td>\n",
              "      <td>2</td>\n",
              "      <td>7.046583</td>\n",
              "      <td>0</td>\n",
              "    </tr>\n",
              "    <tr>\n",
              "      <th>13</th>\n",
              "      <td>1575871595716935680</td>\n",
              "      <td>2</td>\n",
              "      <td>6.373914</td>\n",
              "      <td>1</td>\n",
              "    </tr>\n",
              "    <tr>\n",
              "      <th>14</th>\n",
              "      <td>1575865182944894978</td>\n",
              "      <td>2</td>\n",
              "      <td>5.369395</td>\n",
              "      <td>0</td>\n",
              "    </tr>\n",
              "  </tbody>\n",
              "</table>\n",
              "</div>\n",
              "      <button class=\"colab-df-convert\" onclick=\"convertToInteractive('df-a5f3bf35-327b-4889-b511-e2ca7323470d')\"\n",
              "              title=\"Convert this dataframe to an interactive table.\"\n",
              "              style=\"display:none;\">\n",
              "        \n",
              "  <svg xmlns=\"http://www.w3.org/2000/svg\" height=\"24px\"viewBox=\"0 0 24 24\"\n",
              "       width=\"24px\">\n",
              "    <path d=\"M0 0h24v24H0V0z\" fill=\"none\"/>\n",
              "    <path d=\"M18.56 5.44l.94 2.06.94-2.06 2.06-.94-2.06-.94-.94-2.06-.94 2.06-2.06.94zm-11 1L8.5 8.5l.94-2.06 2.06-.94-2.06-.94L8.5 2.5l-.94 2.06-2.06.94zm10 10l.94 2.06.94-2.06 2.06-.94-2.06-.94-.94-2.06-.94 2.06-2.06.94z\"/><path d=\"M17.41 7.96l-1.37-1.37c-.4-.4-.92-.59-1.43-.59-.52 0-1.04.2-1.43.59L10.3 9.45l-7.72 7.72c-.78.78-.78 2.05 0 2.83L4 21.41c.39.39.9.59 1.41.59.51 0 1.02-.2 1.41-.59l7.78-7.78 2.81-2.81c.8-.78.8-2.07 0-2.86zM5.41 20L4 18.59l7.72-7.72 1.47 1.35L5.41 20z\"/>\n",
              "  </svg>\n",
              "      </button>\n",
              "      \n",
              "  <style>\n",
              "    .colab-df-container {\n",
              "      display:flex;\n",
              "      flex-wrap:wrap;\n",
              "      gap: 12px;\n",
              "    }\n",
              "\n",
              "    .colab-df-convert {\n",
              "      background-color: #E8F0FE;\n",
              "      border: none;\n",
              "      border-radius: 50%;\n",
              "      cursor: pointer;\n",
              "      display: none;\n",
              "      fill: #1967D2;\n",
              "      height: 32px;\n",
              "      padding: 0 0 0 0;\n",
              "      width: 32px;\n",
              "    }\n",
              "\n",
              "    .colab-df-convert:hover {\n",
              "      background-color: #E2EBFA;\n",
              "      box-shadow: 0px 1px 2px rgba(60, 64, 67, 0.3), 0px 1px 3px 1px rgba(60, 64, 67, 0.15);\n",
              "      fill: #174EA6;\n",
              "    }\n",
              "\n",
              "    [theme=dark] .colab-df-convert {\n",
              "      background-color: #3B4455;\n",
              "      fill: #D2E3FC;\n",
              "    }\n",
              "\n",
              "    [theme=dark] .colab-df-convert:hover {\n",
              "      background-color: #434B5C;\n",
              "      box-shadow: 0px 1px 3px 1px rgba(0, 0, 0, 0.15);\n",
              "      filter: drop-shadow(0px 1px 2px rgba(0, 0, 0, 0.3));\n",
              "      fill: #FFFFFF;\n",
              "    }\n",
              "  </style>\n",
              "\n",
              "      <script>\n",
              "        const buttonEl =\n",
              "          document.querySelector('#df-a5f3bf35-327b-4889-b511-e2ca7323470d button.colab-df-convert');\n",
              "        buttonEl.style.display =\n",
              "          google.colab.kernel.accessAllowed ? 'block' : 'none';\n",
              "\n",
              "        async function convertToInteractive(key) {\n",
              "          const element = document.querySelector('#df-a5f3bf35-327b-4889-b511-e2ca7323470d');\n",
              "          const dataTable =\n",
              "            await google.colab.kernel.invokeFunction('convertToInteractive',\n",
              "                                                     [key], {});\n",
              "          if (!dataTable) return;\n",
              "\n",
              "          const docLinkHtml = 'Like what you see? Visit the ' +\n",
              "            '<a target=\"_blank\" href=https://colab.research.google.com/notebooks/data_table.ipynb>data table notebook</a>'\n",
              "            + ' to learn more about interactive tables.';\n",
              "          element.innerHTML = '';\n",
              "          dataTable['output_type'] = 'display_data';\n",
              "          await google.colab.output.renderOutput(dataTable, element);\n",
              "          const docLink = document.createElement('div');\n",
              "          docLink.innerHTML = docLinkHtml;\n",
              "          element.appendChild(docLink);\n",
              "        }\n",
              "      </script>\n",
              "    </div>\n",
              "  </div>\n",
              "  "
            ]
          },
          "metadata": {},
          "execution_count": 56
        }
      ]
    },
    {
      "cell_type": "code",
      "source": [
        "# Check for query 3\n",
        "\n",
        "current_query = 3\n",
        "current_query_res = queries_df[queries_df[\"query_id\"] == current_query]\n",
        "\n",
        "k = 5\n",
        "print(\"==> Precision@{}: {}\\n\".format(k, precision_at_k(current_query_res[\"ground_truth\"], current_query_res[\"score\"], k)))\n",
        "print(\"\\nCheck on the dataset sorted by score:\\n\")\n",
        "\n",
        "current_query_res.sort_values(\"score\", ascending=False).head(k)"
      ],
      "metadata": {
        "id": "1A64rmW2sG93",
        "colab": {
          "base_uri": "https://localhost:8080/",
          "height": 283
        },
        "outputId": "69bb6283-070b-4ce9-c0e8-87dd1e3a0a97"
      },
      "execution_count": 57,
      "outputs": [
        {
          "output_type": "stream",
          "name": "stdout",
          "text": [
            "==> Precision@5: 0.4\n",
            "\n",
            "\n",
            "Check on the dataset sorted by score:\n",
            "\n"
          ]
        },
        {
          "output_type": "execute_result",
          "data": {
            "text/plain": [
              "               tweet_id  query_id     score  ground_truth\n",
              "17  1575908417062903810         3  7.278079             1\n",
              "18  1575887548039036933         3  7.258603             1\n",
              "19  1575880135609573376         3  6.151865             0\n",
              "20  1575876492076408832         3  5.964746             0\n",
              "21  1575875350973730816         3  5.850843             0"
            ],
            "text/html": [
              "\n",
              "  <div id=\"df-61baf21d-752c-4f98-9165-1c4ccb8a17d8\">\n",
              "    <div class=\"colab-df-container\">\n",
              "      <div>\n",
              "<style scoped>\n",
              "    .dataframe tbody tr th:only-of-type {\n",
              "        vertical-align: middle;\n",
              "    }\n",
              "\n",
              "    .dataframe tbody tr th {\n",
              "        vertical-align: top;\n",
              "    }\n",
              "\n",
              "    .dataframe thead th {\n",
              "        text-align: right;\n",
              "    }\n",
              "</style>\n",
              "<table border=\"1\" class=\"dataframe\">\n",
              "  <thead>\n",
              "    <tr style=\"text-align: right;\">\n",
              "      <th></th>\n",
              "      <th>tweet_id</th>\n",
              "      <th>query_id</th>\n",
              "      <th>score</th>\n",
              "      <th>ground_truth</th>\n",
              "    </tr>\n",
              "  </thead>\n",
              "  <tbody>\n",
              "    <tr>\n",
              "      <th>17</th>\n",
              "      <td>1575908417062903810</td>\n",
              "      <td>3</td>\n",
              "      <td>7.278079</td>\n",
              "      <td>1</td>\n",
              "    </tr>\n",
              "    <tr>\n",
              "      <th>18</th>\n",
              "      <td>1575887548039036933</td>\n",
              "      <td>3</td>\n",
              "      <td>7.258603</td>\n",
              "      <td>1</td>\n",
              "    </tr>\n",
              "    <tr>\n",
              "      <th>19</th>\n",
              "      <td>1575880135609573376</td>\n",
              "      <td>3</td>\n",
              "      <td>6.151865</td>\n",
              "      <td>0</td>\n",
              "    </tr>\n",
              "    <tr>\n",
              "      <th>20</th>\n",
              "      <td>1575876492076408832</td>\n",
              "      <td>3</td>\n",
              "      <td>5.964746</td>\n",
              "      <td>0</td>\n",
              "    </tr>\n",
              "    <tr>\n",
              "      <th>21</th>\n",
              "      <td>1575875350973730816</td>\n",
              "      <td>3</td>\n",
              "      <td>5.850843</td>\n",
              "      <td>0</td>\n",
              "    </tr>\n",
              "  </tbody>\n",
              "</table>\n",
              "</div>\n",
              "      <button class=\"colab-df-convert\" onclick=\"convertToInteractive('df-61baf21d-752c-4f98-9165-1c4ccb8a17d8')\"\n",
              "              title=\"Convert this dataframe to an interactive table.\"\n",
              "              style=\"display:none;\">\n",
              "        \n",
              "  <svg xmlns=\"http://www.w3.org/2000/svg\" height=\"24px\"viewBox=\"0 0 24 24\"\n",
              "       width=\"24px\">\n",
              "    <path d=\"M0 0h24v24H0V0z\" fill=\"none\"/>\n",
              "    <path d=\"M18.56 5.44l.94 2.06.94-2.06 2.06-.94-2.06-.94-.94-2.06-.94 2.06-2.06.94zm-11 1L8.5 8.5l.94-2.06 2.06-.94-2.06-.94L8.5 2.5l-.94 2.06-2.06.94zm10 10l.94 2.06.94-2.06 2.06-.94-2.06-.94-.94-2.06-.94 2.06-2.06.94z\"/><path d=\"M17.41 7.96l-1.37-1.37c-.4-.4-.92-.59-1.43-.59-.52 0-1.04.2-1.43.59L10.3 9.45l-7.72 7.72c-.78.78-.78 2.05 0 2.83L4 21.41c.39.39.9.59 1.41.59.51 0 1.02-.2 1.41-.59l7.78-7.78 2.81-2.81c.8-.78.8-2.07 0-2.86zM5.41 20L4 18.59l7.72-7.72 1.47 1.35L5.41 20z\"/>\n",
              "  </svg>\n",
              "      </button>\n",
              "      \n",
              "  <style>\n",
              "    .colab-df-container {\n",
              "      display:flex;\n",
              "      flex-wrap:wrap;\n",
              "      gap: 12px;\n",
              "    }\n",
              "\n",
              "    .colab-df-convert {\n",
              "      background-color: #E8F0FE;\n",
              "      border: none;\n",
              "      border-radius: 50%;\n",
              "      cursor: pointer;\n",
              "      display: none;\n",
              "      fill: #1967D2;\n",
              "      height: 32px;\n",
              "      padding: 0 0 0 0;\n",
              "      width: 32px;\n",
              "    }\n",
              "\n",
              "    .colab-df-convert:hover {\n",
              "      background-color: #E2EBFA;\n",
              "      box-shadow: 0px 1px 2px rgba(60, 64, 67, 0.3), 0px 1px 3px 1px rgba(60, 64, 67, 0.15);\n",
              "      fill: #174EA6;\n",
              "    }\n",
              "\n",
              "    [theme=dark] .colab-df-convert {\n",
              "      background-color: #3B4455;\n",
              "      fill: #D2E3FC;\n",
              "    }\n",
              "\n",
              "    [theme=dark] .colab-df-convert:hover {\n",
              "      background-color: #434B5C;\n",
              "      box-shadow: 0px 1px 3px 1px rgba(0, 0, 0, 0.15);\n",
              "      filter: drop-shadow(0px 1px 2px rgba(0, 0, 0, 0.3));\n",
              "      fill: #FFFFFF;\n",
              "    }\n",
              "  </style>\n",
              "\n",
              "      <script>\n",
              "        const buttonEl =\n",
              "          document.querySelector('#df-61baf21d-752c-4f98-9165-1c4ccb8a17d8 button.colab-df-convert');\n",
              "        buttonEl.style.display =\n",
              "          google.colab.kernel.accessAllowed ? 'block' : 'none';\n",
              "\n",
              "        async function convertToInteractive(key) {\n",
              "          const element = document.querySelector('#df-61baf21d-752c-4f98-9165-1c4ccb8a17d8');\n",
              "          const dataTable =\n",
              "            await google.colab.kernel.invokeFunction('convertToInteractive',\n",
              "                                                     [key], {});\n",
              "          if (!dataTable) return;\n",
              "\n",
              "          const docLinkHtml = 'Like what you see? Visit the ' +\n",
              "            '<a target=\"_blank\" href=https://colab.research.google.com/notebooks/data_table.ipynb>data table notebook</a>'\n",
              "            + ' to learn more about interactive tables.';\n",
              "          element.innerHTML = '';\n",
              "          dataTable['output_type'] = 'display_data';\n",
              "          await google.colab.output.renderOutput(dataTable, element);\n",
              "          const docLink = document.createElement('div');\n",
              "          docLink.innerHTML = docLinkHtml;\n",
              "          element.appendChild(docLink);\n",
              "        }\n",
              "      </script>\n",
              "    </div>\n",
              "  </div>\n",
              "  "
            ]
          },
          "metadata": {},
          "execution_count": 57
        }
      ]
    },
    {
      "cell_type": "code",
      "source": [
        "# Check for query 4\n",
        "\n",
        "current_query = 4\n",
        "current_query_res = queries_df[queries_df[\"query_id\"] == current_query]\n",
        "\n",
        "k = 5\n",
        "print(\"==> Precision@{}: {}\\n\".format(k, precision_at_k(current_query_res[\"ground_truth\"], current_query_res[\"score\"], k)))\n",
        "print(\"\\nCheck on the dataset sorted by score:\\n\")\n",
        "\n",
        "current_query_res.sort_values(\"score\", ascending=False).head(k)"
      ],
      "metadata": {
        "id": "tmx2PDpbsRcq",
        "colab": {
          "base_uri": "https://localhost:8080/",
          "height": 283
        },
        "outputId": "f98c6e4e-fd2a-4a76-85ac-bfc11e4d2907"
      },
      "execution_count": 58,
      "outputs": [
        {
          "output_type": "stream",
          "name": "stdout",
          "text": [
            "==> Precision@5: 0.4\n",
            "\n",
            "\n",
            "Check on the dataset sorted by score:\n",
            "\n"
          ]
        },
        {
          "output_type": "execute_result",
          "data": {
            "text/plain": [
              "               tweet_id  query_id      score  ground_truth\n",
              "27  1575915199256739841         4  14.035991             0\n",
              "28  1575890386249486336         4  14.035991             1\n",
              "29  1575912058365042688         4   9.926253             0\n",
              "30  1575875202445348864         4   9.926253             1\n",
              "31  1575884604741128192         4   9.926253             0"
            ],
            "text/html": [
              "\n",
              "  <div id=\"df-c2f5516d-be8a-4d32-9439-82a8853c8eab\">\n",
              "    <div class=\"colab-df-container\">\n",
              "      <div>\n",
              "<style scoped>\n",
              "    .dataframe tbody tr th:only-of-type {\n",
              "        vertical-align: middle;\n",
              "    }\n",
              "\n",
              "    .dataframe tbody tr th {\n",
              "        vertical-align: top;\n",
              "    }\n",
              "\n",
              "    .dataframe thead th {\n",
              "        text-align: right;\n",
              "    }\n",
              "</style>\n",
              "<table border=\"1\" class=\"dataframe\">\n",
              "  <thead>\n",
              "    <tr style=\"text-align: right;\">\n",
              "      <th></th>\n",
              "      <th>tweet_id</th>\n",
              "      <th>query_id</th>\n",
              "      <th>score</th>\n",
              "      <th>ground_truth</th>\n",
              "    </tr>\n",
              "  </thead>\n",
              "  <tbody>\n",
              "    <tr>\n",
              "      <th>27</th>\n",
              "      <td>1575915199256739841</td>\n",
              "      <td>4</td>\n",
              "      <td>14.035991</td>\n",
              "      <td>0</td>\n",
              "    </tr>\n",
              "    <tr>\n",
              "      <th>28</th>\n",
              "      <td>1575890386249486336</td>\n",
              "      <td>4</td>\n",
              "      <td>14.035991</td>\n",
              "      <td>1</td>\n",
              "    </tr>\n",
              "    <tr>\n",
              "      <th>29</th>\n",
              "      <td>1575912058365042688</td>\n",
              "      <td>4</td>\n",
              "      <td>9.926253</td>\n",
              "      <td>0</td>\n",
              "    </tr>\n",
              "    <tr>\n",
              "      <th>30</th>\n",
              "      <td>1575875202445348864</td>\n",
              "      <td>4</td>\n",
              "      <td>9.926253</td>\n",
              "      <td>1</td>\n",
              "    </tr>\n",
              "    <tr>\n",
              "      <th>31</th>\n",
              "      <td>1575884604741128192</td>\n",
              "      <td>4</td>\n",
              "      <td>9.926253</td>\n",
              "      <td>0</td>\n",
              "    </tr>\n",
              "  </tbody>\n",
              "</table>\n",
              "</div>\n",
              "      <button class=\"colab-df-convert\" onclick=\"convertToInteractive('df-c2f5516d-be8a-4d32-9439-82a8853c8eab')\"\n",
              "              title=\"Convert this dataframe to an interactive table.\"\n",
              "              style=\"display:none;\">\n",
              "        \n",
              "  <svg xmlns=\"http://www.w3.org/2000/svg\" height=\"24px\"viewBox=\"0 0 24 24\"\n",
              "       width=\"24px\">\n",
              "    <path d=\"M0 0h24v24H0V0z\" fill=\"none\"/>\n",
              "    <path d=\"M18.56 5.44l.94 2.06.94-2.06 2.06-.94-2.06-.94-.94-2.06-.94 2.06-2.06.94zm-11 1L8.5 8.5l.94-2.06 2.06-.94-2.06-.94L8.5 2.5l-.94 2.06-2.06.94zm10 10l.94 2.06.94-2.06 2.06-.94-2.06-.94-.94-2.06-.94 2.06-2.06.94z\"/><path d=\"M17.41 7.96l-1.37-1.37c-.4-.4-.92-.59-1.43-.59-.52 0-1.04.2-1.43.59L10.3 9.45l-7.72 7.72c-.78.78-.78 2.05 0 2.83L4 21.41c.39.39.9.59 1.41.59.51 0 1.02-.2 1.41-.59l7.78-7.78 2.81-2.81c.8-.78.8-2.07 0-2.86zM5.41 20L4 18.59l7.72-7.72 1.47 1.35L5.41 20z\"/>\n",
              "  </svg>\n",
              "      </button>\n",
              "      \n",
              "  <style>\n",
              "    .colab-df-container {\n",
              "      display:flex;\n",
              "      flex-wrap:wrap;\n",
              "      gap: 12px;\n",
              "    }\n",
              "\n",
              "    .colab-df-convert {\n",
              "      background-color: #E8F0FE;\n",
              "      border: none;\n",
              "      border-radius: 50%;\n",
              "      cursor: pointer;\n",
              "      display: none;\n",
              "      fill: #1967D2;\n",
              "      height: 32px;\n",
              "      padding: 0 0 0 0;\n",
              "      width: 32px;\n",
              "    }\n",
              "\n",
              "    .colab-df-convert:hover {\n",
              "      background-color: #E2EBFA;\n",
              "      box-shadow: 0px 1px 2px rgba(60, 64, 67, 0.3), 0px 1px 3px 1px rgba(60, 64, 67, 0.15);\n",
              "      fill: #174EA6;\n",
              "    }\n",
              "\n",
              "    [theme=dark] .colab-df-convert {\n",
              "      background-color: #3B4455;\n",
              "      fill: #D2E3FC;\n",
              "    }\n",
              "\n",
              "    [theme=dark] .colab-df-convert:hover {\n",
              "      background-color: #434B5C;\n",
              "      box-shadow: 0px 1px 3px 1px rgba(0, 0, 0, 0.15);\n",
              "      filter: drop-shadow(0px 1px 2px rgba(0, 0, 0, 0.3));\n",
              "      fill: #FFFFFF;\n",
              "    }\n",
              "  </style>\n",
              "\n",
              "      <script>\n",
              "        const buttonEl =\n",
              "          document.querySelector('#df-c2f5516d-be8a-4d32-9439-82a8853c8eab button.colab-df-convert');\n",
              "        buttonEl.style.display =\n",
              "          google.colab.kernel.accessAllowed ? 'block' : 'none';\n",
              "\n",
              "        async function convertToInteractive(key) {\n",
              "          const element = document.querySelector('#df-c2f5516d-be8a-4d32-9439-82a8853c8eab');\n",
              "          const dataTable =\n",
              "            await google.colab.kernel.invokeFunction('convertToInteractive',\n",
              "                                                     [key], {});\n",
              "          if (!dataTable) return;\n",
              "\n",
              "          const docLinkHtml = 'Like what you see? Visit the ' +\n",
              "            '<a target=\"_blank\" href=https://colab.research.google.com/notebooks/data_table.ipynb>data table notebook</a>'\n",
              "            + ' to learn more about interactive tables.';\n",
              "          element.innerHTML = '';\n",
              "          dataTable['output_type'] = 'display_data';\n",
              "          await google.colab.output.renderOutput(dataTable, element);\n",
              "          const docLink = document.createElement('div');\n",
              "          docLink.innerHTML = docLinkHtml;\n",
              "          element.appendChild(docLink);\n",
              "        }\n",
              "      </script>\n",
              "    </div>\n",
              "  </div>\n",
              "  "
            ]
          },
          "metadata": {},
          "execution_count": 58
        }
      ]
    },
    {
      "cell_type": "code",
      "source": [
        "# Check for query 5\n",
        "\n",
        "current_query = 5\n",
        "current_query_res = queries_df[queries_df[\"query_id\"] == current_query]\n",
        "\n",
        "k = 5\n",
        "print(\"==> Precision@{}: {}\\n\".format(k, precision_at_k(current_query_res[\"ground_truth\"], current_query_res[\"score\"], k)))\n",
        "print(\"\\nCheck on the dataset sorted by score:\\n\")\n",
        "\n",
        "current_query_res.sort_values(\"score\", ascending=False).head(k)"
      ],
      "metadata": {
        "id": "PyRYCIKtsUM3",
        "colab": {
          "base_uri": "https://localhost:8080/",
          "height": 283
        },
        "outputId": "cd01900b-779d-4b56-f47c-6fae9cdaada7"
      },
      "execution_count": 59,
      "outputs": [
        {
          "output_type": "stream",
          "name": "stdout",
          "text": [
            "==> Precision@5: 0.2\n",
            "\n",
            "\n",
            "Check on the dataset sorted by score:\n",
            "\n"
          ]
        },
        {
          "output_type": "execute_result",
          "data": {
            "text/plain": [
              "               tweet_id  query_id      score  ground_truth\n",
              "37  1575899951812341760         5  11.393918             1\n",
              "38  1575875317918748679         5  10.543081             0\n",
              "39  1575916894309138432         5   7.028018             0\n",
              "40  1575875501352046593         5   6.840351             0\n",
              "41  1575909904845402112         5   6.652336             1"
            ],
            "text/html": [
              "\n",
              "  <div id=\"df-ba3ad93b-3557-4550-b63c-f8ce78e74944\">\n",
              "    <div class=\"colab-df-container\">\n",
              "      <div>\n",
              "<style scoped>\n",
              "    .dataframe tbody tr th:only-of-type {\n",
              "        vertical-align: middle;\n",
              "    }\n",
              "\n",
              "    .dataframe tbody tr th {\n",
              "        vertical-align: top;\n",
              "    }\n",
              "\n",
              "    .dataframe thead th {\n",
              "        text-align: right;\n",
              "    }\n",
              "</style>\n",
              "<table border=\"1\" class=\"dataframe\">\n",
              "  <thead>\n",
              "    <tr style=\"text-align: right;\">\n",
              "      <th></th>\n",
              "      <th>tweet_id</th>\n",
              "      <th>query_id</th>\n",
              "      <th>score</th>\n",
              "      <th>ground_truth</th>\n",
              "    </tr>\n",
              "  </thead>\n",
              "  <tbody>\n",
              "    <tr>\n",
              "      <th>37</th>\n",
              "      <td>1575899951812341760</td>\n",
              "      <td>5</td>\n",
              "      <td>11.393918</td>\n",
              "      <td>1</td>\n",
              "    </tr>\n",
              "    <tr>\n",
              "      <th>38</th>\n",
              "      <td>1575875317918748679</td>\n",
              "      <td>5</td>\n",
              "      <td>10.543081</td>\n",
              "      <td>0</td>\n",
              "    </tr>\n",
              "    <tr>\n",
              "      <th>39</th>\n",
              "      <td>1575916894309138432</td>\n",
              "      <td>5</td>\n",
              "      <td>7.028018</td>\n",
              "      <td>0</td>\n",
              "    </tr>\n",
              "    <tr>\n",
              "      <th>40</th>\n",
              "      <td>1575875501352046593</td>\n",
              "      <td>5</td>\n",
              "      <td>6.840351</td>\n",
              "      <td>0</td>\n",
              "    </tr>\n",
              "    <tr>\n",
              "      <th>41</th>\n",
              "      <td>1575909904845402112</td>\n",
              "      <td>5</td>\n",
              "      <td>6.652336</td>\n",
              "      <td>1</td>\n",
              "    </tr>\n",
              "  </tbody>\n",
              "</table>\n",
              "</div>\n",
              "      <button class=\"colab-df-convert\" onclick=\"convertToInteractive('df-ba3ad93b-3557-4550-b63c-f8ce78e74944')\"\n",
              "              title=\"Convert this dataframe to an interactive table.\"\n",
              "              style=\"display:none;\">\n",
              "        \n",
              "  <svg xmlns=\"http://www.w3.org/2000/svg\" height=\"24px\"viewBox=\"0 0 24 24\"\n",
              "       width=\"24px\">\n",
              "    <path d=\"M0 0h24v24H0V0z\" fill=\"none\"/>\n",
              "    <path d=\"M18.56 5.44l.94 2.06.94-2.06 2.06-.94-2.06-.94-.94-2.06-.94 2.06-2.06.94zm-11 1L8.5 8.5l.94-2.06 2.06-.94-2.06-.94L8.5 2.5l-.94 2.06-2.06.94zm10 10l.94 2.06.94-2.06 2.06-.94-2.06-.94-.94-2.06-.94 2.06-2.06.94z\"/><path d=\"M17.41 7.96l-1.37-1.37c-.4-.4-.92-.59-1.43-.59-.52 0-1.04.2-1.43.59L10.3 9.45l-7.72 7.72c-.78.78-.78 2.05 0 2.83L4 21.41c.39.39.9.59 1.41.59.51 0 1.02-.2 1.41-.59l7.78-7.78 2.81-2.81c.8-.78.8-2.07 0-2.86zM5.41 20L4 18.59l7.72-7.72 1.47 1.35L5.41 20z\"/>\n",
              "  </svg>\n",
              "      </button>\n",
              "      \n",
              "  <style>\n",
              "    .colab-df-container {\n",
              "      display:flex;\n",
              "      flex-wrap:wrap;\n",
              "      gap: 12px;\n",
              "    }\n",
              "\n",
              "    .colab-df-convert {\n",
              "      background-color: #E8F0FE;\n",
              "      border: none;\n",
              "      border-radius: 50%;\n",
              "      cursor: pointer;\n",
              "      display: none;\n",
              "      fill: #1967D2;\n",
              "      height: 32px;\n",
              "      padding: 0 0 0 0;\n",
              "      width: 32px;\n",
              "    }\n",
              "\n",
              "    .colab-df-convert:hover {\n",
              "      background-color: #E2EBFA;\n",
              "      box-shadow: 0px 1px 2px rgba(60, 64, 67, 0.3), 0px 1px 3px 1px rgba(60, 64, 67, 0.15);\n",
              "      fill: #174EA6;\n",
              "    }\n",
              "\n",
              "    [theme=dark] .colab-df-convert {\n",
              "      background-color: #3B4455;\n",
              "      fill: #D2E3FC;\n",
              "    }\n",
              "\n",
              "    [theme=dark] .colab-df-convert:hover {\n",
              "      background-color: #434B5C;\n",
              "      box-shadow: 0px 1px 3px 1px rgba(0, 0, 0, 0.15);\n",
              "      filter: drop-shadow(0px 1px 2px rgba(0, 0, 0, 0.3));\n",
              "      fill: #FFFFFF;\n",
              "    }\n",
              "  </style>\n",
              "\n",
              "      <script>\n",
              "        const buttonEl =\n",
              "          document.querySelector('#df-ba3ad93b-3557-4550-b63c-f8ce78e74944 button.colab-df-convert');\n",
              "        buttonEl.style.display =\n",
              "          google.colab.kernel.accessAllowed ? 'block' : 'none';\n",
              "\n",
              "        async function convertToInteractive(key) {\n",
              "          const element = document.querySelector('#df-ba3ad93b-3557-4550-b63c-f8ce78e74944');\n",
              "          const dataTable =\n",
              "            await google.colab.kernel.invokeFunction('convertToInteractive',\n",
              "                                                     [key], {});\n",
              "          if (!dataTable) return;\n",
              "\n",
              "          const docLinkHtml = 'Like what you see? Visit the ' +\n",
              "            '<a target=\"_blank\" href=https://colab.research.google.com/notebooks/data_table.ipynb>data table notebook</a>'\n",
              "            + ' to learn more about interactive tables.';\n",
              "          element.innerHTML = '';\n",
              "          dataTable['output_type'] = 'display_data';\n",
              "          await google.colab.output.renderOutput(dataTable, element);\n",
              "          const docLink = document.createElement('div');\n",
              "          docLink.innerHTML = docLinkHtml;\n",
              "          element.appendChild(docLink);\n",
              "        }\n",
              "      </script>\n",
              "    </div>\n",
              "  </div>\n",
              "  "
            ]
          },
          "metadata": {},
          "execution_count": 59
        }
      ]
    },
    {
      "cell_type": "code",
      "source": [
        "avg_precision_at_k(np.array(current_query_res[\"ground_truth\"]), np.array(current_query_res[\"score\"]), 8)"
      ],
      "metadata": {
        "id": "luzMu3SstVKC",
        "colab": {
          "base_uri": "https://localhost:8080/"
        },
        "outputId": "16b67ac3-728d-41b4-b25e-8d592b379b80"
      },
      "execution_count": 60,
      "outputs": [
        {
          "output_type": "execute_result",
          "data": {
            "text/plain": [
              "0.5873015873015873"
            ]
          },
          "metadata": {},
          "execution_count": 60
        }
      ]
    },
    {
      "cell_type": "code",
      "source": [
        "max_k = len(current_query_res[\"score\"])\n",
        "for k in range(max_k):\n",
        "  print(\"Av Precision Score at k = {}/{}: \".format(k+1,max_k),end=\"\")\n",
        "  print(avg_precision_at_k(np.array(current_query_res[\"ground_truth\"]), np.array(current_query_res[\"score\"]), k+1))"
      ],
      "metadata": {
        "id": "14pPWQB2tZAx",
        "colab": {
          "base_uri": "https://localhost:8080/"
        },
        "outputId": "0bb27d02-2698-4c9b-93d0-562a00169c3e"
      },
      "execution_count": 61,
      "outputs": [
        {
          "output_type": "stream",
          "name": "stdout",
          "text": [
            "Av Precision Score at k = 1/10: 1.0\n",
            "Av Precision Score at k = 2/10: 1.0\n",
            "Av Precision Score at k = 3/10: 1.0\n",
            "Av Precision Score at k = 4/10: 1.0\n",
            "Av Precision Score at k = 5/10: 0.5\n",
            "Av Precision Score at k = 6/10: 0.6666666666666666\n",
            "Av Precision Score at k = 7/10: 0.5873015873015873\n",
            "Av Precision Score at k = 8/10: 0.5873015873015873\n",
            "Av Precision Score at k = 9/10: 0.5873015873015873\n",
            "Av Precision Score at k = 10/10: 0.5404761904761904\n"
          ]
        }
      ]
    },
    {
      "cell_type": "code",
      "source": [
        "# Check with average_precision_score of sklearn\n",
        "\n",
        "from sklearn.metrics import average_precision_score\n",
        "k = max_k\n",
        "average_precision_score(np.array(current_query_res[\"ground_truth\"]), np.array(current_query_res[\"score\"][:k]))"
      ],
      "metadata": {
        "id": "LY4VU8Ffvfi7",
        "colab": {
          "base_uri": "https://localhost:8080/"
        },
        "outputId": "e8acdd5e-0a70-43f7-badd-55026fbb3a8d"
      },
      "execution_count": 62,
      "outputs": [
        {
          "output_type": "execute_result",
          "data": {
            "text/plain": [
              "0.5404761904761904"
            ]
          },
          "metadata": {},
          "execution_count": 62
        }
      ]
    },
    {
      "cell_type": "code",
      "source": [
        "map_k = map_at_k(queries_df, 20)\n",
        "map_k"
      ],
      "metadata": {
        "id": "_IQqqdvCxb2u",
        "colab": {
          "base_uri": "https://localhost:8080/"
        },
        "outputId": "125a6cd4-50a6-49c5-d252-de35c39f280a"
      },
      "execution_count": 63,
      "outputs": [
        {
          "output_type": "execute_result",
          "data": {
            "text/plain": [
              "0.6548280423280423"
            ]
          },
          "metadata": {},
          "execution_count": 63
        }
      ]
    },
    {
      "cell_type": "code",
      "source": [
        "mrr_k = mrr_at_k(queries_df)\n",
        "mrr_k"
      ],
      "metadata": {
        "id": "AeKWER0ayPjC",
        "colab": {
          "base_uri": "https://localhost:8080/"
        },
        "outputId": "e5405ca8-7fe8-4e38-b178-cf88e6c634e4"
      },
      "execution_count": 64,
      "outputs": [
        {
          "output_type": "execute_result",
          "data": {
            "text/plain": [
              "1.0"
            ]
          },
          "metadata": {},
          "execution_count": 64
        }
      ]
    },
    {
      "cell_type": "code",
      "source": [
        "k=10\n",
        "for current_query in range(1,len(queries)+1):\n",
        "  current_query_res = queries_df[queries_df[\"query_id\"] == current_query]\n",
        "  labels = np.array(current_query_res[\"ground_truth\"])\n",
        "  scores = np.array(current_query_res[\"score\"])\n",
        "  ndcg_k = np.round(ndcg_at_k(labels, scores, k),4)\n",
        "  print(\"The ndcg@{} for query with query_id={}: {}\".format(k,current_query,ndcg_k))"
      ],
      "metadata": {
        "id": "BH7yQLhtzKuS",
        "colab": {
          "base_uri": "https://localhost:8080/"
        },
        "outputId": "4cd8dc9a-9656-4d73-d075-ed86ac07d7e8"
      },
      "execution_count": 71,
      "outputs": [
        {
          "output_type": "stream",
          "name": "stdout",
          "text": [
            "The ndcg@10 for query with query_id=1: 0.8406\n",
            "The ndcg@10 for query with query_id=2: 0.9349\n",
            "The ndcg@10 for query with query_id=3: 0.9059\n",
            "The ndcg@10 for query with query_id=4: 0.8201\n",
            "The ndcg@10 for query with query_id=5: 0.7724\n"
          ]
        }
      ]
    },
    {
      "cell_type": "code",
      "source": [
        "# Review of all evaluations techniques for all queries\n",
        "k = 10\n",
        "for i in range(5):\n",
        "    current_query = i + 1\n",
        "    current_query_res = queries_df[queries_df[\"query_id\"] == current_query] \n",
        "    print(\"\\n==> For Query {} Precision@{}: {}\".format(current_query, k,\n",
        "                                precision_at_k(current_query_res[\"ground_truth\"], current_query_res[\"score\"], k)))\n",
        "\n",
        "    print(\"Average Precission@{} for query with q_id={}: {}\".format(k,current_query,avg_precision_at_k(np.array(current_query_res[\"ground_truth\"]), np.array(current_query_res[\"score\"]), 150)))\n",
        "\n",
        "    \n",
        "\n",
        "    labels = np.array(current_query_res[\"ground_truth\"])\n",
        "    scores = np.array(current_query_res[\"score\"])\n",
        "    ndcg_k = np.round(ndcg_at_k(labels, scores, k),4)\n",
        "    print(\"ndcg@{} for query with query_id={}: {}\".format(k,current_query,ndcg_k))\n",
        "    \n",
        "print(\"\\nMAP@{}: {}\".format(k,map_at_k(queries_df, k)))\n",
        "\n",
        "print(\"MRR@{}: {}\".format(k,mrr_at_k(queries_df, k)))"
      ],
      "metadata": {
        "id": "iuV0BZ4q0Ucl",
        "colab": {
          "base_uri": "https://localhost:8080/"
        },
        "outputId": "2b22130b-6838-43d7-8a20-632e04c98dd7"
      },
      "execution_count": 72,
      "outputs": [
        {
          "output_type": "stream",
          "name": "stdout",
          "text": [
            "\n",
            "==> For Query 1 Precision@10: 0.5\n",
            "Average Precission@10 for query with q_id=1: 0.6809523809523809\n",
            "ndcg@10 for query with query_id=1: 0.8406\n",
            "\n",
            "==> For Query 2 Precision@10: 0.4\n",
            "Average Precission@10 for query with q_id=2: 0.8303571428571428\n",
            "ndcg@10 for query with query_id=2: 0.9349\n",
            "\n",
            "==> For Query 3 Precision@10: 0.4\n",
            "Average Precission@10 for query with q_id=3: 0.7678571428571428\n",
            "ndcg@10 for query with query_id=3: 0.9059\n",
            "\n",
            "==> For Query 4 Precision@10: 0.6\n",
            "Average Precission@10 for query with q_id=4: 0.4544973544973545\n",
            "ndcg@10 for query with query_id=4: 0.8201\n",
            "\n",
            "==> For Query 5 Precision@10: 0.4\n",
            "Average Precission@10 for query with q_id=5: 0.5404761904761904\n",
            "ndcg@10 for query with query_id=5: 0.7724\n",
            "\n",
            "MAP@10: 0.6548280423280423\n",
            "MRR@10: 1.0\n"
          ]
        }
      ]
    },
    {
      "cell_type": "code",
      "source": [
        "from gensim.models.word2vec import Word2Vec\n",
        "from sklearn.manifold import TSNE\n",
        "import matplotlib.pyplot as plt"
      ],
      "metadata": {
        "id": "RKZQQSdo09PH"
      },
      "execution_count": 67,
      "outputs": []
    },
    {
      "cell_type": "code",
      "source": [
        "clean_tweets = []\n",
        "for doc_id, tweet_id in doc_to_tweet.items():\n",
        "        terms = tweets[tweet_id]['text']\n",
        "        clean_tweets.append(terms)\n",
        "\n",
        "model = Word2Vec(clean_tweets, workers=4, min_count=50, window=10, sample=1e-3)\n",
        "\n",
        "\n",
        "X = model.wv[model.wv.vocab]\n",
        "\n",
        "tsne = TSNE(n_components=2)\n",
        "X_tsne = tsne.fit_transform(X)\n",
        "\n",
        "plt.scatter(X_tsne[:, 0], X_tsne[:, 1])\n",
        "plt.show()\n"
      ],
      "metadata": {
        "id": "KJgGrUED0-Le",
        "colab": {
          "base_uri": "https://localhost:8080/",
          "height": 283
        },
        "outputId": "29f00f2b-b834-4641-8b1e-76d8a8f0f907"
      },
      "execution_count": 68,
      "outputs": [
        {
          "output_type": "stream",
          "name": "stderr",
          "text": [
            "WARNING:gensim.models.base_any2vec:under 10 jobs per worker: consider setting a smaller `batch_words' for smoother alpha decay\n"
          ]
        },
        {
          "output_type": "display_data",
          "data": {
            "text/plain": [
              "<Figure size 432x288 with 1 Axes>"
            ],
            "image/png": "[encoded data removed]"
          },
          "metadata": {
            "needs_background": "light"
          }
        }
      ]
    },
    {
      "cell_type": "code",
      "source": [
        "import matplotlib.cm as cm\n",
        "\n",
        "model_wp = Word2Vec(clean_tweets, workers=4, min_count=50, window=10, sample=1e-3)\n",
        "\n",
        "\n",
        "words_wp = []\n",
        "embeddings_wp = []\n",
        "for word in list(model_wp.wv.vocab):\n",
        "    embeddings_wp.append(model_wp.wv[word])\n",
        "    words_wp.append(word)\n",
        "    \n",
        "tsne_wp_3d = TSNE(perplexity=30, n_components=3, init='pca', n_iter=3500, random_state=12)\n",
        "embeddings_wp_3d = tsne_wp_3d.fit_transform(embeddings_wp)\n",
        "\n",
        "from mpl_toolkits.mplot3d import Axes3D\n",
        "\n",
        "\n",
        "def tsne_plot_3d(title, label, embeddings, a=1):\n",
        "    fig = plt.figure()\n",
        "    ax = Axes3D(fig)\n",
        "    colors = cm.rainbow(np.linspace(0, 1, 1))\n",
        "    plt.scatter(embeddings[:, 0], embeddings[:, 1], embeddings[:, 2], c=colors, alpha=a, label=label)\n",
        "    plt.legend(loc=4)\n",
        "    plt.title(title)\n",
        "    plt.show()\n",
        "\n",
        "\n",
        "tsne_plot_3d('Visualizing tweets using t-SNE', 'HurricaneIan', embeddings_wp_3d, a=0.1)"
      ],
      "metadata": {
        "id": "UtQFpry9tvNk",
        "colab": {
          "base_uri": "https://localhost:8080/",
          "height": 335
        },
        "outputId": "f4dd713e-65ce-4012-a467-a84ef81d81c9"
      },
      "execution_count": 69,
      "outputs": [
        {
          "output_type": "stream",
          "name": "stderr",
          "text": [
            "WARNING:gensim.models.base_any2vec:under 10 jobs per worker: consider setting a smaller `batch_words' for smoother alpha decay\n"
          ]
        },
        {
          "output_type": "display_data",
          "data": {
            "text/plain": [
              "<Figure size 432x288 with 1 Axes>"
            ],
            "image/png": "[encoded data removed]"
          },
          "metadata": {
            "needs_background": "light"
          }
        }
      ]
    }
  ]
}